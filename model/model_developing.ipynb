{
 "cells": [
  {
   "cell_type": "code",
   "execution_count": 2,
   "metadata": {},
   "outputs": [
    {
     "name": "stdout",
     "output_type": "stream",
     "text": [
      "3.8.1\n"
     ]
    },
    {
     "name": "stderr",
     "output_type": "stream",
     "text": [
      "[nltk_data] Downloading package punkt to\n",
      "[nltk_data]     C:\\Users\\zac03\\AppData\\Roaming\\nltk_data...\n",
      "[nltk_data]   Package punkt is already up-to-date!\n"
     ]
    }
   ],
   "source": [
    "import nltk\n",
    "nltk.download('punkt')  \n",
    "print (nltk.__version__)"
   ]
  },
  {
   "cell_type": "code",
   "execution_count": 16,
   "metadata": {},
   "outputs": [],
   "source": [
    "import re\n",
    "import sklearn\n",
    "import pickle\n",
    "import pandas as pd\n",
    "import numpy as np\n",
    "from konlpy.tag import Okt\n",
    "from sklearn.linear_model import LogisticRegression\n",
    "from sklearn.tree import DecisionTreeClassifier\n",
    "from sklearn.model_selection import train_test_split\n",
    "from sklearn.feature_extraction.text import TfidfVectorizer"
   ]
  },
  {
   "cell_type": "code",
   "execution_count": 19,
   "metadata": {},
   "outputs": [
    {
     "data": {
      "text/plain": [
       "array([['송중기 시대극은 믿고본다. 첫회 신선하고 좋았다.', False, 'none', 'none'],\n",
       "       ['지현우 나쁜놈', False, 'none', 'offensive'],\n",
       "       ['알바쓰고많이만들면되지 돈욕심없으면골목식당왜나온겨 기댕기게나하고 산에가서팔어라', False, 'none',\n",
       "        'hate'],\n",
       "       ...,\n",
       "       ['힘내세용 ^^ 항상 응원합니닷 ^^ !', False, 'none', 'none'],\n",
       "       ['힘내소...연기로 답해요.나도 53살 인데 이런일 저런일 다 있더라구요.인격을 믿습니다..홨팅', False,\n",
       "        'none', 'none'],\n",
       "       ['힘들면 관뒀어야지 그게 현명한거다', False, 'none', 'none']], dtype=object)"
      ]
     },
     "execution_count": 19,
     "metadata": {},
     "output_type": "execute_result"
    }
   ],
   "source": [
    "# 일단 dev.tsv와 train.tsv파일 불러오기\n",
    "comments1 = pd.read_csv(\"./dev.tsv\", delimiter = \"\\t\", encoding = 'utf-8').to_numpy()\n",
    "comments2 = pd.read_csv(\"./train.tsv\", delimiter = \"\\t\", encoding = 'utf-8').to_numpy()\n",
    "\n",
    "comments_all = np.concatenate((comments1, comments2), axis = 0)\n",
    "\n",
    "comments_all\n"
   ]
  },
  {
   "cell_type": "code",
   "execution_count": 20,
   "metadata": {},
   "outputs": [
    {
     "name": "stdout",
     "output_type": "stream",
     "text": [
      "[['송중기 시대극은 믿고본다. 첫회 신선하고 좋았다.' 1]\n",
      " ['지현우 나쁜놈' 0]\n",
      " ['알바쓰고많이만들면되지 돈욕심없으면골목식당왜나온겨 기댕기게나하고 산에가서팔어라' 0]\n",
      " ...\n",
      " ['힘내세용 ^^ 항상 응원합니닷 ^^ !' 1]\n",
      " ['힘내소...연기로 답해요.나도 53살 인데 이런일 저런일 다 있더라구요.인격을 믿습니다..홨팅' 1]\n",
      " ['힘들면 관뒀어야지 그게 현명한거다' 1]]\n"
     ]
    }
   ],
   "source": [
    "# 파일 불러왔으면 쓸데없는 라벨 없애기, 일단 성차별적인 발언은 다 빼버리는게 좋을 듯?\n",
    "comments_all = np.array([comment for comment in comments_all if not(comment[1])])\n",
    "comments_filtered = np.concatenate((comments_all[:, [0]], comments_all[:, [3]]), axis = 1)\n",
    "\n",
    "content1 = comments_filtered[:, [0]]\n",
    "label1 = np.where(comments_filtered[:, [1]] == \"none\", 1, 0)\n",
    "\n",
    "data1 = np.concatenate((content1, label1), axis = 1)\n",
    "\n",
    "print(data1)"
   ]
  },
  {
   "cell_type": "code",
   "execution_count": 50,
   "metadata": {},
   "outputs": [
    {
     "data": {
      "text/plain": [
       "array([['일안하는 시간은 쉬고싶어서 그런게 아닐까', 0, 0, ..., 0, 1, 0],\n",
       "       ['아동성범죄와 페도버는 기록바 끊어져 영원히 고통 받는다. 무슬림 50퍼 근친이다. 10 16까지 IQ 떨어지고 출산 위험은 400% 다.',\n",
       "        0, 0, ..., 0, 0, 0],\n",
       "       ['루나 솔로앨범 나왔을 때부터 머모 기운 있었음 ㅇㅇ Keep o  doin 진짜 띵곡임 꼭 들어보셈\"', 0, 0,\n",
       "        ..., 0, 1, 0],\n",
       "       ...,\n",
       "       ['막노동을 해도 한국에살고말지 미쳤다고 남미를가냐?차라리 자살을하겠다.', 0, 0, ..., 0, 0, 0],\n",
       "       ['‘사형을 구형하였으나 여성인 점을 감안해 25년 선고’ ???내가 뭐 잘못본건가?개시발 보지민국 보빨새끼들', 1,\n",
       "        0, ..., 0, 0, 0],\n",
       "       ['참군남이노 남자의 용도는 고기방패다 ㅋㅋㅋ', 0, 1, ..., 0, 0, 0]], dtype=object)"
      ]
     },
     "execution_count": 50,
     "metadata": {},
     "output_type": "execute_result"
    }
   ],
   "source": [
    "# 같은 방법으로 unsmile친구들 데려오기\n",
    "# 근데 얘들은 빼버려도 될 듯??? 주제에 벗어난 발언이 많음\n",
    "comments1 = pd.read_csv(\"unsmile_train_v1.0.tsv\", delimiter = \"\\t\", encoding = 'utf-8').to_numpy()\n",
    "comments2 = pd.read_csv(\"unsmile_valid_v1.0.tsv\", delimiter = \"\\t\", encoding = 'utf-8').to_numpy()\n",
    "\n",
    "comments_all = np.concatenate((comments1, comments2), axis = 0)\n",
    "comments_all"
   ]
  },
  {
   "cell_type": "code",
   "execution_count": 84,
   "metadata": {},
   "outputs": [
    {
     "name": "stdout",
     "output_type": "stream",
     "text": [
      "[['일안하는 시간은 쉬고싶어서 그런게 아닐까' 1]\n",
      " ['루나 솔로앨범 나왔을 때부터 머모 기운 있었음 ㅇㅇ Keep o  doin 진짜 띵곡임 꼭 들어보셈\"' 1]\n",
      " ['홍팍에도 어버이연합인가 보내요 뭐 이런뎃글 있는데 이거 어버이연합측에 신고하면 그쪽에서 고소 가능하냐?' 1]\n",
      " ...\n",
      " ['실베는 600만명중에 인증비율로 따지면 지들소추만큼 없노 그외에 다른 남초들은 아예없음 일용직새끼들 이 한줌집단에 엘리트비율 엄청나노'\n",
      "  0]\n",
      " ['죽고싶어하던데...이중인격자니' 0]\n",
      " ['다른것보다 눈이 어떻게 저렇게 생기노.탄식.' 0]]\n"
     ]
    }
   ],
   "source": [
    "# 여성, 남성 관련 발언은 없애기. 성능에 좋지 않음.\n",
    "# comments_all = np.array([a for a in comments_all if a[1] != 1 and a[2] != 1])\n",
    "\n",
    "# 여기도 clean과 clean이외의 댓글로 나누기\n",
    "content2 = comments_all[:, [0]]\n",
    "label2 = comments_all[:, [10]]\n",
    "\n",
    "data2 = np.concatenate((content2, label2), axis = 1)\n",
    "\n",
    "print(data2)"
   ]
  },
  {
   "cell_type": "code",
   "execution_count": 85,
   "metadata": {},
   "outputs": [
    {
     "name": "stdout",
     "output_type": "stream",
     "text": [
      "[['송중기 시대극은 믿고본다. 첫회 신선하고 좋았다.' 1]\n",
      " ['지현우 나쁜놈' 0]\n",
      " ['알바쓰고많이만들면되지 돈욕심없으면골목식당왜나온겨 기댕기게나하고 산에가서팔어라' 0]\n",
      " ['이미자씨 송혜교씨 돈이 그리 많으면 탈세말고 그돈으로 평소에 불우이웃에게 기부도 좀 하고사시죠.' 0]\n",
      " ['일베충들 ㅂㄷ거리는것봐라 ㅉㅉ' 0]]\n",
      "(14633,)\n"
     ]
    }
   ],
   "source": [
    "datas = np.concatenate((data1, data2))\n",
    "# datas = data1\n",
    "print(datas[:5])\n",
    "\n",
    "X = datas[:, [0]].squeeze()\n",
    "y = datas[:, [1]].squeeze().astype(\"int\")\n",
    "\n",
    "X_train, X_test, y_train, y_test = train_test_split(X, y, test_size = 0.1, stratify = y)\n",
    "\n",
    "print(X_train.shape)"
   ]
  },
  {
   "cell_type": "code",
   "execution_count": 86,
   "metadata": {},
   "outputs": [],
   "source": [
    "# 문장의 전처리를 위함\n",
    "def preprocessor(text):\n",
    "    text = re.sub(\"\\W+\", ' ', text)     # remove all non-words\n",
    "    text = re.sub(\"^\\s\", '', text)      # remove space in start of the statement\n",
    "    text = re.sub(\"\\s$\", '', text)      # remove space in end of the statement\n",
    "    return text\n",
    "    \n",
    "\n",
    "# 텍스트를 처리하기 위해 Okt 사용\n",
    "okt = Okt()\n",
    "def tokenizer_kor(text) :\n",
    "    return okt.morphs(text, stem = True, norm = True)"
   ]
  },
  {
   "cell_type": "code",
   "execution_count": 87,
   "metadata": {},
   "outputs": [
    {
     "name": "stdout",
     "output_type": "stream",
     "text": [
      "한화이글스 해산하자!!! 丕빱♡\n"
     ]
    },
    {
     "data": {
      "text/plain": [
       "'한화이글스 해산하자 丕빱'"
      ]
     },
     "execution_count": 87,
     "metadata": {},
     "output_type": "execute_result"
    }
   ],
   "source": [
    "# 전처리 테스트\n",
    "print(X[22])\n",
    "preprocessor(X[22])"
   ]
  },
  {
   "cell_type": "code",
   "execution_count": 88,
   "metadata": {},
   "outputs": [],
   "source": [
    "# TF-IDF로 벡터화하기\n",
    "tfidf = TfidfVectorizer(preprocessor = preprocessor,\n",
    "                        tokenizer = tokenizer_kor,\n",
    "                        max_df = 0.2,\n",
    "                        min_df = 3)\n",
    "\n",
    "X_train_vector = tfidf.fit_transform(X_train)\n",
    "X_test_vector = tfidf.transform(X_test)\n",
    "\n",
    "# 파일로 tfidf전처리 저장\n",
    "with open(\"./tfidf_new.pkl\", \"wb\") as f :\n",
    "    pickle.dump(tfidf, f)"
   ]
  },
  {
   "cell_type": "code",
   "execution_count": 89,
   "metadata": {},
   "outputs": [],
   "source": [
    "X_train_vector = X_train_vector.toarray()\n",
    "X_test_vector = X_test_vector.toarray()"
   ]
  },
  {
   "cell_type": "code",
   "execution_count": 90,
   "metadata": {},
   "outputs": [
    {
     "name": "stdout",
     "output_type": "stream",
     "text": [
      "(6386,)\n"
     ]
    }
   ],
   "source": [
    "print(X_train_vector[0].shape)"
   ]
  },
  {
   "cell_type": "code",
   "execution_count": 91,
   "metadata": {},
   "outputs": [
    {
     "data": {
      "text/html": [
       "<style>#sk-container-id-7 {color: black;background-color: white;}#sk-container-id-7 pre{padding: 0;}#sk-container-id-7 div.sk-toggleable {background-color: white;}#sk-container-id-7 label.sk-toggleable__label {cursor: pointer;display: block;width: 100%;margin-bottom: 0;padding: 0.3em;box-sizing: border-box;text-align: center;}#sk-container-id-7 label.sk-toggleable__label-arrow:before {content: \"▸\";float: left;margin-right: 0.25em;color: #696969;}#sk-container-id-7 label.sk-toggleable__label-arrow:hover:before {color: black;}#sk-container-id-7 div.sk-estimator:hover label.sk-toggleable__label-arrow:before {color: black;}#sk-container-id-7 div.sk-toggleable__content {max-height: 0;max-width: 0;overflow: hidden;text-align: left;background-color: #f0f8ff;}#sk-container-id-7 div.sk-toggleable__content pre {margin: 0.2em;color: black;border-radius: 0.25em;background-color: #f0f8ff;}#sk-container-id-7 input.sk-toggleable__control:checked~div.sk-toggleable__content {max-height: 200px;max-width: 100%;overflow: auto;}#sk-container-id-7 input.sk-toggleable__control:checked~label.sk-toggleable__label-arrow:before {content: \"▾\";}#sk-container-id-7 div.sk-estimator input.sk-toggleable__control:checked~label.sk-toggleable__label {background-color: #d4ebff;}#sk-container-id-7 div.sk-label input.sk-toggleable__control:checked~label.sk-toggleable__label {background-color: #d4ebff;}#sk-container-id-7 input.sk-hidden--visually {border: 0;clip: rect(1px 1px 1px 1px);clip: rect(1px, 1px, 1px, 1px);height: 1px;margin: -1px;overflow: hidden;padding: 0;position: absolute;width: 1px;}#sk-container-id-7 div.sk-estimator {font-family: monospace;background-color: #f0f8ff;border: 1px dotted black;border-radius: 0.25em;box-sizing: border-box;margin-bottom: 0.5em;}#sk-container-id-7 div.sk-estimator:hover {background-color: #d4ebff;}#sk-container-id-7 div.sk-parallel-item::after {content: \"\";width: 100%;border-bottom: 1px solid gray;flex-grow: 1;}#sk-container-id-7 div.sk-label:hover label.sk-toggleable__label {background-color: #d4ebff;}#sk-container-id-7 div.sk-serial::before {content: \"\";position: absolute;border-left: 1px solid gray;box-sizing: border-box;top: 0;bottom: 0;left: 50%;z-index: 0;}#sk-container-id-7 div.sk-serial {display: flex;flex-direction: column;align-items: center;background-color: white;padding-right: 0.2em;padding-left: 0.2em;position: relative;}#sk-container-id-7 div.sk-item {position: relative;z-index: 1;}#sk-container-id-7 div.sk-parallel {display: flex;align-items: stretch;justify-content: center;background-color: white;position: relative;}#sk-container-id-7 div.sk-item::before, #sk-container-id-7 div.sk-parallel-item::before {content: \"\";position: absolute;border-left: 1px solid gray;box-sizing: border-box;top: 0;bottom: 0;left: 50%;z-index: -1;}#sk-container-id-7 div.sk-parallel-item {display: flex;flex-direction: column;z-index: 1;position: relative;background-color: white;}#sk-container-id-7 div.sk-parallel-item:first-child::after {align-self: flex-end;width: 50%;}#sk-container-id-7 div.sk-parallel-item:last-child::after {align-self: flex-start;width: 50%;}#sk-container-id-7 div.sk-parallel-item:only-child::after {width: 0;}#sk-container-id-7 div.sk-dashed-wrapped {border: 1px dashed gray;margin: 0 0.4em 0.5em 0.4em;box-sizing: border-box;padding-bottom: 0.4em;background-color: white;}#sk-container-id-7 div.sk-label label {font-family: monospace;font-weight: bold;display: inline-block;line-height: 1.2em;}#sk-container-id-7 div.sk-label-container {text-align: center;}#sk-container-id-7 div.sk-container {/* jupyter's `normalize.less` sets `[hidden] { display: none; }` but bootstrap.min.css set `[hidden] { display: none !important; }` so we also need the `!important` here to be able to override the default hidden behavior on the sphinx rendered scikit-learn.org. See: https://github.com/scikit-learn/scikit-learn/issues/21755 */display: inline-block !important;position: relative;}#sk-container-id-7 div.sk-text-repr-fallback {display: none;}</style><div id=\"sk-container-id-7\" class=\"sk-top-container\"><div class=\"sk-text-repr-fallback\"><pre>DecisionTreeClassifier(max_depth=20)</pre><b>In a Jupyter environment, please rerun this cell to show the HTML representation or trust the notebook. <br />On GitHub, the HTML representation is unable to render, please try loading this page with nbviewer.org.</b></div><div class=\"sk-container\" hidden><div class=\"sk-item\"><div class=\"sk-estimator sk-toggleable\"><input class=\"sk-toggleable__control sk-hidden--visually\" id=\"sk-estimator-id-7\" type=\"checkbox\" checked><label for=\"sk-estimator-id-7\" class=\"sk-toggleable__label sk-toggleable__label-arrow\">DecisionTreeClassifier</label><div class=\"sk-toggleable__content\"><pre>DecisionTreeClassifier(max_depth=20)</pre></div></div></div></div></div>"
      ],
      "text/plain": [
       "DecisionTreeClassifier(max_depth=20)"
      ]
     },
     "execution_count": 91,
     "metadata": {},
     "output_type": "execute_result"
    }
   ],
   "source": [
    "tree = DecisionTreeClassifier(max_depth = 20)\n",
    "tree.fit(X_train_vector, y_train)"
   ]
  },
  {
   "cell_type": "code",
   "execution_count": 92,
   "metadata": {},
   "outputs": [
    {
     "name": "stdout",
     "output_type": "stream",
     "text": [
      "0.6807216565297615\n",
      "0.6408364083640836\n"
     ]
    }
   ],
   "source": [
    "# train and test accuracy\n",
    "print(tree.score(X_train_vector, y_train))\n",
    "print(tree.score(X_test_vector, y_test))"
   ]
  },
  {
   "cell_type": "code",
   "execution_count": 93,
   "metadata": {},
   "outputs": [
    {
     "name": "stdout",
     "output_type": "stream",
     "text": [
      " 1. ['들']                          0.142935\n",
      " 2. ['새끼']                         0.085410\n",
      " 3. ['씨발']                         0.052739\n",
      " 4. ['시발']                         0.046521\n",
      " 5. ['좆']                          0.036593\n",
      " 6. ['치다']                         0.031522\n",
      " 7. ['없다']                         0.025746\n",
      " 8. ['병신']                         0.024901\n",
      " 9. ['ㅅㅂ']                         0.024094\n",
      "10. ['생기다']                        0.021172\n"
     ]
    }
   ],
   "source": [
    "# finding most important terms for sentiment analysis of movie review\n",
    "importances = tree.feature_importances_\n",
    "indices = np.argsort(importances)[::-1]\n",
    "\n",
    "for f in range(10):\n",
    "    print(\"%2d. %-30s %f\" % (f+1, \n",
    "                             [w for w, n in tfidf.vocabulary_.items() if n == indices[f]],\n",
    "                             importances[indices[f]]))"
   ]
  },
  {
   "cell_type": "code",
   "execution_count": 94,
   "metadata": {},
   "outputs": [],
   "source": [
    "# 실제로 모델에 넣고 정확도 측정해보기\n",
    "lr = LogisticRegression(C = 0.4, penalty = 'l2', max_iter = 100)\n",
    "lr.fit(X_train_vector, y_train)\n",
    "\n",
    "with open(\"./linear_model_new.pkl\", \"wb\") as f :\n",
    "    pickle.dump(lr, f)"
   ]
  },
  {
   "cell_type": "code",
   "execution_count": 95,
   "metadata": {},
   "outputs": [
    {
     "name": "stdout",
     "output_type": "stream",
     "text": [
      "Training Accuracy     : 79.04%\n",
      "Test Accuracy \t      : 72.02%\n"
     ]
    }
   ],
   "source": [
    "print(f\"Training Accuracy     : {lr.score(X_train_vector, y_train) * 100:.2f}%\")\n",
    "print(f\"Test Accuracy \\t      : {lr.score(X_test_vector, y_test) * 100:.2f}%\")"
   ]
  },
  {
   "cell_type": "code",
   "execution_count": 96,
   "metadata": {},
   "outputs": [
    {
     "name": "stdout",
     "output_type": "stream",
     "text": [
      "(7, 5)\n",
      "(7,)\n"
     ]
    },
    {
     "data": {
      "image/png": "[encoded data removed]",
      "text/plain": [
       "<Figure size 640x480 with 1 Axes>"
      ]
     },
     "metadata": {},
     "output_type": "display_data"
    }
   ],
   "source": [
    "from sklearn.model_selection import validation_curve\n",
    "from matplotlib import pyplot as plt\n",
    "\n",
    "param_range = np.arange(0.1, 2.05, 0.3)\n",
    "\n",
    "train_scores, test_scores = validation_curve(lr,\n",
    "                                             X = X_train_vector,\n",
    "                                             y = y_train,\n",
    "                                             param_name = \"C\",\n",
    "                                             param_range = param_range)\n",
    "\n",
    "print(train_scores.shape)\n",
    "print(param_range.shape)\n",
    "\n",
    "plt.plot(param_range, train_scores, color = 'r', label = \"Training Accuracy\")\n",
    "plt.plot(param_range, test_scores, color = 'b', label = \"Testing Accuracy\")\n",
    "plt.show()"
   ]
  },
  {
   "cell_type": "code",
   "execution_count": 97,
   "metadata": {},
   "outputs": [
    {
     "name": "stdout",
     "output_type": "stream",
     "text": [
      "부정적이지 않은 댓글입니다\n"
     ]
    }
   ],
   "source": [
    "def 착한댓글판별기(text) :\n",
    "    test = np.array(text).reshape(1, )\n",
    "    result = lr.predict(tfidf.transform(test).toarray()).item()\n",
    "    return True if result == 1 else False\n",
    "\n",
    "result = 착한댓글판별기(\"게임 잘하는 배민 존나 고마운분 아기 다람쥐 최인석\")\n",
    "if result :\n",
    "    print(\"부정적이지 않은 댓글입니다\")\n",
    "else :\n",
    "    print(\"부정적 댓글입니다\")"
   ]
  },
  {
   "cell_type": "code",
   "execution_count": null,
   "metadata": {},
   "outputs": [],
   "source": []
  },
  {
   "cell_type": "code",
   "execution_count": null,
   "metadata": {},
   "outputs": [
    {
     "data": {
      "text/plain": [
       "array([['일안하는 시간은 쉬고싶어서 그런게 아닐까', 0, 0, ..., 0, 1, 0],\n",
       "       ['아동성범죄와 페도버는 기록바 끊어져 영원히 고통 받는다. 무슬림 50퍼 근친이다. 10 16까지 IQ 떨어지고 출산 위험은 400% 다.',\n",
       "        0, 0, ..., 0, 0, 0],\n",
       "       ['루나 솔로앨범 나왔을 때부터 머모 기운 있었음 ㅇㅇ Keep o  doin 진짜 띵곡임 꼭 들어보셈\"', 0, 0,\n",
       "        ..., 0, 1, 0],\n",
       "       ...,\n",
       "       ['막노동을 해도 한국에살고말지 미쳤다고 남미를가냐?차라리 자살을하겠다.', 0, 0, ..., 0, 0, 0],\n",
       "       ['‘사형을 구형하였으나 여성인 점을 감안해 25년 선고’ ???내가 뭐 잘못본건가?개시발 보지민국 보빨새끼들', 1,\n",
       "        0, ..., 0, 0, 0],\n",
       "       ['참군남이노 남자의 용도는 고기방패다 ㅋㅋㅋ', 0, 1, ..., 0, 0, 0]], dtype=object)"
      ]
     },
     "metadata": {},
     "output_type": "display_data"
    }
   ],
   "source": [
    "# 같은 방법으로 unsmile친구들 데려오기\n",
    "# 근데 얘들은 빼버려도 될 듯??? 주제에 벗어난 발언이 많음\n",
    "comments1 = pd.read_csv(\"unsmile_train_v1.0.tsv\", delimiter = \"\\t\", encoding = 'utf-8').to_numpy()\n",
    "comments2 = pd.read_csv(\"unsmile_valid_v1.0.tsv\", delimiter = \"\\t\", encoding = 'utf-8').to_numpy()\n",
    "\n",
    "comments_all = np.concatenate((comments1, comments2), axis = 0)\n",
    "comments_all"
   ]
  },
  {
   "cell_type": "code",
   "execution_count": null,
   "metadata": {},
   "outputs": [
    {
     "name": "stdout",
     "output_type": "stream",
     "text": [
      "[['일안하는 시간은 쉬고싶어서 그런게 아닐까' 1]\n",
      " ['아동성범죄와 페도버는 기록바 끊어져 영원히 고통 받는다. 무슬림 50퍼 근친이다. 10 16까지 IQ 떨어지고 출산 위험은 400% 다.'\n",
      "  0]\n",
      " ['루나 솔로앨범 나왔을 때부터 머모 기운 있었음 ㅇㅇ Keep o  doin 진짜 띵곡임 꼭 들어보셈\"' 1]\n",
      " ...\n",
      " ['막노동을 해도 한국에살고말지 미쳤다고 남미를가냐?차라리 자살을하겠다.' 0]\n",
      " ['‘사형을 구형하였으나 여성인 점을 감안해 25년 선고’ ???내가 뭐 잘못본건가?개시발 보지민국 보빨새끼들' 0]\n",
      " ['참군남이노 남자의 용도는 고기방패다 ㅋㅋㅋ' 0]]\n"
     ]
    }
   ],
   "source": [
    "# 여기도 clean과 clean이외의 댓글로 나누기\n",
    "content2 = comments_all[:, [0]]\n",
    "label2 = comments_all[:, [10]]\n",
    "\n",
    "data2 = np.concatenate((content2, label2), axis = 1)\n",
    "\n",
    "print(data2)"
   ]
  }
 ],
 "metadata": {
  "kernelspec": {
   "display_name": "ML",
   "language": "python",
   "name": "python3"
  },
  "language_info": {
   "codemirror_mode": {
    "name": "ipython",
    "version": 3
   },
   "file_extension": ".py",
   "mimetype": "text/x-python",
   "name": "python",
   "nbconvert_exporter": "python",
   "pygments_lexer": "ipython3",
   "version": "3.9.15"
  },
  "orig_nbformat": 4
 },
 "nbformat": 4,
 "nbformat_minor": 2
}
