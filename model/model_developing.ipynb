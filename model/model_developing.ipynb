{
 "cells": [
  {
   "cell_type": "code",
   "execution_count": 1,
   "metadata": {},
   "outputs": [
    {
     "name": "stdout",
     "output_type": "stream",
     "text": [
      "3.8.1\n"
     ]
    },
    {
     "name": "stderr",
     "output_type": "stream",
     "text": [
      "[nltk_data] Downloading package punkt to /Users/hsjack/nltk_data...\n",
      "[nltk_data]   Package punkt is already up-to-date!\n"
     ]
    }
   ],
   "source": [
    "import nltk\n",
    "nltk.download('punkt')  \n",
    "print (nltk.__version__)"
   ]
  },
  {
   "cell_type": "code",
   "execution_count": 2,
   "metadata": {},
   "outputs": [],
   "source": [
    "import re\n",
    "import sklearn\n",
    "import pickle\n",
    "import pandas as pd\n",
    "import numpy as np\n",
    "from konlpy.tag import Okt\n",
    "from sklearn.linear_model import LogisticRegression\n",
    "from sklearn.model_selection import train_test_split\n",
    "from sklearn.feature_extraction.text import TfidfVectorizer"
   ]
  },
  {
   "cell_type": "code",
   "execution_count": 3,
   "metadata": {},
   "outputs": [
    {
     "data": {
      "text/plain": [
       "array([['송중기 시대극은 믿고본다. 첫회 신선하고 좋았다.', False, 'none', 'none'],\n",
       "       ['지현우 나쁜놈', False, 'none', 'offensive'],\n",
       "       ['알바쓰고많이만들면되지 돈욕심없으면골목식당왜나온겨 기댕기게나하고 산에가서팔어라', False, 'none',\n",
       "        'hate'],\n",
       "       ...,\n",
       "       ['힘내세용 ^^ 항상 응원합니닷 ^^ !', False, 'none', 'none'],\n",
       "       ['힘내소...연기로 답해요.나도 53살 인데 이런일 저런일 다 있더라구요.인격을 믿습니다..홨팅', False,\n",
       "        'none', 'none'],\n",
       "       ['힘들면 관뒀어야지 그게 현명한거다', False, 'none', 'none']], dtype=object)"
      ]
     },
     "execution_count": 3,
     "metadata": {},
     "output_type": "execute_result"
    }
   ],
   "source": [
    "# 일단 dev.tsv와 train.tsv파일 불러오기\n",
    "comments1 = pd.read_csv(\"./dev.tsv\", delimiter = \"\\t\", encoding = 'utf-8').to_numpy()\n",
    "comments2 = pd.read_csv(\"./train.tsv\", delimiter = \"\\t\", encoding = 'utf-8').to_numpy()\n",
    "\n",
    "comments_all = np.concatenate((comments1, comments2), axis = 0)\n",
    "\n",
    "comments_all\n"
   ]
  },
  {
   "cell_type": "code",
   "execution_count": 4,
   "metadata": {},
   "outputs": [
    {
     "name": "stdout",
     "output_type": "stream",
     "text": [
      "[['송중기 시대극은 믿고본다. 첫회 신선하고 좋았다.' 1]\n",
      " ['지현우 나쁜놈' 0]\n",
      " ['알바쓰고많이만들면되지 돈욕심없으면골목식당왜나온겨 기댕기게나하고 산에가서팔어라' 0]\n",
      " ...\n",
      " ['힘내세용 ^^ 항상 응원합니닷 ^^ !' 1]\n",
      " ['힘내소...연기로 답해요.나도 53살 인데 이런일 저런일 다 있더라구요.인격을 믿습니다..홨팅' 1]\n",
      " ['힘들면 관뒀어야지 그게 현명한거다' 1]]\n"
     ]
    }
   ],
   "source": [
    "# 파일 불러왔으면 쓸데없는 라벨 없애기, 일단 성차별적인 발언은 다 빼버리는게 좋을 듯?\n",
    "comments_all = np.array([comment for comment in comments_all if not(comment[1])])\n",
    "comments_filtered = np.concatenate((comments_all[:, [0]], comments_all[:, [3]]), axis = 1)\n",
    "\n",
    "content1 = comments_filtered[:, [0]]\n",
    "label1 = np.where(comments_filtered[:, [1]] == \"none\", 1, 0)\n",
    "\n",
    "data1 = np.concatenate((content1, label1), axis = 1)\n",
    "\n",
    "print(data1)"
   ]
  },
  {
   "cell_type": "code",
   "execution_count": 5,
   "metadata": {},
   "outputs": [
    {
     "name": "stdout",
     "output_type": "stream",
     "text": [
      "[['송중기 시대극은 믿고본다. 첫회 신선하고 좋았다.' 1]\n",
      " ['지현우 나쁜놈' 0]\n",
      " ['알바쓰고많이만들면되지 돈욕심없으면골목식당왜나온겨 기댕기게나하고 산에가서팔어라' 0]\n",
      " ['이미자씨 송혜교씨 돈이 그리 많으면 탈세말고 그돈으로 평소에 불우이웃에게 기부도 좀 하고사시죠.' 0]\n",
      " ['일베충들 ㅂㄷ거리는것봐라 ㅉㅉ' 0]]\n",
      "(6361,)\n"
     ]
    }
   ],
   "source": [
    "# datas = np.concatenate((data1, data2))\n",
    "datas = data1\n",
    "print(datas[:5])\n",
    "\n",
    "X = datas[:, [0]].squeeze()\n",
    "y = datas[:, [1]].squeeze().astype(\"int\")\n",
    "\n",
    "X_train, X_test, y_train, y_test = train_test_split(X, y, test_size = 0.1, stratify = y)\n",
    "\n",
    "print(X_train.shape)"
   ]
  },
  {
   "cell_type": "code",
   "execution_count": 6,
   "metadata": {},
   "outputs": [],
   "source": [
    "# 문장의 전처리를 위함\n",
    "def preprocessor(text):\n",
    "    text = re.sub(\"\\W+\", ' ', text)     # remove all non-words\n",
    "    text = re.sub(\"^\\s\", '', text)      # remove space in start of the statement\n",
    "    text = re.sub(\"\\s$\", '', text)      # remove space in end of the statement\n",
    "    return text\n",
    "    \n",
    "\n",
    "# 텍스트를 처리하기 위해 Okt 사용\n",
    "okt = Okt()\n",
    "def tokenizer_kor(text) :\n",
    "    return okt.morphs(text, stem = True, norm = True)"
   ]
  },
  {
   "cell_type": "code",
   "execution_count": 7,
   "metadata": {},
   "outputs": [
    {
     "name": "stdout",
     "output_type": "stream",
     "text": [
      "한화이글스 해산하자!!! 丕빱♡\n"
     ]
    },
    {
     "data": {
      "text/plain": [
       "'한화이글스 해산하자 丕빱'"
      ]
     },
     "execution_count": 7,
     "metadata": {},
     "output_type": "execute_result"
    }
   ],
   "source": [
    "# 전처리 테스트\n",
    "print(X[22])\n",
    "preprocessor(X[22])"
   ]
  },
  {
   "cell_type": "code",
   "execution_count": 23,
   "metadata": {},
   "outputs": [],
   "source": [
    "# TF-IDF로 벡터화하기\n",
    "tfidf = TfidfVectorizer(preprocessor = preprocessor,\n",
    "                        tokenizer = tokenizer_kor,\n",
    "                        max_df = 0.2,\n",
    "                        min_df = 3)\n",
    "\n",
    "X_train_vector = tfidf.fit_transform(X_train)\n",
    "X_test_vector = tfidf.transform(X_test)\n",
    "\n",
    "# 파일로 tfidf전처리 저장\n",
    "with open(\"./tfidf_new.pkl\", \"wb\") as f :\n",
    "    pickle.dump(tfidf, f)"
   ]
  },
  {
   "cell_type": "code",
   "execution_count": 24,
   "metadata": {},
   "outputs": [],
   "source": [
    "X_train_vector = X_train_vector.toarray()\n",
    "X_test_vector = X_test_vector.toarray()"
   ]
  },
  {
   "cell_type": "code",
   "execution_count": 25,
   "metadata": {},
   "outputs": [
    {
     "name": "stdout",
     "output_type": "stream",
     "text": [
      "(3651,)\n"
     ]
    }
   ],
   "source": [
    "print(X_train_vector[0].shape)"
   ]
  },
  {
   "cell_type": "code",
   "execution_count": 26,
   "metadata": {},
   "outputs": [],
   "source": [
    "# 실제로 모델에 넣고 정확도 측정해보기\n",
    "lr = LogisticRegression(C = 0.6, penalty = 'l2', max_iter = 100)\n",
    "lr.fit(X_train_vector, y_train)\n",
    "\n",
    "with open(\"./linear_model_new.pkl\", \"wb\") as f :\n",
    "    pickle.dump(lr, f)"
   ]
  },
  {
   "cell_type": "code",
   "execution_count": 27,
   "metadata": {},
   "outputs": [
    {
     "name": "stdout",
     "output_type": "stream",
     "text": [
      "Training Accuracy     : 81.87%\n",
      "Test Accuracy \t      : 71.99%\n"
     ]
    }
   ],
   "source": [
    "print(f\"Training Accuracy     : {lr.score(X_train_vector, y_train) * 100:.2f}%\")\n",
    "print(f\"Test Accuracy \\t      : {lr.score(X_test_vector, y_test) * 100:.2f}%\")"
   ]
  },
  {
   "cell_type": "code",
   "execution_count": 14,
   "metadata": {},
   "outputs": [
    {
     "name": "stdout",
     "output_type": "stream",
     "text": [
      "(7, 5)\n",
      "(7,)\n"
     ]
    },
    {
     "data": {
      "image/png": "[encoded data removed]",
      "text/plain": [
       "<Figure size 640x480 with 1 Axes>"
      ]
     },
     "metadata": {},
     "output_type": "display_data"
    }
   ],
   "source": [
    "from sklearn.model_selection import validation_curve\n",
    "from matplotlib import pyplot as plt\n",
    "\n",
    "param_range = np.arange(0.1, 2.05, 0.3)\n",
    "\n",
    "train_scores, test_scores = validation_curve(lr,\n",
    "                                             X = X_train_vector,\n",
    "                                             y = y_train,\n",
    "                                             param_name = \"C\",\n",
    "                                             param_range = param_range)\n",
    "\n",
    "print(train_scores.shape)\n",
    "print(param_range.shape)\n",
    "\n",
    "plt.plot(param_range, train_scores, color = 'r', label = \"Training Accuracy\")\n",
    "plt.plot(param_range, test_scores, color = 'b', label = \"testing Accuracy\")\n",
    "plt.show()"
   ]
  },
  {
   "cell_type": "code",
   "execution_count": 107,
   "metadata": {},
   "outputs": [
    {
     "name": "stdout",
     "output_type": "stream",
     "text": [
      "부정적이지 않은 댓글입니다\n"
     ]
    }
   ],
   "source": [
    "def 착한댓글판별기(text) :\n",
    "    test = np.array(text).reshape(1, )\n",
    "    result = lr.predict(tfidf.transform(test).toarray()).item()\n",
    "    return True if result == 1 else False\n",
    "\n",
    "result = 착한댓글판별기(\"게임 잘하는 배민 존나 고마운분 아기 다람쥐 최인석\")\n",
    "if result :\n",
    "    print(\"부정적이지 않은 댓글입니다\")\n",
    "else :\n",
    "    print(\"부정적 댓글입니다\")"
   ]
  },
  {
   "cell_type": "code",
   "execution_count": null,
   "metadata": {},
   "outputs": [],
   "source": []
  },
  {
   "cell_type": "code",
   "execution_count": null,
   "metadata": {},
   "outputs": [
    {
     "data": {
      "text/plain": [
       "array([['일안하는 시간은 쉬고싶어서 그런게 아닐까', 0, 0, ..., 0, 1, 0],\n",
       "       ['아동성범죄와 페도버는 기록바 끊어져 영원히 고통 받는다. 무슬림 50퍼 근친이다. 10 16까지 IQ 떨어지고 출산 위험은 400% 다.',\n",
       "        0, 0, ..., 0, 0, 0],\n",
       "       ['루나 솔로앨범 나왔을 때부터 머모 기운 있었음 ㅇㅇ Keep o  doin 진짜 띵곡임 꼭 들어보셈\"', 0, 0,\n",
       "        ..., 0, 1, 0],\n",
       "       ...,\n",
       "       ['막노동을 해도 한국에살고말지 미쳤다고 남미를가냐?차라리 자살을하겠다.', 0, 0, ..., 0, 0, 0],\n",
       "       ['‘사형을 구형하였으나 여성인 점을 감안해 25년 선고’ ???내가 뭐 잘못본건가?개시발 보지민국 보빨새끼들', 1,\n",
       "        0, ..., 0, 0, 0],\n",
       "       ['참군남이노 남자의 용도는 고기방패다 ㅋㅋㅋ', 0, 1, ..., 0, 0, 0]], dtype=object)"
      ]
     },
     "metadata": {},
     "output_type": "display_data"
    }
   ],
   "source": [
    "# 같은 방법으로 unsmile친구들 데려오기\n",
    "# 근데 얘들은 빼버려도 될 듯??? 주제에 벗어난 발언이 많음\n",
    "comments1 = pd.read_csv(\"unsmile_train_v1.0.tsv\", delimiter = \"\\t\", encoding = 'utf-8').to_numpy()\n",
    "comments2 = pd.read_csv(\"unsmile_valid_v1.0.tsv\", delimiter = \"\\t\", encoding = 'utf-8').to_numpy()\n",
    "\n",
    "comments_all = np.concatenate((comments1, comments2), axis = 0)\n",
    "comments_all"
   ]
  },
  {
   "cell_type": "code",
   "execution_count": null,
   "metadata": {},
   "outputs": [
    {
     "name": "stdout",
     "output_type": "stream",
     "text": [
      "[['일안하는 시간은 쉬고싶어서 그런게 아닐까' 1]\n",
      " ['아동성범죄와 페도버는 기록바 끊어져 영원히 고통 받는다. 무슬림 50퍼 근친이다. 10 16까지 IQ 떨어지고 출산 위험은 400% 다.'\n",
      "  0]\n",
      " ['루나 솔로앨범 나왔을 때부터 머모 기운 있었음 ㅇㅇ Keep o  doin 진짜 띵곡임 꼭 들어보셈\"' 1]\n",
      " ...\n",
      " ['막노동을 해도 한국에살고말지 미쳤다고 남미를가냐?차라리 자살을하겠다.' 0]\n",
      " ['‘사형을 구형하였으나 여성인 점을 감안해 25년 선고’ ???내가 뭐 잘못본건가?개시발 보지민국 보빨새끼들' 0]\n",
      " ['참군남이노 남자의 용도는 고기방패다 ㅋㅋㅋ' 0]]\n"
     ]
    }
   ],
   "source": [
    "# 여기도 clean과 clean이외의 댓글로 나누기\n",
    "content2 = comments_all[:, [0]]\n",
    "label2 = comments_all[:, [10]]\n",
    "\n",
    "data2 = np.concatenate((content2, label2), axis = 1)\n",
    "\n",
    "print(data2)"
   ]
  }
 ],
 "metadata": {
  "kernelspec": {
   "display_name": "ML",
   "language": "python",
   "name": "python3"
  },
  "language_info": {
   "codemirror_mode": {
    "name": "ipython",
    "version": 3
   },
   "file_extension": ".py",
   "mimetype": "text/x-python",
   "name": "python",
   "nbconvert_exporter": "python",
   "pygments_lexer": "ipython3",
   "version": "3.7.0"
  },
  "orig_nbformat": 4
 },
 "nbformat": 4,
 "nbformat_minor": 2
}
