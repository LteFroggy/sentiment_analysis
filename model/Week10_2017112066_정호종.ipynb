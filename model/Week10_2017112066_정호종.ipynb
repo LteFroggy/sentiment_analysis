{
 "cells": [
  {
   "attachments": {},
   "cell_type": "markdown",
   "metadata": {},
   "source": [
    "# Week10 Learning from Text Data"
   ]
  },
  {
   "attachments": {},
   "cell_type": "markdown",
   "metadata": {},
   "source": [
    "- **Student ID** : 201711206\n",
    "- **Name** : 정호종"
   ]
  },
  {
   "attachments": {},
   "cell_type": "markdown",
   "metadata": {},
   "source": [
    "- Write and run the code below (including Quiz) in jupyter notebook\n",
    "- After completion, rename the file, and summit the file to e-class\n",
    "- Submit file name : **“Week10_\\<StudentID\\>_\\<Name\\>.ipynb”**\n",
    "  - Ex) Week10\\_2020123456\\_홍길동.ipynb\n",
    "- Due : **Saturday 11:59pm**"
   ]
  },
  {
   "attachments": {},
   "cell_type": "markdown",
   "metadata": {},
   "source": [
    "## pip install -U nltk"
   ]
  },
  {
   "cell_type": "code",
   "execution_count": null,
   "metadata": {},
   "outputs": [],
   "source": []
  },
  {
   "cell_type": "code",
   "execution_count": 10,
   "metadata": {},
   "outputs": [],
   "source": [
    "#pip install -U nltk\n",
    "#pip install konlpy"
   ]
  },
  {
   "attachments": {},
   "cell_type": "markdown",
   "metadata": {},
   "source": [
    "---"
   ]
  },
  {
   "cell_type": "code",
   "execution_count": 11,
   "metadata": {},
   "outputs": [
    {
     "name": "stdout",
     "output_type": "stream",
     "text": [
      "3.8.1\n"
     ]
    },
    {
     "name": "stderr",
     "output_type": "stream",
     "text": [
      "[nltk_data] Downloading package punkt to /Users/hsjack/nltk_data...\n",
      "[nltk_data]   Package punkt is already up-to-date!\n"
     ]
    }
   ],
   "source": [
    "import nltk\n",
    "nltk.download('punkt')  \n",
    "print (nltk.__version__)"
   ]
  },
  {
   "attachments": {},
   "cell_type": "markdown",
   "metadata": {},
   "source": [
    "# 1. Preprocessing texts"
   ]
  },
  {
   "attachments": {},
   "cell_type": "markdown",
   "metadata": {},
   "source": [
    "### Load the IMDb movie review data "
   ]
  },
  {
   "cell_type": "code",
   "execution_count": 12,
   "metadata": {},
   "outputs": [
    {
     "data": {
      "text/html": [
       "<div>\n",
       "<style scoped>\n",
       "    .dataframe tbody tr th:only-of-type {\n",
       "        vertical-align: middle;\n",
       "    }\n",
       "\n",
       "    .dataframe tbody tr th {\n",
       "        vertical-align: top;\n",
       "    }\n",
       "\n",
       "    .dataframe thead th {\n",
       "        text-align: right;\n",
       "    }\n",
       "</style>\n",
       "<table border=\"1\" class=\"dataframe\">\n",
       "  <thead>\n",
       "    <tr style=\"text-align: right;\">\n",
       "      <th></th>\n",
       "      <th>review</th>\n",
       "      <th>sentiment</th>\n",
       "    </tr>\n",
       "  </thead>\n",
       "  <tbody>\n",
       "    <tr>\n",
       "      <th>0</th>\n",
       "      <td>In 1974, the teenager Martha Moxley (Maggie Gr...</td>\n",
       "      <td>1</td>\n",
       "    </tr>\n",
       "    <tr>\n",
       "      <th>1</th>\n",
       "      <td>OK... so... I really like Kris Kristofferson a...</td>\n",
       "      <td>0</td>\n",
       "    </tr>\n",
       "    <tr>\n",
       "      <th>2</th>\n",
       "      <td>***SPOILER*** Do not read this, if you think a...</td>\n",
       "      <td>0</td>\n",
       "    </tr>\n",
       "    <tr>\n",
       "      <th>3</th>\n",
       "      <td>hi for all the people who have seen this wonde...</td>\n",
       "      <td>1</td>\n",
       "    </tr>\n",
       "    <tr>\n",
       "      <th>4</th>\n",
       "      <td>I recently bought the DVD, forgetting just how...</td>\n",
       "      <td>0</td>\n",
       "    </tr>\n",
       "  </tbody>\n",
       "</table>\n",
       "</div>"
      ],
      "text/plain": [
       "                                              review  sentiment\n",
       "0  In 1974, the teenager Martha Moxley (Maggie Gr...          1\n",
       "1  OK... so... I really like Kris Kristofferson a...          0\n",
       "2  ***SPOILER*** Do not read this, if you think a...          0\n",
       "3  hi for all the people who have seen this wonde...          1\n",
       "4  I recently bought the DVD, forgetting just how...          0"
      ]
     },
     "execution_count": 12,
     "metadata": {},
     "output_type": "execute_result"
    }
   ],
   "source": [
    "import pandas as pd\n",
    "\n",
    "# read movie review data 'movie_data.csv'\n",
    "df = pd.read_csv('movie_data.csv', encoding='utf-8')\n",
    "df.head(5)"
   ]
  },
  {
   "cell_type": "code",
   "execution_count": 13,
   "metadata": {},
   "outputs": [
    {
     "data": {
      "text/plain": [
       "(50000, 2)"
      ]
     },
     "execution_count": 13,
     "metadata": {},
     "output_type": "execute_result"
    }
   ],
   "source": [
    "# check the shape of data\n",
    "df.shape"
   ]
  },
  {
   "attachments": {},
   "cell_type": "markdown",
   "metadata": {},
   "source": [
    "### Preprocessing (cleaning) text "
   ]
  },
  {
   "cell_type": "code",
   "execution_count": 14,
   "metadata": {},
   "outputs": [
    {
     "data": {
      "text/plain": [
       "'this is a 100 test'"
      ]
     },
     "execution_count": 14,
     "metadata": {},
     "output_type": "execute_result"
    }
   ],
   "source": [
    "# cleaning texts using regular expression\n",
    "import re\n",
    "def preprocessor(text):\n",
    "    text = re.sub(\"<[^>]*>\", '', text)  # remove <...> (tags)\n",
    "    text = re.sub(\"\\W+\", ' ', text)     # remove all non-words\n",
    "    text = re.sub(\"^\\s\", '', text)      # remove space in start of the statement\n",
    "    text = re.sub(\"\\s$\", '', text)      # remove space in end of the statement\n",
    "    text = text.lower()                 # change to lower cases\n",
    "    return text\n",
    "\n",
    "preprocessor(\"</a>This is a $100 TEST!!! ^^\")"
   ]
  },
  {
   "cell_type": "code",
   "execution_count": 15,
   "metadata": {},
   "outputs": [
    {
     "data": {
      "text/plain": [
       "\"OK... so... I really like Kris Kristofferson and his usual easy going delivery of lines in his movies. Age has helped him with his soft spoken low energy style and he will steal a scene effortlessly. But, Disappearance is his misstep. Holy Moly, this was a bad movie! <br /><br />I must give kudos to the cinematography and and the actors, including Kris, for trying their darndest to make sense from this goofy, confusing story! None of it made sense and Kris probably didn't understand it either and he was just going through the motions hoping someone would come up to him and tell him what it was all about! <br /><br />I don't care that everyone on this movie was doing out of love for the project, or some such nonsense... I've seen low budget movies that had a plot for goodness sake! This had none, zilcho, nada, zippo, empty of reason... a complete waste of good talent, scenery and celluloid! <br /><br />I rented this piece of garbage for a buck, and I want my money back! I want my 2 hours back I invested on this Grade F waste of my time! Don't watch this movie, or waste 1 minute of your valuable time while passing through a room where it's playing or even open up the case that is holding the DVD! Believe me, you'll thank me for the advice!\""
      ]
     },
     "execution_count": 15,
     "metadata": {},
     "output_type": "execute_result"
    }
   ],
   "source": [
    "# check the review of movie 1 \n",
    "df.loc[1, 'review']"
   ]
  },
  {
   "cell_type": "code",
   "execution_count": 16,
   "metadata": {},
   "outputs": [
    {
     "data": {
      "text/plain": [
       "'ok so i really like kris kristofferson and his usual easy going delivery of lines in his movies age has helped him with his soft spoken low energy style and he will steal a scene effortlessly but disappearance is his misstep holy moly this was a bad movie i must give kudos to the cinematography and and the actors including kris for trying their darndest to make sense from this goofy confusing story none of it made sense and kris probably didn t understand it either and he was just going through the motions hoping someone would come up to him and tell him what it was all about i don t care that everyone on this movie was doing out of love for the project or some such nonsense i ve seen low budget movies that had a plot for goodness sake this had none zilcho nada zippo empty of reason a complete waste of good talent scenery and celluloid i rented this piece of garbage for a buck and i want my money back i want my 2 hours back i invested on this grade f waste of my time don t watch this movie or waste 1 minute of your valuable time while passing through a room where it s playing or even open up the case that is holding the dvd believe me you ll thank me for the advice'"
      ]
     },
     "execution_count": 16,
     "metadata": {},
     "output_type": "execute_result"
    }
   ],
   "source": [
    "# cleaning the review text of movie 1 \n",
    "preprocessor(df.loc[1, 'review'])"
   ]
  },
  {
   "attachments": {},
   "cell_type": "markdown",
   "metadata": {},
   "source": [
    "### Tokenizing (English)"
   ]
  },
  {
   "cell_type": "code",
   "execution_count": 17,
   "metadata": {},
   "outputs": [
    {
     "name": "stdout",
     "output_type": "stream",
     "text": [
      "The sun is shining, the weather is sweet, and she likes RUNNING!\n",
      "the sun is shining the weather is sweet and she likes running\n"
     ]
    }
   ],
   "source": [
    "text = 'The sun is shining, the weather is sweet, and she likes RUNNING!'\n",
    "print(text)\n",
    "\n",
    "# cleaning the text using preprocessor\n",
    "text_prep = preprocessor(text)\n",
    "print(text_prep)"
   ]
  },
  {
   "cell_type": "code",
   "execution_count": 18,
   "metadata": {
    "scrolled": true
   },
   "outputs": [
    {
     "name": "stdout",
     "output_type": "stream",
     "text": [
      "['the', 'sun', 'is', 'shining', 'the', 'weather', 'is', 'sweet', 'and', 'she', 'likes', 'running']\n"
     ]
    }
   ],
   "source": [
    "from nltk.tokenize import word_tokenize\n",
    "\n",
    "# tokenizing the preprocessed text. use nltk.word_tokenize()\n",
    "text_tokens = word_tokenize(text_prep)\n",
    "print(text_tokens)"
   ]
  },
  {
   "attachments": {},
   "cell_type": "markdown",
   "metadata": {},
   "source": [
    "### Stemming (English)"
   ]
  },
  {
   "cell_type": "code",
   "execution_count": 19,
   "metadata": {},
   "outputs": [
    {
     "name": "stdout",
     "output_type": "stream",
     "text": [
      "['the', 'sun', 'is', 'shine', 'the', 'weather', 'is', 'sweet', 'and', 'she', 'like', 'run']\n"
     ]
    }
   ],
   "source": [
    "from nltk.stem.porter import PorterStemmer\n",
    "\n",
    "# stemming. use PorterStemmer.stem()\n",
    "stemmer = PorterStemmer()\n",
    "\n",
    "# tokenizer_stemmer function perform tokenizing + stemming \n",
    "def tokenizer_stemmer(text):\n",
    "    text_tokens = word_tokenize(text)\n",
    "    return [stemmer.stem(word) for word in text_tokens]\n",
    "\n",
    "# tokenizing and stemming the preprocessed text\n",
    "text_stems = tokenizer_stemmer(text_prep)\n",
    "print(text_stems)"
   ]
  },
  {
   "attachments": {},
   "cell_type": "markdown",
   "metadata": {},
   "source": [
    "### Stopwords  (English)"
   ]
  },
  {
   "cell_type": "code",
   "execution_count": 20,
   "metadata": {},
   "outputs": [
    {
     "name": "stdout",
     "output_type": "stream",
     "text": [
      "['i', 'me', 'my', 'myself', 'we', 'our', 'ours', 'ourselves', 'you', \"you're\", \"you've\", \"you'll\", \"you'd\", 'your', 'yours', 'yourself', 'yourselves', 'he', 'him', 'his', 'himself', 'she', \"she's\", 'her', 'hers', 'herself', 'it', \"it's\", 'its', 'itself', 'they', 'them', 'their', 'theirs', 'themselves', 'what', 'which', 'who', 'whom', 'this', 'that', \"that'll\", 'these', 'those', 'am', 'is', 'are', 'was', 'were', 'be', 'been', 'being', 'have', 'has', 'had', 'having', 'do', 'does', 'did', 'doing', 'a', 'an', 'the', 'and', 'but', 'if', 'or', 'because', 'as', 'until', 'while', 'of', 'at', 'by', 'for', 'with', 'about', 'against', 'between', 'into', 'through', 'during', 'before', 'after', 'above', 'below', 'to', 'from', 'up', 'down', 'in', 'out', 'on', 'off', 'over', 'under', 'again', 'further', 'then', 'once', 'here', 'there', 'when', 'where', 'why', 'how', 'all', 'any', 'both', 'each', 'few', 'more', 'most', 'other', 'some', 'such', 'no', 'nor', 'not', 'only', 'own', 'same', 'so', 'than', 'too', 'very', 's', 't', 'can', 'will', 'just', 'don', \"don't\", 'should', \"should've\", 'now', 'd', 'll', 'm', 'o', 're', 've', 'y', 'ain', 'aren', \"aren't\", 'couldn', \"couldn't\", 'didn', \"didn't\", 'doesn', \"doesn't\", 'hadn', \"hadn't\", 'hasn', \"hasn't\", 'haven', \"haven't\", 'isn', \"isn't\", 'ma', 'mightn', \"mightn't\", 'mustn', \"mustn't\", 'needn', \"needn't\", 'shan', \"shan't\", 'shouldn', \"shouldn't\", 'wasn', \"wasn't\", 'weren', \"weren't\", 'won', \"won't\", 'wouldn', \"wouldn't\"]\n"
     ]
    },
    {
     "name": "stderr",
     "output_type": "stream",
     "text": [
      "[nltk_data] Downloading package stopwords to\n",
      "[nltk_data]     /Users/hsjack/nltk_data...\n",
      "[nltk_data]   Package stopwords is already up-to-date!\n"
     ]
    }
   ],
   "source": [
    "from nltk.corpus import stopwords\n",
    "nltk.download('stopwords')\n",
    "\n",
    "# stopwords from nltk.corpus.stopwords\n",
    "stop = stopwords.words('english')\n",
    "print(stop)"
   ]
  },
  {
   "cell_type": "code",
   "execution_count": 21,
   "metadata": {},
   "outputs": [
    {
     "data": {
      "text/plain": [
       "['sun', 'shine', 'weather', 'sweet', 'like', 'run']"
      ]
     },
     "execution_count": 21,
     "metadata": {},
     "output_type": "execute_result"
    }
   ],
   "source": [
    "# remove_stopwords function - remove words in stop from text\n",
    "def remove_stopwords(text):\n",
    "    return [w for w in text if w not in stop]\n",
    "\n",
    "# removing stopwords from tokenized text\n",
    "text_stems = remove_stopwords(text_stems)\n",
    "text_stems"
   ]
  },
  {
   "attachments": {},
   "cell_type": "markdown",
   "metadata": {},
   "source": [
    "### POS tagging (English)"
   ]
  },
  {
   "cell_type": "code",
   "execution_count": 22,
   "metadata": {},
   "outputs": [
    {
     "data": {
      "text/plain": [
       "[('the', 'DT'),\n",
       " ('sun', 'NN'),\n",
       " ('is', 'VBZ'),\n",
       " ('shining', 'VBG'),\n",
       " ('the', 'DT'),\n",
       " ('weather', 'NN'),\n",
       " ('is', 'VBZ'),\n",
       " ('sweet', 'JJ'),\n",
       " ('and', 'CC'),\n",
       " ('she', 'PRP'),\n",
       " ('likes', 'VBZ'),\n",
       " ('running', 'VBG')]"
      ]
     },
     "execution_count": 22,
     "metadata": {},
     "output_type": "execute_result"
    }
   ],
   "source": [
    "from nltk.tag import pos_tag\n",
    "\n",
    "# POS tagging the tokenized text\n",
    "tagged_text = pos_tag(text_tokens)\n",
    "tagged_text"
   ]
  },
  {
   "attachments": {},
   "cell_type": "markdown",
   "metadata": {},
   "source": [
    "---"
   ]
  },
  {
   "attachments": {},
   "cell_type": "markdown",
   "metadata": {},
   "source": [
    "### Load the Korean movie review data "
   ]
  },
  {
   "cell_type": "code",
   "execution_count": 23,
   "metadata": {},
   "outputs": [
    {
     "data": {
      "text/html": [
       "<div>\n",
       "<style scoped>\n",
       "    .dataframe tbody tr th:only-of-type {\n",
       "        vertical-align: middle;\n",
       "    }\n",
       "\n",
       "    .dataframe tbody tr th {\n",
       "        vertical-align: top;\n",
       "    }\n",
       "\n",
       "    .dataframe thead th {\n",
       "        text-align: right;\n",
       "    }\n",
       "</style>\n",
       "<table border=\"1\" class=\"dataframe\">\n",
       "  <thead>\n",
       "    <tr style=\"text-align: right;\">\n",
       "      <th></th>\n",
       "      <th>review</th>\n",
       "      <th>sentiment</th>\n",
       "    </tr>\n",
       "  </thead>\n",
       "  <tbody>\n",
       "    <tr>\n",
       "      <th>0</th>\n",
       "      <td>아 더빙.. 진짜 짜증나네요 목소리</td>\n",
       "      <td>0</td>\n",
       "    </tr>\n",
       "    <tr>\n",
       "      <th>1</th>\n",
       "      <td>흠...포스터보고 초딩영화줄....오버연기조차 가볍지 않구나</td>\n",
       "      <td>1</td>\n",
       "    </tr>\n",
       "    <tr>\n",
       "      <th>2</th>\n",
       "      <td>너무재밓었다그래서보는것을추천한다</td>\n",
       "      <td>0</td>\n",
       "    </tr>\n",
       "    <tr>\n",
       "      <th>3</th>\n",
       "      <td>교도소 이야기구먼 ..솔직히 재미는 없다..평점 조정</td>\n",
       "      <td>0</td>\n",
       "    </tr>\n",
       "    <tr>\n",
       "      <th>4</th>\n",
       "      <td>사이몬페그의 익살스런 연기가 돋보였던 영화!스파이더맨에서 늙어보이기만 했던 커스틴 ...</td>\n",
       "      <td>1</td>\n",
       "    </tr>\n",
       "  </tbody>\n",
       "</table>\n",
       "</div>"
      ],
      "text/plain": [
       "                                              review  sentiment\n",
       "0                                아 더빙.. 진짜 짜증나네요 목소리          0\n",
       "1                  흠...포스터보고 초딩영화줄....오버연기조차 가볍지 않구나          1\n",
       "2                                  너무재밓었다그래서보는것을추천한다          0\n",
       "3                      교도소 이야기구먼 ..솔직히 재미는 없다..평점 조정          0\n",
       "4  사이몬페그의 익살스런 연기가 돋보였던 영화!스파이더맨에서 늙어보이기만 했던 커스틴 ...          1"
      ]
     },
     "execution_count": 23,
     "metadata": {},
     "output_type": "execute_result"
    }
   ],
   "source": [
    "# read Korean movie reviews \"kor_movie.csv\"\n",
    "df_kor = pd.read_csv(\"kor_movie.csv\", encoding='utf-8')\n",
    "df_kor.head(5)"
   ]
  },
  {
   "cell_type": "code",
   "execution_count": 24,
   "metadata": {},
   "outputs": [
    {
     "data": {
      "text/plain": [
       "(200000, 2)"
      ]
     },
     "execution_count": 24,
     "metadata": {},
     "output_type": "execute_result"
    }
   ],
   "source": [
    "# check the shape of data\n",
    "df_kor.shape"
   ]
  },
  {
   "cell_type": "code",
   "execution_count": 25,
   "metadata": {},
   "outputs": [
    {
     "data": {
      "text/plain": [
       "'흠...포스터보고 초딩영화줄....오버연기조차 가볍지 않구나'"
      ]
     },
     "execution_count": 25,
     "metadata": {},
     "output_type": "execute_result"
    }
   ],
   "source": [
    "# check the review of movie 1 \n",
    "df_kor.loc[1,'review']"
   ]
  },
  {
   "cell_type": "code",
   "execution_count": 26,
   "metadata": {},
   "outputs": [
    {
     "data": {
      "text/plain": [
       "'흠 포스터보고 초딩영화줄 오버연기조차 가볍지 않구나'"
      ]
     },
     "execution_count": 26,
     "metadata": {},
     "output_type": "execute_result"
    }
   ],
   "source": [
    "# cleaning review text of movie 1 \n",
    "preprocessor(df_kor.loc[1,'review'])"
   ]
  },
  {
   "attachments": {},
   "cell_type": "markdown",
   "metadata": {},
   "source": [
    "### Tokenizing & stemming (Korean)"
   ]
  },
  {
   "cell_type": "code",
   "execution_count": 27,
   "metadata": {},
   "outputs": [
    {
     "name": "stdout",
     "output_type": "stream",
     "text": [
      "<split() method>\n",
      "['하늘을', '나는', '아름다운', '꿈을', '꾸었습니다!']\n"
     ]
    }
   ],
   "source": [
    "text = '하늘을 나는 아름다운 꿈을 꾸었습니다!'\n",
    "\n",
    "# simple split() method is not appropriate\n",
    "print('<split() method>')\n",
    "print(text.split())"
   ]
  },
  {
   "cell_type": "code",
   "execution_count": 28,
   "metadata": {},
   "outputs": [
    {
     "name": "stdout",
     "output_type": "stream",
     "text": [
      "<Okt word tokenizer>\n",
      "['하늘', '을', '나', '는', '아름답다', '꿈', '을', '꾸다', '!']\n"
     ]
    }
   ],
   "source": [
    "from konlpy.tag import Okt\n",
    "\n",
    "# 형태소분석 - Okt\n",
    "okt = Okt()\n",
    "\n",
    "# tokenize text using Okt.morph()\n",
    "print('<Okt word tokenizer>')\n",
    "print(okt.morphs(text, norm = True, stem = True))"
   ]
  },
  {
   "cell_type": "code",
   "execution_count": 29,
   "metadata": {},
   "outputs": [
    {
     "name": "stdout",
     "output_type": "stream",
     "text": [
      "<Kkma word tokenizer>\n",
      "['하늘', '을', '날', '는', '아름답', 'ㄴ', '꿈', '을', '꾸', '었', '습니다', '!']\n"
     ]
    }
   ],
   "source": [
    "from konlpy.tag import Kkma\n",
    "\n",
    "# 형태소분석 - Kkma\n",
    "kkma = Kkma()\n",
    "\n",
    "# tokenize text using Kkma.morph()\n",
    "print('<Kkma word tokenizer>')\n",
    "print(kkma.morphs(text))"
   ]
  },
  {
   "attachments": {},
   "cell_type": "markdown",
   "metadata": {},
   "source": [
    "### POS tagging (Korean)"
   ]
  },
  {
   "cell_type": "code",
   "execution_count": 30,
   "metadata": {},
   "outputs": [
    {
     "data": {
      "text/plain": [
       "[('하늘', 'Noun'),\n",
       " ('을', 'Josa'),\n",
       " ('나', 'Noun'),\n",
       " ('는', 'Josa'),\n",
       " ('아름다운', 'Adjective'),\n",
       " ('꿈', 'Noun'),\n",
       " ('을', 'Josa'),\n",
       " ('꾸었습니다', 'Verb'),\n",
       " ('!', 'Punctuation')]"
      ]
     },
     "execution_count": 30,
     "metadata": {},
     "output_type": "execute_result"
    }
   ],
   "source": [
    "# POS tagging - okt.pos()\n",
    "tagged_text = okt.pos(text)\n",
    "tagged_text"
   ]
  },
  {
   "cell_type": "code",
   "execution_count": 31,
   "metadata": {},
   "outputs": [
    {
     "data": {
      "text/plain": [
       "[('하늘', 'NNG'),\n",
       " ('을', 'JKO'),\n",
       " ('날', 'VV'),\n",
       " ('는', 'ETD'),\n",
       " ('아름답', 'VA'),\n",
       " ('ㄴ', 'ETD'),\n",
       " ('꿈', 'NNG'),\n",
       " ('을', 'JKO'),\n",
       " ('꾸', 'VV'),\n",
       " ('었', 'EPT'),\n",
       " ('습니다', 'EFN'),\n",
       " ('!', 'SF')]"
      ]
     },
     "execution_count": 31,
     "metadata": {},
     "output_type": "execute_result"
    }
   ],
   "source": [
    "# POS tagging - Kkma.pos()\n",
    "tagged_text = kkma.pos(text)\n",
    "tagged_text"
   ]
  },
  {
   "attachments": {},
   "cell_type": "markdown",
   "metadata": {},
   "source": [
    "### Extracting nouns (Korean)"
   ]
  },
  {
   "cell_type": "code",
   "execution_count": 32,
   "metadata": {},
   "outputs": [
    {
     "name": "stdout",
     "output_type": "stream",
     "text": [
      "하늘을 나는 아름다운 꿈을 꾸었습니다!\n"
     ]
    },
    {
     "data": {
      "text/plain": [
       "['하늘', '나', '꿈']"
      ]
     },
     "execution_count": 32,
     "metadata": {},
     "output_type": "execute_result"
    }
   ],
   "source": [
    "# extract nouns only - use okt.nouns()\n",
    "print(text)\n",
    "okt.nouns(text)"
   ]
  },
  {
   "cell_type": "code",
   "execution_count": 33,
   "metadata": {},
   "outputs": [
    {
     "name": "stdout",
     "output_type": "stream",
     "text": [
      "아버지가방에들어가신다\n"
     ]
    },
    {
     "data": {
      "text/plain": [
       "['아버지', '가방']"
      ]
     },
     "execution_count": 33,
     "metadata": {},
     "output_type": "execute_result"
    }
   ],
   "source": [
    "# 띄어쓰기 오류인 경우도 가능 - okt.nouns()\n",
    "text = '아버지가방에들어가신다'\n",
    "print(text)\n",
    "okt.nouns(text)"
   ]
  },
  {
   "attachments": {},
   "cell_type": "markdown",
   "metadata": {},
   "source": [
    "---"
   ]
  },
  {
   "attachments": {},
   "cell_type": "markdown",
   "metadata": {},
   "source": [
    "# 2. Vectorization: the bag-of-words model"
   ]
  },
  {
   "attachments": {
    "image.png": {
     "image/png": "[encoded data removed]"
    }
   },
   "cell_type": "markdown",
   "metadata": {},
   "source": [
    "### Transforming documents into term frequency vectors \n",
    "![image.png](attachment:image.png)"
   ]
  },
  {
   "cell_type": "code",
   "execution_count": 34,
   "metadata": {},
   "outputs": [],
   "source": [
    "import numpy as np\n",
    "\n",
    "docs = np.array([\n",
    "        'The sun is shining',\n",
    "        'The weather is sweet',\n",
    "        'The sun is shining, the weather is sweet, and she likes RUNNING!'])"
   ]
  },
  {
   "cell_type": "code",
   "execution_count": 35,
   "metadata": {},
   "outputs": [],
   "source": [
    "from sklearn.feature_extraction.text import CountVectorizer\n",
    "\n",
    "# vectorize texts - Document-Term Matrix\n",
    "count = CountVectorizer()\n",
    "\n",
    "bag = count.fit_transform(docs)"
   ]
  },
  {
   "cell_type": "code",
   "execution_count": 36,
   "metadata": {},
   "outputs": [
    {
     "name": "stdout",
     "output_type": "stream",
     "text": [
      "{'the': 8, 'sun': 6, 'is': 1, 'shining': 5, 'weather': 9, 'sweet': 7, 'and': 0, 'she': 4, 'likes': 2, 'running': 3}\n"
     ]
    }
   ],
   "source": [
    "# vocabulary\n",
    "print(count.vocabulary_)"
   ]
  },
  {
   "cell_type": "code",
   "execution_count": 37,
   "metadata": {},
   "outputs": [
    {
     "name": "stdout",
     "output_type": "stream",
     "text": [
      "[[0 1 0 0 0 1 1 0 1 0]\n",
      " [0 1 0 0 0 0 0 1 1 1]\n",
      " [1 2 1 1 1 1 1 1 2 1]]\n"
     ]
    }
   ],
   "source": [
    "# Document-Term Matrix\n",
    "print(bag.toarray())"
   ]
  },
  {
   "attachments": {
    "image.png": {
     "image/png": "[encoded data removed]"
    }
   },
   "cell_type": "markdown",
   "metadata": {},
   "source": [
    "### Transforming documents into TF-IDF vectors\n",
    "![image.png](attachment:image.png)    \n",
    "자주 등장하는 값들은 나와도 큰 의미를 가지지 않도록 값을 줄여주기"
   ]
  },
  {
   "cell_type": "code",
   "execution_count": 38,
   "metadata": {},
   "outputs": [],
   "source": [
    "np.set_printoptions(precision=2)"
   ]
  },
  {
   "cell_type": "code",
   "execution_count": 39,
   "metadata": {},
   "outputs": [],
   "source": [
    "from sklearn.feature_extraction.text import TfidfVectorizer\n",
    "\n",
    "# vectorize texts - TF-IDF Matrix\n",
    "tfidf = TfidfVectorizer()\n",
    "\n",
    "docs_vector = tfidf.fit_transform(docs)"
   ]
  },
  {
   "cell_type": "code",
   "execution_count": 40,
   "metadata": {},
   "outputs": [
    {
     "name": "stdout",
     "output_type": "stream",
     "text": [
      "{'the': 8, 'sun': 6, 'is': 1, 'shining': 5, 'weather': 9, 'sweet': 7, 'and': 0, 'she': 4, 'likes': 2, 'running': 3}\n"
     ]
    }
   ],
   "source": [
    "# vocabulary\n",
    "print(tfidf.vocabulary_)"
   ]
  },
  {
   "cell_type": "code",
   "execution_count": 41,
   "metadata": {},
   "outputs": [
    {
     "name": "stdout",
     "output_type": "stream",
     "text": [
      "[[0.   0.43 0.   0.   0.   0.56 0.56 0.   0.43 0.  ]\n",
      " [0.   0.43 0.   0.   0.   0.   0.   0.56 0.43 0.56]\n",
      " [0.33 0.39 0.33 0.33 0.33 0.25 0.25 0.25 0.39 0.25]]\n"
     ]
    }
   ],
   "source": [
    "# TF-IDF Matrix (normalized)\n",
    "print(docs_vector.toarray())"
   ]
  },
  {
   "attachments": {},
   "cell_type": "markdown",
   "metadata": {},
   "source": [
    "### Preprocessing + stemming + stopword remove + TF-IDF"
   ]
  },
  {
   "cell_type": "code",
   "execution_count": 42,
   "metadata": {},
   "outputs": [
    {
     "name": "stderr",
     "output_type": "stream",
     "text": [
      "/opt/homebrew/anaconda3/envs/ML/lib/python3.7/site-packages/sklearn/feature_extraction/text.py:401: UserWarning: Your stop_words may be inconsistent with your preprocessing. Tokenizing the stop words generated tokens ['abov', 'ani', 'becaus', 'befor', 'doe', 'dure', 'ha', 'hi', 'onc', 'onli', 'ourselv', 'themselv', 'thi', 'veri', 'wa', 'whi', 'yourselv'] not in stop_words.\n",
      "  % sorted(inconsistent)\n"
     ]
    }
   ],
   "source": [
    "from sklearn.feature_extraction.text import TfidfVectorizer\n",
    "\n",
    "# vectorize texts - TF-IDF Matrix (with preprocessing, stemming, stopwords)\n",
    "tfidf = TfidfVectorizer(strip_accents=None,\n",
    "                        lowercase=False,\n",
    "                        preprocessor = preprocessor,        # preprocessing\n",
    "                        tokenizer = tokenizer_stemmer,       # tokenizing + stemming\n",
    "                        stop_words = stop                   # removing stopwords\n",
    "                       )\n",
    "docs_vector = tfidf.fit_transform(docs)"
   ]
  },
  {
   "cell_type": "code",
   "execution_count": 43,
   "metadata": {},
   "outputs": [
    {
     "name": "stdout",
     "output_type": "stream",
     "text": [
      "{'sun': 3, 'shine': 2, 'weather': 5, 'sweet': 4, 'like': 0, 'run': 1}\n"
     ]
    }
   ],
   "source": [
    "# vocabulary\n",
    "print(tfidf.vocabulary_)"
   ]
  },
  {
   "cell_type": "code",
   "execution_count": 44,
   "metadata": {},
   "outputs": [
    {
     "name": "stdout",
     "output_type": "stream",
     "text": [
      "[[0.   0.   0.71 0.71 0.   0.  ]\n",
      " [0.   0.   0.   0.   0.71 0.71]\n",
      " [0.48 0.48 0.37 0.37 0.37 0.37]]\n"
     ]
    }
   ],
   "source": [
    "# TF-IDF Matrix (normalized)\n",
    "print(docs_vector.toarray())"
   ]
  },
  {
   "attachments": {},
   "cell_type": "markdown",
   "metadata": {},
   "source": [
    "---"
   ]
  },
  {
   "attachments": {
    "image.png": {
     "image/png": "[encoded data removed]"
    }
   },
   "cell_type": "markdown",
   "metadata": {},
   "source": [
    "# 3. Document classification\n",
    "![image.png](attachment:image.png)"
   ]
  },
  {
   "attachments": {},
   "cell_type": "markdown",
   "metadata": {},
   "source": [
    "### Load the IMDb movie review data "
   ]
  },
  {
   "cell_type": "code",
   "execution_count": 45,
   "metadata": {},
   "outputs": [
    {
     "data": {
      "text/html": [
       "<div>\n",
       "<style scoped>\n",
       "    .dataframe tbody tr th:only-of-type {\n",
       "        vertical-align: middle;\n",
       "    }\n",
       "\n",
       "    .dataframe tbody tr th {\n",
       "        vertical-align: top;\n",
       "    }\n",
       "\n",
       "    .dataframe thead th {\n",
       "        text-align: right;\n",
       "    }\n",
       "</style>\n",
       "<table border=\"1\" class=\"dataframe\">\n",
       "  <thead>\n",
       "    <tr style=\"text-align: right;\">\n",
       "      <th></th>\n",
       "      <th>review</th>\n",
       "      <th>sentiment</th>\n",
       "    </tr>\n",
       "  </thead>\n",
       "  <tbody>\n",
       "    <tr>\n",
       "      <th>0</th>\n",
       "      <td>In 1974, the teenager Martha Moxley (Maggie Gr...</td>\n",
       "      <td>1</td>\n",
       "    </tr>\n",
       "    <tr>\n",
       "      <th>1</th>\n",
       "      <td>OK... so... I really like Kris Kristofferson a...</td>\n",
       "      <td>0</td>\n",
       "    </tr>\n",
       "    <tr>\n",
       "      <th>2</th>\n",
       "      <td>***SPOILER*** Do not read this, if you think a...</td>\n",
       "      <td>0</td>\n",
       "    </tr>\n",
       "    <tr>\n",
       "      <th>3</th>\n",
       "      <td>hi for all the people who have seen this wonde...</td>\n",
       "      <td>1</td>\n",
       "    </tr>\n",
       "    <tr>\n",
       "      <th>4</th>\n",
       "      <td>I recently bought the DVD, forgetting just how...</td>\n",
       "      <td>0</td>\n",
       "    </tr>\n",
       "  </tbody>\n",
       "</table>\n",
       "</div>"
      ],
      "text/plain": [
       "                                              review  sentiment\n",
       "0  In 1974, the teenager Martha Moxley (Maggie Gr...          1\n",
       "1  OK... so... I really like Kris Kristofferson a...          0\n",
       "2  ***SPOILER*** Do not read this, if you think a...          0\n",
       "3  hi for all the people who have seen this wonde...          1\n",
       "4  I recently bought the DVD, forgetting just how...          0"
      ]
     },
     "execution_count": 45,
     "metadata": {},
     "output_type": "execute_result"
    }
   ],
   "source": [
    "import pandas as pd\n",
    "\n",
    "df = pd.read_csv('movie_data.csv', encoding='utf-8')\n",
    "df.head(5)"
   ]
  },
  {
   "attachments": {},
   "cell_type": "markdown",
   "metadata": {},
   "source": [
    "### Training and test dataset"
   ]
  },
  {
   "cell_type": "code",
   "execution_count": 46,
   "metadata": {},
   "outputs": [
    {
     "data": {
      "text/plain": [
       "(1000,)"
      ]
     },
     "execution_count": 46,
     "metadata": {},
     "output_type": "execute_result"
    }
   ],
   "source": [
    "# use 1000 texts for training and test\n",
    "X_train = df.loc[0:999, 'review'].values\n",
    "y_train = df.loc[0:999, 'sentiment'].values\n",
    "X_test = df.loc[49000:, 'review'].values\n",
    "y_test = df.loc[49000:, 'sentiment'].values\n",
    "\n",
    "X_train.shape"
   ]
  },
  {
   "cell_type": "code",
   "execution_count": 47,
   "metadata": {},
   "outputs": [
    {
     "data": {
      "text/plain": [
       "'In 1974, the teenager Martha Moxley (Maggie Grace) moves to the high-class area of Belle Haven, Greenwich, Connecticut. On the Mischief Night, eve of Halloween, she was murdered in the backyard of her house and her murder remained unsolved. Twenty-two years later, the writer Mark Fuhrman (Christopher Meloni), who is a former LA detective that has fallen in disgrace for perjury in O.J. Simpson trial and moved to Idaho, decides to investigate the case with his partner Stephen Weeks (Andrew Mitchell) with the purpose of writing a book. The locals squirm and do not welcome them, but with the support of the retired detective Steve Carroll (Robert Forster) that was in charge of the investigation in the 70\\'s, they discover the criminal and a net of power and money to cover the murder.<br /><br />\"Murder in Greenwich\" is a good TV movie, with the true story of a murder of a fifteen years old girl that was committed by a wealthy teenager whose mother was a Kennedy. The powerful and rich family used their influence to cover the murder for more than twenty years. However, a snoopy detective and convicted perjurer in disgrace was able to disclose how the hideous crime was committed. The screenplay shows the investigation of Mark and the last days of Martha in parallel, but there is a lack of the emotion in the dramatization. My vote is seven.<br /><br />Title (Brazil): Not Available'"
      ]
     },
     "execution_count": 47,
     "metadata": {},
     "output_type": "execute_result"
    }
   ],
   "source": [
    "# check the review 0 text\n",
    "X_train[0]"
   ]
  },
  {
   "attachments": {},
   "cell_type": "markdown",
   "metadata": {},
   "source": [
    "### Vectorization"
   ]
  },
  {
   "cell_type": "code",
   "execution_count": 48,
   "metadata": {},
   "outputs": [],
   "source": [
    "from sklearn.feature_extraction.text import TfidfVectorizer\n",
    "\n",
    "stop.extend(['abov', 'ani', 'becaus', 'befor', 'doe', 'dure', 'ha', 'hi', 'onc', 'onli', 'ourselv', 'themselv', 'thi', 'veri', 'wa', 'whi', 'yourselv', 'becau'])\n",
    "\n",
    "# vectorize to TF-IDF Matrix \n",
    "tfidf = TfidfVectorizer(strip_accents=None,\n",
    "                        lowercase=False,\n",
    "                        preprocessor=preprocessor,\n",
    "                        # Below two steps are needed, but it takes long time,\n",
    "                        # so, We'll skip this processes\n",
    "                        tokenizer=tokenizer_stemmer,\n",
    "                        stop_words=stop,\n",
    "                        max_df=0.1,       # ignore terms occured in more than 10% of docs (stop words)\n",
    "                       )\n",
    "\n",
    "X_train_vector = tfidf.fit_transform(X_train)\n",
    "X_test_vector = tfidf.fit_transform(X_test)"
   ]
  },
  {
   "cell_type": "code",
   "execution_count": 49,
   "metadata": {},
   "outputs": [
    {
     "name": "stdout",
     "output_type": "stream",
     "text": [
      "{'anoth', 'point', 'turn', 'live', 'two', 'final', 'feel', 'world', 'plot', 'better', 'find', 'seen', 'stori', 'show', 'fan', 'noth', 'cast', 'got', 'real', 'best', 'new', 'good', 'seem', 'complet', 'director', 'quit', 'think', 'still', 'day', 'thought', 'reason', 'ever', 'get', 'way', 'sinc', 'star', 'use', 'expect', 'us', 'action', 'though', 'start', 'big', 'work', 'end', 'role', 'give', 'mani', 'peopl', 'first', 'direct', 'love', 'thing', 'see', 'much', 'around', 'lot', 'happen', 'script', 'perform', 'without', 'recommend', 'one', 'effect', 'help', 'young', 'comedi', 'girl', 'done', 'guy', 'life', 'year', 'scene', 'well', 'lead', 'differ', 'right', 'part', 'might', 'someth', 'sure', 'everi', 'charact', 'make', 'beauti', 'want', 'could', 'line', 'great', 'fact', 'enjoy', 'far', 'movi', 'film', 'like', 'pretti', 'least', 'go', 'come', 'look', 'time', 'call', 'say', 'man', 'hope', 'act', 'howev', 'anyth', 'laugh', 'never', 'need', '10', 'old', 'saw', 'bad', 'play', 'tri', 'realli', 'would', 'take', 'may', 'actor', 'enough', 'funni', 'person', 'must', 'kill', 'made', 'long', 'also', 'back', 'origin', 'actual', 'wonder', 'put', 'believ', 'probabl', 'set', 'tv', 'littl', 'interest', 'know', 'watch', 'even'}\n"
     ]
    }
   ],
   "source": [
    "# automatic stop words\n",
    "print(tfidf.stop_words_)"
   ]
  },
  {
   "cell_type": "code",
   "execution_count": 50,
   "metadata": {},
   "outputs": [
    {
     "name": "stdout",
     "output_type": "stream",
     "text": [
      "{'c': 1758, 'était': 12816, 'complètement': 2441, 'minabl': 7366, 'à': 12815, 'fuir': 4538, 'absolu': 287, 'idiot': 5663, 'attempt': 900, 'destroy': 3118, 'classic': 2231, 'sourc': 10608, 'materi': 7127, 'thoroughli': 11451, 'succeed': 11012, 'circumst': 2205, 'unless': 12010, 'wish': 12585, 'ten': 11341, 'euro': 3915, 'torn': 11589, 'shove': 10224, 'nostril': 7922, 'bunch': 1701, 'vapid': 12156, 'atroci': 895, 'unamus': 11866, 'type': 11827, 'clearli': 2251, 'illustr': 5686, 'gulf': 5048, 'unfortun': 11970, 'divid': 3329, 'audienc': 916, 'individu': 5803, 'heaven': 5273, 'forbid': 4376, 'collect': 2361, 'conceiv': 2457, 'dross': 3493, 'behind': 1202, 'consider': 2519, 'version': 12213, 'current': 2809, 'french': 4489, 'cinema': 2192, 'endur': 3786, 'forc': 4378, 'merci': 7270, 'rewritten': 9498, 'scrap': 9927, 'altogeth': 542, 'vein': 12185, 'adult': 369, 'humour': 5594, 'mine': 7372, 'date': 2910, 'mind': 7367, 'fritz': 4514, 'cat': 1937, 'lack': 6461, 'avant': 954, 'gard': 4638, 'statu': 10807, 'base': 1106, 'social': 10513, 'commentari': 2405, 'prolifer': 8933, 'remak': 9360, 'increas': 5776, 'relianc': 9346, 'pre': 8798, 'exist': 3987, 'fund': 4549, 'storytel': 10890, 'choos': 2143, 'snow': 10500, 'white': 12509, 'thu': 11478, 'worri': 12647, 'radic': 9120, 'allow': 512, 'oh': 8041, 'anim': 629, 'smarter': 10443, 'joke': 6164, 'perhap': 8471, 'coher': 2342, 'telegraph': 11323, 'vacuiti': 12131, 'open': 8095, 'frame': 4451, 'manifestli': 7029, 'appal': 706, 'product': 8911, 'worst': 12650, 'britain': 1611, '80': 223, 'tawdri': 11286, 'tale': 11237, 'middl': 7322, 'age': 409, 'lecher': 6581, 'seduc': 9990, 'teenag': 11319, 'scrubber': 9947, 'babysit': 996, 'faux': 4129, 'posh': 8758, 'wife': 12537, 'redeem': 9267, 'gratuit': 4944, 'pueril': 9018, 'uncouth': 11900, 'unrealist': 12035, 'plumb': 8672, 'depth': 3078, 'fail': 4067, 'miser': 7406, 'provoc': 8988, 'intellectu': 5908, 'controversi': 2563, 'strong': 10939, 'georg': 4716, 'costigan': 2631, 'michel': 7315, 'holm': 5452, 'siobhan': 10326, 'finneran': 4245, 'stitch': 10866, 'lame': 6479, 'surpris': 11106, 'late': 6521, 'andrea': 614, 'dunbar': 3541, 'onto': 8089, 'screen': 9934, 'utter': 12122, 'rubbish': 9685, 'level': 6649, 'western': 12472, 'mainli': 6967, 'histor': 5405, 'inaccur': 5738, 'shot': 10220, 'california': 1791, 'instead': 5892, 'jack': 6046, 'slade': 10374, 'die': 3186, 'idaho': 5653, 'colorado': 2374, 'territori': 11374, 'montana': 7517, 'fiction': 4208, 'everyth': 3937, 'known': 6398, 'mysteri': 7665, 'horribl': 5511, 'lousi': 6828, 'dorothi': 3404, 'malon': 7004, 'wast': 12398, 'mark': 7070, 'steven': 10846, 'portray': 8754, 'stage': 10759, 'superintend': 11072, 'fear': 4145, 'local': 6754, 'townsmen': 11621, 'hard': 5173, 'drink': 3480, 'drunk': 3502, 'fight': 4224, 'caus': 1959, 'problem': 8897, 'virginia': 12277, 'citi': 2208, 'insur': 5902, 'terror': 11375, 'vigilant': 12246, 'lynch': 6902, 'ignor': 5672, 'warn': 12385, 'leav': 6579, 'town': 11618, 'immedi': 5698, 'anyon': 687, 'hollywood': 5450, 'butch': 1742, 'histori': 5406, 'screenplay': 9935, 'lurch': 6886, 'premis': 8832, 'next': 7818, 'miss': 7419, 'import': 5725, 'bit': 1328, 'number': 7961, 'possibl': 8763, 'confus': 2487, 'low': 6839, 'valu': 12143, 'telli': 11331, 'fine': 4239, 'non': 7883, 'sensic': 10044, 'unnecessari': 12019, 'execut': 3979, 'read': 9212, 'fork': 4407, 'cash': 1920, 'avoid': 965, 'cost': 2627, 'prologu': 8934, 'particular': 8351, 'poorli': 8721, 'written': 12675, 'voic': 12306, 'fill': 4231, 'detail': 3121, 'left': 6590, 'rush': 9711, 'clear': 2249, 'ie': 5667, 'russian': 9716, 'revolut': 9488, 'reduc': 9276, 'riot': 9551, 'petersburg': 8519, 'soldier': 10545, 'arrest': 802, 'basic': 1113, 'peski': 8510, 'communist': 2416, 'studi': 10956, 'asylum': 881, 'struggl': 10946, 'identifi': 5659, 'rest': 9445, 'gone': 4858, 'assum': 867, 'empir': 3763, 'evid': 3941, 'melodramat': 7248, 'romanc': 9625, 'okay': 8049, 'soppi': 10585, 'sens': 10038, 'craze': 2703, 'incident': 5759, 'sleazi': 10391, 'lunat': 6880, 'burst': 1728, 'wild': 12543, 'gestur': 4732, 'stupidli': 10968, 'decid': 2961, 'tell': 11329, 'truth': 11766, 'monologu': 7505, 'marri': 7079, 'return': 9472, 'america': 570, 'collaps': 2358, 'despit': 3113, 'plenti': 8657, 'convinc': 2571, 'rom': 9623, 'com': 2383, 'establish': 3894, 'spent': 10661, 'thriller': 11467, 'prove': 8983, 'ident': 5656, 'court': 2653, 'case': 1918, 'sum': 11040, 'rather': 9187, 'dealt': 2938, 'bizarr': 1337, 'funniest': 4555, 'consid': 2518, 'anna': 638, 'anderson': 611, 'looni': 6793, 'went': 12463, 'crazi': 2704, 'togeth': 11550, 'throughout': 11471, 'bout': 1511, 'behaviour': 1199, 'none': 7888, 'either': 3676, 'annoy': 648, 'crop': 2747, 'nowher': 7942, 'announc': 647, 'flew': 4307, 'cuckoo': 2786, 'twelv': 11807, 'monkey': 7503, 'inform': 5839, 'thank': 11396, 'vanish': 12154, 'brought': 1641, 'ahead': 427, 'although': 539, 'technic': 11307, 'masterpiec': 7116, 'piec': 8574, 'tcm': 11293, 'last': 6518, 'night': 7839, 'question': 9085, 'aris': 772, 'jeopardi': 6110, 'trek': 11699, 'undertak': 11929, 'endang': 3780, 'journey': 6183, 'food': 4363, 'reach': 9207, 'land': 6487, 'milk': 7350, 'honey': 5475, 'stay': 10810, 'entir': 3821, 'commun': 2415, 'herd': 5329, 'cattl': 1955, 'danger': 2882, 'purpos': 9046, 'alon': 524, 'inbr': 5747, 'simplic': 10304, 'risk': 9561, 'death': 2942, 'cow': 2664, 'incred': 5778, 'bore': 1477, 'michael': 7313, 'j': 6043, 'fox': 4442, 'sorri': 10595, 'true': 11755, 'prot': 8972, 'kevin': 6317, 'spacey': 10619, 'mental': 7266, 'hospit': 5524, 'patient': 8378, 'claim': 2216, 'nativ': 7727, 'distant': 3304, 'planet': 8629, 'k': 6233, 'pax': 8400, 'psychiatrist': 9002, 'dr': 3438, 'powel': 8787, 'jeff': 6100, 'bridg': 1590, 'understand': 11926, 'fall': 4079, 'genr': 4702, 'drama': 3451, 'scienc': 9906, 'fantasi': 4099, 'plu': 8667, 'add': 349, 'dash': 2907, 'begin': 1192, 'complic': 2439, 'deep': 2976, 'offer': 8031, 'twist': 11813, 'special': 10642, 'graphic': 4937, 'accompani': 311, 'music': 7642, 'techno': 11311, 'soundtrack': 10605, 'along': 525, 'terrif': 11371, 'piano': 8563, 'sound': 10604, 'sci': 9905, 'fi': 4204, 'certain': 1999, 'intrigu': 5952, 'heart': 5259, 'alien': 493, 'emot': 3756, 'facial': 4054, 'express': 4017, 'job': 6144, 'aid': 433, 'excel': 3960, 'fit': 4265, 'experi': 3999, 'rachel': 9111, 'mari': 7061, 'mccormack': 7172, 'frustrat': 4529, 'husband': 5618, 'dedic': 2970, 'alf': 487, 'woodard': 12627, 'cowork': 2668, 'claudia': 2236, 'villar': 12258, 'overal': 8196, 'alright': 532, 'rate': 9186, 'pg': 8527, '13': 22, 'sequenc': 10058, 'violent': 12272, 'imag': 5688, 'brief': 1591, 'languag': 6499, 'sensual': 10046, 'cover': 2662, 'blood': 1391, 'follow': 4355, '1': 9, 'f': 4045, 'word': 12636, 'wow': 12660, '11': 17, 'lord': 6803, 'name': 7689, 'vain': 12136, 'explain': 4005, 'reproduct': 9413, 'terribl': 11369, 'nut': 7970, 'vice': 12224, 'content': 2544, 'wors': 12648, 'conclus': 2465, 'stun': 10962, 'kind': 6349, 'fun': 4547, 'sad': 9741, 'mean': 7201, 'rent': 9388, 'kick': 6327, 'relax': 9337, 'bonu': 1459, 'alreadi': 531, 'dvd': 3569, 'highli': 5370, 'load': 6746, 'extra': 4029, 'altern': 538, 'delet': 3010, '8': 222, '9': 236, 'yo': 12743, 'friend': 4507, 'theater': 11399, 'honestli': 5474, 'nap': 7699, 'found': 4435, 'entranc': 3826, 'ask': 845, 'roy': 9679, 'mom': 7488, 'favorit': 4132, 'ago': 418, 'mermaid': 7282, 'maximum': 7150, 'bob': 1417, 'cute': 2823, 'three': 11461, 'main': 6965, 'hear': 5255, 'jimmi': 6136, 'buffet': 1678, 'showcas': 10226, 'florida': 4324, 'glad': 4790, 'disappoint': 3238, 'stick': 10851, 'raoul': 9174, 'walsh': 12364, 'bay': 1140, '40': 178, 'posit': 8759, 'definit': 2996, 'hater': 5220, 'simpl': 10299, 'high': 5366, 'qualiti': 9069, 'entertain': 3815, 'gentleman': 4706, 'jim': 6134, 'besid': 1259, 'class': 2229, 'featur': 4150, 'grade': 4909, 'regular': 9315, 'errol': 3873, 'flynn': 4337, 'box': 1518, 'match': 7125, 'dynam': 3580, 'camera': 1807, 'uplift': 12084, 'excit': 3965, 'championship': 2021, 'john': 6155, 'l': 6452, 'sullivan': 11038, 'ultim': 11856, 'highlight': 5371, 'biopic': 1317, 'earlier': 3593, 'obvious': 8005, 'biographi': 1315, 'present': 8842, 'modern': 7469, 'often': 8039, 'glorifi': 4817, 'subject': 10983, 'birth': 1322, 'till': 11506, 'mostli': 7567, 'aspect': 849, 'maker': 6976, 'amount': 584, 'creativ': 2710, 'liberti': 6663, 'event': 3928, 'legend': 6596, 'form': 4409, 'nice': 7822, 'period': 8473, 'illeg': 5680, 'bare': 1079, 'knuckl': 6399, 'enter': 3813, 'era': 3852, 'famou': 4090, 'boxer': 1519, 'jame': 6069, 'corbett': 2597, 'aka': 454, 'fysicali': 4583, 'top': 11581, 'shape': 10139, 'trademark': 11632, 'small': 10439, 'mustach': 7649, 'support': 11088, 'truli': 11758, 'hold': 5437, 'today': 11545, 'awesom': 975, 'ye': 12721, 'desir': 3104, 'becom': 1170, 'christian': 2159, 'bother': 1494, 'save': 9838, 'move': 7587, 'taken': 11234, 'creat': 2708, 'seri': 10068, 'run': 9703, 'close': 2288, 'comparison': 2422, 'order': 8123, 'judg': 6194, '3': 162, '4': 177, 'mistaken': 7428, 'comment': 2404, 'god': 4833, 'bless': 1375, 'hous': 5539, 'dead': 2929, 'pathet': 8375, 'matrix': 7136, '360': 173, 'angl': 623, 'attemp': 899, 'cheesi': 2085, 'fell': 4163, 'asleep': 847, 'manag': 7014, 'whether': 12492, 'rain': 9142, 'side': 10260, 'boat': 1415, 'jump': 6215, 'game': 4614, 'lose': 6812, 'beg': 1189, 'worth': 12652, 'compar': 2421, 'idea': 5654, 'sf': 10105, 'horror': 5517, 'antholog': 662, 'due': 3516, 'indiffer': 5799, 'schedul': 9880, 'australia': 936, 'catch': 1942, 'episod': 3842, 'spread': 10717, 'season': 9972, 'creep': 2716, 'nightmar': 7843, 'flat': 4289, 'gener': 4691, 'realm': 9224, 'away': 972, 'eventu': 3929, 'suppos': 11089, 'research': 9427, 'therefor': 11421, 'pack': 8256, 'mcgovern': 7185, 'derri': 3089, 'philip': 8539, 'dick': 3177, 'realiti': 9222, 'uncannili': 11883, 'cracker': 2675, 'liam': 6657, 'priest': 8873, 'idl': 5664, 'hack': 5087, 'keep': 6289, 'repeat': 9394, 'brilliant': 1602, 'mikado': 7331, 'perfect': 8465, 'expert': 4002, 'panach': 8293, 'hammi': 5135, 'eric': 3858, 'strut': 10948, '1930': 57, 'english': 3795, 'gentlemen': 4707, 'privat': 8889, 'club': 2299, 'societi': 10516, 'intro': 5953, 'gilbert': 4763, 'canadian': 1824, 'stratford': 10906, 'nobodi': 7873, 'g': 4585, 'brian': 1585, 'mcdonald': 7177, 'group': 5012, 'nowaday': 7941, '1940': 68, 'usual': 12113, 'appear': 711, 'distanc': 3303, 'ironi': 5996, 'tearjerk': 11303, 'tragic': 11640, 'melanchol': 7239, 'opinion': 8102, 'resembl': 9428, 'neorealist': 7789, 'count': 2641, 'luchino': 6855, 'visconti': 12281, 'ossession': 8150, 'debut': 2950, 'censor': 1986, 'cherish': 2098, 'nearli': 7754, 'realist': 9221, 'strongli': 10943, 'critic': 2738, 'contradictori': 2556, '65': 205, 'except': 3961, 'past': 8367, 'novel': 7935, 'cain': 1780, 'postman': 8768, 'alway': 547, 'ring': 9546, 'twice': 11809, 'genuin': 4710, 'adapt': 348, 'remain': 9358, 'style': 10971, 'view': 12243, 'art': 809, 'second': 9977, 'led': 6584, 'analysi': 595, 'entail': 3811, 'touch': 11600, 'psycholog': 9007, 'absorb': 289, 'decis': 2963, 'spite': 10682, 'consequ': 2515, 'bound': 1504, 'face': 4052, 'gino': 4775, 'massimo': 7110, 'girotti': 4782, 'travel': 11682, 'bear': 1153, 'shoulder': 10222, 'crossroad': 2750, 'motorway': 7578, 'near': 7751, 'ferrara': 4185, 'tavern': 11283, 'meal': 7200, 'occur': 8013, 'indefatig': 5786, 'giovanna': 4776, 'clara': 2221, 'calamai': 1784, 'woman': 12616, 'elderli': 3686, 'bar': 1066, 'mr': 7596, 'giusepp': 4785, 'bragana': 1531, 'juan': 6192, 'de': 2928, 'landa': 6488, 'bodi': 1421, 'song': 10567, 'possess': 8762, 'total': 11595, 'moment': 7489, 'coupl': 2649, 'plan': 8627, 'rid': 9522, 'obstacl': 8001, 'build': 1683, 'wrong': 12677, 'deed': 2974, 'upon': 12085, 'murder': 7633, 'loyalti': 6848, 'addict': 351, 'obsess': 7999, 'intens': 5911, 'core': 2600, 'viewer': 12244, 'suppli': 11087, 'insight': 5877, 'affection': 389, 'answer': 655, 'seemingli': 9998, 'cure': 2802, 'cri': 2724, 'conscienc': 2509, 'justifi': 6227, 'analyz': 598, 'intellect': 5907, 'yet': 12738, 'constantli': 2527, 'provok': 8989, 'talk': 11240, 'marvel': 7091, 'cinematographi': 2197, 'pair': 8269, 'memor': 7254, 'visual': 12289, 'power': 8788, 'realiz': 9223, 'almost': 523, '70': 210, 'absolut': 288, 'rang': 9167, 'tast': 11273, 'erot': 3869, 'pure': 9039, 'skip': 10363, 'meet': 7233, 'sort': 10597, 'ragazza': 9130, 'perfetta': 8468, 'dancer': 2876, 'anita': 633, 'buy': 1749, 'ice': 5644, 'cream': 2707, 'focu': 4342, 'leg': 6592, 'repres': 9409, 'carnal': 1886, 'investig': 5970, 'room': 9641, 'closeup': 2292, 'shadow': 10116, 'attent': 902, 'toward': 11615, 'suspici': 11121, 'third': 11439, 'boast': 1414, 'outstand': 8187, 'said': 9756, 'interview': 5940, 'difficult': 3191, 'flawless': 4299, 'bisexu': 1324, 'within': 12595, 'commit': 2411, 'crime': 2727, 'stand': 10779, 'object': 7990, 'remind': 9366, 'victim': 12228, 'indic': 5797, 'lo': 6745, 'spagnolo': 10622, 'elio': 3706, 'marcuzzo': 7055, 'train': 11645, 'ancona': 608, 'emin': 3748, 'magnani': 6953, 'refus': 9303, 'chemistri': 2093, 'langa': 6497, 'witti': 12600, 'wash': 12393, 'walk': 12356, 'empti': 3768, 'street': 10913, 'sing': 10316, 'opera': 8098, 'karaok': 6254, 'capabl': 1842, 'aforement': 400, 'carri': 1902, 'educ': 3644, 'fellini': 4166, 'messag': 7291, 'human': 5577, 'cours': 2652, 'convey': 2569, 'marriag': 7080, 'shock': 10202, 'agre': 422, 'vision': 12285, 'toni': 11572, 'hawk': 5227, 'pro': 8894, 'skater': 10348, '2x': 161, 'previou': 8865, 'exclud': 3968, 'select': 10013, 'tweak': 11803, 'career': 1869, 'mode': 7466, 'five': 4269, 'challeng': 2015, 'per': 8459, '2': 126, 'suggest': 11028, 'review': 9483, 'benefit': 1231, '7': 209, 'clean': 2245, 'characterist': 2044, 'atmospher': 891, 'chang': 2027, 'model': 7467, 'improv': 5733, 'ps1': 8996, 'ugli': 11846, 'head': 5242, 'render': 9377, 'longer': 6783, 'jaggi': 6061, 'textur': 11391, 'smooth': 10465, 'farthest': 4113, 'extent': 4023, 'activis': 339, 'extraordinari': 4032, 'deserv': 3100, 'averag': 959, 'score': 9916, 'full': 4541, 'xbox': 12695, 'deliv': 3018, 'imagin': 5690, 'skateboard': 10347, 'pop': 8723, 'ground': 5010, 'gave': 4661, 'factor': 4058, 'oblig': 7992, 'listen': 6724, 'custom': 2821, 'clearer': 2250, 'bought': 1499, 'grind': 4987, 'major': 6973, 'proceed': 8902, 'track': 11629, 'control': 2562, 'comfort': 2398, 'easi': 3605, 'playstat': 8648, 'surprisingli': 11107, 'trick': 11714, 'guarante': 5030, 'unbeliev': 11879, 'air': 442, 'easier': 3606, 'consist': 2520, 'difficulti': 3192, 'appli': 719, 'item': 6033, 'secret': 9981, 'tape': 11258, 'e': 3586, 'whatev': 12481, 'els': 3723, 'requir': 9422, 'competit': 2430, 'gold': 4848, 'letter': 6645, 'maintain': 6969, 'vibe': 12222, 'funnest': 4553, 'repetit': 9399, 'replay': 9401, 'cheat': 2077, 'unlock': 12013, 'video': 12234, 'crappi': 2692, 'mess': 7290, 'statement': 10803, 'complain': 2434, 'stop': 10883, '50': 192, '00': 1, 'n': 7674, 'cheesili': 2087, 'half': 5115, 'crew': 2722, 'cinemat': 2194, 'signific': 10279, 'whatsoev': 12482, 'hour': 5538, 'impress': 5730, 'somewhat': 10564, 'narrat': 7708, 'ing': 5842, 'blair': 1349, 'witch': 12588, 'project': 8930, 'footag': 4368, 'fool': 4364, 'semi': 10028, 'scari': 9867, 'breathtak': 1569, 'blender': 1374, 'conflict': 2484, 'exampl': 3957, 'proog': 8950, 'emo': 3755, 'natur': 7729, 'later': 6522, 'bottomless': 1498, 'pit': 8608, 'step': 10832, 'place': 8620, 'precis': 8809, 'careless': 1870, 'progress': 8928, 'suddenli': 11019, 'care': 1867, 'guardian': 5032, 'lost': 6816, 'child': 2119, 'sick': 10256, 'betray': 1270, 'depress': 3076, 'develop': 3131, 'someon': 10561, 'emerg': 3745, 'stronger': 10940, 'soul': 10602, 'light': 6681, 'sever': 10093, 'underdevelop': 11912, 'mere': 7273, 'eye': 4038, 'candi': 1827, 'fairli': 4072, 'implaus': 5720, 'b': 992, 'stuff': 10959, 'creepi': 2718, 'meant': 7207, 'peter': 8518, 'lorr': 6811, 'creepiest': 2719, 'island': 6020, 'owner': 8243, 'stephen': 10836, 'danel': 2879, 'prison': 8888, 'parol': 8340, 'custodi': 2820, 'diamond': 3163, 'arriv': 803, 'parole': 8341, 'discov': 3257, 'slave': 10385, 'worker': 12639, 'beaten': 1159, 'whim': 12497, 'tick': 11491, 'violenc': 12271, 'meat': 7210, 'industri': 5809, 'strength': 10917, 'fashion': 4117, 'casablanca': 1917, 'calib': 1788, 'edit': 3638, 'tight': 11501, 'watchabl': 12400, 'nich': 7824, 'short': 10215, 'length': 6615, 'market': 7071, 'caught': 1958, 'earli': 3592, 'morn': 7549, 'dip': 3222, 'tail': 11225, 'cultur': 2794, 'chines': 2134, 'taiwanes': 11230, 'japanes': 6081, 'simpli': 10303, 'subtitl': 10999, 'inevit': 5816, 'loos': 6797, 'subtleti': 11002, 'coincid': 2347, 'nevertheless': 7805, 'unlik': 12011, 'wholli': 12522, 'miiki': 7330, 'certainli': 2000, 'stylish': 10973, 'bone': 1450, 'crunch': 2770, 'window': 12564, 'less': 6636, 'orthodox': 8142, 'sexual': 10103, 'famili': 4088, 'decent': 2959, 'ride': 9527, 'mayb': 7152, 'check': 2078, 'storylin': 10889, 'recent': 9237, 'syndic': 11192, 'hit': 5409, 'silli': 10288, 'doug': 3416, 'upset': 12091, 'trivial': 11735, 'juvenil': 6229, 'stupid': 10966, 'etc': 3903, 'amus': 590, 'sometim': 10562, 'includ': 5763, 'complex': 2437, 'instanc': 5889, 'overweight': 8235, 'amiabl': 575, 'sexi': 10099, 'theme': 11409, 'sitcom': 10335, 'wise': 12582, 'mill': 7351, 'edg': 3632, 'trait': 11649, 'father': 4124, 'readili': 9216, 'admit': 361, 'revolv': 9490, 'co': 2313, 'ness': 7797, 'abl': 271, 'whose': 12527, 'nirvana': 7860, 'eat': 3613, 'snack': 10472, 'v': 12128, 'gal': 4600, 'sensit': 10045, 'children': 2123, 'pleasur': 8655, 'sneer': 10482, 'charm': 2061, 'ordinari': 8125, 'queen': 9081, 'pleasant': 8652, 'fare': 4102, 'esp': 3885, 'tire': 11529, 'becker': 1167, 'soap': 10509, 'curiou': 2805, 'reward': 9491, 'spoof': 10703, 'jealousi': 6094, 'insecur': 5874, 'excess': 3963, 'amaz': 555, 'notch': 7924, 'writer': 12673, 'write': 12671, 'throw': 11472, 'houseclean': 5541, 'sit': 10334, 'couch': 2637, 'whole': 12517, 'congrat': 2490, 'franco': 4458, 'zeffirelli': 12777, 'tame': 11245, 'shrew': 10234, 'romeo': 9630, 'juliet': 6210, 'jesu': 6121, 'nazareth': 7743, 'othello': 8154, 'stab': 10750, 'transfer': 11658, 'shakespear': 10125, 'mel': 7238, 'gibson': 4751, 'mad': 6929, 'max': 7149, 'lethal': 6643, 'weapon': 12429, 'passion': 8364, 'christ': 2157, 'notorieti': 7932, 'formerli': 4415, 'sir': 10327, 'laurenc': 6543, 'olivi': 8060, 'rightli': 9540, 'hamlet': 5133, 'arguabl': 770, 'interpret': 5935, 'bard': 1077, 'timeless': 11511, 'quot': 9102, 'tragedi': 11639, 'redon': 9274, '5': 191, 'kenneth': 6304, 'branagh': 1539, 'bloodi': 1393, 'treatment': 11696, '22': 147, 'minut': 7389, 'combin': 2387, 'dream': 3462, 'addit': 352, 'chosen': 2154, 'expertli': 4004, 'contemporari': 2541, 'master': 7112, 'william': 12550, 'henri': 5318, 'join': 6162, 'glenn': 4805, 'chill': 2126, 'paul': 8392, 'scofield': 9911, 'alan': 463, 'bate': 1126, 'ian': 5639, 'maloney': 7005, 'roderigo': 9611, 'opposit': 8109, 'fishburn': 4260, 'oliv': 8059, 'parker': 8335, 'laert': 6469, 'proper': 8955, 'homag': 5458, 'nathaniel': 7724, 'cassio': 1931, 'brother': 1638, 'helena': 5297, 'bonham': 1451, 'carter': 1909, 'shelley': 10171, 'frankenstein': 4462, 'intend': 5910, 'prior': 8886, 'slightli': 10412, 'uncomfort': 11891, 'misplac': 7418, 'ghost': 4740, 'ophelia': 8101, 'dull': 3529, 'unreal': 12034, 'wherea': 12488, 'jean': 6095, 'simmon': 10296, 'immort': 5704, 'kate': 6266, 'winslet': 12571, 'accept': 305, 'uncut': 11903, 'epic': 3840, 'revisionist': 9485, 'rework': 9495, 'nomin': 7882, 'actress': 341, '1948': 76, 'win': 12559, 'shame': 10132, 'quickli': 9088, 'slowli': 10427, 'felix': 4162, 'aylmer': 986, 'richard': 9515, 'brier': 1594, 'respect': 9441, 'text': 11390, 'editor': 3640, 'produc': 8910, 'poloniu': 8704, 'confront': 2486, 'mother': 7572, 'heighten': 5289, 'suspens': 11120, 'pass': 8358, 'ideal': 5655, 'teach': 11296, 'tool': 11576, '12th': 21, 'teacher': 11297, 'objection': 7991, 'guard': 5031, 'nay': 7742, 'unfold': 11966, 'scare': 9862, 'hell': 5300, 'quietli': 9090, 'bam': 1043, 'skin': 10360, 'tone': 11570, 'huge': 5568, 'blunder': 1405, 'omit': 8072, 'cut': 2822, 'thee': 11403, 'nunneri': 7965, 'wouldst': 12657, 'thou': 11452, 'breeder': 1574, 'sinner': 10325, 'soliloquy': 10549, 'literatur': 6729, 'remedi': 9364, 'asid': 843, 'occas': 8007, 'faith': 4074, 'setup': 10088, 'duel': 3517, 'denouement': 3059, 'equal': 3847, 'stuck': 10953, 'harmless': 5188, '20': 127, 'ballot': 1039, 'stuf': 10958, 'christma': 2162, 'turkey': 11788, 'speak': 10637, 'tradit': 11634, 'piggi': 8581, 'poker': 8690, 'success': 11013, 'told': 11555, 'linear': 6704, 'flashback': 4287, 'let': 6641, 'pictur': 8571, 'suffic': 11023, 'exposit': 4016, 'stu': 10950, 'unger': 11975, 'childhood': 2120, 'fascin': 4114, 'card': 1863, 'associ': 865, 'hoodlum': 5483, 'suck': 11016, 'sympathi': 11186, 'geniu': 4699, 'threw': 11464, 'gambl': 4613, 'profici': 8919, 'wade': 12341, 'montag': 7514, 'downward': 3433, 'spiral': 10678, 'drug': 3498, 'loss': 6815, 'redempt': 9268, 'yawn': 12718, 'cabin': 1763, 'lake': 6475, 'afternoon': 406, 'usa': 12107, 'sequel': 10057, 'tune': 11781, 'extrem': 4035, 'knew': 6386, 'perplex': 8487, 'dv': 3567, 'digit': 3196, 'toler': 11556, 'juxtapos': 6231, 'tie': 11497, 'logic': 6767, 'explan': 4006, 'spoiler': 10695, 'ridicul': 9530, 'forese': 4392, 'shown': 10230, 'infomerci': 5838, 'clock': 2283, 'predict': 8818, 'wide': 12531, 'magic': 6951, 'johnson': 6159, 'inspir': 5886, 'former': 4414, 'nba': 7745, 'kid': 6328, 'slash': 10380, 'axe': 982, 'wield': 12536, 'psycho': 9004, 'cliché': 2263, 'trot': 11747, 'groan': 4997, 'teen': 11318, 'sex': 10097, 'colleg': 2363, 'hijinx': 5376, 'yippeee': 12741, 'potenti': 8776, 'thumb': 11482, 'sucker': 11017, 'angst': 627, 'bug': 1682, 'thug': 11479, 'rap': 9175, 'dimension': 3208, 'aw': 966, 'drop': 3492, 'bomb': 1441, 'bulli': 1692, 'allthos': 513, 'futur': 4577, 'king': 6356, 'genius': 4700, 'dumb': 3532, 'center': 1988, 'wheelchair': 12486, 'einstein': 3674, 'theori': 11414, 'scientif': 9907, 'discoveri': 3258, 'univers': 12002, 'galaxi': 4603, 'black': 1341, 'hole': 5442, 'everyon': 3936, 'cosmo': 2626, 'figur': 4226, 'swear': 11143, 'soon': 10571, 'sober': 10511, 'held': 5295, 'six': 10338, 'suffer': 11022, 'lou': 6820, 'gehrig': 4679, 'diseas': 3262, 'greatest': 4952, 'formul': 4417, 'titl': 11537, 'chevi': 2106, 'chase': 2064, 'caddyshack': 1770, 'dan': 2873, 'akroyd': 458, 'jacki': 6050, 'mason': 7104, 'daughter': 2912, 'geez': 4678, 'forti': 4427, 'minuet': 7387, 'corner': 2604, 'trust': 11765, 'apart': 692, 'pleas': 8651, 'american': 571, 'pie': 8573, 'pride': 8872, 'televis': 11328, 'talent': 11238, 'dreamwork': 3467, 'simpson': 10308, 'nuclear': 7950, 'lion': 6713, 'contain': 2539, 'roger': 9614, 'surli': 11102, 'orangutan': 8119, 'vincent': 12262, 'italian': 6030, 'flamingo': 4280, 'eccentr': 3620, 'tiger': 11500, 'blake': 1351, 'victoria': 12231, 'patriot': 8384, 'snout': 10499, 'chutney': 2182, 'eleph': 3698, 'sigfreid': 10271, 'grandios': 4929, 'manner': 7034, 'mundan': 7629, 'activ': 338, 'dialog': 3160, 'issu': 6026, 'prejudic': 8826, 'program': 8926, 'brillianc': 1601, 'blame': 1353, 'failur': 4068, 'lie': 6671, 'nbc': 7746, 'opt': 8111, 'broadcast': 1619, 'influenc': 5835, 'guest': 5036, 'promot': 8943, 'preempt': 8820, 'dreck': 3469, 'biggest': 1293, 'loser': 6813, '60': 201, 'inde': 5783, 'ill': 5679, 'omen': 8068, 'dare': 2893, 'idol': 5665, 'domin': 3368, 'luckili': 6861, 'releas': 9339, 'opportun': 8106, 'gain': 4598, 'larger': 6512, 'forgot': 4405, 'boy': 1520, 'ruin': 9696, 'yesterday': 12737, 'serious': 10071, 'among': 582, 'trailer': 11644, 'money': 7494, 'arnold': 796, 'came': 1804, '1978': 100, 'revel': 9477, 'gay': 4665, 'lesbian': 6633, 'chose': 2153, 'anyway': 689, 'orient': 8132, 'wacko': 12339, 'affair': 387, 'extramarit': 4030, 'fetch': 4195, 'becam': 1165, 'heterosexu': 5351, 'sleep': 10397, 'stink': 10860, 'parent': 8330, 'bright': 1596, 'doodlebop': 3382, 'pain': 8265, 'color': 2373, 'happi': 5164, 'troubl': 11748, 'expos': 4015, 'syllabl': 11179, 'highest': 5369, 'exagger': 3954, 'corni': 2606, 'overkil': 8211, 'grow': 5014, 'david': 2915, 'mamet': 7010, 'especi': 3886, 'joe': 6148, 'mantegna': 7042, 'superfici': 11066, 'credibl': 2713, 'racial': 9113, 'slur': 10433, 'thrown': 11475, 'tension': 11357, 'reevalu': 9287, 'men': 7257, 'hero': 5338, 'appar': 707, 'oath': 7987, 'cop': 2587, 'adamantli': 346, 'rel': 9334, 'harm': 5187, 'minor': 7385, 'subplot': 10991, 'involv': 5977, 'introduc': 5954, 'sake': 9761, 'advertis': 378, 'skywrit': 10370, 'reaction': 9209, 'occurr': 8014, 'stretch': 10920, 'credul': 2715, 'beyond': 1279, 'limit': 6694, 'needless': 7766, 'batman': 1130, 'forward': 4430, 'adam': 345, 'west': 12469, 'burt': 1730, 'ward': 12375, 'recov': 9256, 'batmobil': 1131, 'knock': 6393, '35': 170, 'robin': 9592, 'dress': 3471, 'suit': 11031, 'badguy': 1014, 'kinda': 6350, 'ex': 3951, 'quick': 9087, 'overview': 8234, 'background': 1004, 'penguin': 8448, 'joker': 6166, 'makeup': 6977, 'smoke': 10461, 'hate': 5218, 'smoker': 10462, 'book': 1464, 'riddler': 9526, 'catwoman': 1957, 'mister': 7430, 'freez': 4487, 'commishion': 2409, 'gordon': 4878, 'cheif': 2088, 'ohara': 8042, 'alfr': 488, 'tut': 11799, 'list': 6723, 'goe': 4844, 'gorgeou': 4882, 'uninspir': 11990, 'disney': 3280, 'slam': 10376, 'spirit': 10679, 'stallion': 10772, 'repeatedli': 9395, 'captur': 1859, 'cavalri': 1962, 'indian': 5795, 'break': 1558, 'bond': 1448, 'nutshel': 7972, 'hors': 5518, 'neither': 7782, 'iron': 5995, 'given': 4786, 'bryan': 1657, 'han': 5139, 'zimmer': 12793, 'heard': 5256, 'scarfac': 9866, 'godfath': 4838, 'usuali': 12114, 'cnn': 2312, 'mate': 7126, 'hand': 5141, 'pelicang': 8438, 'crap': 2691, 'race': 9109, 'stolen': 10873, 'car': 1861, 'expens': 3998, 'area': 761, 'afford': 394, 'cough2fast2furiouscough': 2638, 'humor': 5591, 'al': 460, 'pacino': 8255, 'm203': 6909, 'gta': 5027, 'luca': 6854, 'protagonist': 8973, 'yep': 12734, 'pointless': 8686, 'meaningless': 7205, 'popul': 8728, 'dullest': 3530, 'blind': 1379, 'oper': 8097, 'delus': 3027, 'killer': 6341, 'prey': 8867, 'women': 12617, 'insuffer': 5898, 'jerk': 6113, 'patienc': 8377, 'pay': 8402, 'letharg': 6644, 'nightmarish': 7844, 'snail': 10473, 'pace': 8252, 'hangov': 5155, 'afraid': 401, 'dark': 2895, 'british': 1613, 'flavia': 4295, 'heret': 5331, 'strang': 10902, 'entri': 3828, 'nunsploit': 7966, 'sleaz': 10390, 'feminist': 4176, 'trip': 11725, 'convent': 2565, 'cuz': 2828, 'male': 6991, 'rule': 9697, 'macho': 6925, 'ism': 6021, 'escap': 3880, 'jewish': 6129, 'pal': 8273, 'abraham': 279, 'nun': 7963, 'hasten': 5214, 'moslem': 7564, 'invas': 5966, 'hang': 5152, 'busi': 1736, 'roll': 9620, 'punish': 9032, 'traitor': 11650, 'singularli': 10322, 'brutal': 1654, 'exploit': 4012, 'gore': 4879, 'nippl': 7858, 'remov': 9374, 'nuditi': 7955, 'requisit': 9423, 'frontal': 4520, 'sorta': 10598, 'drag': 3444, 'gene': 4690, 'tierney': 11499, 'dana': 2874, 'andrew': 616, '1944': 72, 'laura': 6539, 'team': 11299, '1950': 78, 'noir': 7878, 'embitt': 3739, 'policeman': 8697, 'polic': 8696, 'shootout': 10212, 'jail': 6063, 'result': 9453, 'bitter': 1333, 'inabl': 5737, 'accident': 308, 'hood': 5482, 'craig': 2682, 'gangster': 4625, 'gari': 4642, 'merril': 7284, 'unintent': 11993, 'heat': 5268, 'innoc': 5863, 'cab': 1760, 'drive': 3482, 'tom': 11559, 'tulli': 11776, 'separ': 10053, 'deal': 2936, 'exactli': 3953, 'upbeat': 12078, 'fiber': 4207, 'substanc': 10995, 'subtl': 11000, 'rare': 9181, 'outsid': 8186, 'suspend': 11119, 'chao': 2032, 'flick': 4310, '100': 10, 'somewher': 10565, 'super': 11062, 'hokey': 5432, 'pervert': 8507, 'bet': 1265, 'school': 9891, 'district': 3315, 'grew': 4974, '1000': 11, 'student': 10955, 'pick': 8566, 'chump': 2175, 'josi': 6180, 'fraud': 4469, 'singl': 10321, 'crowd': 2756, 'stock': 10868, 'knell': 6385, 'auteur': 939, 'million': 7358, 'buck': 1665, 'gate': 4654, 'lifetim': 6679, 'gall': 4605, 'unforgiv': 11968, 'sin': 10311, 'hurt': 5616, 'commenc': 2402, 'speech': 10655, 'harvard': 5207, 'inaud': 5745, 'convers': 2567, 'kri': 6426, 'kristofferson': 6429, 'masur': 7121, 'station': 10805, 'cimino': 2190, 'record': 9254, 'particularli': 8352, 'drawn': 3459, 'four': 4438, 'climact': 2269, 'battl': 1134, 'imposs': 5728, 'isabel': 6011, 'huppert': 5609, 'madam': 6930, 'accent': 303, 'stiff': 10853, 'christoph': 2163, 'walken': 12357, 'swagger': 11131, 'vital': 12291, 'fresh': 4495, 'grad': 4908, 'bag': 1019, 'patent': 8372, 'guess': 5035, 'overlong': 8214, 'roller': 9621, 'skate': 10346, 'easili': 3607, 'cockfight': 2328, 'rapidli': 9178, 'clich': 2262, 'board': 1411, 'ocean': 8015, 'liner': 6705, 'twilight': 11810, 'zone': 12803, 'rod': 9609, 'serl': 10073, 'earn': 3596, 'incompet': 5768, 'poor': 8718, 'grand': 4922, 'climax': 2271, 'explos': 4014, 'wagon': 12345, 'wheel': 12485, 'fli': 4309, 'blast': 1363, 'dialogu': 3161, 'unholi': 11981, 'locat': 6755, 'screw': 9938, 'standard': 10780, 'bash': 1111, 'overrun': 8224, 'ladi': 6467, 'sketch': 10352, 'snl': 10490, 'loud': 6822, 'tim': 11508, 'meadow': 7197, 'leon': 6626, 'phelp': 8533, 'obscen': 7996, 'segment': 10004, 'reminisc': 9368, 'hitchcock': 5411, 'hilari': 5380, 'cameron': 1812, 'diaz': 3173, 'monica': 7498, 'lewinski': 6652, 'bill': 1298, 'oral': 8117, 'offic': 8032, 'radio': 9121, 'countri': 2646, 'quest': 9084, 'houseboat': 5540, 'sign': 10275, 'sweet': 11150, 'karyn': 6261, 'parson': 8345, 'hillari': 5383, 'princ': 8881, 'bel': 1205, 'crush': 2772, 'pile': 8583, 'gag': 4596, 'mention': 7267, 'wang': 12371, 'supposedli': 11090, 'dri': 3474, 'tedious': 11315, 'twenti': 11808, 'insert': 5875, 'ferrel': 4187, 'gang': 4621, 'wive': 12602, 'bring': 1606, 'witless': 12598, 'otherwis': 8155, 'unfunni': 11974, 'uniqu': 11997, 'comic': 2399, 'juliann': 6208, 'moor': 7532, 'cameo': 1806, 'oscar': 8146, 'credit': 2714, 'consent': 2514, 'billi': 1300, 'dee': 2973, 'charismat': 2051, 'breath': 1566, 'soft': 10530, 'r': 9105, 'impair': 5707, 'downbeat': 3421, 'appropri': 727, 'jone': 6175, 'sporad': 10707, 'wayn': 12419, 'catherin': 1950, 'gallagh': 4607, 'superstar': 11083, 'flip': 4316, 'rememb': 9365, 'silver': 10292, 'arab': 735, 'kidnap': 6332, 'airport': 448, 'flown': 4330, 'north': 7908, 'africa': 402, 'tortur': 11592, 'cell': 1980, 'phone': 8550, 'receiv': 9236, 'terrorist': 11377, 'cia': 2185, 'legal': 6594, 'determin': 3125, 'implic': 5723, 'guilt': 5040, 'mistak': 7427, 'pray': 8795, 'punch': 9027, 'rendit': 9379, 'relat': 9335, 'chief': 2115, 'intel': 5906, 'suspect': 11118, 'lover': 6834, 'suicid': 11030, 'bomber': 1443, 'contriv': 2561, 'outcom': 8167, 'neat': 7755, 'switcheroo': 11168, 'hook': 5486, 'mute': 7652, 'saarsgard': 9730, 'camp': 1815, 'senat': 10033, 'alda': 475, 'cold': 2351, 'feet': 4158, 'uncov': 11901, 'witherspoon': 12594, 'forlorn': 4408, 'pregnant': 8823, 'rage': 9131, 'attack': 897, 'streep': 10912, 'stereotyp': 10841, 'govt': 4901, 'nsa': 7944, 'homeland': 5461, 'sec': 9975, 'offici': 8033, 'cheney': 2095, 'clone': 2285, 'gylenhal': 5076, 'analyst': 596, 'push': 9051, 'engross': 3799, 'languor': 6501, 'ad': 344, 'kingdom': 6357, 'scratch': 9929, 'surfac': 11097, 'cautionari': 1960, 'botch': 1493, 'obstruct': 8002, 'barrier': 1100, 'employ': 3764, 'guiltless': 5042, 'matter': 7139, 'war': 12374, 'hidden': 5360, 'mass': 7106, 'brosnan': 1636, 'photographi': 8556, 'whimsic': 12498, 'gentl': 4705, 'jane': 6074, 'austen': 932, 'guinneth': 5044, 'paltrow': 8288, 'beckinsal': 1169, 'emma': 3750, 'rude': 9690, 'offens': 8030, 'resqu': 9444, 'partner': 8356, 'moreov': 7543, 'hariett': 5185, 'smith': 10458, 'samantha': 9777, 'morton': 7561, 'attach': 896, 'elton': 3726, 'rowan': 9676, 'heartbroken': 5261, 'costum': 2633, 'woodhous': 12630, 'eleg': 3694, 'knightley': 6390, 'conclud': 2464, 'loyal': 6847, 'budget': 1672, 'prefer': 8821, 'lighter': 6683, 'northam': 7909, 'blockbust': 1388, 'olivia': 8061, 'favor': 4131, '15': 26, 'log': 6764, 'draggi': 3445, 'goldblum': 4850, 'deli': 3011, 'purchas': 9038, 'bottl': 1496, 'wine': 12565, 'robberi': 9586, 'store': 10885, 'clerk': 2258, 'auggi': 922, 'rose': 9651, 'ambul': 567, 'wait': 12349, 'girlfriend': 4779, 'secur': 9986, 'dump': 3537, 'dippi': 3225, 'connect': 2495, 'dim': 3205, 'wit': 12587, 'bake': 1027, 'infatu': 5825, 'approxim': 730, 'grate': 4941, 'liter': 6727, 'borrow': 1485, 'choke': 2142, 'nake': 7686, '14': 24, 'jenna': 6106, 'jameson': 6070, 'spend': 10660, 'cram': 2684, 'lego': 6603, 'bum': 1697, 'lube': 6851, 'devoid': 3142, 'viel': 12239, 'owe': 8241, 'excruci': 3973, 'attend': 901, 'daili': 2852, 'shoot': 10210, 'continu': 2550, 'cruis': 2767, 'exec': 3977, 'prod': 8908, 'nude': 7951, 'disast': 3242, 'loom': 6790, 'titan': 11535, 'colin': 2356, 'farrel': 4111, 'paper': 8308, 'flavor': 4296, 'decad': 2951, 'darl': 2902, 'embarrass': 3735, 'albeit': 468, 'rich': 9514, 'banana': 1049, 'trap': 11675, 'et': 3902, 'photograph': 8555, 'cleaner': 2246, 'wax': 12414, 'worn': 12646, 'dirti': 3233, 'design': 3103, 'compani': 2418, 'wouldhav': 12656, 'thirti': 11441, 'folk': 4351, 'broadway': 1620, 'caleb': 1786, 'deschanel': 3095, 'p': 8248, 'desatur': 3092, 'mix': 7444, 'grime': 4984, 'desper': 3109, 'h': 5083, 'mencken': 7261, 'wall': 12359, 'hayek': 5233, 'duo': 3549, 'send': 10034, 'older': 8054, 'youth': 12752, 'delv': 3029, 'deepli': 2980, 'latter': 6530, 'bail': 1022, 'memori': 7255, 'parodi': 8339, 'saturday': 9831, 'kept': 6310, 'thursday': 11486, 'potent': 8775, 'chanc': 2023, 'tarantino': 11263, 'safe': 9749, 'formula': 4418, 'inappropri': 5743, 'thoma': 11443, 'mickey': 7316, 'rourk': 9671, 'hint': 5396, 'mi': 7310, 'round': 9669, 'muppet': 7632, 'dire': 3227, 'strait': 10898, 'split': 10692, 'kermit': 6312, 'sent': 10048, 'amnesia': 581, 'vehicl': 12184, 'topic': 11582, 'zani': 12769, 'pot': 8772, 'hyster': 5636, 'zealand': 12775, 'boomerang': 1466, 'fish': 4257, 'gonzo': 4861, 'water': 12403, 'stunt': 10964, 'display': 3287, 'whisper': 12507, 'campaign': 1816, 'shi': 10187, 'contrari': 2558, 'embrac': 3741, 'refresh': 9299, 'thick': 11428, 'scope': 9914, 'catchi': 1943, 'manhattan': 7026, 'inton': 5946, 'inter': 5913, 'speci': 10641, 'liza': 6739, 'minn': 7383, 'frog': 4518, 'elliot': 3716, 'gould': 4897, 'brook': 1633, 'shield': 10189, 'proposit': 8964, 'rat': 9185, 'edward': 3645, 'koch': 6401, 'gregori': 4970, 'hine': 5394, 'joan': 6142, 'river': 9569, 'readi': 9215, 'romant': 9626, 'blackmor': 1345, 'substitut': 10997, '2001': 131, 'authent': 940, 'wooden': 12629, 'sean': 9963, 'bean': 1151, 'kiss': 6369, 'triangl': 11708, 'ridd': 9523, 'lorna': 6810, 'doon': 3388, 'dugal': 3522, 'whichev': 12494, 'evil': 3942, 'carver': 1915, 'expand': 3995, 'key': 6318, 'counsellor': 2640, 'sharp': 10146, 'tongu': 11571, 'youngest': 12750, 'sister': 10330, 'lizzi': 6740, 'crucial': 2759, 'convict': 2570, 'polit': 8700, 'clive': 2281, 'owen': 8242, 'handsom': 5149, 'gosford': 4888, 'park': 8334, 'arthur': 813, 'confirm': 2482, 'across': 335, 'bland': 1357, 'stoic': 10871, 'hair': 5106, 'wig': 12538, 'polli': 8703, 'walker': 12358, 'accomplish': 312, 'enchant': 3774, 'april': 731, 'costar': 2629, 'colorless': 2375, 'lacklust': 6462, 'sore': 10589, 'lip': 6716, 'hide': 5361, 'robert': 9588, 'ensor': 3808, 'refer': 9289, 'granddaught': 4924, 'reput': 9420, 'sceneri': 9877, 'brown': 1643, 'gray': 4949, 'barren': 1098, 'sunni': 11057, 'sky': 10367, 'southwest': 10612, 'england': 3794, 'green': 4959, 'sunshin': 11061, 'faggu': 4065, 'note': 7925, 'aidan': 434, 'gillen': 4765, 'villain': 12256, 'unusu': 12070, 'superior': 11073, 'winchest': 12561, '1873': 45, 'rifl': 9534, 'pose': 8756, 'typic': 11830, 'devic': 3134, 'multipl': 7619, 'circl': 2202, 'messi': 7293, 'hazard': 5235, 'wyatt': 12691, 'earp': 3598, 'adventur': 375, 'anthoni': 663, 'mann': 7032, 'stewart': 10849, 'choic': 2141, 'softest': 10534, 'tough': 11604, 'gunsling': 5064, 'odd': 8022, 'versatil': 12212, 'winter': 12573, 'femal': 4172, 'rock': 9600, 'hudson': 5563, 'curti': 2814, 'hey': 5354, 'jess': 6118, 'weirder': 12453, 'prime': 8878, 'sixti': 10341, 'seventi': 10092, 'declar': 2964, 'variou': 12162, 'berlin': 1249, 'fake': 4075, 'appreci': 724, 'state': 10802, 'deja': 3005, 'vu': 12327, 'weird': 12452, 'lone': 6780, 'abrupt': 283, 'copi': 2591, 'anchor': 606, 'trash': 11676, 'cring': 2730, 'describ': 3096, 'month': 7520, 'shall': 10128, 'gather': 4655, 'echo': 3622, 'tromat': 11741, 'incest': 5755, 'molest': 7484, 'cappi': 1850, 'capulet': 1860, 'snobbish': 10494, 'abus': 297, 'civilis': 2213, 'engag': 3792, 'sadist': 9746, 'cool': 2578, 'fiancé': 4205, 'tromeo': 11742, 'doth': 3410, 'torch': 11585, 'burn': 1722, 'brightli': 1599, 'troma': 11740, 'resort': 9438, 'vomit': 12316, 'antic': 667, 'situat': 10337, 'cartoon': 1911, 'jolli': 6170, 'focus': 4343, 'alcohol': 474, 'dog': 3351, 'tresspass': 11705, 'delaci': 3007, 'gieusepp': 4755, 'casi': 1922, 'malley': 7001, 'fanci': 4093, 'franc': 4452, 'duchess': 3509, 'kitten': 6373, 'toulous': 11607, 'berlioz': 1250, 'ador': 365, 'butler': 1744, 'edgar': 3633, 'marbl': 7049, 'discuss': 3261, 'overhear': 8209, 'cross': 2748, 'scheme': 9882, 'aristocat': 773, 'basil': 1115, 'mous': 7584, 'detect': 3122, 'wellington': 12459, 'suburbia': 11007, 'tawa': 11284, 'home': 5460, 'renown': 9387, 'mccarten': 7165, 'flavour': 4297, 'via': 12221, 'satellit': 9822, 'abound': 278, 'context': 2546, 'invok': 5975, 'despair': 3108, 'se': 9957, 'cheap': 2071, 'smile': 10455, 'abyss': 299, 'splatter': 10685, 'monster': 7511, '73': 215, 'videostor': 12237, 'pilot': 8587, 'network': 7800, 'cult': 2792, 'crimin': 2728, 'extermin': 4026, 'pet': 8514, 'door': 3389, 'bark': 1086, 'dont': 3377, 'aristocrat': 775, 'fetish': 4197, 'castl': 1933, 'drown': 3495, 'gothic': 4894, 'inherit': 5851, 'inher': 5850, 'mst3k': 7599, 'scream': 9931, 'skull': 10366, 'mold': 7481, 'evelyn': 3927, 'grave': 4946, 'lusciou': 6890, 'erika': 3861, 'blanc': 1354, 'zero': 12787, '1965': 89, 'cb': 1966, 'barbra': 1076, 'streisand': 10916, 'monument': 7524, 'runaway': 9704, 'garner': 4645, 'emmi': 3754, 'award': 971, '1960': 85, 'anymor': 686, 'spectacular': 10649, 'lewi': 6651, 'teagu': 11298, 'allig': 510, '1980': 103, 'il': 5676, 'fium': 4268, 'del': 3006, 'caimano': 1779, 'labori': 6458, 'exot': 3994, 'trilog': 11720, 'sergio': 10067, 'martino': 7090, 'isola': 6023, 'degli': 3002, 'uomini': 12077, 'pesc': 8508, 'la': 6453, 'montagna': 7515, 'dio': 3220, 'cannibal': 1833, 'trace': 11626, 'outrag': 8184, 'jaw': 6088, 'creatur': 2712, 'ludicr': 6862, 'despic': 3111, 'stelvio': 10829, 'cipriani': 2200, 'tourist': 11611, 'obviou': 8004, 'reptil': 9414, 'thrill': 11466, 'laughter': 6534, 'piti': 8612, 'racism': 9114, 'giggl': 4760, 'sour': 10607, 'patron': 8385, 'attitud': 905, 'excus': 3976, 'badli': 1015, 'fx': 4581, 'summerslam': 11045, 'arena': 762, 'curtain': 2813, 'wwf': 12689, 'lex': 6653, 'luger': 6864, 'yokozuna': 12745, 'ok': 8048, 'fat': 4120, 'vs': 12326, 'razor': 9205, 'ramon': 9152, 'ted': 11313, 'dibias': 3174, 'steiner': 10824, 'heavenli': 5274, 'shawn': 10155, 'curt': 2812, 'hene': 5317, 'diesel': 3189, 'ir': 5986, 'bret': 1582, 'hart': 5203, 'doink': 3357, 'jerri': 6116, 'lawler': 6549, 'ludvig': 6863, 'borga': 1480, 'marti': 7085, 'jannetti': 6077, 'took': 11575, 'giant': 4748, 'gonzalez': 4860, 'gunn': 5059, 'tatanka': 11277, 'bigelow': 1290, 'headshrink': 5249, 'defend': 2990, 'scariest': 9868, 'franchis': 4455, 'beginn': 1193, 'plod': 8660, 'geriat': 4721, 'beat': 1158, 'van': 12146, 'hardli': 5180, 'chock': 2138, 'sterotyp': 10844, 'footbal': 4369, 'jock': 6145, 'bitchi': 1330, 'cheer': 2082, 'leader': 6566, 'nailpolish': 7683, 'wear': 12430, 'misfit': 7409, 'humil': 5587, 'thourghli': 11453, 'psychic': 9003, 'emili': 3746, 'bergl': 1247, 'frighten': 4511, 'cabbag': 1761, 'patch': 8371, 'doll': 3363, 'london': 6779, 'wood': 12626, 'flasback': 4285, 'serv': 10077, 'irrit': 6005, 'link': 6709, 'bottom': 1497, 'beam': 1150, 'theatr': 11400, 'solv': 10554, 'librari': 6664, 'useless': 12110, 'guid': 5038, 'pull': 9021, 'justic': 6226, 'permiss': 8480, 'tug': 11775, 'assumpt': 868, 'relev': 9343, 'anybodi': 683, 'slew': 10404, 'advic': 379, 'seriou': 10070, 'editori': 3641, 'news': 7814, 'magazin': 6947, 'savvi': 9841, 'insult': 5901, 'intellig': 5909, 'felt': 4170, 'trudg': 11753, 'gutter': 5071, 'christina': 2161, 'appleg': 718, 'ben': 1227, 'affleck': 392, 'cardboard': 1864, 'cutout': 2827, 'gandolfini': 4620, '90': 237, 'oop': 8093, 'hire': 5399, 'harvest': 5208, '1981': 104, 'patsi': 8387, 'kensit': 6305, 'baldwin': 1034, 'moros': 7552, 'compet': 2429, 'liz': 6738, 'hurley': 5611, 'finish': 4243, 'rome': 9629, 'grab': 4904, 'conveni': 2564, 'abomin': 276, 'foul': 4434, 'mouth': 7586, 'fest': 4192, 'accuraci': 317, 'imperium': 5716, 'augustu': 926, 'ambianc': 559, 'overli': 8212, 'timid': 11514, 'superflu': 11067, 'tediou': 11314, 'dislik': 3275, 'cleopatra': 2257, 'soak': 10508, 'digniti': 3198, 'rampl': 9156, 'atia': 887, 'bitch': 1329, 'depict': 3070, 'tear': 11301, 'goos': 4876, 'apron': 732, 'reli': 9344, 'heavili': 5276, 'stare': 10792, 'maecena': 6943, 'screech': 9933, 'effemin': 3652, 'annal': 641, 'interior': 5924, 'meager': 7198, 'hall': 5119, 'comput': 2451, 'egyptian': 3666, 'looooooooot': 6795, '3d': 175, '2003': 133, 'reliv': 9354, 'disproport': 3290, 'livia': 6737, 'etern': 3907, 'flame': 4278, 'sizzl': 10343, 'superlam': 11076, 'tacki': 11211, 'induc': 5805, 'aim': 438, 'shred': 10232, 'synchron': 11191, 'dub': 3507, 'speaker': 10638, 'lukewarm': 6870, 'dramat': 3452, 'plain': 8624, 'static': 10804, 'regardless': 9306, 'miniseri': 7381, 'ancient': 607, 'rise': 9559, 'swindl': 11161, 'malcolm': 6988, 'mclaren': 7194, 'squander': 10732, 'pistol': 8606, 'obnoxi': 7995, 'intent': 5912, 'punk': 9034, 'sidekick': 10263, 'dwarf': 3571, 'abandon': 260, 'airplan': 446, 'hangar': 5153, 'plane': 8628, 'hound': 5537, 'report': 9406, 'element': 3695, 'reek': 9281, 'overbear': 8197, 'self': 10014, 'farc': 4101, 'steve': 10845, 'pseudo': 8997, 'julien': 6209, 'templ': 11337, 'wrote': 12679, 'documentari': 3346, 'filth': 4234, 'furi': 4559, 'artist': 821, 'flourish': 4327, 'band': 1052, 'member': 7251, 'trivia': 11734, 'ebert': 3617, 'scriptwrit': 9943, 'bambi': 1045, 'smart': 10442, 'garfield': 4641, 'randomli': 9165, 'fugit': 4537, 'befriend': 1187, 'ensu': 3809, 'swim': 11158, 'tower': 11617, 'ann': 637, 'sheridan': 10180, 'lovabl': 6831, 'weak': 12422, 'profession': 8915, 'wrestl': 12667, 'springer': 10721, 'skimpi': 10359, 'satisfact': 9825, 'fulfil': 4540, 'unexpect': 11955, 'extraordinarili': 4033, 'makinen': 6978, 'yon': 12746, 'saalistajat': 9729, 'slow': 10426, 'flow': 4328, 'weirdest': 12454, 'partial': 8348, 'finnish': 4247, 'summer': 11043, 'sun': 11050, 'spanish': 10627, 'bannist': 1065, 'scar': 9860, 'freak': 4474, 'madrid': 6939, 'professor': 8916, 'conduct': 2475, 'regener': 9308, 'aggress': 414, 'guinea': 5043, 'pig': 8579, 'consum': 2534, 'viciou': 12225, 'piero': 8576, 'vivarelli': 12297, 'skill': 10357, 'regain': 9304, 'fast': 4118, 'exceed': 3958, '83': 228, 'swiss': 11166, 'geneva': 4695, 'vacat': 12130, 'bigger': 1292, 'satanik': 9821, 'obscur': 7997, 'lacklustr': 6463, 'eg': 3658, 'son': 10566, 'macram': 6928, 'succe': 11011, 'ledger': 6585, 'gilrfriend': 4768, 'bank': 1061, 'robber': 9585, 'winner': 12569, 'busker': 1739, 'reveng': 9478, 'promis': 8939, 'utterli': 12123, 'muddl': 7607, 'unansw': 11867, 'deniro': 3053, 'lowlif': 6844, 'rapist': 9179, 'field': 4214, 'random': 9164, 'undevelop': 11940, 'noodl': 7895, 'pesci': 8509, 'fulli': 4543, 'ran': 9159, 'smoothli': 10467, 'goodfella': 4864, 'essenti': 3892, 'instal': 5888, 'higher': 5368, 'greater': 4951, 'leung': 6648, 'cg': 2007, 'iii': 5675, 'wicca': 12528, 'cant': 1836, 'finger': 4242, 'graini': 4917, 'ive': 6040, 'jumpi': 6216, 'misstep': 7424, 'mpaa': 7594, 'whale': 12478, 'rider': 9528, 'elementari': 3696, 'numer': 7962, 'blue': 1403, 'hat': 5216, 'grace': 4905, 'kelli': 6298, 'preston': 8853, 'likeabl': 6688, 'hateabl': 5219, 'alec': 477, 'condit': 2472, 'dakota': 2855, 'overs': 8225, 'mike': 7332, 'myer': 7659, 'deplor': 3071, 'shrek': 10233, 'bastard': 1124, 'austin': 933, '82': 227, 'anger': 622, 'strife': 10926, 'sasquatch': 9817, 'hunter': 5607, 'chant': 2030, 'jeep': 6098, 'whoever': 12516, 'kelso': 6299, 'yeah': 12723, '8th': 235, 'randi': 9162, 'dumbass': 3533, 'switch': 11167, 'em': 3730, 'fault': 4127, 'red': 9263, 'dad': 2846, 'kitti': 6374, 'hyde': 5626, 'favriout': 4136, 'donna': 3374, 'titti': 11540, 'slapstick': 10379, 'hostel': 5528, 'victor': 12229, 'crowley': 2757, 'demon': 3044, 'spawn': 10635, 'quasimodo': 9078, 'leatherfac': 6578, 'fire': 4248, 'soprano': 10586, 'fella': 4164, 'blurt': 1407, 'neg': 7768, 'poetic': 8683, 'conserv': 2517, 'sheep': 10162, 'liber': 6662, 'propaganda': 8953, 'affili': 390, 'underr': 11924, 'sarsgaard': 9814, 'metwal': 7304, 'sub': 10979, 'fatima': 4126, 'khalid': 6322, 'promin': 8938, 'anwar': 680, 'heartless': 5264, 'gyllenha': 5077, 'nod': 7876, 'unsur': 12061, 'inner': 5861, 'unforgett': 11967, 'mainstream': 6968, 'yigal': 12740, 'naor': 7698, 'imdb': 5694, 'newcom': 7808, 'moham': 7478, 'khoua': 6325, 'zineb': 12795, 'oukach': 8160, 'commerci': 2407, 'narr': 7706, 'plainli': 8625, 'disagre': 3236, 'aveng': 957, 'respons': 9443, 'eddi': 3629, 'murphi': 7636, 'comeback': 2390, 'eighth': 3671, 'week': 12444, 'syndrom': 11193, 'margin': 7058, 'shunt': 10243, 'harri': 5196, 'unabl': 11862, 'railway': 9141, 'weekend': 12445, 'rank': 9169, 'businessman': 1737, 'enabl': 3771, 'meritocraci': 7279, 'crisi': 2733, 'obtain': 8003, 'shaken': 10124, 'gradual': 4912, 'dawn': 2917, 'access': 306, 'friendship': 4509, 'warmth': 12384, 'calcul': 1785, 'strive': 10935, 'recognit': 9250, 'firework': 4252, 'organ': 8128, 'nonetheless': 7889, 'reintegr': 9329, 'unstopp': 12058, 'grass': 4940, 'savor': 9840, 'unavoid': 11874, 'wondrou': 12621, 'tramp': 11652, 'driver': 3485, 'front': 4519, 'traffic': 11637, 'chariti': 2053, 'disastr': 3244, 'mechan': 7214, 'devour': 3146, 'warmhearted': 12383, 'mongol': 7496, 'dilemma': 3202, 'plea': 8649, 'necessarili': 7759, 'aspir': 851, 'goal': 4830, 'passabl': 8359, 'willpow': 12554, 'courag': 2651, 'nonconform': 7887, 'animatrix': 630, 'learn': 6575, 'machin': 6922, 'lesson': 6638, 'flight': 4313, 'osiri': 8148, 'prayer': 8796, 'encount': 3777, 'bernadett': 1251, 'franci': 4456, 'assisi': 863, 'cathol': 1951, 'blyth': 1409, 'saint': 9758, 'intercess': 5916, 'whenev': 12487, 'bavier': 1138, 'aunt': 927, 'bea': 1145, 'andi': 612, 'griffith': 4980, 'edmund': 3642, 'gwenn': 5075, 'miracl': 7390, '34th': 169, 'simpler': 10300, 'dougla': 3417, 'macarthur': 6915, 'affect': 388, 'elect': 3688, 'presid': 8844, 'oddli': 8024, 'corbomit': 2598, 'maneuv': 7020, '1966': 90, 'hbo': 5240, '2oo4': 159, 'warm': 12381, 'spring': 10719, '2oo5': 160, 'joseph': 6177, 'sargent': 9813, 'subtli': 11003, 'shade': 10114, 'frank': 4459, 'mccarthi': 7166, 'patton': 8391, '197o': 102, 'legendari': 6597, 'goldsmith': 4855, 'tout': 11613, 'prepar': 8834, 'perfectli': 8467, 'adequ': 354, '1942': 70, 'shortli': 10219, 'beleagu': 1209, 'franklin': 4465, 'roosevelt': 9644, 'herlihi': 5333, 'flee': 4301, 'philippin': 8540, '188o': 46, 'frontier': 4521, 'barrack': 1095, 'arkansa': 778, 'tribesmen': 11712, 'remark': 9361, 'span': 10625, 'bow': 1513, 'arrow': 806, 'thermonuclear': 11424, 'graduat': 4913, '95': 242, 'medal': 7217, 'honor': 5479, 'missionari': 7422, 'ridg': 9529, 'civil': 2211, 'assign': 862, 'japan': 6080, 'china': 2133, 'importantli': 5726, 'heroic': 5339, '1914': 50, 'excurs': 3975, 'vera': 12198, 'cruz': 2776, 'leap': 6572, 'trench': 11701, 'mountain': 7580, 'goat': 4831, 'wound': 12658, 'speed': 10656, 'brigadi': 1595, 'postwar': 8771, 'servic': 10080, 'command': 2400, 'particip': 8349, 'martial': 7086, 'mitchel': 7440, '1924': 54, 'rout': 9673, 'marcher': 7054, '1932': 59, 'effort': 3655, 'sustain': 11124, 'woefulli': 12610, 'underfund': 11915, 'armi': 786, 'staff': 10758, '193o': 67, 'retir': 9462, 'u': 11836, 'marshal': 7082, 'reactiv': 9211, 'commiss': 2410, 'fdr': 4142, 'outbreak': 8164, 'prolong': 8935, 'seasick': 9970, 'evacu': 3921, 'pt': 9012, 'mac': 6912, 'alleg': 500, 'cowardic': 2665, 'dugout': 3524, 'unfound': 11971, 'remaind': 9359, 'straightforwardli': 10895, 'hop': 5494, 'pledg': 8656, 'filipino': 4229, 'crown': 2758, 'achiev': 322, 'peac': 8410, 'truman': 11759, 'properli': 8956, 'feisti': 4160, 'ed': 3627, 'flander': 4281, 'korean': 6414, 'outright': 8185, 'proclam': 8905, 'congress': 2494, 'fade': 4062, 'accur': 316, 'deliber': 3012, 'adorn': 366, 'approv': 728, 'disapprov': 3239, 'nobl': 7871, 'egotist': 3663, 'bombast': 1442, 'concept': 2459, 'regist': 9312, 'san': 9784, 'manipul': 7030, 'commend': 2403, 'defeat': 2987, 'ration': 9189, 'perspect': 8496, 'midway': 7325, 'releg': 9340, 'smight': 10454, 'march': 7053, 'underton': 11930, 'grandeur': 4927, 'vaniti': 12155, 'petti': 8523, 'inargu': 5744, 'loath': 6750, 'acknowledg': 326, 'militari': 7349, 'principl': 8884, 'albuquerqu': 472, 'gabbi': 4589, 'hay': 5230, 'juke': 6203, 'duke': 3528, 'tirad': 11528, 'pearl': 8415, 'garbl': 4633, 'biblic': 1285, 'samson': 9780, 'retent': 9460, 'whisker': 12506, 'barber': 1072, 'randoph': 9166, 'scott': 9922, 'lighten': 6682, 'demeanor': 3032, 'cole': 2354, 'armin': 787, 'cathrin': 1953, 'celia': 1977, 'wallac': 12360, 'acquaint': 330, 'myrtl': 7664, 'rescu': 9425, 'henchman': 5314, 'uncl': 11887, 'cleveland': 2259, 'extens': 4022, 'popular': 8730, 'holdup': 5441, 'competitor': 2431, 'demand': 3030, 'russel': 9714, 'hayden': 5232, 'rival': 9568, 'prospect': 8968, 'plant': 8631, 'barbara': 1069, 'britton': 1616, 'letti': 6646, 'tyler': 11824, 'ore': 8126, 'sabotag': 9735, 'draconian': 3441, 'tactic': 11215, 'arson': 808, 'tip': 11525, 'testifi': 11382, 'beau': 1164, 'woo': 12625, 'construct': 2532, 'relationship': 9336, 'varieti': 12160, 'overcom': 8201, 'spare': 10629, 'necess': 7757, 'assassin': 855, 'arrogantli': 805, 'gut': 5067, 'threat': 11459, 'presenc': 8841, 'wholesom': 12520, 'tens': 11356, 'surviv': 11113, 'lassi': 6516, 'gramp': 4921, 'persona': 8493, 'option': 8114, 'upstart': 12095, 'profit': 8921, 'boss': 1490, 'slight': 10410, 'moon': 7528, 'implement': 5721, 'puppet': 9036, 'secondli': 9979, 'scifi': 9909, 'tenant': 11342, 'infam': 5822, 'hotel': 5532, 'boyfriend': 1522, 'stumbl': 10961, 'andr': 613, 'toulon': 11606, 'trunk': 11764, 'dimens': 3207, 'steal': 10813, 'unliv': 12012, 'sutekh': 11125, 'totem': 11597, 'craven': 2700, 'ear': 3590, 'gremlin': 4971, 'troup': 11749, 'rife': 9532, 'rasch': 9183, 'killng': 6343, 'contractor': 2554, 'supris': 11093, 'enthusiasm': 3818, 'nonam': 7884, 'teresa': 11361, 'hill': 5382, 'nervou': 7795, 'lauren': 6542, 'chandra': 2025, 'susi': 11117, 'stomach': 10875, 'nors': 7907, 'halfway': 5117, 'selv': 10023, 'jester': 6120, 'blade': 1347, 'hiss': 5403, 'pinhead': 8593, 'grunt': 5024, 'shooter': 10211, 'snicker': 10484, 'motion': 7575, 'fluidli': 4335, 'aweful': 974, 'juvinil': 6230, 'charli': 2057, 'younger': 12749, 'demograph': 3042, 'gorewhor': 4880, 'harsh': 5202, 'wee': 12441, 'common': 2412, 'fair': 4070, 'channel': 2029, 'surf': 11096, 'logo': 6768, 'roadhous': 9578, 'joy': 6188, 'inan': 5742, 'toss': 11593, 'ski': 10356, 'retreat': 9466, 'houseguest': 5542, 'pour': 8783, 'sistin': 10331, 'chapel': 2034, '6': 200, 'x10': 12694, 'futon': 4575, 'gush': 5065, 'toilet': 11551, 'yaayyyyy': 12703, 'routin': 9674, 'smell': 10449, 'plagu': 8623, 'phobic': 8548, 'wacki': 12338, 'equat': 3848, 'tighter': 11503, 'applaud': 715, 'frankli': 4464, 'kitchen': 6371, 'distinct': 3306, 'catalogu': 1938, 'combo': 2388, 'tossup': 11594, 'kinjit': 6358, 'forbidden': 4377, 'sleaziest': 10393, 'seediest': 9995, 'cannon': 1834, 'glanc': 4795, 'pedophil': 8426, 'porno': 8735, 'charl': 2054, 'bronson': 1628, 'bed': 1171, 'dildo': 3201, 'offscreen': 8034, 'overprotect': 8220, 'regularli': 9316, 'connel': 2497, 'lunch': 6881, 'ensur': 3810, 'slammer': 10377, 'horniest': 5508, 'inmat': 5860, 'provid': 8986, 'medicin': 7223, 'unstabl': 12056, 'bribe': 1586, 'snarl': 10479, 'ass': 853, 'draw': 3456, '25': 152, '000': 2, 'cadillac': 1772, 'anal': 594, 'poster': 8766, 'porn': 8734, 'alex': 483, 'businessmen': 1738, 'er': 3851, 'bowel': 1515, 'movement': 7588, 'peggi': 8435, 'lipton': 6719, 'grown': 5016, 'reactionari': 9210, 'quirk': 9097, 'widen': 12532, 'copper': 2593, 'doubl': 3411, 'public': 9015, 'thoroughfar': 11450, 'unassault': 11872, 'pimp': 8589, 'pakistani': 8272, 'unrecycl': 12038, 'bang': 1058, 'fist': 4263, 'tabl': 11205, 'perri': 8488, 'lopez': 6801, 'spectacularli': 10650, 'dye': 3577, 'twin': 11811, 'strand': 10901, 'hernandez': 5337, 'underag': 11908, 'forev': 4396, 'intertwin': 5938, 'bu': 1663, 'holi': 5443, 'ya': 12701, 'appl': 714, 'underneath': 11921, 'lazi': 6559, 'germ': 4722, 'muddili': 7606, 'archi': 752, 'bunker': 1705, 'docksid': 3343, 'blow': 1401, 'gun': 5053, 'collabor': 2357, 'lee': 6586, 'thompson': 11444, 'sadli': 9747, 'signoff': 10280, 'undervalu': 11932, 'player': 8644, 'increasingli': 5777, 'discern': 3249, 'ban': 1047, 'chocol': 2139, 'practic': 8791, 'australian': 937, 'viscounti': 12282, 'acquir': 331, 'neoreal': 7788, 'sensibl': 10043, 'complaint': 2435, 'fortun': 4428, 'magnet': 6955, 'anyhow': 685, 'prais': 8792, 'dj': 3335, 'earth': 3600, 'vote': 12319, 'spectacl': 10648, 'cecil': 1970, 'met': 7294, 'cooper': 2584, 'hickock': 5358, 'ellison': 3718, 'buffalo': 1677, 'calam': 1783, 'quinn': 9093, 'essay': 3890, 'brave': 1549, 'horn': 5505, 'notic': 7928, 'summari': 11042, 'tepper': 11359, '12': 20, 'upscal': 12090, 'switzerland': 11169, 'laptop': 6507, 'databas': 2909, 'thwart': 11487, 'sooooooo': 10576, 'cuban': 2784, '17': 34, 'normal': 7902, 'joey': 6151, 'overthrow': 8230, 'wrench': 12666, 'astin': 872, 'dopey': 3394, 'upstag': 12093, 'wil': 12540, 'wheaton': 12484, 'jersey': 6117, 'mafia': 6946, 'stood': 10881, 'wesley': 12468, 'crusher': 2773, 'toy': 11625, 'shout': 10223, 'vintag': 12268, '1970': 93, 'prompt': 8944, 'search': 9965, 'vh': 12220, 'redd': 9266, 'foxx': 4444, 'clown': 2298, 'baili': 1023, 'sassi': 9818, 'norman': 7904, 'denni': 3057, 'dugan': 3523, 'dobson': 3340, 'hooker': 5487, 'lust': 6892, 'qualifi': 9068, 'encor': 3776, 'seinfeld': 10008, 'earmark': 3595, 'closest': 2290, 'reform': 9296, 'pretend': 8856, 'infidel': 5831, 'advis': 380, 'cabbi': 1762, 'kramer': 6422, 'caddi': 1769, 'lawyer': 6553, 'newer': 7809, 'milo': 7360, 'outta': 8189, 'halloween': 5125, 'disturb': 3316, 'unaffect': 11864, 'guidelin': 5039, 'valentin': 12138, 'jumanji': 6212, 'curs': 2810, 'surfer': 11098, 'dude': 3514, 'inquisit': 5870, 'nasti': 7713, 'undemand': 11906, 'button': 1747, 'syfi': 11177, 'welcom': 12456, 'collinwood': 2366, 'delight': 3015, 'superb': 11063, 'ensembl': 3807, 'caper': 1845, 'bog': 1424, 'spoil': 10694, 'tag': 11221, 'brain': 1532, 'maci': 6926, 'sam': 9775, 'rockwel': 9608, 'clooney': 2286, 'congratul': 2491, 'gem': 4686, 'anatomi': 603, 'german': 4723, 'banal': 1048, 'paid': 8264, 'zorro': 12808, 'europ': 3916, 'alain': 462, 'delon': 3021, 'tyron': 11834, 'hopkin': 5497, 'reed': 9280, 'hadley': 5092, 'serial': 10069, 'oro': 8138, 'cobb': 2323, 'tarzan': 11271, 'pierc': 8575, 'montagu': 7516, 'shaw': 10154, 'merton': 7285, 'whip': 12504, 'sword': 11170, 'endless': 3782, 'remot': 9373, 'pleasantli': 8653, 'stake': 10770, 'cabl': 1764, '1692': 32, 'putnam': 9053, 'swift': 11157, 'vocal': 12305, 'baseless': 1109, 'charg': 2049, 'displeasur': 3288, 'reverend': 9480, 'parri': 8342, 'pertain': 8501, 'witchcraft': 12590, 'satan': 9820, 'accus': 318, 'salem': 9763, 'loreen': 6805, 'graham': 4916, 'visit': 12287, 'museum': 7641, 'seventeenth': 10091, 'centuri': 1993, 'garb': 4631, 'accost': 314, 'stalk': 10771, 'phenomena': 8535, 'descript': 3097, 'solid': 10547, 'advisor': 381, 'lauri': 6545, 'cabot': 1765, 'underst': 11925, 'bert': 1257, 'filmmak': 4232, 'similar': 10294, 'updat': 12081, 'seven': 10089, 'familiar': 4089, 'unfaith': 11960, 'wildest': 12545, 'flash': 4286, 'shocker': 10203, 'molli': 7487, 'hagan': 5096, 'herman': 5334, 'jaim': 6065, 'pressli': 8849, 'earl': 3591, 'trashi': 11677, 'virtual': 12278, 'contact': 2537, 'quintessenti': 9094, 'lunkhead': 6885, 'reveal': 9476, 'phoenix': 8549, 'pale': 8278, 'dose': 3405, 'waterd': 12404, '1991': 114, 'stoltz': 10874, 'rehab': 9318, 'similarli': 10295, 'injur': 5857, 'confin': 2481, 'deploy': 3072, 'larg': 6511, 'schmaltz': 9888, 'forsyth': 4423, 'snipe': 10487, 'handicap': 5144, 'crippl': 2732, 'prick': 8870, 'admittedli': 362, 'perman': 8478, 'disabl': 3234, 'soften': 10533, 'romantic': 9627, 'process': 8903, 'parcel': 8326, 'vari': 12157, 'degre': 3004, 'disneyfi': 3281, 'narcissist': 7703, 'inexplic': 5821, 'forgiv': 4403, 'apolog': 703, 'forgiven': 4404, 'breakfast': 1560, 'verbal': 12200, 'everybodi': 3934, 'earshot': 3599, 'latest': 6523, 'spiderman': 10667, 'supervillain': 11085, 'sandman': 9792, 'lay': 6555, 'chunk': 2177, 'wail': 12348, 'monoton': 7509, 'wave': 12412, 'bye': 1754, 'egregi': 3664, 'racist': 9115, 'biker': 1296, 'whoop': 12523, 'henc': 5313, 'slap': 10378, 'accord': 313, 'seek': 9996, 'impecc': 5711, 'dupe': 3550, 'glow': 4824, 'rohmer': 9616, 'pedigre': 8425, 'initi': 5855, 'novelti': 7938, 'superimpos': 11070, 'paint': 8267, 'wane': 12370, 'stuffi': 10960, '18th': 47, 'appeal': 709, 'sympathet': 11185, 'languid': 6500, 'arduou': 760, 'foreign': 4386, 'harbor': 5171, 'devil': 3135, 'greatli': 4953, 'semblanc': 10026, 'talki': 11241, 'silent': 10286, 'uninterest': 11994, 'infinit': 5833, 'astut': 880, 'historian': 5407, 'royalist': 9681, 'yawner': 12719, 'insomnia': 5883, 'doze': 3436, 'nostalgia': 7920, 'permeat': 8479, 'chrysanthemum': 2167, '1954': 81, 'mikio': 7335, 'narus': 7710, 'undergo': 11916, 'retrospect': 9470, 'unavail': 11873, 'quandt': 9070, 'cinemathequ': 2195, 'ontario': 8086, 'foundat': 4436, 'fumiko': 4545, 'hayashi': 5231, 'geisha': 4681, 'regret': 9314, 'uniformli': 11985, 'haruko': 5205, 'sugimura': 11029, 'ozu': 8247, 'float': 4319, 'weed': 12443, 'tokyo': 11553, 'kin': 6348, 'maid': 6962, 'cynic': 2834, 'estat': 3895, 'specul': 10654, 'loan': 6749, 'nobu': 7874, 'sadako': 9742, 'sawamura': 9843, 'tama': 11243, 'chikako': 2118, 'hosokawa': 5523, 'tomi': 11566, 'yuko': 12758, 'mochizuki': 7458, 'greedi': 4957, 'coalmin': 2317, 'hokkaido': 5433, 'propos': 8963, 'resist': 9434, 'seki': 10011, 'contempl': 2540, 'tabe': 11204, 'ken': 6302, 'uehara': 11843, 'mood': 7526, 'resent': 9429, 'extend': 4021, 'seamlessli': 9962, 'consol': 2521, 'bittersweet': 1334, 'companionship': 2420, 'ta': 11202, 'lent': 6623, 'costner': 2632, 'fighter': 4225, 'texan': 11389, 'gammon': 4616, 'sell': 10017, 'mexican': 7306, 'nada': 7676, 'zilcho': 12791, 'sale': 9762, 'madelin': 6933, 'stow': 10891, 'whore': 12526, 'knife': 6388, 'declin': 2965, 'eh': 3667, 'coars': 2318, 'concert': 2461, '1992': 115, 'penelop': 8447, 'spheeri': 10663, 'pronounc': 8947, 'envelop': 3832, 'acclaim': 309, 'correct': 2615, 'vancouv': 12148, 'resid': 9432, 'favourit': 4135, 'lyric': 6907, 'darbi': 2891, 'crash': 2694, 'flag': 4275, 'church': 2179, 'x': 12693, 'countless': 2645, 'mile': 7345, 'toxin': 11624, 'underground': 11917, '1994': 117, 'grung': 5023, 'ala': 461, '2002': 132, 'crystal': 2780, 'method': 7299, 'fatboy': 4122, 'slim': 10413, 'broke': 1626, 'albert': 469, 'craptacular': 2693, 'fals': 4083, 'tennesse': 11352, 'worldli': 12643, 'heroin': 5340, 'rubi': 9687, 'lean': 6571, 'bid': 1288, 'muddi': 7605, 'brownish': 1644, '80ish': 225, 'lurid': 6888, 'overr': 8221, 'untal': 12065, 'compos': 2442, 'european': 3918, 'edna': 3643, 'ferber': 4181, 'epo': 3845, 'spiritu': 10680, 'antonio': 677, 'bandera': 1054, 'intern': 5928, 'mirror': 7396, 'blanca': 1355, 'winona': 12570, 'ryder': 9726, 'dreari': 3468, 'inert': 5814, 'ventur': 12196, 'seymour': 10104, 'hoffman': 5427, 'capot': 1849, 'tic': 11490, 'ridden': 9524, 'indulg': 5808, 'insect': 5873, 'caricatur': 1877, 'scant': 9857, 'damag': 2864, 'mockingbird': 7461, 'harper': 5194, 'keener': 6288, 'inquir': 5868, 'sidelin': 10264, 'bemoan': 1224, 'space': 10617, 'delic': 3013, 'preciou': 8807, 'bennett': 1236, 'miller': 7356, 'reluct': 9356, 'contrast': 2559, 'intim': 5943, 'chri': 2156, 'stalwart': 10774, 'screenwrit': 9937, 'futterman': 4576, 'overwhelm': 8236, 'baggag': 1020, 'stillborn': 10855, 'bait': 1025, 'pic': 8564, 'dozen': 3437, 'sincer': 10313, 'hot': 5530, 'blond': 1390, 'quirki': 9098, 'boot': 1470, 'bodycount': 1422, 'toll': 11557, 'parti': 8347, 'desert': 3099, 'hunt': 5606, 'glove': 4822, 'truck': 11751, 'predat': 8813, 'slasher': 10381, 'jeeper': 6099, 'creeper': 2717, 'antagonist': 658, 'solac': 10543, 'likabl': 6687, 'jennif': 6108, 'mcallist': 7161, 'symbol': 11182, 'benevol': 1232, 'sport': 10708, 'attir': 904, 'scanti': 9858, 'stonewash': 10880, 'crain': 2683, 'sought': 10601, 'kiddifi': 6329, 'thunderbird': 11484, 'cerebr': 1997, 'blown': 1402, 'notabl': 7923, 'sophia': 10582, 'myle': 7660, 'ron': 9635, 'cook': 2576, 'clue': 2300, 'travesti': 11686, 'frake': 4450, 'traci': 11628, 'prevent': 8863, 'captain': 1855, 'midnight': 7323, 'webb': 12436, 'colonel': 2370, 'dori': 3399, 'randolph': 9163, 'humphrey': 5595, 'bogart': 1425, 'metal': 7295, 'heavi': 5275, 'singer': 10318, 'album': 471, 'novemb': 7939, '1st': 125, 'havoc': 5226, 'torment': 11587, 'invit': 5974, 'pool': 8715, 'melissa': 7243, 'sue': 11020, 'jodi': 6147, 'foster': 4431, 'protect': 8975, 'danc': 2875, 'unleash': 12009, 'pronto': 8948, 'ringwald': 9548, 'beast': 1156, 'wilson': 12555, 'occasion': 8008, 'cybersex': 2830, 'prototyp': 8979, 'awaken': 969, 'robot': 9595, 'cyborg': 2831, 'unidentifi': 11982, 'butcher': 1743, 'charisma': 2050, 'flaw': 4298, 'goodi': 4865, 'pitch': 8609, 'lowest': 6842, 'athenia': 884, 'massey': 7109, 'outfit': 8172, 'loren': 6807, 'avedon': 956, 'stella': 10826, 'dorn': 3403, 'conceal': 2456, 'laughabl': 6532, 'unconvinc': 11898, 'flatli': 4290, 'choreograph': 2149, 'drain': 3449, 'unwatch': 12072, 'runner': 9706, 'coach': 2314, 'olymp': 8064, 'divin': 3330, 'feloni': 4169, '30': 163, 'hiatu': 5356, 'princip': 8883, 'traudl': 11678, 'jung': 6219, 'hitler': 5414, 'secretari': 9982, 'karl': 6259, 'doenitz': 3349, 'germani': 4724, 'navi': 7740, 'eden': 3631, 'uk': 11849, 'account': 315, 'admir': 360, 'sergeant': 10065, 'civilian': 2212, 'concentr': 2458, 'survivor': 11114, 'mountbatten': 7581, 'knight': 6389, 'elizabeth': 3712, 'el': 3679, 'cheapo': 2076, 'rental': 9389, 'sole': 10546, 'adolesc': 364, 'woeful': 12609, 'phenomenon': 8536, 'moder': 7468, 'attract': 907, 'baddi': 1012, 'identif': 5658, 'modest': 7470, 'smatter': 10447, 'format': 4413, 'advantag': 374, 'heck': 5278, 'clint': 2276, 'eastwood': 3612, 'tommi': 11567, 'creator': 2711, 'holder': 5440, 'friday': 4502, '13th': 23, 'ripoff': 9554, 'alot': 528, 'nerdi': 7793, 'teas': 11304, 'prank': 8794, 'classmat': 2233, 'presum': 8854, 'somebodi': 10558, 'denis': 3054, 'boreanaz': 1478, 'marley': 7072, 'shelton': 10173, 'jessica': 6119, 'capshaw': 1854, 'katherin': 6269, 'heigl': 5290, 'disjoint': 3274, 'rhythm': 9507, '2nd': 158, 'inconsist': 5773, 'inferior': 5827, '3rd': 176, 'regard': 9305, 'abruptli': 284, 'resolut': 9435, 'path': 8373, 'letdown': 6642, 'bell': 1214, 'function': 4548, 'deriv': 3086, 'synthes': 11197, 'timpani': 11517, 'percuss': 8464, 'herald': 5325, 'cue': 2788, 'rip': 9552, 'horner': 5506, '48': 189, 'hr': 5560, 'commando': 2401, 'brass': 1546, 'mediocr': 7225, 'omiss': 8071, 'satisfactorili': 9827, 'constraint': 2531, 'eleventh': 3701, 'patrick': 8383, 'scientist': 9908, 'coolli': 2582, 'ethic': 3910, 'lightn': 6685, 'absurd': 291, 'bbc': 1144, 'depart': 3068, 'imo': 5705, 'unthink': 12066, 'tournament': 11612, 'basebal': 1107, 'taekwondo': 11218, 'pant': 8299, 'bearabl': 1154, 'proudli': 8981, 'essenc': 3891, 'doctor': 3344, 'feed': 4157, 'mildli': 7343, 'drake': 3450, 'josh': 6178, 'amanda': 550, 'seltzberg': 10021, 'uncleav': 11889, 'web': 12435, 'ith': 6034, 'retard': 9458, 'sculptur': 9953, 'megan': 7235, 'carli': 1880, 'ahhhhhh': 430, 'tch': 11291, 'fred': 4478, 'ugg': 11844, 'clay': 2243, 'mation': 7133, 'arcad': 743, 'pac': 8251, 'geniou': 4697, 'dork': 3400, 'luck': 6859, 'foreward': 4397, 'email': 3731, 'youtub': 12753, 'funnier': 4554, 'junk': 6222, 'avgn': 962, 'cancel': 1825, 'potti': 8780, 'unpleas': 12027, 'hemp': 5311, 'lock': 6757, 'roach': 9576, 'clip': 2279, 'torm': 11586, 'jaguar': 6062, 'drivin': 3487, 'stud': 10954, 'muffin': 7610, 'mami': 7011, 'doren': 3397, 'rehabilit': 9319, 'angel': 619, 'stroll': 10938, 'errr': 3875, 'shake': 10123, 'talentless': 11239, 'anka': 635, 'contino': 2549, 'gloria': 4816, 'talbot': 11236, 'humorless': 5593, 'chop': 2144, 'judo': 6199, 'misogynist': 7417, 'romp': 9633, 'leech': 6587, 'hairstyl': 5111, 'woodchuck': 12628, 'squash': 10734, 'chip': 2136, 'rape': 9176, 'cliff': 2267, 'proce': 8900, 'jazz': 6090, 'fellow': 4167, 'scat': 9872, 'sullen': 11037, 'misbehav': 7399, 'sockey': 10521, 'limp': 6695, 'drip': 3481, 'st': 10749, 'saintli': 9759, 'interv': 5939, 'smack': 10438, 'snozz': 10503, 'quiet': 9089, 'princess': 8882, 'fame': 4086, 'si': 10251, 'chipster': 2137, 'blackmail': 1344, 'boggl': 1427, 'overag': 8195, 'fabul': 4050, 'moral': 7536, 'preachi': 8801, 'teletoon': 11326, 'retro': 9468, 'centurion': 1994, 'clichéd': 2264, 'jake': 6066, 'rockewel': 9604, 'footsoldi': 4372, 'undoubtedli': 11944, 'colton': 2378, 'leach': 6563, 'autobiographi': 946, 'compel': 2425, 'ascent': 831, 'terrac': 11364, 'underworld': 11937, 'compromis': 2448, 'miscast': 7401, 'ricci': 9512, 'harnett': 5191, 'transit': 11662, 'thuggeri': 11480, 'terri': 11368, 'stone': 10877, 'tucker': 11773, 'barnett': 1091, 'explet': 4008, 'riddl': 9525, 'border': 1475, 'vehem': 12182, 'deliveri': 3019, 'rettenden': 9471, 'essex': 3893, 'hooligan': 5488, 'roland': 9618, 'manookian': 7037, 'projectil': 8931, 'syrup': 11199, 'spatter': 10633, 'fictionalis': 4209, 'viewpoint': 12245, 'murray': 7637, 'leonard': 6627, 'maltin': 7009, 'valuabl': 12144, 'resourc': 9440, 'disregard': 3292, 'fizzl': 4272, 'revers': 9481, 'tepid': 11358, 'isol': 6022, 'beach': 1146, 'incapacit': 5750, 'accid': 307, 'dear': 2941, 'knuckler': 6400, 'electr': 3689, 'jolt': 6171, 'ralph': 9148, 'meeker': 7231, 'sturg': 10970, 'clever': 2260, 'gasp': 4649, 'cun': 2796, 'flippant': 4317, 'reckless': 9245, 'deadli': 2931, 'happili': 5167, 'snatch': 10480, 'habit': 5085, 'grin': 4986, 'childishli': 2122, 'huh': 5570, 'misde': 7404, 'ters': 11378, 'instruct': 5895, 'hostag': 5527, 'stanwyck': 10786, 'ishli': 6016, 'friction': 4501, 'hoot': 5492, 'evad': 3922, 'conspicu': 2522, 'un': 11860, 'masculin': 7098, 'law': 6548, 'enforc': 3791, 'arous': 798, 'suspicion': 11122, 'sturdi': 10969, 'edifi': 3636, 'enterpris': 3814, 'manufactur': 7044, 'distribut': 3313, 'broken': 1627, 'disc': 3248, 'decidedli': 2962, 'anamorph': 599, '85': 230, 'ratio': 9188, 'demonstr': 3046, 'ferrari': 4186, 'approach': 726, 'dd2': 2926, '0': 0, 'dd5': 2927, 'whilst': 12496, 'uncertain': 11885, 'deem': 2975, 'utilis': 12119, 'free': 4482, 'sidebar': 10262, 'featurett': 4151, 'galleri': 4609, 'compil': 2432, 'lengthi': 6617, 'coverag': 2663, 'post': 8764, 'digest': 3194, 'chat': 2065, 'jokey': 6167, 'enthusiast': 3819, 'crossov': 2749, 'elsewher': 3725, '19': 48, 'outstay': 8188, 'packag': 8257, 'ardent': 759, 'wealth': 12426, 'avail': 953, 'york': 12747, 'blackout': 1346, 'cope': 2588, 'scrape': 9928, 'barrel': 1097, 'indign': 5800, 'connecticut': 2496, 'lodg': 6763, 'potion': 8778, 'woke': 12612, 'wander': 12369, 'salvag': 9771, 'mors': 7557, 'neal': 7750, 'lola': 6775, 'albright': 470, 'hy': 5624, 'averback': 960, 'weakest': 12425, 'unseen': 12050, 'imageri': 5689, 'aliv': 498, 'basement': 1110, 'impact': 5706, 'explicit': 4009, 'doubt': 3412, 'falter': 4085, 'simplist': 10307, 'meryl': 7287, 'blossom': 1399, 'furthermor': 4567, 'worthi': 12653, 'pound': 8782, 'ami': 574, 'razzi': 9206, 'victori': 12230, 'viola': 12269, 'davi': 2914, 'academi': 300, '2008': 138, 'shine': 10193, 'sandi': 9790, 'cave': 1963, 'dweller': 3573, 'goug': 4896, 'shamelessli': 10133, 'sorceri': 10587, 'bandwagon': 1057, 'conan': 2455, 'garag': 4628, 'dud': 3513, 'keef': 6285, 'ape': 694, 'ator': 894, 'chore': 2148, 'hara': 5169, 'encourag': 3778, 'pontif': 8713, 'hello': 5303, 'cradl': 2678, 'offbeat': 8028, 'sleeper': 10398, 'concern': 2460, 'starter': 10797, 'snore': 10497, 'pyromaniac': 9057, 'trio': 11724, 'wilder': 12544, 'napalm': 7700, 'treat': 11694, 'dollar': 3364, 'bin': 1306, 'protelco': 8977, 'mlc': 7448, 'retel': 9459, 'molecular': 7483, 'structur': 10945, 'energi': 3789, 'target': 11265, 'necessari': 7758, 'pock': 8677, 'mock': 7459, 'bryant': 1658, 'haliday': 5118, 'assist': 864, 'pat': 8370, 'peach': 8411, 'ronald': 9636, 'allen': 505, 'dutch': 3562, 'lembach': 6611, 'heinz': 5291, 'sheila': 10167, 'tracey': 11627, 'crisp': 2734, 'pork': 8731, 'roast': 9582, 'electrocut': 3692, 'zap': 12770, 'cockney': 2330, 'latham': 6524, 'derrick': 3090, 'marney': 7074, 'lab': 6454, 'blanchard': 1356, 'woodland': 12632, 'pharmaci': 8531, 'rubber': 9683, 'coat': 2322, 'equip': 3849, 'werewolf': 12466, 'slaughter': 10384, 'bitten': 1332, 'undead': 11904, 'sprout': 10724, 'fur': 4558, 'fang': 4095, 'claw': 2242, 'werewolv': 12467, 'immens': 5699, 'everret': 3933, 'amatuerish': 554, 'juli': 6205, 'delpi': 3023, 'lore': 6804, 'dinosaur': 3219, 'ship': 10195, 'choppi': 2145, 'artifici': 820, 'furri': 4565, 'turkeydom': 11789, 'pari': 8332, 'cafe': 1774, 'coffe': 2339, 'serafin': 10060, 'condom': 2473, 'chew': 2107, 'gum': 5051, 'bubbl': 1664, 'bush': 1734, 'smashmouth': 10446, 'nontheless': 7894, 'rot': 9660, 'corps': 2614, 'bowen': 1516, 'whistl': 12508, 'eyebal': 4040, 'mcdowel': 7179, 'diagnos': 3157, 'huldr': 5571, 'troll': 11739, 'root': 9645, 'smaller': 10440, 'backyard': 1008, 'sofia': 10529, 'vassiliova': 12165, 'vindict': 12266, 'disappear': 3237, 'millennium': 7355, 'haunt': 5223, 'jacobi': 6053, 'abil': 269, 'procur': 8907, 'prerog': 8838, 'neighbor': 7777, 'jerker': 6114, 'bucket': 1666, 'hollywoodi': 5451, 'interact': 5914, 'brotherli': 1640, 'dexter': 3149, 'hiv': 5415, 'embark': 3734, 'erik': 3860, 'brad': 1528, 'renfro': 9382, 'mazzello': 7158, 'frailti': 4449, 'ail': 436, 'energet': 3788, 'poni': 8711, 'impuls': 5735, 'lung': 6884, 'forth': 4425, 'afterward': 408, 'poison': 8688, 'frozen': 4523, 'numb': 7960, 'storm': 10887, 'contradict': 2555, 'annabella': 640, 'sciorra': 9910, 'behavior': 1198, 'uptight': 12096, 'playboy': 8643, 'phobia': 8547, 'distinguish': 3308, 'rambl': 9150, 'musician': 7643, 'dave': 2913, 'grusin': 5025, 'pianist': 8562, 'unknowingli': 12007, 'sibl': 10252, 'hysteria': 5637, 'array': 801, 'synopsi': 11196, 'recount': 9255, 'stunk': 10963, 'deborah': 2947, 'kara': 6252, 'forgotten': 4406, 'media': 7220, '1955': 82, 'mitchum': 7441, 'jett': 6123, 'rink': 9549, 'subsequ': 10992, 'substanti': 10996, 'laughton': 6535, 'mitch': 7439, 'jan': 6073, 'sterl': 10842, 'unflatt': 11964, 'tamer': 11246, 'badmen': 1016, 'dispatch': 3286, 'saloon': 9768, 'goad': 4829, 'confid': 2480, 'stabil': 10751, 'hull': 5573, 'strikingli': 10928, 'workout': 12641, 'spartacu': 10632, 'wasattract': 12392, 'paz': 8405, 'vega': 12180, 'actresssh': 342, 'itbefor': 6031, 'carmen': 1885, 'basqu': 1121, 'merime': 7277, 'bandolera': 1056, 'matador': 7123, 'fluent': 4331, 'summar': 11041, 'whew': 12493, 'elisha': 3710, 'coke': 2349, 'fuell': 4536, 'drum': 3500, 'doozi': 3392, 'frenzi': 4492, 'surmis': 11103, 'waiter': 12350, '1941': 69, 'ball': 1036, 'nightclub': 7840, 'drummer': 3501, 'krupa': 6435, 'spazzi': 10636, 'phantom': 8530, 'preview': 8864, 'warren': 12388, 'beatti': 1163, 'mob': 7453, 'capric': 1852, 'breathless': 1568, 'mahoney': 6961, 'madonna': 6937, 'invad': 5963, 'unknown': 12008, 'villian': 12259, 'beati': 1160, 'korsmo': 6417, 'headli': 5245, 'dustin': 3561, 'caan': 1759, 'ross': 9656, 'mandi': 7019, 'patinkin': 8379, 'durn': 3556, 'jackson': 6051, 'belov': 1220, 'moonwalk': 7531, 'lennon': 6619, 'kati': 6273, 'zeke': 12779, 'brandon': 1545, 'quintin': 9096, 'franki': 4463, 'lideo': 6670, 'mission': 7421, 'warner': 12386, 'wk00817': 12605, 'ntsc': 7947, 'region': 9311, 'dostoyevski': 3408, 'halfheart': 5116, 'aesthet': 386, 'yul': 12759, 'brynner': 1661, 'dmitri': 3337, 'karamazov': 6253, 'surov': 11104, 'neurot': 7801, 'tabori': 11209, 'patho': 8376, 'propo': 8961, 'musingli': 7644, 'ashmor': 838, 'tractor': 11630, 'marxism': 7093, 'heel': 5284, 'tricksi': 11716, 'elev': 3699, 'newfound': 7811, 'height': 5288, 'fragil': 4446, 'peril': 8472, 'foot': 4367, 'tacon': 11214, 'lejano': 6608, 'riser': 9560, 'almodóvar': 522, 'term': 11362, 'macabr': 6913, 'manslaught': 7040, 'orchestr': 8122, 'arti': 815, 'showbiz': 10225, 'feminin': 4175, 'fractur': 4445, 'transvestit': 11672, 'powerhous': 8789, 'bereng': 1241, 'beckett': 1168, 'marin': 7066, 'nonsens': 7892, 'zane': 12768, 'swat': 11140, 'govern': 4899, 'bureaucrat': 1712, 'spark': 10630, 'sniper': 10488, 'gunman': 5057, 'mutual': 7656, 'veget': 12181, 'fruit': 4524, 'papier': 8310, 'mach': 6921, 'tomato': 11561, 'basketbal': 1119, 'size': 10342, 'leafi': 6568, 'grasp': 4939, 'dixon': 3333, 'spi': 10664, 'meddl': 7219, 'taylor': 11290, 'parachut': 8312, 'samurai': 9783, 'diego': 3187, 'chicken': 2114, 'inutter': 5962, 'ketchup': 6316, 'puberti': 9013, 'shrivel': 10239, 'falk': 4078, 'festiv': 4194, 'driven': 3484, 'enthral': 3817, 'applebaum': 717, 'plight': 8659, 'contribut': 2560, 'priceless': 8869, 'relief': 9347, 'spur': 10727, 'born': 1483, '90ish': 239, 'backdrop': 1001, 'nourish': 7933, 'gift': 4756, 'sli': 10405, 'scottsdal': 9925, 'arizona': 776, 'proof': 8949, 'financi': 4237, 'contempt': 2542, 'dracula': 3442, 'wolf': 12614, 'dictat': 3180, 'bite': 1331, 'cherri': 2099, 'blew': 1377, 'misfortun': 7410, 'larri': 6514, 'mistreat': 7434, 'eri': 3857, 'kenton': 6307, 'spanner': 10628, 'startl': 10798, 'edelmann': 3630, 'lift': 6680, 'cart': 1908, 'nonchalantli': 7886, 'climb': 2272, 'château': 2184, 'courtyard': 2659, 'mistakenli': 7429, 'lon': 6778, 'chaney': 2026, 'jnr': 6139, 'spout': 10714, '1931': 58, '1935': 62, 'wrap': 12661, 'abbot': 262, 'costello': 2630, 'suppress': 11091, 'likelihood': 6689, 'experienc': 4000, 'gosh': 4889, 'acceler': 302, '55': 195, 'mph': 7595, 'latch': 6520, 'brake': 1538, 'ignit': 5671, 'tank': 11253, 'ga': 4587, 'simultan': 10310, 'thorazin': 11445, 'harrow': 5200, 'seat': 9973, 'juggernaut': 6200, 'endlessli': 3783, 'fantast': 4100, 'sight': 10273, 'dorado': 3396, 'finn': 4244, 'rivet': 9571, 'amazingli': 556, 'downfal': 3425, 'wwii': 12690, 'brotherhood': 1639, 'o2': 7983, 'landi': 6490, 'ola': 8052, 'ray': 9201, 'breakdown': 1559, 'icon': 5649, 'price': 8868, 'zombi': 12801, 'crawl': 2702, 'coffin': 2340, 'graveyard': 4947, 'surround': 11112, 'choru': 2152, 'block': 1387, 'doorway': 3391, '71': 213, 'cr4p': 2673, 'nois': 7879, 'sarah': 9808, 'gellar': 4684, 'sh1tti': 10109, 'shite': 10198, 'fever': 4201, 'hillth': 5386, 'scarey': 9864, 'ol': 8051, 'spoke': 10698, 'intimid': 5944, 'dread': 3461, 'teletubbi': 11327, 'pickl': 8569, 'danni': 2888, 'aiello': 435, 'burnt': 1725, 'interlud': 5926, 'misunderstood': 7437, '202': 141, 'consensu': 2513, 'silenc': 10285, 'dogood': 3353, 'shimmer': 10192, 'plasticen': 8635, 'crack': 2674, 'rabbit': 9106, 'vedget': 12178, 'gloomi': 4814, 'overdon': 8203, 'gromit': 5000, 'anti': 666, 'pesto': 8513, 'afoot': 399, 'nearbi': 7752, 'wererabbit': 12465, 'site': 10336, 'sidney': 10267, 'lumet': 6875, '20th': 144, 'darker': 2897, 'brighter': 1598, 'unsympathet': 12064, 'masochist': 7103, 'ethan': 3908, 'hank': 5156, 'whine': 12499, 'immatur': 5697, 'irrespons': 6002, 'divorc': 3332, 'indecis': 5785, 'willing': 12551, 'cowardli': 2666, 'directli': 3229, 'perpetu': 8486, 'stamp': 10775, 'berat': 1239, 'esteem': 3897, 'harpi': 5195, 'malevol': 6994, 'finney': 4246, 'grimac': 4983, 'constip': 2528, 'apt': 733, 'grief': 4977, 'stricken': 10922, 'smother': 10468, 'akin': 456, 'miseri': 7407, 'marisa': 7069, 'tomei': 11565, 'unhappi': 11977, 'unfathom': 11962, 'selfish': 10015, 'embezzl': 3738, 'rob': 9583, 'jewelri': 6128, 'awri': 981, 'mesmer': 7288, 'descent': 3094, 'calm': 1798, 'planner': 8630, 'derang': 3081, 'homicid': 5467, 'maniac': 7027, 'castrat': 1935, 'psychosi': 9010, 'indirect': 5801, 'psh': 8998, 'wreck': 12664, 'lovecraft': 6832, 'taught': 11281, 'ftagn': 4532, 'yog': 12744, 'sototh': 10600, 'sartr': 9815, 'barker': 1087, 'immers': 5700, 'stapl': 10787, 'shop': 10213, 'raider': 9138, 'stinker': 10861, 'hazi': 5237, 'pirat': 8604, 'squar': 10733, 'unwelcom': 12073, 'shoddi': 10205, 'recycl': 9262, 'wobbl': 12606, 'stream': 10911, 'brainer': 1535, 'empow': 3766, 'kiddo': 6330, 'exchang': 3964, 'beer': 1181, '1983': 106, 'snoozer': 10496, 'craft': 2679, 'twitchi': 11817, 'vampir': 12145, 'autist': 944, 'stripper': 10933, 'daylight': 2919, 'poet': 8682, 'bod': 1420, 'deadlin': 2933, 'hungrier': 5603, 'streetlamp': 10915, 'daytim': 2920, 'fix': 4270, 'wealthi': 12427, 'damn': 2869, 'katt': 6274, 'shea': 10158, 'corman': 2602, 'strip': 10931, 'stk': 10867, 'ii': 5674, 'kurt': 6445, 'mail': 6963, 'ubc': 11838, 'unit': 12000, 'corpor': 2613, 'lincoln': 6699, 'studio': 10957, 'wilbank': 12541, 'reject': 9331, 'heather': 5271, 'duti': 3563, 'chimpanze': 2131, 'chimp': 2130, 'advanc': 373, 'hairi': 5108, 'raffl': 9127, 'handl': 5147, 'lamp': 6484, 'distract': 3310, 'mild': 7341, 'satir': 9824, 'recogn': 9248, 'guzzl': 5073, 'bellow': 1218, 'jeanni': 6096, 'hatch': 5217, 'barefoot': 1080, '1971': 94, 'ritter': 9566, 'krull': 6434, 'gen': 4687, 'lane': 6495, 'revisit': 9486, 'joel': 6149, 'schumach': 9903, 'flatlin': 4291, 'supernatur': 11081, 'popcorn': 8724, 'heavyweight': 5277, 'keifer': 6292, 'sutherland': 11126, 'bacon': 1009, 'julia': 6206, 'stew': 10848, 'compris': 2447, 'flamboy': 4277, 'flair': 4276, 'über': 12817, 'slick': 10407, 'cinematograph': 2196, 'bont': 1458, 'sickeningli': 10257, 'stodgi': 10870, 'calori': 1799, 'achingli': 323, 'styliz': 10975, 'replet': 9403, 'neon': 7787, 'spew': 10662, 'billow': 1304, 'steam': 10816, '1990': 113, 'jacob': 6052, 'ladder': 6466, 'flashi': 4288, 'dismiss': 3279, 'adrian': 368, 'lyne': 6904, 'fate': 4123, 'tripl': 11727, 'jl': 6138, 'passag': 8360, 'atop': 893, 'heap': 5254, 'throwaway': 11473, 'brat': 1547, 'cement': 1984, 'terrifi': 11372, 'simplif': 10305, 'tidi': 11496, 'unfair': 11959, 'overlook': 8215, 'shallow': 10129, 'cloth': 2294, 'diari': 3169, 'annex': 643, 'perceiv': 8462, 'rigor': 9542, 'rewrit': 9497, 'occup': 8011, 'publish': 9016, 'someday': 10559, 'messeng': 7292, 'entertainingli': 3816, 'testament': 11380, 'document': 3345, 'holocaust': 5453, 'closer': 2289, 'sear': 9964, 'indict': 5798, 'nazi': 7744, 'systemat': 11201, 'jew': 6125, 'misconstru': 7403, 'bibl': 1284, 'worship': 12649, 'typhu': 11829, 'bergen': 1244, 'belsen': 1221, 'vividli': 12301, 'vivid': 12300, 'miep': 7327, 'gie': 4752, 'testimoni': 11383, 'hannah': 5158, 'goslar': 4891, 'otto': 8157, 'discrimin': 3260, 'deeper': 2978, 'profound': 8922, 'americana': 572, 'impli': 5722, 'afirm': 397, 'frost': 4522, 'cake': 1782, 'delect': 3009, 'rag': 9129, 'nit': 7861, 'compact': 2417, 'struck': 10944, 'rebecca': 9229, 'swept': 11156, 'brood': 1632, 'manor': 7038, 'threaten': 11460, 'inescap': 5815, 'stern': 10843, 'servant': 10078, 'bind': 1307, 'irrepar': 6000, 'fieri': 4219, 'destruct': 3119, 'lavish': 6547, 'homestead': 5464, 'meanwhil': 7208, 'jungl': 6220, 'bett': 1271, 'singapor': 10317, 'plantat': 8632, 'sri': 10747, 'lankan': 6503, 'tea': 11295, 'reader': 9213, 'kinder': 6352, 'loveli': 6833, 'finch': 4238, 'bungalow': 1703, 'shoulda': 10221, 'cardz': 1866, 'breast': 1564, 'musta': 7648, 'gotten': 4895, 'grade2': 4910, '10qualiti': 15, 'darn': 2903, 'sensereplay': 10042, 'upper': 12086, 'floor': 4321, 'ther': 11416, '200': 128, 'iq': 5985, 'shoe': 10206, 'par': 8311, 'scheider': 9881, 'somehow': 10560, 'cinderella': 2191, 'kathleen': 6271, 'turner': 11793, 'stepmoth': 10839, 'phantasmagor': 8529, 'spell': 10658, 'wick': 12529, 'stepdaught': 10833, 'freedom': 4483, 'fairi': 4071, 'zizola': 12798, 'slaveri': 10387, 'suitor': 11034, 'valiant': 12139, 'forg': 4399, 'nymph': 7980, 'mab': 6910, 'petal': 8516, 'slipper': 10416, 'drew': 3472, 'weav': 12433, 'selfless': 10016, 'artwork': 826, 'sapphir': 9804, 'ballgown': 1037, 'marcella': 7052, 'plunkett': 8674, 'print': 8885, 'allur': 515, 'tania': 11252, 'sara': 9806, 'medic': 7222, 'baron': 1093, 'cotten': 2635, 'creation': 2709, 'eeri': 3650, 'melodrama': 7247, 'hargitay': 5183, 'whiteman': 12511, 'muller': 7616, 'herbert': 5327, 'fux': 4579, 'raini': 9144, 'amplifi': 587, 'insid': 5876, 'munchi': 7628, 'peru': 8502, 'archeolog': 748, 'dig': 3193, 'dufu': 3520, 'comedian': 2392, 'sarcasm': 9811, 'unconvent': 11896, 'archeologist': 749, 'artificat': 819, 'mummi': 7626, 'crevic': 2721, 'mutant': 7650, 'gyrat': 5081, 'gizmo': 4787, 'stash': 10800, 'terrestri': 11367, 'wager': 12343, 'rug': 9693, 'veteran': 12218, 'harvey': 5209, 'korman': 6416, 'airhead': 444, 'hippi': 5398, 'poke': 8689, 'multipli': 7621, 'mutat': 7651, 'moron': 7551, 'ham': 5130, 'twitch': 11816, 'glori': 4815, 'reno': 9384, 'hightow': 5374, 'polar': 8692, 'dunde': 3543, 'quotabl': 9103, 'carib': 1875, 'mud': 7604, 'nfl': 7821, 'voyag': 12323, 'somber': 10556, 'funer': 4551, 'blethyn': 1376, 'molina': 7485, 'ginger': 4774, 'zealou': 12776, 'welsh': 12460, 'thicken': 11429, 'pugh': 9019, 'watt': 12411, 'rekindl': 9333, 'south': 10610, 'sea': 9958, 'celebr': 1975, 'laud': 6531, 'asian': 842, 'gojo': 4847, 'layer': 6557, 'buddhist': 1670, 'philosophi': 8545, 'contextu': 2547, 'knowledg': 6397, 'benkei': 1234, 'warrior': 12389, 'monk': 7501, 'enlighten': 3801, 'shanao': 10135, 'mortal': 7558, 'seeker': 9997, 'illus': 5685, 'hamper': 5137, 'fundament': 4550, 'eas': 3604, 'sogo': 10537, 'ishii': 6014, 'measur': 7209, 'neglect': 7771, 'sedat': 9989, 'sink': 10324, 'fog': 4346, 'ether': 3909, 'overtli': 8231, 'makoto': 6979, 'watanb': 12399, 'richli': 9517, 'evoc': 3945, 'actingwis': 337, 'daisuk': 2854, 'ryu': 9727, 'dignifi': 3197, 'savageri': 9836, 'tadanobu': 11217, 'asano': 829, 'arrog': 804, 'masatoshi': 7096, 'nagas': 7680, 'unawar': 11875, 'flabbi': 4274, 'strictli': 10924, 'frenet': 4491, 'whirl': 12505, 'adversari': 377, 'invigor': 5971, 'tradition': 11635, 'cgi': 2008, 'bloodsh': 1396, 'swordplay': 11171, 'azumi': 991, 'mystic': 7667, 'wing': 12566, 'spot': 10711, 'inclin': 5762, 'anytim': 688, 'futil': 4574, 'persifina': 8491, 'laundri': 6537, 'ashley': 837, 'judd': 6193, 'hardest': 5177, 'lull': 6871, 'whet': 12491, 'appetit': 713, 'volcano': 12309, 'damp': 2871, 'squib': 10741, 'character': 2042, 'belief': 1213, 'firemen': 4249, 'peripher': 8474, 'twister': 11814, 'erasmu': 3854, 'brenda': 1577, 'widow': 12535, 'straiten': 10899, 'abli': 273, 'hilt': 5387, 'isl': 6018, 'ballykissangel': 1040, 'hamish': 5132, 'macbeth': 6917, 'forement': 4388, 'ravishingli': 9198, 'rural': 9710, 'wet': 12474, 'cornish': 2608, 'coast': 2319, 'wholesal': 12519, 'cannabi': 1831, 'spliff': 10690, 'brilliantli': 1603, 'crud': 2761, 'shell': 10170, 'translat': 11663, 'yaaawwnnn': 12702, 'kino': 6363, 'flesh': 4304, 'agent': 412, 'horrigan': 5516, 'kennedi': 6303, 'dalla': 2858, 'openli': 8096, 'flirt': 4318, 'rene': 9380, 'russo': 9717, 'malkovich': 7000, 'presidenti': 8845, 'booth': 1471, 'camu': 1822, 'myth': 7668, 'sisyphu': 10333, 'condemn': 2469, 'boulder': 1500, 'slip': 10415, 'buzzard': 1752, 'peck': 8419, 'intox': 5948, 'offend': 8029, 'falafel': 4076, 'liev': 6674, 'schrieber': 9898, 'imped': 5712, 'stair': 10766, 'evict': 3940, 'unnam': 12017, 'buddi': 1671, 'mammi': 7012, 'rotten': 9663, '76': 219, 'pretenti': 8858, 'profund': 8924, 'experiment': 4001, 'hip': 5397, 'garbag': 4632, 'renni': 9383, 'marc': 7050, 'fusco': 4569, 'theatric': 11401, 'reflect': 9293, 'percept': 8463, 'resum': 9454, 'facinelli': 4056, 'embri': 3742, 'foley': 4350, 'charlott': 2059, 'ayanna': 984, 'reunion': 9473, 'liquor': 6721, 'cheapli': 2075, 'w': 12335, 'incess': 5753, 'elmo': 3720, 'litter': 6732, 'ivori': 6041, 'howard': 5552, 'motif': 7574, 'carolina': 1893, 'snowi': 10501, 'outweigh': 8192, 'magnific': 6956, 'burlinson': 1720, 'bruce': 1647, 'rowland': 9678, 'sigrid': 10282, 'thornton': 11448, 'pouter': 8784, 'downgrad': 3426, 'previous': 8866, 'kirk': 6367, 'replac': 9400, 'profan': 8913, 'dennehi': 3056, 'disgrac': 3264, 'walt': 12365, 'usag': 12108, 'tube': 11771, 'instinct': 5893, 'sharon': 10145, 'fourteen': 4440, 'caton': 1954, 'verhoeven': 12206, 'leora': 6632, 'barish': 1083, 'eszterha': 3901, 'predecessor': 8815, 'devilish': 3136, 'trimel': 11722, 'hannib': 5159, 'lecter': 6582, 'leisur': 6607, 'morrissey': 7556, 'dens': 3061, 'axi': 983, 'disagr': 3235, 'agenda': 411, 'spectat': 10651, 'juic': 6201, 'dumpster': 3539, 'neighborhood': 7778, 'humid': 5586, 'degrad': 3003, 'everywher': 3939, 'luvahir': 6897, 'ricki': 9520, 'envis': 3835, 'winc': 12560, 'sentenc': 10049, 'uncontrol': 11895, 'prop': 8951, 'chucklehead': 2171, 'disgust': 3267, 'bangla': 1059, 'howdi': 5554, 'grant': 4935, 'vitriol': 12293, 'debas': 2945, 'libel': 6661, 'scum': 9954, 'articul': 817, 'ammunit': 580, 'stir': 10864, 'reparte': 9393, 'assur': 869, 'enumer': 3831, 'abund': 295, 'shelf': 10169, 'gruesom': 5020, 'realism': 9220, 'ghetto': 4739, 'gangsta': 4624, 'bombin': 1444, 'rockin': 9606, 'po': 8676, 'lice': 6666, 'mixtur': 7445, 'timidli': 11515, 'quiroz': 9099, 'camcord': 1803, 'explor': 4013, 'renter': 9390, 'quell': 9082, 'blurb': 1406, 'asap': 830, 'proud': 8980, 'bale': 1035, 'phenomen': 8534, 'seren': 10064, 'devast': 3130, 'dowri': 3434, 'earthquak': 3603, 'farrah': 4109, 'fawcett': 4137, 'helpless': 5308, 'deflat': 2997, 'plausibl': 8641, 'keen': 6286, 'merit': 7278, 'corrupt': 2620, 'union': 11996, 'attorney': 906, 'stark': 10795, 'unimagin': 11986, 'stem': 10830, 'fag': 4064, 'cycl': 2832, 'drawer': 3458, 'raft': 9128, 'perfunctori': 8470, 'alley': 507, 'plaster': 8633, 'simul': 10309, 'brick': 1588, 'portent': 8745, 'waterfront': 12405, 'peg': 8434, 'disbar': 3245, 'foran': 4374, 'inexpens': 5818, 'keith': 6295, 'insinu': 5880, 'jr': 6191, 'rummi': 9700, 'beverley': 1273, 'garland': 4643, 'undermin': 11920, 'gawk': 4664, 'furtiv': 4568, 'suitabl': 11032, 'filippin': 4230, 'clumsi': 2302, 'yegg': 12726, 'outwit': 8193, 'downstair': 3431, 'forget': 4401, 'asham': 833, 'cricket': 2726, 'sat': 9819, 'fantas': 4098, 'request': 9421, 'invari': 5965, 'depend': 3069, 'askey': 846, 'tend': 11343, 'settl': 10086, 'gander': 4618, 'plonk': 8661, 'vcr': 12176, 'skelton': 10350, 'household': 5543, 'gertrud': 4729, 'heathcliff': 5270, 'fernando': 4183, 'comed': 2391, 'leukemia': 6647, 'georgia': 4717, 'vanilla': 12153, 'tremend': 11700, 'nanci': 7691, 'eclect': 3623, 'crow': 2754, 'rous': 9672, 'sigur': 10283, 'ro': 9574, 'monke': 7502, 'etcetera': 3904, 'tenfold': 11349, 'ingeni': 5843, 'tendenc': 11345, 'leagu': 6569, 'weller': 12458, 'blaxploit': 1366, 'sprinkl': 10723, 'buri': 1717, 'ton': 11569, 'coal': 2315, 'overact': 8194, 'poignant': 8685, 'walter': 12366, 'kronkit': 6431, 'flop': 4322, 'chappel': 2038, 'secondari': 9978, 'exact': 3952, 'tewp': 11386, 'buxom': 1748, 'soror': 10593, 'goofi': 4871, 'forest': 4395, 'wench': 12461, 'doofu': 3383, 'reenact': 9284, 'hopscotch': 5499, 'integr': 5905, 'thin': 11433, 'unnatur': 12018, 'dimpl': 3211, 'surgeri': 11100, 'humili': 5588, 'outtak': 8190, 'nauseum': 7734, 'strain': 10897, 'fright': 4510, 'cavort': 1965, 'stroke': 10937, 'picket': 8567, 'fenc': 4178, 'wynorski': 12692, 'kelvin': 6300, 'cooler': 2579, 'lovin': 6836, 'mash': 7099, 'eight': 3670, 'silicon': 10287, 'lifeform': 6676, 'imit': 5696, 'sincerest': 10314, 'flatteri': 4293, 'unrat': 12032, 'physic': 8559, 'spike': 10671, 'heaton': 5272, 'ibsen': 5641, 'martin': 7088, 'lawrenc': 6552, 'reckon': 9246, 'pryor': 8994, 'muslim': 7645, 'india': 5794, 'narrow': 7709, 'cod': 2333, 'urg': 12102, 'preach': 8799, 'platform': 8637, 'lectur': 6583, 'luther': 6895, 'fawn': 4138, 'ingrati': 5846, 'section': 9985, 'runteldat': 9707, 'profoundli': 8923, 'consumm': 2535, 'literari': 6728, 'superbl': 11064, 'depressingli': 3077, 'bela': 1206, 'lugosi': 6865, 'audio': 917, 'jet': 6122, 'entireti': 3822, 'plastic': 8634, 'surgeon': 11099, 'upstand': 12094, 'honest': 5472, 'forgett': 4402, 'chauvinist': 2068, 'amid': 576, 'assort': 866, 'hundr': 5597, 'instantli': 5891, 'recognis': 9249, 'catchphras': 1944, 'aplomb': 697, 'monti': 7522, 'python': 9059, 'mediev': 7224, 'began': 1190, 'realis': 9219, 'royston': 9682, 'vasey': 12164, 'fictiti': 4210, '17th': 35, 'sheen': 10161, 'jeremi': 6111, 'dyson': 3583, 'tubb': 11770, 'fishi': 4262, 'herr': 5341, 'lipp': 6717, 'briss': 1609, 'irat': 5989, 'geoff': 4711, 'tibb': 11488, 'apocalps': 698, 'rais': 9146, 'drench': 3470, 'unheard': 11979, 'offspr': 8036, 'delici': 3014, 'humanis': 5578, 'incarn': 5751, 'streak': 10910, 'sentiment': 10050, 'lump': 6878, 'throat': 11469, 'sugar': 11026, 'thickli': 11430, 'intrud': 5959, 'exemplari': 3981, 'seamless': 9961, 'throwback': 11474, 'gilliam': 4766, 'harryhausen': 5201, 'apocalyps': 699, 'convert': 2568, 'uniniti': 11989, 'mccool': 7171, 'liv': 6734, 'flaunt': 4294, 'fewer': 4202, 'deterior': 3124, 'weight': 12450, 'armaggedon': 783, 'shwing': 10248, 'barbet': 1073, 'schroeder': 9899, 'majest': 6971, 'maitress': 6970, '1976': 98, 'lightweight': 6686, 'grisham': 4991, 'bullock': 1693, 'cass': 1927, 'mayweath': 7156, 'independ': 5790, 'specialis': 10643, 'chaplin': 2037, 'reserv': 9430, 'unbalanc': 11876, 'maladriot': 6982, 'gosl': 4890, 'pitt': 8614, 'mislead': 7413, 'forens': 4390, 'frequent': 4494, 'ott': 8156, 'oooh': 8092, 'csi': 2782, 'laid': 6473, 'pollack': 8702, 'von': 12317, 'sydow': 11176, 'receptionist': 9239, 'fussi': 4573, 'professori': 8917, 'toupe': 11609, 'tina': 11519, 'chen': 2094, 'copier': 2592, 'repli': 9404, 'savag': 9835, 'unmotiv': 12016, 'awar': 970, 'mastermind': 7115, 'intramur': 5949, 'crook': 2746, 'psychiatr': 9001, 'shambl': 10131, 'upsid': 12092, 'conspiraci': 2524, 'knee': 6384, 'unexplain': 11957, 'hatr': 5222, 'sinist': 10323, 'suav': 10978, 'louvr': 6830, 'metro': 7301, 'purvey': 9050, 'medit': 7226, 'argu': 769, 'photogen': 8554, 'redford': 9269, 'telecommun': 11322, 'wardrob': 12377, 'rimless': 9545, 'glass': 4799, 'peacoat': 8412, 'pea': 8408, 'jacket': 6049, 'glamor': 4793, 'swine': 11163, 'denim': 3052, 'shirt': 10197, 'fay': 4139, 'dunaway': 3540, 'eagerli': 3588, 'gunpoint': 5062, 'ambival': 564, 'robertson': 9589, 'mailman': 6964, 'exquisit': 4019, 'mismatch': 7414, 'brute': 1655, 'housemann': 5547, 'paranoid': 8324, 'leni': 6618, 'riefenstahl': 9531, 'triumph': 11732, 'omin': 8070, 'negro': 7776, 'yell': 12729, 'oppos': 8108, 'royal': 9680, 'address': 353, 'undeliver': 11905, 'alic': 492, 'miranda': 7393, 'absent': 286, 'adulthood': 372, 'alongsid': 526, 'chilean': 2125, 'immigr': 5701, 'hoyo': 5558, 'metaphor': 7296, 'blatant': 1364, 'underflow': 11914, 'flood': 4320, 'cohes': 2343, 'drivel': 3483, 'polici': 8698, 'rack': 9116, 'destabilis': 3115, 'hackney': 5091, 'bullet': 1690, 'shatter': 10151, 'equival': 3850, 'sheryl': 10186, 'cd': 1968, 'hideout': 5364, 'employe': 3765, 'convincingli': 2572, 'delay': 3008, 'confess': 2479, 'sheriff': 10181, 'hung': 5598, 'rope': 9646, 'trail': 11643, 'hock': 5423, 'hype': 5627, 'unlucki': 12014, 'enemi': 3787, 'candid': 1828, 'hooray': 5491, 'misspel': 7423, 'nitrat': 7864, 'neatli': 7756, 'chain': 2009, 'fanboy': 4092, 'iti': 6035, 'share': 10142, 'fansub': 4097, 'kudo': 6440, 'glare': 4797, 'inadequaci': 5740, 'constant': 2525, 'foreshadow': 4394, 'factiod': 4057, 'mata': 7122, 'hari': 5184, 'squad': 10730, 'testosteron': 11384, 'trite': 11731, 'primal': 8875, 'legitimaci': 6601, 'host': 5526, 'bergin': 1246, 'drift': 3476, 'iowa': 5983, 'wimpi': 12558, 'arrang': 800, 'soup': 10606, 'straighten': 10893, 'ms': 7597, 'domest': 3367, 'cube': 2785, 'spoon': 10706, 'sooo': 10573, 'cap': 1841, 'wunderkind': 12686, '1997': 120, 'gooodi': 4875, 'clap': 2220, 'nitwit': 7865, 'z': 12766, 'coordin': 2585, '26': 154, 'duh': 3525, 'permut': 8482, 'lotr': 6818, 'thousand': 11454, 'classi': 2230, 'uninterrupt': 11995, 'hardcor': 5175, 'wisconsin': 12578, 'countrysid': 2647, 'martian': 7087, 'interrupt': 5937, '20m': 143, 'looonnnggg': 6794, 'zeppelin': 12786, 'perfom': 8469, 'dismal': 3276, 'venu': 12197, 'duval': 3564, 'ruth': 9720, 'staunchli': 10809, 'distraught': 3311, 'paralyz': 8320, 'jason': 6086, 'presson': 8850, 'stranger': 10903, 'frederick': 4480, 'forrest': 4420, 'gail': 4597, 'unsuccess': 12059, 'wilfr': 12548, 'brimley': 1605, 'grandfath': 4928, 'elabor': 3680, 'suffici': 11024, 'hillerman': 5385, 'naiv': 7684, 'ladd': 6465, 'gatsbi': 4656, 'villa': 12254, 'betti': 1272, 'coincident': 2348, 'preposter': 8835, 'mistress': 7435, 'road': 9577, 'da': 2843, 'silva': 10291, 'fitzgerald': 4266, 'sillier': 10289, 'heller': 5301, 'clavel': 2239, 'twain': 11802, 'hemingway': 5310, 'transcendent': 11657, 'sophist': 10583, 'incis': 5760, 'adject': 357, 'insuffici': 5899, 'applaus': 716, 'krzysztof': 6437, 'kieslowski': 6338, 'zbigniew': 12773, 'preisner': 8825, 'irèn': 6009, 'loui': 6825, 'trintign': 11723, 'roug': 9665, 'culmin': 2790, 'receipt': 9235, 'fonda': 4358, 'observ': 7998, 'bonni': 1456, 'clyde': 2310, 'turk': 11787, 'guerrilla': 5034, 'tutelag': 11800, 'wire': 12576, 'biskind': 1326, 'bull': 1689, 'demm': 3039, 'lagravenes': 6471, 'muckrak': 7603, 'scorses': 9919, 'ford': 4380, 'coppola': 2594, 'christi': 2158, 'roster': 9658, 'socio': 10517, 'econom': 3625, 'congratulatori': 2492, 'cinephil': 2199, 'friedkin': 4505, 'exorcist': 3993, 'crucifix': 2760, 'bro': 1617, 'calley': 1796, 'recal': 9232, 'niro': 7859, 'psychopath': 9009, 'crept': 2720, 'motiv': 7576, 'conscious': 2511, 'hopper': 5498, 'stress': 10919, 'respond': 9442, 'sop': 10580, 'klute': 6382, 'piss': 8605, 'contest': 2545, 'shift': 10190, 'consciou': 2510, 'pleaser': 8654, 'nam': 7687, 'weari': 12431, 'crave': 2699, 'inclus': 5764, 'lesser': 6637, 'sung': 11054, 'panic': 8297, 'needl': 7765, 'muse': 7640, 'dern': 3087, 'reunit': 9474, 'fond': 4357, 'sunris': 11059, 'sappi': 9805, 'nonstop': 7893, 'barrymor': 1102, 'blend': 1373, 'fallon': 4081, 'oblivi': 7994, 'sox': 10615, 'spongi': 10701, 'sophomor': 10584, 'alum': 543, 'fallen': 4080, 'chick': 2113, 'eighti': 3672, 'gori': 4884, 'ilk': 5678, 'cum': 2795, 'deform': 2998, 'madman': 6935, 'bloodthirsti': 1397, 'straight': 10892, 'central': 1991, 'morph': 7553, 'transpir': 11667, 'inhabit': 5849, 'salvat': 9772, 'centrepiec': 1992, 'mansion': 7039, 'creaki': 2706, 'tenney': 11353, 'fuse': 4570, 'fodder': 4344, 'environ': 3833, 'screenshot': 9936, 'fabric': 4049, 'squeez': 10740, 'overtak': 8229, 'humankind': 5580, 'ahh': 428, 'ohhh': 8043, 'ehh': 3668, 'whatchout': 12480, 'ohohh': 8045, 'sync': 11189, 'unrehears': 12039, 'samuel': 9782, 'fuller': 4542, 'horrif': 5514, 'pessim': 8511, 'verboten': 12202, 'boom': 1465, 'bold': 1434, 'exclam': 3967, 'pan': 8292, 'terrain': 11365, 'punctuat': 9030, 'beethoven': 1183, 'sgt': 10107, 'brent': 1579, 'ww2': 12687, 'wagner': 12344, 'helga': 5298, 'susan': 11115, 'capac': 1843, 'heartfelt': 5263, 'sect': 9984, 'argument': 771, 'embed': 3736, 'transfus': 11661, 'nuremburg': 7967, 'trial': 11707, 'multi': 7617, 'facet': 4053, 'rossellini': 9657, 'tackl': 11213, 'partli': 8355, 'baker': 1028, 'harold': 5193, 'utmost': 12121, 'grip': 4990, 'conquer': 2506, 'sensation': 10040, 'talkiest': 11242, 'platitud': 8639, 'delinqu': 3016, 'subtext': 10998, 'brawl': 1552, 'splice': 10689, 'franz': 4467, 'stylist': 10974, 'buff': 1676, 'norwegian': 7913, 'motley': 7577, 'norway': 7912, 'gon': 4857, 'na': 7675, 'stubborn': 10952, 'noel': 7877, 'tantoo': 11255, 'cardin': 1865, 'superl': 11075, 'housem': 5545, 'humer': 5585, 'vixen': 12303, 'erica': 3859, 'gavin': 4662, 'mounti': 7582, 'russ': 9713, 'meyer': 7308, 'map': 7046, 'nc': 7747, 'topless': 11583, '1968': 92, 'purportedli': 9045, 'valley': 12141, 'submarin': 10986, 'warfar': 12379, 'instrument': 5897, 'dial': 3159, 'grossli': 5005, 'fought': 4433, 'hungri': 5602, 'dive': 3324, 'heartwarm': 5267, 'allend': 506, 'vandal': 12149, 'lumber': 6873, 'oaf': 7984, 'anglo': 624, 'evas': 3925, 'latin': 6526, 'melliflu': 7244, 'scandinavian': 9856, 'directori': 3230, 'vanessa': 12152, 'redgrav': 9270, 'wiggl': 12539, 'august': 925, 'resign': 9433, 'unnot': 12022, 'inch': 5756, 'permit': 8481, 'gaff': 4594, 'kfc': 6321, 'circa': 2201, 'kentucki': 6309, 'fri': 4500, 'pardon': 8327, 'dictatorship': 3181, '1993': 116, 'slavishli': 10388, 'vagu': 12135, 'miramax': 7392, 'press': 8846, 'recap': 9233, 'platoon': 8640, 'ardenn': 758, 'outpost': 8182, 'plush': 8675, 'hostil': 5529, 'surrend': 11110, 'pressur': 8851, 'wartim': 12391, 'uncertainti': 11886, 'insan': 5871, 'unclear': 11888, 'stellar': 10827, 'dug': 3521, 'tonight': 11574, 'aghast': 415, 'reprehens': 9408, 'parallel': 8319, 'doc': 3341, 'wrist': 12670, 'refract': 9297, 'hq': 5559, 'chan': 2022, 'fu': 4533, 'manchu': 7017, 'ranger': 9168, 'eli': 3702, 'bama': 1044, 'eldon': 3687, 'gleason': 4801, 'vengeanc': 12191, 'anywher': 690, 'pamela': 8290, 'hensley': 5320, 'unrecogniz': 12037, 'ardala': 756, 'valmar': 12142, 'calkin': 1794, 'nose': 7915, '1936': 63, 'aura': 929, 'cher': 2097, 'yer': 12735, 'tuska': 11798, 'wexler': 12475, 'pimlico': 8588, 'tax': 11287, 'restrict': 9450, 'merri': 7283, 'mayhem': 7153, 'cede': 1972, 'duchi': 3510, 'burgundi': 1715, 'footnot': 4371, 'burgundian': 1716, 'interfer': 5923, 'whitehal': 12510, 'stanley': 10784, 'holloway': 5449, 'politician': 8701, 'tiniest': 11523, 'nation': 7725, 'dame': 2866, 'margaret': 7057, 'rutherford': 9721, 'hermion': 5335, 'baddeley': 1011, 'dupli': 3552, 'naughton': 7732, 'radford': 9118, 'hordern': 5501, 'infect': 5826, 'emit': 3749, 'mulder': 7614, 'sculli': 9952, 'hazmat': 5238, 'deaf': 2935, 'viru': 12279, 'upcom': 12079, 'nikki': 7847, 'longest': 6784, 'puppi': 9037, 'collector': 2362, 'abu': 293, 'jaffar': 6060, 'ahmad': 431, 'ploy': 8666, 'deceit': 2955, 'hypnosi': 5630, 'eras': 3853, 'entiti': 3823, 'geni': 4696, 'carpet': 1896, 'gorg': 4881, 'arm': 781, 'spider': 10666, 'octopu': 8018, 'transport': 11669, 'rollin': 9622, 'flimsi': 4314, 'trim': 11721, '84': 229, 'inordin': 5865, 'scantili': 9859, 'clad': 2215, 'captiv': 1857, 'feast': 4146, 'blank': 1360, 'kinki': 6360, 'cultist': 2793, 'mask': 7101, 'shelter': 10172, 'ditto': 3321, 'seashor': 9969, 'bevi': 1275, 'nubil': 7949, 'vacuou': 12132, 'bernard': 1252, 'musson': 7647, 'lui': 6867, 'bunuel': 1707, 'bemusedli': 1226, 'stupidest': 10967, 'preachiest': 8802, 'nuke': 7959, 'protest': 8978, 'soviet': 10614, 'disarma': 3240, 'apparatchik': 708, 'reaganesqu': 9218, 'stanc': 10778, 'chuck': 2169, 'tinsel': 11524, 'ticket': 11492, 'stereo': 10840, 'gase': 4647, 'getaway': 4733, 'girlish': 4781, 'boost': 1469, '1985': 108, 'rainbow': 9143, 'beta': 1266, 'repuls': 9419, 'balanc': 1031, 'stimul': 10858, 'trigger': 11718, 'disenfranchis': 3263, 'voter': 12320, 'rv': 9724, 'brand': 1541, 'subdu': 10982, 'thrive': 11468, 'grim': 4982, 'aftermath': 405, 'populac': 8729, 'temporari': 11338, 'likewis': 6690, 'darken': 2896, 'auditorium': 920, 'attun': 909, 'page': 8261, 'medium': 7227, 'ancestr': 605, 'newspap': 7815, 'ancestor': 604, 'pulp': 9022, 'prose': 8965, 'rice': 9513, 'borrough': 1484, 'johnston': 6160, 'mcculley': 7175, 'bumper': 1700, 'g8': 4586, 'ace': 320, 'protean': 8974, 'assembl': 857, 'lanc': 6486, 'chemist': 2092, 'engin': 3793, 'geologist': 4714, 'archaeologist': 747, 'paleontologist': 8279, 'brainstorm': 1537, 'repackag': 9391, 'paperback': 8309, 'muscular': 7639, 'introduct': 5955, 'rumor': 9701, 'vener': 12188, 'bronz': 1631, 'geoprg': 4715, 'starlett': 10796, 'pursu': 9047, 'specialti': 10645, 'miniatur': 7377, 'rocket': 9603, 'missil': 7420, 'puzzl': 9054, 'ryan': 9725, 'deanna': 2940, '08': 7, '75': 217, 'grandmoth': 4930, 'matern': 7128, 'marquett': 7076, '63rd': 204, 'kedzi': 6284, 'chicago': 2111, 'frankenheim': 4461, 'yarn': 12715, 'elmor': 3721, 'maya': 7151, 'shahrukh': 10122, 'khan': 6323, 'exit': 3991, 'farley': 4106, 'carla': 1879, 'overwork': 8238, 'unappreci': 11870, 'administr': 359, 'drudg': 3497, 'invis': 5973, 'brush': 1651, 'teeth': 11321, 'thankless': 11397, 'task': 11272, 'desk': 3106, 'restroom': 9451, 'repositori': 9407, 'cup': 2799, 'spill': 10672, 'emmanuel': 3751, 'devo': 3141, 'contract': 2553, 'submit': 10988, 'groom': 5001, 'applic': 721, 'cassel': 1929, 'thief': 11431, 'pattern': 8389, 'indentur': 5789, 'servitud': 10082, 'debt': 2949, 'grander': 4925, 'doormat': 3390, 'awkward': 978, 'adjust': 358, 'muffl': 7611, 'intuit': 5960, 'compens': 2428, 'brutish': 1656, 'rough': 9666, 'borderlin': 1476, 'deprav': 3075, 'zippi': 12797, 'misadventur': 7397, 'thuggish': 11481, 'vulner': 12329, 'lurk': 6889, 'dewaer': 3147, 'babi': 995, 'blier': 1378, 'depardieu': 3067, 'explicitli': 4010, 'homoerot': 5469, 'incid': 5758, 'foibl': 4348, 'mockeri': 7460, 'notion': 7929, 'honesti': 5473, 'basi': 1112, 'rosi': 9655, 'alvarez': 544, 'coolest': 2580, 'alexand': 484, 'gawd': 4663, 'peterson': 8520, 'seductress': 9992, 'tyne': 11825, 'dali': 2857, 'wendt': 12462, 'mcafe': 7160, 'lynd': 6903, '1963': 87, 'brigitta': 1600, 'dau': 2911, 'ursula': 12106, 'merkl': 7281, 'kudisch': 6439, 'conrad': 2507, 'birdi': 1320, 'chynna': 2183, 'phillip': 8542, 'kim': 6346, 'delusion': 3028, 'outdat': 8168, 'staircas': 10767, 'geeeee': 4673, 'od': 8020, 'info': 5837, 'typo': 11832, 'uppiti': 12087, 'muck': 7602, 'telephon': 11324, 'invert': 5968, 'rottweil': 9664, 'clutch': 2307, 'chest': 2101, 'loader': 6747, 'thinge': 11434, 'vacant': 12129, 'shaq': 10140, 'ne': 7748, 'plethora': 8658, 'unbear': 11877, 'steel': 10818, 'elisabeth': 3709, 'havilland': 5225, 'johni': 6157, 'prosthet': 8970, 'hal': 5114, 'holbrock': 5435, 'housew': 5548, '24': 149, 'carradin': 1899, 'spain': 10623, 'transform': 11660, 'technolog': 11312, 'everett': 3932, 'finess': 4240, 'dc': 2924, 'dolbi': 3360, 'hdtv': 5241, 'upconvert': 12080, 'philosoph': 8544, 'mumbo': 7625, 'jumbo': 6214, 'existenz': 3990, 'allegra': 504, 'geller': 4685, 'voluntarili': 12314, 'arci': 754, 'nader': 7677, 'sympath': 11184, 'predefin': 8816, 'recip': 9243, 'soulless': 10603, 'tempt': 11339, 'cronenberg': 2745, 'snippet': 10489, 'samair': 9776, 'armstrong': 792, 'alert': 481, 'gcif': 4669, 'pixar': 8618, 'barbi': 1074, 'bloodlin': 1394, 'linag': 6697, 'ali': 490, 'mcgraw': 7186, 'bothersom': 1495, 'sacrific': 9740, 'stonewal': 10879, 'overcam': 8199, 'katharin': 6268, 'beard': 1155, 'labour': 6459, 'leftest': 6591, 'yugoslavian': 12756, 'institut': 5894, 'abroad': 281, 'iraq': 5988, 'excrement': 3972, '45': 185, 'tropic': 11746, 'trade': 11631, 'broad': 1618, 'unconsci': 11894, 'centr': 1990, 'sold': 10544, 'smash': 10445, 'exclus': 3969, 'futurist': 4578, 'souza': 10613, 'arni': 795, 'dish': 3268, 'pen': 8442, 'neck': 7760, 'strangl': 10905, 'subzero': 11010, 'barb': 1067, 'slice': 10406, 'killian': 6342, 'billboard': 1299, 'funnili': 4556, 'schwarzenegg': 9904, 'islam': 6019, 'stringi': 10930, 'xx': 12700, 'shittier': 10199, 'damm': 2868, 'repris': 9412, 'luc': 6853, 'devoreaux': 3143, 'unisol': 11998, 'universi': 12003, 'poetri': 8684, 'wcw': 12421, 'goldberg': 4849, 'seth': 10085, 'lieuten': 6673, 'kany': 6249, 'ego': 3661, 'goddamn': 4835, 'dicul': 3184, 'mon': 7490, 'sewn': 10096, 'shut': 10245, 'nooo': 7898, 'worthless': 12654, 'gritti': 4994, 'berserk': 1256, 'enact': 3772, 'supermarket': 11078, 'rampag': 9154, 'dystopia': 3584, 'orwellian': 8144, 'cesspit': 2004, 'sieg': 10268, 'robocop': 9594, 'termin': 11363, '1999': 122, 'laurel': 6541, 'hardi': 5179, 'charley': 2056, 'rascal': 9182, 'withstood': 12597, 'thelma': 11406, 'todd': 11546, 'zasu': 12772, 'ounc': 8161, 'crank': 2690, 'lower': 6841, 'tier': 11498, 'stan': 10777, 'olli': 8062, 'juri': 6225, 'defens': 2991, 'pushi': 9052, 'react': 9208, 'boorish': 1468, 'client': 2266, 'explod': 4011, 'diet': 3190, 'pill': 8586, 'swallow': 11133, 'blob': 1386, 'golf': 4856, 'brow': 1642, 'legitim': 6600, 'speedi': 10657, 'faster': 4119, 'laundromat': 6538, 'dryer': 3506, 'spin': 10673, 'li': 6655, 'isra': 6024, 'disput': 3291, 'egypt': 3665, 'syria': 11198, 'jordan': 6176, 'israel': 6025, 'occupi': 8012, 'defi': 2992, 'compli': 2438, '242': 150, 'incept': 5752, 'palestinian': 8281, 'void': 12307, 'antisemit': 672, 'rig': 9536, 'sxsw': 11173, 'tx': 11820, 'eager': 3587, 'meander': 7202, 'sloppi': 10422, 'irritatingli': 6006, 'condescend': 2471, 'trucker': 11752, 'min': 7365, 'rigger': 9538, 'mobi': 7454, 'dragon': 3447, 'brit': 1610, 'troch': 11736, 'ny': 7976, 'dyke': 3578, '_go': 250, 'fish_': 4258, 'gentli': 4708, 'jaundic': 6087, 'milieu': 7348, 'revert': 9482, 'primit': 8879, 'relish': 9353, 'linger': 6707, 'hyperkinesi': 5629, 'eisenstein': 3675, 'teuton': 11385, '1938': 65, 'russia': 9715, 'eastern': 3611, 'potemkin': 8774, 'ivan': 6037, 'finest': 4241, 'nobil': 7870, 'abe': 266, 'joad': 6141, 'emphasi': 3761, 'belabor': 1207, 'illinoi': 5683, 'shonuff': 10208, 'compendium': 2427, 'salt': 9769, 'brownrigg': 1645, 'ubiquet': 11841, 'exerc': 3982, 'economi': 3626, 'prevad': 8861, 'claustrophobia': 2238, 'narrar': 7707, 'es': 3878, 'wake': 12353, 'dental': 3063, 'floss': 4325, 'texa': 11388, 'palati': 8277, 'sanitorium': 9800, 'allan': 499, 'poe': 8680, 'tome': 11564, 'unwittingli': 12075, 'saniti': 9799, 'moctezuma': 7463, 'peyot': 8524, 'fuel': 4535, 'psychedel': 9000, 'tarr': 11268, 'dungeon': 3545, '1972': 95, 'tangenti': 11249, 'di': 3152, 'leo': 6625, 'erotica': 3871, 'inject': 5856, 'defin': 2995, 'legaliciuo': 6595, 'playmat': 8647, 'holotik': 5456, 'beal': 1149, 'rn': 9573, 'clinic': 2275, 'supervisor': 11086, 'forsaken': 4421, 'peckinpah': 8420, 'pioneer': 8599, 'therapi': 11417, '6ft': 208, '250': 153, 'smartest': 10444, 'onscreen': 8082, 'whack': 12477, 'portion': 8750, 'geraldin': 4718, 'annabel': 639, 'weenick': 12447, 'startlingli': 10799, 'defus': 3001, 'lobotom': 6752, 'african': 403, 'boheomouth': 1430, 'mcghee': 7183, 'muscl': 7638, 'prize': 8893, 'consumpt': 2536, 'popsicl': 8727, 'underli': 11919, 'snappi': 10477, 'reluctantli': 9357, 'leggi': 6598, 'nurs': 7969, 'symptom': 11188, 'sharpest': 10148, 'cleaver': 2253, 'quarter': 9073, 'nearest': 7753, 'hardwar': 5181, 'hasp': 5212, 'padlock': 8259, 'sneak': 10481, 'knive': 6392, 'caress': 1871, 'health': 5252, '42nd': 183, 'boutiqu': 1512, 'allysson': 517, 'compuls': 2450, 'nymphomaniac': 7981, 'tendanc': 11344, 'histrion': 5408, 'harriet': 5197, 'dote': 3409, 'seargant': 9967, 'seargeant': 9968, 'vietnam': 12242, 'vet': 12217, 'neglig': 7772, 'binocular': 1312, 'phish': 8546, 'eve': 3926, 'scarf': 9865, 'nembutol': 7785, 'barbitu': 1075, 'bra': 1526, 'callingham': 1797, 'soothsay': 10579, 'hag': 5095, 'catalyst': 1939, 'threadbar': 11458, 'decor': 2968, 'unremark': 12041, 'ambient': 561, 'hallway': 5126, 'shini': 10194, 'stairway': 10768, 'closet': 2291, 'passageway': 8361, 'freezer': 4488, 'exterior': 4025, 'swelter': 11155, 'bead': 1147, 'persper': 8497, 'exhaust': 3985, 'firm': 4253, 'profess': 8914, 'diminish': 3209, 'screamer': 9932, 'undress': 11945, 'stipul': 10863, 'stealer': 10814, 'motha': 7570, 'lobotomi': 6753, 'rhea': 9502, 'macadam': 6914, 'uproari': 12089, 'coot': 2586, 'donald': 3370, 'reev': 9286, '1964': 88, 'garden': 4639, 'bargain': 1082, 'codefre': 2335, 'brentwood': 1580, 'vci': 12175, 'platinum': 8638, 'corp': 2612, 'alpha': 530, 'sexili': 10101, 'gorgeous': 4883, '89': 233, 'therein': 11422, 'downright': 3429, 'rosemari': 9653, 'rediscov': 9272, 'penni': 8451, 'sandler': 9791, 'inconceiv': 5771, 'chuckl': 2170, 'agoni': 421, 'curb': 2801, 'curios': 2804, 'overboard': 8198, 'shatner': 10150, 'miner': 7374, 'environment': 3834, 'gusto': 5066, 'spock': 10693, 'nimoy': 7851, 'vignett': 12247, 'skit': 10365, 'spade': 10620, 'extemporan': 4020, 'donnel': 3375, 'modesti': 7471, 'blais': 1350, 'losey': 6814, 'alexandra': 485, 'staden': 10756, 'butt': 1745, 'chucklethi': 2172, 'lob': 6751, 'consult': 2533, 'properti': 8957, 'quentin': 9083, 'tarrentino': 11269, 'willi': 12549, 'garvin': 4646, 'louch': 6821, 'casino': 1923, 'tangier': 11250, '21': 145, 'pois': 8687, 'romero': 9631, 'matur': 7144, 'spiegel': 10668, 'tripe': 11726, 'weekli': 12446, 'alba': 466, 'plotlin': 8663, 'amateurish': 553, 'biolog': 1316, 'azjazz': 988, 'dentist': 3064, 'beserk': 1258, 'moviesi': 7591, 'cleanli': 2247, 'ranma': 9170, 'manga': 7022, 'chapter': 2040, '16': 30, 'author': 941, 'rumiko': 9699, 'takahashi': 11231, 'inu': 5961, 'yasha': 12716, 'googl': 4872, 'rash': 9184, '161': 31, 'rewind': 9493, 'consecut': 2512, 'dreamt': 3466, 'satisfi': 9828, 'cliffhang': 2268, 'bonker': 1454, 'saotom': 9803, 'genma': 4701, 'dous': 3418, 'panda': 8294, 'crafti': 2680, 'tendo': 11347, 'dojo': 3358, 'hackford': 5090, 'jami': 6072, 'breadth': 1557, 'unblemish': 11881, 'eon': 3837, 'wore': 12637, 'rave': 9194, 'hetfield': 5352, 'lar': 6508, 'arbitrari': 740, 'anxieti': 681, 'provinci': 8987, 'hermit': 5336, 'voodoo': 12318, 'townspeopl': 11622, 'peel': 8431, 'fulci': 4539, 'giallo': 4745, 'polarisdib': 8693, 'tvnz': 11801, 'nz': 7982, 'matt': 7138, 'stuntman': 10965, 'campbel': 1817, 'ks': 6438, 'sabbath': 9733, 'hadnt': 5093, 'marathi': 7048, 'orang': 8118, 'dd1': 2925, 'sunday': 11052, 'glu': 4826, 'techniqu': 11310, 'earthi': 3601, 'hindi': 5392, 'splash': 10683, 'awestruck': 976, 'surreal': 11108, 'ought': 8159, 'hypercrit': 5628, 'primari': 8876, 'bonsal': 1457, 'scam': 9853, 'compass': 2423, 'nicknam': 7831, 'riff': 9533, 'raff': 9126, 'poem': 8681, 'iambic': 5638, 'pentamet': 8455, 'disclos': 3252, 'unworthi': 12076, 'junki': 6223, 'execution': 3980, 'gallow': 4611, 'midst': 7324, 'demis': 3038, '1996': 119, 'stanton': 10785, 'seventeen': 10090, 'nick': 7828, 'wiseman': 12584, '2000': 129, 'fatal': 4121, 'esqu': 3889, 'cromwel': 2743, 'nineti': 7855, 'ninth': 7857, 'bascal': 1105, 'stepin': 10837, 'fetchit': 4196, 'shack': 10113, 'farina': 4105, 'retriev': 9467, 'sweetheart': 11152, 'tenness': 11351, 'cotton': 2636, 'weezer': 12449, 'relay': 9338, 'taffi': 11219, 'segu': 10006, 'pud': 9017, 'tamal': 11244, 'tabasco': 11203, 'lux': 6898, 'concoct': 2466, 'sticki': 10852, 'pipe': 8600, 'outlet': 8178, 'variabl': 12158, 'applianc': 720, 'vacuum': 12133, 'refriger': 9300, 'portend': 8744, 'blah': 1348, 'curio': 2803, 'theodor': 11412, 'closur': 2293, 'beck': 1166, 'semest': 10027, 'angela': 620, 'holli': 5446, 'unsatisfi': 12047, 'rees': 9285, 'maureen': 7145, 'dani': 2884, 'traumatis': 11680, 'angri': 625, 'quaint': 9066, 'dreami': 3464, 'scale': 9850, 'stallon': 10773, 'treasuri': 11693, 'barn': 1090, 'tech': 11306, 'automat': 949, 'lithgow': 6730, 'moonstruck': 7530, 'nichola': 7826, 'cage': 1777, 'bakeri': 1029, 'jewison': 6130, 'fiddler': 4211, 'roof': 9638, 'staccato': 10752, 'redub': 9275, 'pacifist': 8254, 'librarian': 6665, 'mindedli': 7368, 'meek': 7230, 'favortit': 4133, 'hk': 5416, 'paus': 8395, 'playback': 8642, 'briefli': 1593, 'strike': 10927, 'legiunea': 6602, 'sträinä': 10949, 'clariti': 2226, 'paramet': 8321, 'daneliuc': 2880, 'irrevers': 6003, 'faculti': 4061, 'coalesc': 2316, 'disord': 3282, 'cântarea': 2842, 'româniei': 9634, 'amateur': 552, 'gloriou': 4818, 'feat': 4147, 'socialist': 10514, 'positiv': 8760, 'sugari': 11027, 'pernici': 8483, 'negativ': 7770, 'scatolog': 9873, 'infantil': 5823, 'didact': 3185, 'kindergarten': 6353, 'tenet': 11348, 'simplest': 10301, 'grammar': 4918, 'phrase': 8557, 'sheet': 10164, 'nuthin': 7971, 'ere': 3855, '1984': 107, 'cursa': 2811, 'proba': 8895, 'microfon': 7319, 'vânätoarea': 12334, 'vulpi': 12330, 'croaziera': 2740, 'glissando': 4808, 'sic': 10253, 'mundi': 7630, 'luhzin': 6866, 'chess': 2100, 'forewarn': 4398, 'versu': 12214, 'natalia': 7718, 'behav': 1197, 'lit': 6726, 'helper': 5307, 'pawn': 8398, 'bishop': 1325, 'placement': 8621, 'pivot': 8616, 'illumin': 5684, 'endors': 3784, 'quinci': 9092, 'doolittl': 3386, 'clutter': 2308, 'alvin': 545, 'dewey': 3148, 'ponder': 8710, 'leland': 6609, 'condon': 2474, 'evalu': 3923, 'carey': 1873, 'grader': 4911, 'bigv': 1294, 'piper': 8601, 'perabo': 8460, 'violet': 12273, 'stanford': 10783, 'karen': 6256, 'friendli': 4508, 'rocki': 9605, 'bullwinkl': 1696, 'virgin': 12276, 'kindegarden': 6351, 'endear': 3781, 'antebellum': 659, 'gettysburg': 4735, 'cadet': 1771, 'uniform': 11984, 'disciplin': 3251, '1830': 38, 'brink': 1607, 'classroom': 2234, '1861': 42, 'june': 6218, 'dupont': 3553, 'custer': 2819, 'fanni': 4096, 'auti': 942, 'alonzo': 527, 'cush': 2818, 'stuart': 10951, '1854': 39, 'santa': 9802, 'fe': 4144, 'fudg': 4534, 'jeb': 6097, '1859': 40, 'insurrect': 5903, 'ferri': 4189, '1863': 43, 'raid': 9137, '61': 202, 'chum': 2174, 'dev': 3129, 'neill': 7781, 'shelbi': 10168, 'peyton': 8525, 'partick': 8350, 'rork': 9648, 'pelham': 8437, 'mid': 7321, '19th': 123, 'haggard': 5097, 'cki': 2214, 'dunn': 3547, 'dicamillo': 3176, 'stole': 10872, 'gnar': 4828, 'citizen': 2209, 'kane': 6246, 'cleavag': 2252, 'dolemit': 3362, 'kung': 6443, 'bee': 1177, 'util': 12118, 'devot': 3144, 'rudi': 9691, 'rhyme': 9506, 'rex': 9499, 'swindler': 11162, 'whoopi': 12524, 'referenc': 9291, 'nanni': 7696, 'kazzam': 6280, 'hulk': 5572, 'hogan': 5430, 'awhil': 977, 'math': 7129, 'repress': 9411, 'lucki': 6860, 'categori': 1946, '2006': 136, 'cruelti': 2766, 'flexibl': 4308, 'manifest': 7028, 'dbd': 2922, 'edison': 3637, 'debacl': 2944, 'machismo': 6924, 'knack': 6383, 'menac': 7258, 'strongest': 10941, 'hong': 5477, 'kong': 6404, 'infern': 5828, 'saga': 9752, 'chow': 2155, 'retain': 9456, 'rundown': 9705, 'urbanscap': 12099, 'pervas': 8505, 'trodden': 11738, 'nite': 7862, 'mongkok': 7495, 'pervers': 8506, 'daniel': 2885, 'wu': 12683, 'mainland': 6966, 'nameless': 7690, 'hail': 5103, 'cambodia': 1802, 'chillingli': 2128, 'courtesi': 2655, 'wean': 12428, 'eponym': 3846, 'cid': 2187, 'lam': 6476, 'suet': 11021, 'lai': 6472, 'renegad': 9381, 'wai': 12347, 'evok': 3946, 'handi': 5143, 'relentless': 9341, 'pursuit': 9049, 'quotient': 9104, 'token': 11552, 'hastili': 5215, 'cecilia': 1971, 'cheung': 2105, 'intrepid': 5950, 'comer': 2394, 'pei': 8436, 'anonym': 652, 'landfil': 6489, 'yearn': 12725, 'ditch': 3318, 'bloom': 1398, 'en': 3770, 'lovey': 6835, 'dovey': 3419, 'evinc': 3944, 'cheang': 2070, 'soi': 10538, 'portfolio': 8747, 'battlefield': 1135, 'eason': 3608, 'surpass': 11105, 'erect': 3856, 'johnni': 6158, 'watersh': 12409, 'nocturn': 7875, 'glitch': 4809, 'miracul': 7391, 'shrug': 10240, 'triumphant': 11733, 'heyday': 5355, 'fort': 4424, 'buoy': 1708, 'thespian': 11426, 'auditori': 919, 'nighttim': 7845, 'alter': 535, 'uphold': 12083, 'lovingli': 6837, 'joyou': 6190, 'vibrant': 12223, 'subcultur': 10981, 'q': 9062, 'beasti': 1157, 'turntabl': 11794, 'guitar': 5046, 'fader': 4063, 'herbi': 5328, 'hancock': 5140, 'grammi': 4920, 'rewound': 9496, 'wicka': 12530, 'itch': 6032, 'compliment': 2440, 'rotat': 9661, 'shannon': 10137, 'ruben': 9686, 'stapler': 10788, 'cartooni': 1912, 'skeptic': 10351, 'wednesday': 12440, 'flare': 4284, 'radar': 9117, 'armchair': 785, 'youknowwhat': 12748, 'renov': 9386, 'internet': 5929, 'websit': 12438, 'rerun': 9424, 'fave': 4130, 'unpretenti': 12030, 'monday': 7493, 'johnathon': 6156, 'schaech': 9879, 'tish': 11532, 'lori': 6809, 'heur': 5353, 'budapest': 1669, 'luxuri': 6900, 'threesom': 11462, 'decept': 2960, 'seedi': 9994, 'pornographi': 8737, 'bondag': 1449, 'snuff': 10506, 'titil': 11536, 'voyeurist': 12324, 'apathet': 693, 'dodgi': 3348, 'intermin': 5927, 'lifeforc': 6675, 'strangest': 10904, 'spaceshuttl': 10618, 'churchil': 2180, 'halley': 5120, 'comet': 2395, 'coma': 2384, 'carlsen': 1882, 'railsback': 9140, 'bat': 1125, 'humanoid': 5582, 'crystallin': 2781, 'mathilda': 7131, 'catastroph': 1941, 'dock': 3342, 'dessic': 3114, 'test': 11379, 'compound': 2444, 'seduct': 9991, 'firth': 4256, 'sophi': 10581, 'marceau': 7051, 'seigner': 10007, 'fidget': 4213, 'danish': 2886, 'blinkend': 1383, 'lygter': 6901, 'ander': 610, 'jensen': 6109, 'dwell': 3572, 'mikkelsen': 7336, 'nikolaj': 7849, 'kaa': 6236, 'looser': 6799, 'reynold': 9500, 'showdown': 10227, 'indestruct': 5792, 'ninja': 7856, 'fistfight': 4264, 'kamal': 6244, 'hasan': 5210, 'glenwood': 4806, 'kansa': 6247, 'sampl': 9779, 'firmli': 4254, 'tad': 11216, 'portrait': 8753, 'frayn': 4473, 'irwin': 6008, 'crocodil': 2742, 'inci': 5757, 'winci': 12562, 'whing': 12501, 'sigh': 10272, 'nauss': 7737, 'takakura': 11232, 'oda': 8021, 'hotari': 5531, 'selleck': 10019, 'yakuza': 12707, 'leadership': 6567, 'cocreat': 2332, 'advers': 376, 'inaugur': 5746, 'canada': 1823, 'bread': 1556, 'amphibian': 585, 'egg': 3659, 'yakit': 12706, 'ja': 6044, 'azuma': 990, 'kazuma': 6279, 'pun': 9026, 'naruto': 7711, 'ajikko': 450, 'saiyan': 9760, 'mcavoy': 7162, 'romola': 9632, 'garai': 4629, 'irish': 5992, 'guis': 5045, 'understat': 11927, 'hoffmann': 5428, 'autism': 943, 'ireland': 5990, 'crummi': 2769, 'gimmick': 4770, 'edgi': 3635, 'irrelev': 5999, 'idioci': 5661, 'deviant': 3132, 'std': 10811, 'aha': 426, 'fifteen': 4220, 'pc': 8407, 'headlin': 5247, 'nausicaa': 7736, 'wind': 12563, 'tragicreview': 11642, 'oldboy': 8053, 'unimaginari': 11987, 'imprison': 5731, 'dae': 2848, 'su': 10977, 'captor': 1858, 'bloat': 1385, 'writtern': 12676, 'occasionlli': 8009, 'straw': 10908, 'verdict': 12204, 'grey': 4975, 'intru': 5958, 'pilgrimag': 8585, 'grizzl': 4996, 'subor': 10989, 'trebor': 11697, 'bourn': 1510, 'hut': 5622, 'chronolog': 2166, 'brusqu': 1652, 'nemesi': 7786, 'limey': 6693, 'reson': 9437, 'gégauff': 5082, 'le': 6562, 'reflux': 9295, 'grégoir': 5026, 'sexiest': 10100, 'sweetli': 11154, 'repair': 9392, 'toddler': 11548, 'clair': 2217, 'deni': 3051, 'foreplay': 4391, 'pouch': 8781, 'incap': 5749, 'ruthlessli': 9723, 'travers': 11685, 'negoti': 7774, 'nefari': 7767, 'travail': 11681, 'skylin': 10368, 'signag': 10276, 'korea': 6413, 'pacif': 8253, 'heal': 5251, 'cleans': 2248, 'coloni': 2371, 'global': 4810, 'incorpor': 5775, 'stevenson': 10847, 'gauguin': 4658, 'marlon': 7073, 'brando': 1544, 'tahiti': 11223, 'idyl': 5666, 'memoir': 7253, 'transplant': 11668, 'boundari': 1505, 'quixot': 9101, 'odyssey': 8026, 'ellipt': 3717, 'yesilcam': 12736, 'prescient': 8840, 'foreseen': 4393, 'piqu': 8602, 'turkish': 11790, 'built': 1685, 'nuri': 7968, 'bilg': 1297, 'ceylan': 2006, 'uzak': 12126, 'kasaba': 6262, 'cloud': 2295, 'mahmoud': 6960, 'istanbul': 6027, 'yusuf': 12764, 'nephew': 7791, 'villag': 12255, 'factori': 4059, 'fruitlessli': 4528, 'café': 1776, 'nervous': 7796, 'connot': 2504, 'tightli': 11504, 'insul': 5900, 'infiltr': 5832, 'undoubt': 11943, 'formalist': 4411, 'dramatist': 3453, 'reign': 9323, 'tarkovski': 11266, 'coen': 2338, 'nostalg': 7919, 'distributor': 3314, 'venic': 12192, 'agreement': 423, 'tuesday': 11774, 'hectic': 5279, 'eva': 3920, 'waitress': 12351, 'indirectli': 5802, 'adulteri': 371, 'holiday': 5444, 'senseless': 10041, 'lengthen': 6616, 'deceiv': 2956, 'chubbi': 2168, 'kay': 6277, 'damsel': 2872, 'distress': 3312, 'camel': 1805, 'hammer': 5134, 'redund': 9278, 'cheek': 2081, 'pazu': 8406, 'sheeta': 10165, 'mensa': 7263, 'miyazaki': 7446, 'vander': 12151, 'geek': 4674, 'spoken': 10699, 'wisdom': 12581, 'seldom': 10012, '101': 12, 'dalmatian': 2860, 'astor': 875, 'ricardo': 9511, 'cortez': 2621, 'smirk': 10457, 'brylcreem': 1660, 'salesman': 9764, 'una': 11861, 'merkel': 7280, 'cairo': 1781, 'gutman': 5068, 'successor': 11014, 'sydney': 11175, 'greenstreet': 4964, 'transcend': 11656, 'wonderley': 12619, '41': 180, 'falcon': 4077, 'temptat': 11340, 'monarchi': 7492, 'warrant': 12387, 'etiquett': 3911, 'truffl': 11757, 'rissol': 9564, 'minist': 7382, 'majesti': 6972, 'victoriain': 12232, 'detach': 3120, 'uninform': 11988, 'kidman': 6331, 'thrust': 11477, 'zellweg': 12783, 'incumb': 5781, 'entourag': 3825, 'honour': 5480, 'asner': 848, 'enlist': 3802, 'cheesier': 2086, 'scroog': 9945, 'sumner': 11048, 'auberjonoi': 913, 'douchebag': 3415, 'carol': 1891, 'hug': 5567, 'trow': 11750, 'priyadarshan': 8892, 'kyonki': 6451, 'specif': 10646, 'govinda': 4900, 'dhavan': 3151, 'variat': 12159, 'herapheri': 5326, 'malam': 6984, 'garam': 4630, 'masala': 7095, 'nicol': 7832, 'dissapoint': 3296, 'vinci': 12264, 'code': 2334, 'religion': 9351, 'purist': 9041, 'langdon': 6498, 'vittoria': 12294, 'im': 5687, 'preced': 8804, 'damon': 2870, 'straithrain': 10900, 'smidgeon': 10453, 'negat': 7769, 'shaki': 10126, 'cam': 1801, 'plotless': 8662, 'lawnmow': 6551, 'decapit': 2952, 'roman': 9624, '1982': 105, 'caligula': 1792, 'carpent': 1895, 'commentor': 2406, 'label': 6455, '98': 243, 'cent': 1987, 'bowl': 1517, 'dispos': 3289, 'chopstick': 2146, 'coup': 2648, 'duper': 3551, 'swedish': 11147, '99': 244, 'maven': 7147, 'stilt': 10857, 'scarlett': 9871, 'fenton': 4180, 'rhett': 9504, 'rippley': 9557, 'ebon': 3618, 'solino': 10550, 'rend': 9376, 'deviat': 3133, 'lt': 6849, 'judgement': 6195, 'fiendish': 4216, 'shower': 10228, 'bride': 1589, 'francisco': 4457, 'mst': 7598, 'bix': 1336, 'drifter': 3477, 'lure': 6887, 'elam': 3682, 'sicko': 10258, 'boil': 1431, 'minuscul': 7388, 'mostel': 7566, 'belafont': 1208, 'levin': 6650, 'ida': 5652, 'kaminski': 6245, 'belong': 1219, 'tailor': 11226, 'arthriti': 812, 'bedridden': 1174, 'welfar': 12457, 'traver': 11684, 'coil': 2345, 'earthli': 3602, 'deceas': 2954, 'farewel': 4103, 'polish': 8699, 'brogu': 1624, 'malamud': 6985, 'frodi': 4517, 'deadpan': 2934, 'micki': 7317, 'sheer': 10163, 'psychot': 9011, 'papa': 8306, 'nez': 7819, 'porpois': 8738, 'ditti': 3320, 'satisfactori': 9826, 'daddi': 2847, '68': 207, 'ah': 425, 'repel': 9396, 'sleev': 10400, 'forebod': 4381, 'yeong': 12733, 'damien': 2867, 'outgo': 8173, 'bimbo': 1305, 'seon': 10052, 'reclus': 9247, 'hae': 5094, 'colour': 2377, 'honogurai': 5478, 'mizu': 7447, 'soko': 10541, 'attribut': 908, 'timelin': 11512, 'handpuppet': 5148, 'bot': 1492, 'dang': 2881, 'statist': 10806, '18': 36, 'charliz': 2058, 'wahlberg': 12346, 'ab': 258, 'misus': 7438, 'downhil': 3427, 'heist': 5294, 'theron': 11425, 'norton': 7911, 'spandex': 10626, 'undetermin': 11939, 'redneck': 9273, 'reassur': 9228, 'courthous': 2656, 'dy': 3575, 'wool': 12634, 'kiefer': 6336, 'klansman': 6377, 'villaini': 12257, 'defenc': 2989, 'milquetoast': 7361, 'matthew': 7141, 'mcconaughey': 7169, 'sandra': 9793, 'prosecut': 8966, 'immor': 5703, 'feebl': 4156, 'oratori': 8120, 'leaden': 6565, 'verg': 12205, 'menzi': 7268, 'lush': 6891, 'technicolor': 11309, '141': 25, 'afterthought': 407, 'repugn': 9417, 'sumptuou': 11049, 'miklo': 7337, 'rosza': 9659, 'deftli': 3000, 'doubtless': 3413, 'spielberg': 10670, 'feather': 4148, '1939': 66, 'korda': 6412, 'sooraj': 10577, 'barjatya': 1084, 'prem': 8828, 'ki': 6326, 'deewani': 2982, 'hoon': 5489, 'promo': 8942, 'vivah': 12296, 'barjatyagot': 1085, 'hum': 5576, 'app': 705, 'ke': 6281, 'hai': 5102, 'kaun': 6276, 'pyar': 9056, 'kiya': 6375, 'desi': 3102, 'wed': 12439, 'poonam': 8716, 'ajnab': 452, 'shahid': 10121, 'kapoor': 6250, 'amrita': 589, 'rao': 9173, '30min': 166, 'tissu': 11533, 'anjan': 634, 'chichi': 2112, 'roa': 9575, 'cuter': 2824, 'srk': 10748, 'kajol': 6240, 'ishq': 6017, 'vishk': 12283, 'mujh': 7613, 'haq': 5168, 'defiantli': 2993, 'sweetest': 11151, 'file': 4228, 'bestest': 1262, 'gladiat': 4791, 'baskin': 1120, 'seen1': 9999, 'empathi': 3758, 'predica': 8817, 'morgan': 7545, 'freeman': 4486, 'shawshank': 10156, 'conglomer': 2488, 'burner': 1723, 'mose': 7563, 'ashford': 836, 'timberlak': 11510, 'journalist': 6182, 'unpersuas': 12026, 'irk': 5994, 'ammo': 579, 'error': 3874, 'blatantli': 1365, 'articl': 816, 'oleg': 8056, 'menshikov': 7264, 'comrad': 2452, 'audac': 914, 'mikhalkov': 7334, 'ambit': 562, 'tzar': 11835, 'ashanti': 834, '1979': 101, 'gees': 4676, 'burton': 1731, 'anansa': 601, 'slaver': 10386, 'trader': 11633, 'suleiman': 11035, 'ustinov': 12112, 'hopeless': 5495, 'englishman': 3796, 'harrison': 5199, 'helicopt': 5299, 'holden': 5439, 'malik': 6999, 'kabir': 6238, 'bedi': 1173, 'omar': 8067, 'sharif': 10143, 'sunset': 11060, 'nora': 7901, 'ephron': 3839, 'linklat': 6710, 'celin': 1979, 'vienna': 12240, 'effici': 3654, 'slacker': 10373, 'destin': 3116, 'smallest': 10441, 'atom': 892, 'liveli': 6735, 'boredom': 1479, 'shelv': 10174, 'heartbreak': 5260, 'scatter': 9874, 'natalya': 7719, 'negoda': 7773, 'drunkard': 3503, 'simpleton': 10302, 'aleksandr': 480, 'negreba': 7775, 'moscow': 7562, 'dysfunct': 3582, 'sergei': 10066, 'andrei': 615, 'sokolov': 10542, 'malenkaya': 6993, 'urss': 12105, 'brazilian': 1555, 'sagr': 9754, 'centerfold': 1989, 'portugues': 8755, 'brazil': 1554, 'pequena': 8458, 'wan': 12367, 'mtv': 7601, 'watcher': 12401, 'doubtlessli': 3414, 'spooki': 10705, 'fifti': 4222, 'jon': 6172, 'lucinda': 6858, 'patricia': 8381, 'northern': 7910, '1975': 97, 'malici': 6997, 'prunella': 8993, 'gee': 4672, 'adulter': 370, 'allmighti': 511, 'daydream': 2918, 'evan': 3924, 'carrey': 1901, 'injuri': 5858, 'murhphi': 7634, 'charlton': 2060, 'heston': 5348, 'carrel': 1900, 'baxter': 1139, 'sept': 10055, '30th': 167, 'monro': 7510, 'vario': 12161, 'benni': 1237, 'tsuni': 11768, 'morri': 7554, 'launch': 6536, 'stardom': 10790, 'emilio': 3747, 'estavez': 3896, 'swazey': 11142, 'macchio': 6918, 'horizon': 5502, 'foolishli': 4366, 'entitl': 3824, 'hurl': 5610, 'tee': 11317, 'hee': 5283, 'snuck': 10505, 'muniz': 7631, 'nickelodeon': 7830, 'byne': 1755, 'giamatti': 4746, 'shepherd': 10179, 'liar': 6658, 'kayle': 6278, 'quay': 9080, 'disconcert': 3254, 'straightli': 10896, 'jouvet': 6185, 'vigor': 12248, 'exuber': 4036, 'antoin': 675, 'vast': 12166, 'subvers': 11008, 'philistin': 8541, 'clouzot': 2297, 'steeman': 10819, 'parisian': 8333, 'accustom': 319, 'diaboliqu': 3156, 'simon': 10297, 'renant': 9375, 'spinster': 10677, 'inspector': 5885, 'schoolboy': 9892, 'merciless': 7271, 'picturesqu': 8572, 'interrog': 5936, 'lacuna': 6464, 'defect': 2988, '_divinatori': 247, 'multifacet': 7618, '_filmic': 249, 'foray': 4375, 'craftsmanship': 2681, 'sardon': 9812, 'unspar': 12054, 'introductori': 5956, 'jenni': 6107, 'lamour': 6483, '_exemplarili': 248, 'aptitud': 734, 'invent': 5967, 'limpid': 6696, 'vehement': 12183, 'composit': 2443, 'peculiar': 8421, 'physiognomi': 8561, 'bird': 1319, 'cleef': 2254, 'subtler': 11001, 'nobler': 7872, 'predatori': 8814, 'feroci': 4184, 'recit': 9244, 'recogniz': 9251, 'astound': 876, 'fresnay': 4497, 'renoir': 9385, 'carné': 1889, 'hardboil': 5174, 'refund': 9302, 'isaiah': 6012, 'washington': 12394, 'urban': 12098, 'hind': 5391, 'turd': 11786, 'atual': 910, 'caller': 1795, 'id': 5651, 'tivo': 11541, 'ff': 4203, 'minimum': 7379, 'verizon': 12208, 'girli': 4780, 'kinet': 6355, 'gymnast': 5079, 'norri': 7906, 'rapid': 9177, 'protector': 8976, 'lifeless': 6677, 'drab': 3439, 'rumbl': 9698, 'bronx': 1630, 'jericho': 6112, 'strauss': 10907, 'advoc': 383, 'cusack': 2817, 'hoop': 5490, 'demi': 3036, 'baseketbal': 1108, 'everytim': 3938, 'surefir': 11094, 'bankruptci': 1064, 'almodovar': 521, 'jealou': 6093, 'jilt': 6133, 'millionair': 7359, 'paragraph': 8318, 'inexperienc': 5820, 'smitten': 10459, 'synch': 11190, 'roth': 9662, 'quarrel': 9072, 'seasid': 9971, 'preserv': 8843, 'reconstruct': 9253, 'beef': 1179, 'overdos': 8204, 'portilla': 8749, 'skeleton': 10349, 'llui': 6743, 'homar': 5459, 'alia': 491, 'embodi': 3740, 'incomprehens': 5770, 'shortcom': 10216, '1988': 111, 'suitcas': 11033, 'frantic': 4466, 'screwbal': 9939, 'brainchild': 1534, 'indiana': 5796, 'humbl': 5583, 'unmatch': 12015, 'legaci': 6593, 'hollow': 5448, 'absurdist': 292, 'traditionalist': 11636, 'paradigm': 8314, 'characteris': 2043, 'crutch': 2775, 'organis': 8129, 'fuss': 4572, 'hullabaloo': 5574, 'toung': 11608, 'oomph': 8091, 'transper': 11666, 'reciev': 9242, 'kyli': 6450, 'aussi': 931, 'chic': 2110, 'gross': 5004, 'tighten': 11502, 'slay': 10389, 'lm': 6744, 'repercuss': 9398, 'shenanigan': 10177, 'hilar': 5379, 'oft': 8038, 'usurp': 12115, 'scoobi': 9912, 'doo': 3379, 'craziest': 2705, 'whoa': 12514, 'liciou': 6668, 'poop': 8717, 'tastic': 11276, 'inexperi': 5819, 'represent': 9410, 'mini': 7376, 'flamethrow': 4279, 'coupon': 2650, 'overheard': 8210, 'justin': 6228, 'tweed': 11805, 'doherti': 3355, 'steami': 10817, 'peek': 8430, 'boo': 1460, 'boob': 1461, 'blindfold': 1380, 'fetishist': 4199, 'tasteless': 11274, 'candl': 1829, 'bigg': 1291, 'cleverli': 2261, 'incredul': 5779, '2007': 137, 'showtim': 10231, 'thru': 11476, 'undercov': 11910, 'tho': 11442, 'jay': 6089, 'cox': 2670, 'ideolog': 5660, 'mormon': 7548, 'tender': 11346, 'astoundingli': 877, 'googler': 4873, 'pornograph': 8736, 'masturb': 7119, 'circumspect': 2204, 'cinemax': 2198, 'ripe': 9553, 'melon': 7249, 'uh': 11847, 'premium': 8833, 'straightforward': 10894, 'archiv': 753, 'knocker': 6394, 'asset': 860, 'seg': 10003, 'femin': 4174, 'discomfort': 3253, 'motherhood': 7573, 'cancer': 1826, 'godmoth': 4842, 'eww': 3950, 'erogen': 3868, 'deconstruct': 2967, 'session': 10084, 'doyl': 3435, 'fbi': 4140, 'meik': 7237, 'paxton': 8401, 'leari': 6574, 'felton': 4171, 'mão': 7673, 'diabo': 3154, 'hanley': 5157, 'wtc': 12681, 'nyfd': 7978, 'scenario': 9875, 'gruel': 5019, 'sandstorm': 9794, 'downtown': 3432, 'ment': 7265, 'godli': 4841, 'stagey': 10761, 'obsolet': 8000, 'tragicomedi': 11641, 'susannah': 11116, 'amongst': 583, 'disorient': 3283, 'basicali': 1114, 'iconoclast': 5650, 'seed': 9993, 'pave': 8396, 'grittier': 4995, 'cactu': 1767, 'flower': 4329, 'laps': 6506, 'risqué': 9563, 'lace': 6460, 'hypocrisi': 5633, 'scandal': 9855, 'goldi': 4853, 'hawn': 5228, 'breakout': 1561, 'julian': 6207, 'winston': 12572, 'matthau': 7140, 'wilt': 12556, 'stephani': 10835, 'dickinson': 3179, 'lumin': 6876, 'ingrid': 5848, 'bergman': 1248, 'absenc': 285, 'bliss': 1384, 'veer': 12179, 'greenfield': 4961, 'weston': 12473, 'gent': 4704, 'rick': 9519, 'lenz': 6624, 'igor': 5673, 'outcast': 8166, 'prickli': 8871, 'escapist': 3882, 'tricki': 11715, 'proclaim': 8904, 'wart': 12390, '42': 181, 'tweedl': 11806, 'dum': 3531, 'mudler': 7608, 'serisouli': 10072, 'carrol': 1905, '27': 155, '28': 156, 'eccleston': 3621, 'tennant': 11350, 'timelord': 11513, 'braver': 1550, 'milanes': 7340, 'milan': 7339, 'alessandro': 482, 'alatri': 465, 'understood': 11928, 'urb': 12097, 'sweeti': 11153, 'tougher': 11605, 'strengthen': 10918, 'weaken': 12423, 'metropoli': 7302, 'senza': 10051, 'pell': 8439, 'stefania': 10822, 'rocca': 9598, 'fabio': 4047, 'volo': 12310, 'ien': 5668, 'uhf': 11848, 'sinatra': 10312, 'writh': 12674, 'mindless': 7369, 'dealer': 2937, 'enigmat': 3800, 'swing': 11164, 'groovi': 5003, 'snaki': 10475, 'hover': 5551, 'vultur': 12331, 'zoot': 12807, 'fedora': 4155, 'maddi': 6931, 'privileg': 8891, 'hugh': 5569, 'basket': 1118, 'whoosh': 12525, 'crackl': 2676, 'mmmm': 7450, 'vicodin': 12227, 'handwrit': 5150, 'hairlin': 5109, 'precinct': 8806, 'hahaha': 5099, 'willow': 12553, 'sack': 9737, 'ahhh': 429, 'tree': 11698, 'crone': 2744, 'lusti': 6893, 'sculleri': 9951, 'greensward': 4965, 'rowen': 9677, 'beehiv': 1180, 'awak': 968, 'proport': 8962, 'mwah': 7658, 'sniff': 10486, 'blink': 1382, 'schoolroom': 9895, 'unappeal': 11869, 'unison': 11999, 'phallic': 8528, 'bike': 1295, 'hmmm': 5417, 'hallo': 5124, 'ow': 8240, 'summersisl': 11044, 'lick': 6669, 'drone': 3489, 'aaaaah': 251, 'goddammit': 4834, 'supercili': 11065, 'weightwatch': 12451, 'beech': 1178, 'nosi': 7918, 'slug': 10429, 'voluptu': 12315, 'eeee': 3648, 'snap': 10476, 'xs': 12699, 'nicola': 7833, 'ellen': 3714, 'burstyn': 1729, 'wireless': 12577, 'beahan': 1148, 'aaah': 252, 'smokey': 10463, 'hurtl': 5617, 'phase': 8532, 'ouch': 8158, 'fireproof': 4251, 'slutti': 10435, 'volptuou': 12311, 'eeeee': 3649, 'takashi': 11233, 'bufford': 1681, 'lanier': 6502, 'afloat': 398, 'cruelli': 2765, 'pummel': 9024, 'unsuspect': 12063, 'highbrow': 5367, 'operat': 8100, 'slack': 10372, 'bemus': 1225, 'jada': 6056, 'pinkett': 8595, 'kimberli': 6347, 'elis': 3708, 'vivica': 12299, 'raw': 9199, 'latifah': 6525, 'fourth': 4441, 'rapper': 9180, 'surer': 11095, 'shrill': 10238, 'steer': 10820, 'dian': 3164, 'gere': 4720, 'prioriti': 8887, 'convolut': 2573, 'ritual': 9567, 'swarm': 11138, 'espresso': 3888, 'verifi': 12207, 'wipe': 12575, 'nihilist': 7846, 'eyebrow': 4041, 'zu': 12809, 'xena': 12696, 'vandalis': 12150, 'stadium': 10757, 'gainsbourg': 4599, 'aimlessli': 441, 'eyr': 4044, 'willingli': 12552, 'rochest': 9599, 'crib': 2725, 'chalkboard': 2014, 'auto': 945, 'fruitcak': 4525, 'attic': 903, 'brochur': 1621, 'nah': 7681, 'alvina': 546, 'seclus': 9976, 'deux': 3128, 'enfant': 3790, 'qui': 9086, 'aiment': 439, 'abbrevi': 263, 'orphan': 8139, 'zoo': 12804, 'cottag': 2634, 'lagoon': 6470, 'paradis': 8315, 'celeb': 1974, 'cousin': 2660, 'shemaroo': 10175, 'childish': 2121, 'satish': 9829, 'shah': 10119, 'shafi': 10117, 'inamdar': 5741, 'yeh': 12727, 'kya': 6448, 'ho': 5418, 'raha': 9134, 'kaat': 6237, 'daalu': 2844, 'vyavhaar': 12333, 'ka': 6235, 'jo': 6140, 'zindagi': 12794, 'favour': 4134, 'lamb': 6477, 'onofrio': 8081, 'psychologist': 9008, 'meld': 7242, '21st': 146, 'kaleidoscop': 6242, 'trendi': 11704, 'tunnel': 11784, 'hellrais': 5304, 'superk': 11074, 'overlord': 8216, 'comatos': 2385, 'horrifi': 5515, 'refrain': 9298, 'bullshit': 1694, '420': 182, 'billion': 1301, '51b': 194, 'roi': 9617, 'persuad': 8498, 'advisori': 382, 'transpar': 11665, 'wring': 12669, 'string': 10929, 'jovi': 6187, 'enorm': 3804, 'overt': 8228, 'oprah': 8110, 'ish': 6013, 'semant': 10025, 'flawlessli': 4300, 'compassion': 2424, 'existentialist': 3989, 'amend': 569, 'för': 4584, 'ourt': 8162, 'scorpion': 9918, 'scenic': 9878, 'aeroplan': 385, 'bereav': 1240, 'specialist': 10644, 'ernesto': 3865, 'gastaldi': 4653, 'offset': 8035, 'bruno': 1650, 'nicolai': 7834, 'ennio': 3803, 'morricon': 7555, 'plumag': 8671, 'athen': 883, 'parliament': 8337, 'acropoli': 334, 'prowl': 8990, 'dario': 2894, 'argento': 766, 'suspiria': 11123, 'influenti': 5836, 'nosham': 7917, 'leno': 6620, 'morita': 7547, 'eman': 3732, 'sarandon': 9810, 'noonan': 7897, 'randal': 9161, 'tex': 11387, 'dingman': 3215, 'buffoonish': 1680, 'hearken': 5257, 'themat': 11408, 'disastor': 3243, 'philo': 8543, 'vanc': 12147, 'myrna': 7663, 'loy': 6846, 'hilda': 5381, 'archer': 750, 'coe': 2337, 'barrot': 1101, 'bolt': 1440, 'raymond': 9203, 'wrede': 12665, 'wizard': 12604, 'oz': 8246, 'eugen': 3913, 'palett': 8282, 'heath': 5269, 'yelnat': 12730, 'shia': 10188, 'lebeouf': 6580, 'wrongli': 12678, 'detent': 3123, 'diamit': 3162, 'armpit': 790, 'squid': 10742, 'zigzag': 12790, 'charactor': 2046, 'outlaw': 8177, 'barlow': 1089, 'treasur': 11692, 'picki': 8568, 'doesnt': 3350, 'rhetor': 9503, 'coccio': 2326, 'avid': 963, 'gamer': 4615, 'reliev': 9348, 'werent': 12464, 'wont': 12624, 'relinquish': 9352, 'scorch': 9915, 'haha': 5098, 'normalci': 7903, 'disservic': 3300, 'schoolmat': 9894, 'phoni': 8551, 'keaton': 6283, 'shrewish': 10235, 'spous': 10713, 'sociolog': 10518, 'counterpart': 2643, 'burnett': 1724, 'nastier': 7714, 'sado': 9748, 'masoch': 7102, 'nambi': 7688, 'pambi': 8289, 'mae': 6942, 'busch': 1732, 'strict': 10923, 'noon': 7896, 'foundri': 4437, 'sledg': 10394, 'streetcar': 10914, 'missu': 7425, 'vernon': 12210, 'dent': 3062, 'hesit': 5345, 'foursom': 4439, '1926': 55, 'pocket': 8678, 'derail': 3080, 'cach': 1766, 'coin': 2346, 'confisc': 2483, 'dime': 3206, 'soda': 10524, 'prostitut': 8971, 'roadster': 9579, 'pole': 8694, 'preteen': 8855, 'wale': 12354, 'scotland': 9920, 'stripperella': 10934, 'toon': 11577, 'bobbi': 1418, 'strung': 10947, 'devito': 3139, 'onlin': 8080, 'spatula': 10634, 'trooper': 11744, 'soggi': 10536, 'pix': 8617, 'net': 7799, 'workjason': 12640, 'anxiou': 682, 'meena': 7232, 'kumari': 6442, 'sahib': 9755, 'bibi': 1283, 'aur': 928, 'ghulam': 4743, 'phool': 8552, 'pathar': 8374, 'nuanc': 7948, 'bollywood': 1437, 'masterli': 7114, 'kathak': 6267, 'urdhu': 12101, 'pakeezah': 8271, 'stylis': 10972, 'mise': 7405, 'naushad': 7735, 'unsurpass': 12062, 'courtesan': 2654, 'gharana': 4737, 'melodi': 7246, 'mediat': 7221, 'mesmeris': 7289, 'rhi': 9505, 'faultless': 4128, 'wonderwoman': 12620, 'goya': 4902, 'mish': 7411, 'unconvincingli': 11899, 'verac': 12199, 'religi': 9350, 'injustic': 5859, 'pieti': 8578, 'natali': 7717, 'portman': 8752, 'dishevel': 3269, 'bardem': 1078, 'ine': 5810, 'forman': 4412, 'tellurid': 11332, 'shylock': 10250, 'lynn': 6905, 'collin': 2365, 'portia': 8748, 'merchant': 7269, 'distort': 3309, 'len': 6612, 'bassanio': 1123, 'elizabethan': 3713, 'abstract': 290, 'pitiless': 8613, 'hath': 5221, 'cosmic': 2625, 'harmoni': 5190, 'ribbon': 9509, 'disrupt': 3294, 'eject': 3678, 'monomaniac': 7507, 'ceas': 1969, 'extran': 4031, 'venetian': 12189, 'restor': 9447, 'sed': 9987, 'fienn': 4217, 'mumbl': 7624, 'sightse': 10274, 'primarili': 8877, '3000': 165, 'saudi': 9834, 'arabia': 737, 'itali': 6029, 'bulgaria': 1686, 'croatia': 2739, 'slovenia': 10425, 'east': 3609, 'tour': 11610, 'stopov': 10884, 'reda': 9264, 'haj': 5112, 'mule': 7615, 'mecca': 7213, 'weather': 12432, 'motel': 7569, 'gap': 4626, 'impos': 5727, 'assert': 858, 'raya': 9202, 'haji': 5113, 'pilgrim': 8584, 'behold': 1203, 'congreg': 2493, 'anticip': 668, 'dow': 3420, 'subconsci': 10980, 'concret': 2467, 'discret': 3259, 'machinist': 6923, 'breke': 1576, 'exhibit': 3986, 'synergi': 11194, 'lear': 6573, 'gel': 4682, 'harrigan': 5198, 'steadi': 10812, 'twisti': 11815, 'bey': 1278, 'logan': 6765, 'golden': 4851, 'chapin': 2035, 'matthieu': 7142, 'kassovitz': 6264, 'cohort': 2344, 'republican': 9416, 'blindli': 1381, 'cartman': 1910, 'kyle': 6449, 'nationwid': 7726, 'campu': 1820, 'inc': 5748, 'crusad': 2771, 'roommat': 9642, 'exceedingli': 3959, 'encompass': 3775, 'campus': 1821, 'purpl': 9043, 'apollonia': 702, 'stairwel': 10769, 'homeward': 5465, 'categor': 1945, 'incoher': 5765, 'bud': 1668, 'vila': 12251, 'cornier': 2607, 'karn': 6260, 'escort': 3884, 'greet': 4967, 'veng': 12190, 'recoveri': 9257, 'teari': 11302, 'cupboard': 2800, 'furnish': 4562, 'fanat': 4091, 'gump': 5052, 'symbologist': 11183, 'pope': 8725, 'sudden': 11018, 'papal': 8307, 'conclav': 2463, 'carmelengo': 1884, 'mckenna': 7192, 'mcgregor': 7187, 'vatican': 12169, 'cern': 1998, 'vetra': 12219, 'zurer': 12811, 'uneven': 11953, 'ewan': 3949, 'agil': 416, 'stellen': 10828, 'skarsgard': 10345, 'richter': 9518, 'ayelet': 985, 'worthwhil': 12655, 'dvc': 3568, 'recreat': 9258, 'basilica': 1116, 'puls': 9023, 'contagi': 2538, 'drastic': 3454, 'blasphemi': 1362, 'inaccuraci': 5739, 'sleepi': 10399, 'pandora': 8296, 'passeng': 8362, 'debat': 2946, 'dean': 2939, 'daphn': 2890, 'zuniga': 12810, 'leev': 6589, 'frasier': 4468, 'loggia': 6766, 'herrmann': 5342, 'pungent': 9031, 'hetero': 5350, 'homosexu': 5470, 'lookout': 6789, 'paradox': 8316, 'homo': 5468, 'hetereosexu': 5349, 'shehzad': 10166, 'bhalla': 1280, 'squeal': 10738, 'viju': 12250, 'khote': 6324, 'dumbfound': 3536, 'shakti': 10127, 'gogo': 4846, 'paresh': 8331, 'rawal': 9200, 'ramgop': 9151, 'bajaj': 1026, 'shyamgop': 10249, 'raveena': 9195, 'tandon': 11248, 'karishma': 6258, 'mimicri': 7364, 'aamir': 255, 'lax': 6554, 'salman': 9767, 'irregular': 5998, 'umpteen': 11859, 'everbodi': 3930, 'everyday': 3935, 'peabodi': 8409, 'holodeck': 5454, 'malfunct': 6995, 'picard': 8565, 'beverli': 1274, 'data': 2908, 'starfleet': 10793, 'waylan': 12416, 'chandler': 2024, 'maltes': 7007, 'trenchcoat': 11702, 'replica': 9405, 'bogey': 1426, 'jarada': 6083, 'buzz': 1751, 'diplomaci': 3223, 'cyru': 2839, 'redblock': 9265, 'busey': 1733, 'cocki': 2329, 'fixer': 4271, 'denzel': 3065, 'specifi': 10647, 'vouch': 12321, 'grotesqu': 5008, 'moodi': 7527, 'genremix': 4703, 'orgasm': 8130, 'salli': 9766, 'orson': 8141, 'austria': 938, '06': 6, '03': 5, 'brighten': 1597, 'autumn': 952, 'abet': 267, 'longsuff': 6786, 'dobb': 3339, 'elenor': 3697, 'oddbal': 8023, 'barkin': 1088, 'peta': 8515, 'nerd': 7792, 'slob': 10419, 'enrag': 3806, 'leak': 6570, 'hitchhik': 5413, 'bicker': 1286, 'coldli': 2353, 'mildr': 7344, '1934': 61, 'meaning': 7204, 'lesli': 6635, '35mm': 171, 'ishimoto': 6015, 'holdaway': 5438, 'rafael': 9125, 'garcia': 4635, 'incompar': 5766, '1987': 110, 'bodysuck': 1423, 'greenhous': 4962, 'toxic': 11623, 'worm': 12645, 'atlanti': 889, 'gruff': 5021, 'maverick': 7148, 'sinclair': 10315, 'paramount': 8322, 'alsion': 534, 'skipworth': 10364, 'innkeep': 5862, 'latitud': 6528, 'misanthrop': 7398, 'digress': 3199, 'ruggl': 9695, 'boland': 1433, 'vaudevil': 12170, 'patter': 8388, 'graci': 4906, 'freeload': 4485, 'hitch': 5410, 'honeymoon': 5476, 'banker': 1062, 'pinki': 8596, 'whinney': 12503, 'underplay': 11923, 'knot': 6396, 'baltimor': 1042, 'hairspray': 5110, 'pink': 8594, 'unsanitari': 12046, '300': 164, 'lb': 6561, 'edith': 3639, 'filthiest': 4235, 'udo': 11842, 'kier': 6337, 'nine': 7854, 'demet': 3035, 'gunna': 5060, 'bounc': 1502, 'buckl': 1667, 'coolio': 2581, '187': 44, 'casket': 1924, 'smuggl': 10470, 'mist': 7426, 'orlock': 8135, 'sire': 10328, 'ejacul': 3677, 'elaniak': 3683, 'casper': 1926, 'ram': 9149, 'doom': 3387, '4000': 179, 'bounci': 1503, 'helllloo': 5302, 'graffiti': 4915, 'sexist': 10102, 'mega': 7234, 'overgrown': 8207, 'dreyfuss': 3473, 'innov': 5864, 'overus': 8233, 'cillian': 2189, 'beggin': 1191, 'mcadam': 7159, 'mm': 7449, 'zurlini': 12812, 'tedium': 11316, 'meaninglessli': 7206, 'drago': 3446, 'mug': 7612, 'outlier': 8179, 'lombard': 6777, 'montgomeri': 7519, 'invalid': 5964, 'inflict': 5834, 'undeserv': 11938, 'manhandl': 7025, 'shrift': 10237, 'squabbl': 10729, 'forgav': 4400, 'revok': 9487, 'illicit': 5682, 'premarit': 8829, 'champagn': 2018, 'expuls': 4018, 'acorn': 328, 'apoplexi': 704, 'laughless': 6533, 'remarriag': 9362, 'matrimoni': 7135, 'reaffirm': 9217, 'jokeless': 6165, 'godfrey': 4839, 'groucho': 5009, 'smugitud': 10471, 'decenc': 2958, 'jelli': 6104, 'massacr': 7107, 'flatmat': 4292, 'biochemistri': 1313, 'beermat': 1182, 'shuriken': 10244, 'tequila': 11360, 'skinni': 10362, 'bloke': 1389, 'preming': 8831, 'scrutini': 9950, 'pin': 8590, 'scalisi': 9852, 'sleazier': 10392, 'sympathis': 11187, 'plug': 8669, 'linchpin': 6698, 'symbiosi': 11181, 'maladroit': 6983, 'workplac': 12642, 'traine': 11646, 'crude': 2763, 'excon': 3970, 'casel': 1919, 'embroil': 3743, 'merg': 7275, 'psychodramat': 9006, 'undercurr': 11911, 'tumbl': 11778, 'niku': 7850, 'daruma': 2906, 'reel': 9282, 'ebay': 3616, 'pixel': 8619, 'dismemb': 3278, 'niceiti': 7823, 'outdo': 8169, 'wherev': 12490, 'margret': 7059, 'frey': 4499, '1961': 86, 'snub': 10504, 'await': 967, 'dismay': 3277, 'surrey': 11111, 'nicholson': 7827, 'con': 2454, 'fraudster': 4470, 'phil': 8537, 'cornwel': 2609, 'ronni': 9637, 'imperson': 5717, 'vartan': 12163, 'natasha': 7721, 'henstridg': 5322, 'schoolteach': 9896, 'goodlook': 4866, 'marraig': 7078, 'bakersfield': 1030, 'taft': 11220, 'quarterback': 9074, 'remo': 9370, 'palanc': 8275, 'rematch': 9363, 'hunchback': 5596, 'hersel': 5343, 'slateboard': 10382, 'furr': 4564, 'fdvd': 4143, 'jeffrey': 6102, 'hogu': 5431, 'cynthia': 2835, 'soroka': 10592, 'hershel': 5344, 'elvi': 3729, 'preacher': 8800, 'playgirl': 8645, 'twosom': 11819, 'orlof': 8136, 'morgu': 7546, 'proffessor': 8918, 'monstros': 7512, 'erotico': 3872, 'marqui': 7077, 'desad': 3091, 'easter': 3610, 'kinnepoli': 6362, 'multiplex': 7620, 'loop': 6796, 'ghp': 4742, 'igmar': 5670, 'bergaman': 1242, 'skammen': 10344, 'stagger': 10762, 'deviou': 3138, 'opportunist': 8107, 'affirm': 391, 'system': 11200, 'climat': 2270, 'detractor': 3127, 'gotb': 4892, 'falsehood': 4084, 'dissemin': 3299, 'untru': 12069, 'deservedli': 3101, 'antonym': 678, 'capit': 1846, 'segreg': 10005, 'kkk': 6376, 'democrat': 3041, 'financ': 4236, 'farrakhan': 4110, 'despis': 3112, 'constrain': 2530, 'terrenc': 11366, 'malick': 6998, 'scupper': 9955, 'cringeworthi': 2731, 'nolt': 7881, 'lib': 6659, 'binh': 1311, 'peasant': 8416, 'vocabulari': 12304, 'grammat': 4919, 'malayan': 6986, 'refuge': 9301, 'chi': 2108, 'minh': 7375, 'bump': 1699, 'mum': 7623, 'locket': 6760, 'ling': 6706, 'obligatori': 7993, 'leonardo': 6628, 'rust': 9718, 'traffick': 11638, 'unpredict': 12028, 'jerki': 6115, 'malaysia': 6987, 'cape': 1844, 'farm': 4107, 'navig': 7741, 'ranch': 9160, 'befal': 1184, 'winterbottom': 12574, 'octan': 8016, 'automobil': 950, 'bruckheim': 1648, 'glossi': 4821, 'stench': 10831, 'giovanni': 4777, 'ribisi': 9510, 'mod': 7465, 'kip': 6366, 'calitri': 1793, 'memphi': 7256, 'disburs': 3247, 'recruit': 9259, 'bandit': 1055, 'sway': 11141, 'wayland': 12417, 'angelina': 621, 'joli': 6169, 'halliwel': 5123, 'tumbler': 11779, 'atley': 890, 'tobi': 11544, 'donni': 3376, 'astricki': 879, 'mcbrde': 7163, 'castlebeck': 1934, 'delroy': 3024, 'lindo': 6703, 'drycoff': 3505, 'timothi': 11516, 'olyph': 8066, 'lifestyl': 6678, 'vulgar': 12328, 'effortlessli': 3657, 'persuas': 8499, 'adrenalin': 367, 'furiou': 4561, 'sena': 10032, 'commot': 2414, 'horrend': 5509, 'asinin': 844, 'apocalypt': 700, 'camino': 1814, 'benjamenta': 1233, 'tuner': 11783, 'glacial': 4788, 'bust': 1740, '86': 231, 'glue': 4827, 'zodiac': 12799, 'cheapest': 2074, 'hacker': 5088, 'whitepag': 12512, 'allus': 516, 'pena': 8443, 'giancarlo': 4747, 'esposito': 3887, 'crypto': 2778, 'zoologist': 12805, 'delud': 3025, 'nonexist': 7890, 'chupacabra': 2178, 'scali': 9851, 'elus': 3728, 'grecian': 4954, 'crate': 2697, 'growl': 5015, 'deterr': 3126, 'thang': 11395, 'dylan': 3579, 'squeaki': 10737, 'tai': 11224, 'bo': 1410, 'instructor': 5896, 'chelan': 2089, 'paula': 8393, 'yippi': 12742, 'terrier': 11370, 'snobbi': 10493, 'effet': 3653, 'digger': 3195, 'millbern': 7353, 'tranquil': 11655, 'dart': 2905, 'unorigin': 12024, 'interchang': 5917, 'scottish': 9924, 'kilt': 6345, 'tiresom': 11531, 'dvr': 3570, 'whiil': 12495, 'sublimin': 10985, 'allud': 514, 'enoy': 3805, 'funnni': 4557, '1905': 49, 'mutini': 7655, 'odessa': 8025, 'maggoti': 6950, 'dissid': 3301, 'upris': 12088, 'revolutionari': 9489, 'crewman': 2723, 'shore': 10214, 'czarist': 2840, 'troop': 11743, 'naval': 7738, 'squadron': 10731, 'retak': 9457, 'mutin': 7654, 'bolshevik': 1439, 'maggot': 6949, 'quarterdeck': 9075, 'newsreel': 7816, 'eavesdrop': 3615, 'pontecorvo': 8712, 'algier': 489, 'typag': 11826, 'capra': 1851, 'hammock': 5136, 'complement': 2436, 'galley': 4610, 'clench': 2255, 'plate': 8636, 'signifi': 10278, 'marienbad': 7064, 'pinc': 8591, 'dangl': 2883, 'inspect': 5884, 'infest': 5830, 'expans': 3996, 'angular': 628, 'descend': 3093, 'accentu': 304, 'summon': 11047, 'anteced': 660, 'teller': 11330, 'regim': 9310, 'carriag': 1903, 'careen': 1868, 'correspond': 2618, 'depalma': 3066, 'untouch': 12068, 'propagand': 8952, 'unconvert': 11897, 'seeth': 10002, 'roar': 9581, 'estevez': 3899, 'interplay': 5932, 'kathi': 6270, 'empath': 3757, 'cruddi': 2762, 'elicit': 3703, 'volum': 12312, 'proust': 8982, 'barri': 1099, 'calvin': 1800, 'hobb': 5419, 'sod': 10523, 'tread': 11691, 'fend': 4179, 'karat': 6255, 'dine': 3213, 'cafeteria': 1775, 'chair': 2010, 'aaron': 257, 'nyc': 7977, 'downer': 3423, 'havent': 5224, 'paella': 8260, 'mamoru': 7013, 'oshii': 8147, 'pedant': 8422, 'postmodern': 8769, 'overload': 8213, 'overcook': 8202, 'gifter': 4757, 'oppon': 8105, 'gunfight': 5054, 'poncho': 8708, 'mortim': 7560, 'django': 3336, 'spaghetti': 10621, 'acrobat': 333, 'oater': 7986, 'notori': 7931, 'montero': 7518, 'barbarosa': 1071, 'pistolero': 8607, 'enzo': 3836, 'castellari': 1932, 'inglori': 5844, 'forefront': 4382, 'seiz': 10009, 'locomot': 6761, 'gunmen': 5058, 'pajondo': 8270, 'pedro': 8428, 'sanchez': 9785, 'sabata': 9731, 'trundl': 11763, 'rio': 9550, 'whereabout': 12489, 'loot': 6800, 'medallion': 7218, 'ivano': 6039, 'staccioli': 10753, 'loosen': 6798, 'infuri': 5840, 'retic': 9461, 'jailer': 6064, 'tote': 11596, 'hilton': 5388, 'ruthless': 9722, 'masquerad': 7105, 'clayton': 2244, 'edd': 3628, 'byrn': 1757, '77': 220, 'safeguard': 9750, 'hing': 5395, 'graciou': 4907, 'sooner': 10572, 'allianc': 509, 'scenarist': 9876, 'tito': 11538, 'carpi': 1897, 'holster': 5457, 'jockey': 6146, 'supremaci': 11092, 'lenser': 6622, 'bergamini': 1243, 'widescreen': 12534, 'chuf': 2173, 'peak': 8413, 'rear': 9225, 'imperturb': 5718, 'minion': 7380, 'chieftain': 2116, 'harmlessli': 5189, 'unflinch': 11965, 'foreground': 4384, 'francesco': 4454, 'masi': 7100, 'idiosyncrat': 5662, '62': 203, 'godhelpusal': 4840, 'columbo': 2381, 'unspeak': 12055, 'carcass': 1862, 'nauseat': 7733, 'outer': 8171, 'weep': 12448, 'soil': 10539, 'horrid': 5512, 'scoop': 9913, 'abysm': 298, 'pander': 8295, 'denomin': 3058, 'default': 2986, 'uwe': 12125, 'boll': 1436, 'modifi': 7472, 'genet': 4694, 'hypothermia': 5635, 'cuddl': 2787, 'gaffer': 4595, 'electrician': 3690, 'ravag': 9193, 'inhuman': 5853, 'rant': 9172, 'font': 4360, '2012': 140, 'supernova': 11082, 'clark': 2227, 'gabl': 4590, 'harlow': 5186, 'sting': 10859, 'loo': 6787, 'emmett': 3753, 'mettl': 7303, 'induct': 5807, 'saling': 9765, 'bananafish': 1050, 'prodigi': 8909, 'swimmer': 11159, 'travi': 11687, 'watermelon': 12408, 'bruis': 1649, 'unveil': 12071, 'hirsch': 5400, 'unknow': 12006, 'doobi': 3380, 'curl': 2807, 'spinnabl': 10676, 'playground': 8646, 'saucer': 9833, 'recur': 9260, 'carv': 1914, 'pencil': 8445, 'curtli': 2815, 'joint': 6163, 'sigourney': 10281, 'weaver': 12434, 'deft': 2999, 'grappl': 4938, 'haphazardli': 5161, 'outliv': 8181, 'insignific': 5878, 'viscer': 12280, 'acid': 324, 'listless': 6725, 'tuck': 11772, 'inept': 5813, 'cathart': 1949, 'beneath': 1230, 'catharsi': 1948, 'casual': 1936, 'th': 11393, 'galor': 4612, 'eurotrash': 3919, 'tackili': 11212, 'schickel': 9884, 'myra': 7661, 'breckenridg': 1570, 'caspar': 1925, 'dien': 3188, 'micheal': 7314, 'pare': 8328, 'oxenburg': 8245, 'jeniff': 6105, 'rubin': 9688, 'pastich': 8368, 'maroccan': 7075, '007': 4, 'conneri': 2499, 'jacqu': 6054, 'audiard': 915, 'ambiti': 563, 'hierarchi': 5365, 'layabout': 6556, 'misunderstand': 7436, 'alli': 508, 'contend': 2543, 'apprentic': 725, 'trump': 11760, 'conniv': 2501, 'liaison': 6656, 'humiliatingli': 5589, 'acced': 301, 'paramour': 8323, 'larcen': 6510, 'felon': 4168, 'parlor': 8338, 'satiat': 9823, 'brainless': 1536, 'mano': 7036, 'europa': 3917, 'zentropa': 12784, 'camerawork': 1811, 'trope': 11745, 'suwkowa': 11127, 'constantin': 2526, 'guilti': 5041, 'springwood': 10722, 'ohio': 8044, 'shon': 10207, 'greenblatt': 4960, 'freddi': 4479, 'englund': 3798, 'lisa': 6722, 'lezli': 6654, 'breckin': 1571, 'talalay': 11235, 'yaphet': 12713, 'kotto': 6420, 'scan': 9854, 'elm': 3719, 'sixth': 10340, 'resurrect': 9455, 'shay': 10157, 'ceo': 1995, 'roseann': 9652, 'barr': 1094, 'depp': 3074, '½': 12814, 'hinako': 5390, 'fumiya': 4546, 'sayori': 9848, 'shikoku': 10191, 'chiaki': 2109, 'kuriyama': 6444, 'nifti': 7836, 'fruiti': 4526, 'unscari': 12049, 'minim': 7378, 'paragon': 8317, 'tm': 11542, 'laboratori': 6457, 'handili': 5145, 'vat': 12168, 'liquid': 6720, 'yay': 12720, 'betcha': 1267, 'bumbl': 1698, 'dizzi': 3334, 'screwi': 9940, 'opaqu': 8094, 'connoisseur': 2502, 'criminalth': 2729, 'cunningli': 2798, 'vipco': 12275, 'breat': 1565, 'naff': 7678, 'buyer': 1750, 'enamor': 3773, 'hayworth': 5234, 'gilda': 4764, 'rita': 9565, 'kruger': 6433, 'arden': 757, 'saddest': 9743, 'click': 2265, 'binder': 1308, 'cheadl': 2069, 'burrow': 1727, 'peroxid': 8484, 'lipstick': 6718, 'obey': 7989, 'gaudi': 4657, 'emul': 3769, 'perkin': 8477, 'happiest': 5166, 'truncheon': 11762, 'footstep': 4373, 'expertis': 4003, 'privi': 8890, 'uvsc': 12124, 'utah': 12116, 'kerri': 6314, 'bias': 1282, 'defam': 2985, 'agenc': 410, 'miscalcul': 7400, 'roughli': 9668, '2004': 134, 'dilut': 3204, 'misnom': 7415, 'overwhelmingli': 8237, 'unifi': 11983, 'divis': 3331, 'correl': 2617, 'woodi': 12631, '1973': 96, 'quaker': 9067, 'au': 912, 'contrair': 2557, 'withdraw': 12592, 'epitom': 3843, 'ownership': 8244, 'aggrav': 413, 'apollohelio': 701, 'brothel': 1637, 'softcor': 10532, 'brooklyn': 1634, 'firstli': 4255, 'glamour': 4794, 'klaw': 6379, 'irv': 6007, 'photo': 8553, 'diatrib': 3172, 'satur': 9830, 'brandish': 1543, 'pinup': 8598, 'insist': 5882, 'awe': 973, 'demeanour': 3033, 'identi': 5657, 'kit': 6370, 'cellar': 1981, 'intoler': 5945, 'chees': 2084, 'parad': 8313, 'witchboard': 12589, 'kilpatrick': 6344, 'petrifi': 8522, 'unrel': 12040, 'nag': 7679, 'landscap': 6494, 'mythic': 7669, 'quagmir': 9064, 'manc': 7015, 'cashen': 1921, 'oil': 8047, 'witchdoctor': 12591, 'mâché': 7672, 'annihil': 645, 'overflow': 8206, 'sob': 10510, 'allegedli': 501, 'excruciatingli': 3974, 'crypt': 2777, 'sweden': 11146, 'pretens': 8857, 'hunki': 5604, 'yard': 12714, 'gaydar': 4666, 'embarass': 3733, 'nelson': 7784, 'reilli': 9326, 'decay': 2953, 'ingmar': 5845, 'ullman': 11854, 'rosenberg': 9654, 'dissimilar': 3302, 'turmoil': 11792, 'gunnar': 5061, 'bjornstrand': 1339, 'filmographi': 4233, 'pervad': 8504, 'amigo': 578, 'sven': 11129, 'nykvist': 7979, 'chaotic': 2033, 'uncompromis': 11893, 'svensk': 11130, 'kinship': 6364, 'wallop': 12362, 'ipswitch': 5984, 'coven': 2661, 'secreci': 9980, 'darkl': 2900, 'dbz': 2923, 'thread': 11457, 'monologuingact': 7506, 'femalesoth': 4173, 'mindlessli': 7370, 'allegor': 502, 'groundbreak': 5011, 'anni': 644, 'cheapen': 2072, 'durat': 3555, 'cassavet': 1928, 'instabl': 5887, 'collar': 2359, 'mabel': 6911, 'gena': 4688, 'onset': 8083, 'dinner': 3217, 'outburst': 8165, 'gesticul': 4731, 'jumbl': 6213, 'longhetti': 6785, 'spencer': 10659, 'mirinda': 7394, 'cosgrov': 2622, 'nevel': 7804, 'itth': 6036, 'imyourbigesstfan': 5736, 'icali': 5642, 'icarli': 5643, 'nathan': 7723, 'kress': 6425, 'wannabe': 12373, 'fredi': 4481, 'highmor': 5372, 'unforgiven': 11969, 'tombston': 11563, 'someway': 10563, 'poss': 8761, 'mario': 7067, 'pebbl': 8417, 'fierc': 4218, 'woodstock': 12633, 'premier': 8830, 'tribeca': 11711, '2005': 135, 'immin': 5702, 'poof': 8714, 'pigeonhol': 8580, 'indi': 5793, 'hybrid': 5625, 'anton': 676, 'yelchin': 12728, 'anthropologist': 665, 'yanomani': 12712, 'tribe': 11710, 'procreat': 8906, 'cocain': 2325, 'solitari': 10551, 'massag': 7108, 'therapist': 11418, 'cater': 1947, 'ogden': 8040, 'osborn': 8145, 'anthropolog': 664, 'visitor': 12288, 'concurr': 2468, 'underbelli': 11909, 'griffin': 4979, 'dirk': 3231, 'wittenborn': 12599, 'infus': 5841, 'intercut': 5920, 'newli': 7812, 'folli': 4354, 'foremost': 4389, 'emphas': 3760, 'precious': 8808, 'byrd': 1756, 'huff': 5566, 'januari': 6079, 'sundanc': 11051, 'pino': 8597, 'sanctimoni': 9786, 'egomaniac': 3662, 'hispan': 5402, 'humong': 5590, 'prosecutor': 8967, 'plead': 8650, 'involuntari': 5976, 'profil': 8920, 'lustig': 6894, 'followup': 4356, 'savini': 9839, 'spinel': 10675, 'partit': 8354, 'bharat': 1281, 'hindu': 5393, 'urmila': 12104, 'matondkar': 7134, 'punjab': 9033, 'claustrophob': 2237, 'schoolgirl': 9893, 'goth': 4893, 'download': 3428, 'exclaim': 3966, 'deposit': 3073, 'waaaambul': 12337, 'resound': 9439, 'reiser': 9330, 'fluffi': 4333, 'fleec': 4302, 'blanket': 1361, 'lorelei': 6806, 'rori': 9647, 'luke': 6869, 'acumen': 343, 'jewel': 6126, 'vijay': 12249, 'anand': 600, 'tribut': 11713, 'vinay': 12260, 'amar': 551, 'unravel': 12033, 'palac': 8274, 'sikkim': 10284, 'ashok': 839, 'kumar': 6441, 'vajyanti': 12137, 'mala': 6981, 'tanuja': 11256, 'sd': 9956, 'burman': 1721, 'kishor': 6368, 'majrooh': 6974, 'sultanpuri': 11039, 'tftd': 11392, 'marsh': 7081, 'audit': 918, 'unoccupi': 12023, 'erwin': 3876, 'slender': 10401, 'fervent': 4191, 'snot': 10498, 'drool': 3490, 'keyboard': 6319, 'shuttl': 10247, 'taxi': 11288, 'trend': 11703, 'kidnapp': 6334, 'omnipot': 8073, 'tattoo': 11280, 'limb': 6692, 'dna': 3338, 'softli': 10535, 'nail': 7682, 'grenad': 4972, 'meanest': 7203, 'sewer': 10094, 'cockroach': 2331, 'outlin': 8180, 'sulk': 11036, 'kidnappe': 6335, 'gandhi': 4619, 'prohibit': 8929, 'travolta': 11688, 'crowbar': 2755, 'killabl': 6340, 'kidnape': 6333, 'inebri': 5811, 'nincompoop': 7853, 'groceri': 4999, 'dumber': 3534, 'besson': 1261, 'palma': 8286, 'lend': 6614, 'cargo': 1874, 'lotteri': 6819, 'billionth': 1303, 'gass': 4650, 'prettier': 8859, 'imbecil': 5692, 'mobil': 7455, 'invinc': 5972, 'gillian': 4767, 'chung': 2176, 'charlen': 2055, 'choi': 2140, 'yen': 12732, 'rooftop': 9639, 'bamboo': 1046, 'astonish': 873, 'overshadow': 8226, 'carl': 1878, 'panzram': 8304, 'scribbl': 9941, 'journal': 6181, 'gaddi': 4592, 'cowboy': 2667, 'sodom': 10526, 'oregon': 8127, 'jfk': 6131, 'nixon': 7868, 'hoffa': 5426, 'belgium': 1211, 'congo': 2489, 'lumumba': 6879, 'imperi': 5715, 'mobutu': 7457, 'katanga': 6265, 'precari': 8803, 'colon': 2369, 'eriq': 3862, 'ebouaney': 3619, 'quilombo': 9091, 'rockstar': 9607, 'inx': 5980, 'mirkovich': 7395, 'moreira': 7540, 'mcgorman': 7184, 'nate': 7722, 'sasha': 9816, 'krivtsov': 6430, 'suzi': 11128, 'mcneil': 7196, 'bohemian': 1429, 'rhapsodi': 9501, 'ty': 11821, 'jd': 6091, 'hb': 5239, 'memo': 7252, 'superman': 11077, 'reverb': 9479, 'roden': 9610, 'sombr': 10557, 'trudi': 11754, 'malloy': 7003, 'dillon': 3203, 'fed': 4154, 'colleagu': 2360, 'raza': 9204, 'inhibit': 5852, 'stifl': 10854, 'leguizamo': 6604, 'barrag': 1096, 'apprais': 723, 'belushi': 1223, 'dalton': 2861, 'tangl': 11251, 'imperfectli': 5714, 'resolv': 9436, 'formal': 4410, 'burgomast': 1714, 'oppenhoff': 8104, 'aachen': 253, 'palm': 8285, '1945': 73, 'sanit': 9798, 'mocumentari': 7464, 'nwh': 7975, 'tasti': 11275, 'def': 2983, 'whitey': 12513, 'spinal': 10674, 'tap': 11257, 'rusti': 9719, 'cundeif': 2797, 'fym': 4582, 'compress': 2446, 'artsi': 824, 'starcross': 10789, 'taboo': 11208, 'gamut': 4617, 'boldli': 1435, 'reexamin': 9288, 'deepest': 2979, 'deviyaan': 3140, 'breezi': 1575, 'kalpana': 6243, 'nanda': 7692, 'simi': 10293, 'vrajendra': 12325, 'gaur': 4660, 'mahal': 6959, 'duniya': 3546, 'jaali': 6045, 'manzil': 7045, 'sweeney': 11148, 'milligan': 7357, 'adamson': 347, 'mikel': 7333, 'tirelessli': 11530, 'devote': 3145, 'mercilessli': 7272, 'deliri': 3017, 'ghastli': 4738, 'zelah': 12780, 'gover': 4898, 'thornfield': 11447, 'charolett': 2063, 'bront': 1629, '150': 27, 'abo': 274, 'maryam': 7094, 'luxembourg': 6899, 'physician': 8560, 'ventresca': 12195, 'purgatori': 9040, 'bartend': 1103, 'femm': 4177, 'mecklin': 7216, 'gregg': 4969, 'alejandro': 479, 'awol': 980, '90210': 238, 'greer': 4966, 'entangl': 3812, 'indemn': 5788, 'mcmurray': 7195, 'riveria': 9570, 'gunshot': 5063, 'clamp': 2218, 'tanker': 11254, 'turturro': 11797, 'disbelief': 3246, 'panti': 8303, 'misl': 7412, 'greydon': 4976, 'deputi': 3079, 'malta': 7006, 'sidearm': 10261, 'mockumentari': 7462, 'mysteriouscreatur': 7666, 'latinamerica': 6527, 'mexico': 7307, 'intosouthern': 5947, 'cryptozoologist': 2779, 'notmak': 7930, 'unclewa': 11890, 'themonst': 11410, 'badass': 1010, 'twocameramen': 11818, 'ahuntin': 432, 'forchupacabra': 4379, 'documentarian': 3347, 'gettingattack': 4734, 'onepoint': 8076, 'hotti': 5536, 'themto': 11411, 'nest': 7798, 'howcheapli': 5553, 'mex': 7305, 'wholedecad': 12518, 'ablank': 272, 'agoat': 419, 'patoot': 8380, 'andautopsi': 609, 'autopsi': 951, 'themakeup': 11407, 'bwp': 1753, 'cameramancharact': 1810, 'reload': 9355, 'recharg': 9240, 'camerabatteri': 1808, 'theaverag': 11402, 'improvis': 5734, 'poorlyrehears': 8722, 'pageant': 8262, 'ting': 11520, 'americanher': 573, 'loudmouth': 6824, 'breaksinto': 1562, 'whocom': 12515, 'chortl': 2151, 'forsuch': 4422, 'onth': 8087, 'lockedthemselv': 6758, 'theironli': 11405, 'ofstupid': 8037, 'wasshot': 12397, 'worstfilm': 12651, 'southern': 10611, 'prayther': 8797, 'totroma': 11599, 'stronggor': 10942, 'krassman': 6423, 'henson': 5321, 'millenium': 7354, 'dey': 3150, 'mo': 7451, 'trey': 11706, 'sellar': 10018, '10eliason': 14, 'fragmentari': 4447, 'retor': 9463, 'ado': 363, 'swanson': 11137, '31': 168, 'hooey': 5484, 'gim': 4769, 'groaner': 4998, 'charmingli': 2062, 'sandwich': 9795, 'irrevoc': 6004, 'bendingli': 1229, 'execr': 3978, 'anathema': 602, 'thresh': 11463, 'griev': 4978, 'discipl': 3250, 'bewar': 1276, 'wider': 12533, 'solidli': 10548, 'canva': 1839, 'lament': 6480, 'pedestrian': 8424, 'carlyl': 1883, 'joann': 6143, 'whalley': 12479, 'courtney': 2657, 'suchet': 11015, 'wallow': 12363, 'wateri': 12407, 'gin': 4772, 'painkil': 8266, 'junior': 6221, 'aerial': 384, 'submerg': 10987, 'characterless': 2045, 'tabloid': 11207, 'port': 8741, 'trainspot': 11647, 'hokum': 5434, 'quaid': 9065, 'reignit': 9324, 'rooki': 9640, 'wannab': 12372, 'gonnab': 4859, 'warmer': 12382, 'ingredi': 5847, 'needham': 7763, 'hottest': 5535, 'deris': 3084, 'loquaci': 6802, 'misfir': 7408, 'blous': 1400, 'humdrum': 5584, 'tibetan': 11489, 'sacrif': 9739, 'atyp': 911, 'alik': 494, 'shahadah': 10120, 'divers': 3327, '500': 193, 'kora': 6410, 'tund': 11780, 'jeged': 6103, 'sordid': 10588, 'fridg': 4503, 'semin': 10029, 'schmaltzi': 9889, 'annual': 650, 'ching': 2135, 'clau': 2235, 'bedford': 1172, 'statur': 10808, 'vinc': 12261, 'spice': 10665, 'tar': 11261, 'sorrentino': 10594, 'servillo': 10081, 'titta': 11539, 'champion': 2020, 'invest': 5969, 'bespok': 1260, 'counter': 2642, 'minu': 7386, 'thinnest': 11437, 'hasselhoff': 5213, 'dolph': 3366, 'lundgreen': 6883, 'gazpacho': 4668, 'wavelength': 12413, 'charit': 2052, 'clutteri': 2309, 'nouveau': 7934, 'opul': 8116, 'almereyda': 519, 'sodapop': 10525, 'magnat': 6954, 'grandchild': 4923, 'housekeep': 5544, 'gormenghast': 4887, 'crispin': 2735, 'glover': 4823, 'directionless': 3228, 'tornado': 11590, 'acidli': 325, 'pert': 8500, 'loi': 6770, 'chile': 2124, 'burrough': 1726, 'shed': 10159, 'wasp': 12396, 'cloak': 2282, 'tablecloth': 11206, 'doili': 3356, 'garment': 4644, 'blazer': 1367, 'leather': 6577, 'gear': 4670, 'velvet': 12186, 'thrash': 11455, 'tunelessli': 11782, 'loudli': 6823, 'fullsiz': 4544, 'bullwhip': 1695, 'demolish': 3043, 'pitcher': 8610, 'rehash': 9320, 'smug': 10469, 'heffernan': 5285, 'insincer': 5879, 'headach': 5243, 'inducingli': 5806, 'remini': 9367, 'stiller': 10856, 'yank': 12710, 'costanza': 2628, 'nothing': 7927, '1998': 121, 'campi': 1819, 'imbu': 5693, 'exaggeratedli': 3955, 'modu': 7473, 'operandi': 8099, 'subtract': 11004, 'ero': 3867, 'incongru': 5772, 'woven': 12659, 'extravag': 4034, 'lampoon': 6485, 'lest': 6639, 'seller': 10020, 'pad': 8258, 'diverg': 3326, 'catalyz': 1940, 'slyli': 10437, 'carr': 1898, 'prone': 8946, 'misconcept': 7402, 'bernhard': 1254, 'comedienn': 2393, 'nina': 7852, 'diana': 3165, 'warhol': 12380, 'bacharach': 998, 'sylvest': 11180, 'boskovich': 1488, 'hedwig': 5282, 'entreatingli': 3827, 'guttenberg': 5070, 'waaaaaaaaay': 12336, 'scarecrow': 9863, 'burlap': 1719, 'um': 11858, 'yea': 12722, 'corn': 2603, 'yup': 12761, 'dorkaziod': 3401, 'spear': 10640, 'sand': 9788, 'peni': 8449, 'urin': 12103, 'genit': 4698, 'pee': 8429, 'erotic': 3870, 'underwear': 11935, 'locker': 6759, 'haze': 5236, 'cornfield': 2605, 'champaign': 2019, 'freakin': 4477, 'diabet': 3153, 'lookalik': 6788, 'emperor': 3759, 'impal': 5708, 'thorough': 11449, 'diappoint': 3168, 'crouch': 2753, 'judith': 6198, 'dench': 3048, 'saxaphon': 9844, 'olympia': 8065, 'dukaki': 3527, 'alimoni': 495, 'caron': 1894, 'bass': 1122, 'clio': 2278, 'lain': 6474, 'bombshel': 1445, 'beatl': 1161, 'sexegenarian': 10098, 'onstag': 8085, 'britney': 1614, 'airplay': 447, 'lol': 6774, 'snugli': 10507, 'dissect': 3298, 'plucki': 8668, 'sharpli': 10149, 'evolv': 3948, 'franka': 4460, 'punchi': 9028, 'downsid': 3430, 'persever': 8490, 'overton': 8232, 'jade': 6057, 'morbid': 7538, 'hurran': 5612, 'drunken': 3504, 'mortician': 7559, 'bori': 1482, 'featherb': 4149, 'bethlyn': 1269, 'naomi': 7697, 'unorthodox': 12025, 'vastli': 12167, 'woe': 12608, 'romcom': 9628, 'unexpectedli': 11956, 'fiend': 4215, 'aro': 797, 'tolbukhin': 11554, 'guatemala': 5033, 'analyt': 597, 'trauma': 11679, 'fungal': 4552, 'maypo': 7155, 'maltex': 7008, 'wheatena': 12483, 'granola': 4934, 'slop': 10421, 'sherri': 10184, 'astonishingli': 874, 'prudish': 8992, 'snob': 10491, 'rachael': 9110, 'stirl': 10865, 'dazzl': 2921, 'forehead': 4385, 'spoilersi': 10696, 'smo': 10460, 'sneez': 10483, 'averi': 961, 'loki': 6773, 'wiley': 12547, 'coyot': 2671, 'melt': 7250, 'typecast': 11828, 'kitsch': 6372, 'undeni': 11907, 'mileston': 7346, 'résumé': 9728, 'crampton': 2687, 'loner': 6782, 'interpork': 5934, 'escapad': 3881, 'sublim': 10984, 'ant': 656, 'dagon': 2850, 'wisecrack': 12583, 'hain': 5105, 'gratifi': 4943, 'anecdot': 618, 'marion': 7068, 'beforehand': 1186, 'malic': 6996, 'pantheon': 8301, 'patronag': 8386, 'hearst': 5258, 'exert': 3984, 'vidor': 12238, 'boon': 1467, 'pepper': 8456, 'dell': 3020, 'henderson': 5315, 'biograph': 1314, 'excerpt': 3962, 'sorrow': 10596, 'handkerchief': 5146, 'postur': 8770, 'squirt': 10745, 'seltzer': 10022, 'mack': 6927, 'sennett': 10037, 'keyston': 6320, 'prestigi': 8852, 'peppoir': 8457, 'befit': 1185, '1928': 56, 'demil': 3037, 'lowli': 6843, 'spokesman': 10700, 'autograph': 948, 'sportsmanship': 10710, 'boulevard': 1501, 'singin': 10320, 'exercis': 3983, 'examin': 3956, 'disconnect': 3255, 'facad': 4051, 'halv': 5129, 'unfamiliar': 11961, 'hultz': 5575, 'user': 12111, 'valid': 12140, 'commonli': 2413, 'smidg': 10450, 'eliot': 3707, '4th': 190, 'quartet': 9076, 'jonathan': 6174, 'defici': 2994, 'abundantli': 296, '747': 216, 'je': 6092, 'breakup': 1563, 'unrequit': 12042, 'loneli': 6781, 'chimney': 2129, 'cooki': 2577, 'globe': 4812, 'shard': 10141, 'bedroom': 1175, 'townsfolk': 11620, 'tenni': 11354, 'dosen': 3406, 'toth': 11598, 'dishwash': 3272, 'mona': 7491, 'helmer': 5305, 'comeupp': 2396, 'argh': 768, 'trier': 11717, 'gladli': 4792, 'righteou': 9539, 'carrot': 1906, 'overreact': 8222, 'ultra': 11857, 'emmet': 3752, 'mci': 7189, 'homeless': 5462, 'taim': 11227, 'bradley': 1530, 'bartha': 1104, 'labeouf': 6456, 'bellhop': 1215, 'orlando': 8133, 'thirbl': 11438, 'prom': 8936, 'wallach': 12361, 'clori': 2287, 'leachman': 6564, 'natail': 7716, 'caretak': 1872, 'maggi': 6948, 'landmark': 6492, 'theorist': 11415, 'evolut': 3947, 'tatoo': 11279, 'subspeci': 10994, 'watson': 12410, 'tate': 11278, 'ion': 5981, 'rosa': 9649, 'stefan': 10821, 'radu': 9124, 'chin': 2132, 'hove': 5550, 'frenchman': 4490, 'beleiv': 1210, 'utlim': 12120, 'usc': 12109, 'diplomat': 3224, 'dreamer': 3463, 'mankind': 7031, 'freud': 4498, 'tristan': 11730, 'twee': 11804, 'portal': 8743, 'sienna': 10270, 'stormhold': 10888, 'yvain': 12765, 'dane': 2878, 'replenish': 9402, 'pfeiffer': 8526, 'swashbuckl': 11139, 'heir': 5292, 'gervai': 4730, 'buffoon': 1679, 'puriti': 9042, 'pedest': 8423, 'diva': 3323, 'stardust': 10791, 'myriad': 7662, 'psychoanalysi': 9005, 'potter': 8779, 'misogyni': 7416, 'fairytal': 4073, 'saccharin': 9736, 'chord': 2147, 'aleist': 478, 'nlp': 7869, 'argentin': 763, 'argentina': 764, 'argentinian': 765, 'recaptur': 9234, 'globalis': 4811, 'worldwid': 12644, 'bueno': 1674, 'hendler': 5316, 'hector': 5280, 'alterio': 537, 'personifi': 8495, 'keenan': 6287, 'wayan': 12415, 'kristina': 6428, 'copeland': 2589, 'brendan': 1578, 'beiser': 1204, 'hillbilli': 5384, 'squatter': 10735, 'headlight': 5246, 'procedur': 8901, 'contin': 2548, 'ilha': 5677, 'sangu': 9797, 'pastor': 8369, 'torah': 11584, 'koran': 6411, 'blackadd': 1342, 'foolish': 4365, 'dictionari': 3183, 'outing': 8175, 'atkinson': 888, 'repent': 9397, 'stepmom': 10838, 'b_tch': 993, 'paycheck': 8404, 'madsen': 6941, 'miami': 7312, 'elbow': 3685, 'discourag': 3256, 'homework': 5466, 'cheerlead': 2083, 'flush': 4336, 'tilt': 11507, 'rewatch': 9492, 'reservoir': 9431, 'haircut': 5107, 'necrom': 7762, 'houseman': 5546, 'proletarian': 8932, 'sunk': 11055, 'thirteen': 11440, 'bunni': 1706, 'tomorrow': 11568, 'nostradamu': 7921, 'ontkean': 8088, 'row': 9675, 'arn': 793, 'glimcher': 4807, 'newton': 7817, 'hurrican': 5614, 'insipid': 5881, 'zeffrelli': 12778, 'ciaran': 2186, 'chaplain': 2036, 'bete': 1268, 'clavichord': 2240, 'scarlatti': 9869, 'verbos': 12201, 'unprepar': 12029, 'bestial': 1263, 'nigel': 7838, 'hawthorn': 5229, 'desol': 3107, 'shute': 10246, 'outback': 8163, 'hapless': 5162, 'fargo': 4104, 'meathead': 7212, 'guzman': 5072, 'cosimo': 2623, 'celluloid': 1982, 'mutha': 7653, 'sabatini': 9732, 'piraci': 8603, 'caribbean': 1876, 'aboard': 275, 'galactica': 4602, 'cylon': 2833, 'toaster': 11543, 'megaton': 7236, 'mt': 7600, 'radiat': 9119, 'fleet': 4303, 'extinct': 4028, 'ragnardock': 9132, 'slovak': 10424, 'dab': 2845, 'stain': 10765, 'afteral': 404, 'conspir': 2523, 'bloodbath': 1392, 'mcdemor': 7176, 'personia': 8494, 'goate': 4832, 'boogi': 1463, 'clarifi': 2224, 'redicul': 9271, 'burden': 1709, 'smiley': 10456, 'layout': 6558, 'madison': 6934, 'counti': 2644, 'hose': 5522, 'jalal': 6067, 'merhi': 7276, 'deadlier': 2932, 'manchest': 7016, 'utd': 12117, 'standout': 10782, 'churn': 2181, 'fa': 4046, 'underdog': 11913, 'mascot': 7097, 'underway': 11934, 'imho': 5695, 'robbi': 9587, 'coltran': 2379, 'glc': 4800, 'feud': 4200, 'lazili': 6560, 'naveron': 7739, 'wonki': 12623, 'tarantula': 11264, 'wretch': 12668, 'boardinghous': 1413, 'boogeyman': 1462, 'toothbrush': 11578, 'restraint': 9449, 'propheci': 8958, 'armageddon': 782, 'unsolv': 12052, 'meteor': 7297, 'dingi': 3214, 'nudi': 7953, 'rubberi': 9684, '1986': 109, 'correctli': 2616, 'britcom': 1612, 'cuti': 2826, 'janu': 6078, 'duff': 3519, 'beguil': 1195, 'oeuvr': 8027, 'eagl': 3589, 'coogan': 2575, 'bluff': 1404, 'siegel': 10269, 'passiv': 8365, 'mcburney': 7164, 'orderli': 8124, 'louisiana': 6827, 'confeder': 2476, 'headmistress': 5248, 'martha': 7084, 'farnsworth': 4108, 'confederaci': 2477, 'scrupul': 9949, 'fornic': 4419, 'edwina': 3646, 'sluttish': 10436, 'interestingli': 5921, 'blandish': 1358, 'halli': 5121, 'perpetr': 8485, 'combat': 2386, 'zeal': 12774, 'antithesi': 673, 'misti': 7431, 'outwardli': 8191, 'inwardli': 5979, 'hartman': 5204, 'pamelyn': 8291, 'ferdin': 4182, 'turtl': 11796, 'activist': 340, '1860': 41, 'hothous': 5533, 'overwrought': 8239, 'crist': 2736, 'wilco': 12542, 'mope': 7535, 'dishonor': 3271, 'prima': 8874, 'songwrit': 10568, 'whini': 12502, 'uncompel': 11892, 'newest': 7810, 'vile': 12252, 'debra': 2948, 'winger': 12567, 'cissi': 2206, 'slicker': 10408, 'madolyn': 6936, 'bach': 997, 'appealingli': 710, 'spunki': 10726, 'lamm': 6481, 'vicki': 12226, 'yummi': 12760, 'bath': 1127, 'solvang': 10555, 'swanki': 11136, 'freaki': 4475, 'ernest': 3864, 'keller': 6296, 'geeki': 4675, 'lassick': 6517, 'lelia': 6610, 'goldoni': 4854, 'dank': 2887, 'portli': 8751, 'diaper': 3166, 'mongoloid': 7497, 'furst': 4566, 'flounder': 4326, 'wreak': 12663, 'steinmann': 10825, 'compellingli': 2426, 'reardon': 9226, 'unjustli': 12005, 'senior': 10036, 'scholarship': 9890, 'sabo': 9734, 'optimist': 8113, 'teammat': 11300, 'growth': 5017, 'athlet': 885, 'disgruntl': 3265, 'hoeger': 5425, 'grit': 4993, 'choreographi': 2150, 'fold': 4349, 'incur': 5782, 'wrath': 12662, 'sage': 9753, 'superhuman': 11069, 'masteri': 7113, 'sonu': 10570, 'nigam': 7837, 'te': 11294, 'akshay': 459, 'siddon': 10259, 'woolnough': 12635, 'lara': 6509, 'boyl': 1523, 'curv': 2816, 'cosmet': 2624, 'col': 2350, 'houswiv': 5549, 'stepford': 10834, 'darkwolf': 2901, 'tippi': 11526, 'hedren': 5281, 'turley': 11791, 'olosio': 8063, 'hodder': 5424, 'breed': 1573, 'friedman': 4506, 'geoffrey': 4712, 'holliday': 5447, 'promisingli': 8941, 'underwhelm': 11936, 'animatron': 631, 'thre': 11456, 'fluff': 4332, 'nerv': 7794, 'gig': 4758, 'balloon': 1038, 'hideou': 5362, 'eclips': 3624, 'newbi': 7806, 'squeamish': 10739, 'slightest': 10411, 'cannib': 1832, 'bloodrayn': 1395, 'decomp': 2966, 'fiasco': 4206, 'soooo': 10574, 'prevail': 8862, 'ub': 11837, 'probobl': 8899, 'chamber': 2016, 'humanist': 5579, 'mueller': 7609, 'stahl': 10764, 'roundtre': 9670, 'foam': 4340, 'supermodel': 11080, 'archetyp': 751, 'newman': 7813, 'harbour': 5172, 'mccarthyism': 7167, 'semit': 10030, 'eyesight': 4042, 'croc': 2741, 'rogu': 9615, 'splashi': 10684, 'mangrov': 7024, 'swamp': 11135, 'bayou': 1142, 'excpet': 3971, 'rudd': 9689, 'carlin': 1881, 'tack': 11210, 'searcher': 9966, 'briton': 1615, 'crackpot': 2677, 'ostens': 8152, 'fabl': 4048, 'mytholog': 7670, 'interconnect': 5918, 'clash': 2228, 'scrub': 9946, 'unbroken': 11882, 'allegori': 503, 'stagecoach': 10760, 'landown': 6493, 'hacienda': 5086, 'aimless': 440, 'pike': 8582, 'waylay': 12418, 'plunder': 8673, 'spree': 10718, 'problemat': 8898, 'inscrut': 5872, 'epitomis': 3844, 'primitiv': 8880, 'dispar': 3284, 'catholic': 1952, 'superstit': 11084, 'greed': 4956, 'demonis': 3045, 'abducte': 265, 'illegitimaci': 5681, 'colonis': 2372, 'infantilis': 5824, 'arthurian': 814, 'joust': 6184, 'eschew': 3883, 'aural': 930, 'tapestri': 11259, 'existenti': 3988, 'keitel': 6294, 'duellist': 3518, 'pressberg': 8847, 'pantheist': 8300, 'canterburi': 1838, 'jewelleri': 6127, 'tingl': 11521, 'arabian': 738, 'heartstop': 5265, 'chelsea': 2090, 'lavel': 6546, 'moniqu': 7499, 'gigi': 4761, 'overrid': 8223, 'attain': 898, 'everest': 3931, 'billionair': 1302, '8000': 224, 'metr': 7300, 'climber': 2273, 'zoom': 12806, 'acclimatis': 310, 'goggl': 4845, 'summit': 11046, 'fatigu': 4125, 'monstrou': 7513, 'divert': 3328, 'k2': 6234, 'tit': 11534, '200000': 130, 'sander': 9789, 'tickl': 11493, 'mogadon': 7477, 'autocu': 947, 'hurri': 5613, 'septimu': 10056, 'rupert': 9708, 'clarissa': 2225, 'bitti': 1335, 'uniti': 12001, 'leed': 6588, 'tyke': 11823, 'pa': 8250, 'grandpa': 4931, 'gunfir': 5055, 'mobster': 7456, 'huston': 5621, 'nat': 7715, 'pendleton': 8446, 'blane': 1359, 'lawman': 6550, 'softbal': 10531, 'ichabod': 5646, 'crane': 2689, 'headless': 5244, 'horseman': 5520, 'repugnantli': 9418, 'bedtim': 1176, 'bundl': 1702, 'ambienc': 560, 'reechi': 9279, 'aplenti': 696, 'lubezki': 6852, 'gien': 4754, 'wisconsinit': 12579, 'kentuci': 6308, 'wisconsit': 12580, 'pine': 8592, 'raven': 9196, 'californa': 1790, 'gein': 4680, 'antifreez': 670, 'reciept': 9241, 'antif': 669, '56': 196, 'furintur': 4560, 'hid': 5359, 'horriabl': 5510, 'slab': 10371, 'bleak': 1369, 'dicken': 3178, 'exterem': 4024, 'denholm': 3050, 'jardyc': 6084, 'rigg': 9537, 'ladti': 6468, 'dedlock': 2971, 'oli': 8057, 'miguel': 7328, 'ferrer': 4188, 'entwisl': 3829, 'moss': 7565, 'cessna': 2003, 'inexhaust': 5817, 'puke': 9020, 'squeak': 10736, 'henriksen': 5319, 'ripper': 9555, 'estrang': 3900, 'rebelli': 9230, 'dumbest': 3535, 'bald': 1033, 'berryman': 1255, '1977': 99, 'maetel': 6945, 'leiji': 6606, 'matsumoto': 7137, 'emeralda': 3744, '999': 245, 'orbit': 8121, 'colder': 2352, 'mechanis': 7215, 'hardgear': 5178, 'sketchi': 10353, 'slide': 10409, 'baffl': 1018, 'mandatori': 7018, 'seagal': 9960, 'sloppili': 10423, 'braincel': 1533, 'aspirin': 852, 'alcatraz': 473, 'chestnut': 2102, 'tha': 11394, 'classifi': 2232, 'ashton': 840, 'kutcher': 6447, 'tara': 11262, 'reid': 9322, 'effortless': 3656, 'bauer': 1137, 'parrot': 8343, 'pauli': 8394, 'janitor': 6076, 'rebirth': 9231, 'akira': 457, 'cartoonist': 1913, 'shiver': 10201, 'ohtar': 8046, 'sunnyg': 11058, 'snowman': 10502, 'chemic': 2091, 'terroris': 11376, 'styrofoam': 10976, 'polystyren': 8705, 'mimick': 7363, 'dir': 3226, 'ponc': 8707, 'ampudia': 588, 'sebastian': 9974, 'haro': 5192, 'dilapid': 3200, 'mattress': 7143, 'transmit': 11664, 'imperfect': 5713, 'diminut': 3210, 'unsophist': 12053, 'fascism': 4115, 'hanek': 5151, 'denounc': 3060, 'fascist': 4116, 'massiv': 7111, 'asia': 841, 'liu': 6733, 'shaolin': 10138, 'scaffold': 9849, '36': 172, 'menial': 7262, 'stack': 10755, 'miagi': 7311, 'cetera': 2005, 'tormentor': 11588, 'thump': 11483, 'pete': 8517, 'whiney': 12500, 'clare': 2222, 'mariachi': 7063, '7000': 211, 'pyrotechn': 9058, '1995': 118, 'promiscu': 8940, 'spontan': 10702, 'spectrum': 10653, 'rendezv': 9378, 'joyc': 6189, 'novella': 7937, 'dublin': 3508, 'societ': 10515, 'rail': 9139, 'gabriel': 4591, 'conroy': 2508, 'epiphani': 3841, 'intang': 5904, 'hue': 5564, 'complac': 2433, 'toddl': 11547, 'tenor': 11355, 'beli': 1212, 'gelbart': 4683, 'donen': 3372, 'mourn': 7583, 'bologna': 1438, 'backer': 1002, 'poorest': 8720, 'xma': 12698, 'tub': 11769, 'underus': 11931, 'neagl': 7749, 'nanett': 7695, 'helen': 5296, 'broderick': 1623, 'unneed': 12020, 'peev': 8433, 'lousinia': 6829, 'goof': 4870, 'tow': 11614, 'armando': 784, 'ossorio': 8151, 'malenka': 6992, 'serpient': 10076, 'mar': 7047, 'milland': 7352, 'sock': 10520, 'serpent': 10074, 'swirl': 11165, 'lighthous': 6684, 'munch': 7627, 'actess': 336, 'cesar': 2002, 'magistr': 6952, 'etud': 3912, 'moeur': 7475, 'helplessli': 5309, 'janet': 6075, 'leigh': 6605, 'frivol': 4515, 'greek': 4958, 'shriek': 10236, 'abba': 261, 'assault': 856, 'gender': 4689, '1989': 112, 'maddison': 6932, 'unrecognis': 12036, 'bon': 1446, 'arli': 780, 'jover': 6186, 'anorex': 653, 'ramp': 9153, 'cramp': 2686, 'moray': 7537, 'fellatio': 4165, 'mimic': 7362, 'spurt': 10728, 'profus': 8925, 'donat': 3371, 'healthi': 5253, 'relig': 9349, 'spoilt': 10697, 'fot': 4432, 'sicilian': 10255, 'salvator': 9773, 'sicili': 10254, 'prosper': 8969, 'onion': 8079, 'swam': 11134, 'yield': 12739, 'surrealist': 11109, 'interwoven': 5942, 'tempest': 11336, 'destitut': 3117, 'scrambl': 9926, 'donkey': 3373, 'conform': 2485, 'sail': 9757, 'overhead': 8208, 'foggi': 4347, 'elli': 3715, 'delous': 3022, 'mathemat': 7130, 'violat': 12270, 'optim': 8112, 'disparag': 3285, 'arc': 742, 'oneself': 8077, 'prerequisit': 8837, 'adher': 356, 'rigid': 9541, 'smidgen': 10451, 'smidgenomet': 10452, 'nichol': 7825, 'sorkin': 10590, 'omg': 8069, 'gloss': 4820, 'pithi': 8611, 'sauc': 9832, 'minni': 7384, 'duchovni': 3511, 'indescrib': 5791, 'conner': 2498, 'salti': 9770, 'ws': 12680, 'largest': 6513, 'scroll': 9944, 'orphanag': 8140, 'artefact': 810, 'bureaucraci': 1711, 'carnbi': 1887, 'slater': 10383, 'asshol': 861, 'dorff': 3398, 'behead': 1200, 'coop': 2583, 'cranbi': 2688, 'powder': 8786, 'muzzl': 7657, 'seizur': 10010, 'samu': 9781, 'aran': 739, 'ak': 453, '47': 188, 'vercetti': 12203, 'unexcit': 11954, 'diarrhea': 3171, 'yan': 12709, 'kar': 6251, 'fai': 4066, 'lok': 6772, 'chairman': 2011, 'impati': 5710, 'baton': 1132, 'council': 2639, 'gangfight': 4622, 'shiu': 10200, 'koo': 6408, 'cann': 1830, 'fil': 4227, 'nth': 7946, 'transsexu': 11671, 'shave': 10153, 'overcast': 8200, 'luminesc': 6877, 'downcast': 3422, 'shabbi': 10110, 'boni': 1453, 'unapp': 11868, 'mole': 7482, 'greasi': 4950, 'yuk': 12757, 'pierr': 8577, 'sequiteur': 10059, 'epat': 3838, 'bourgeoi': 1509, 'shoo': 10209, 'crasher': 2695, 'notebook': 7926, 'happenst': 5163, 'yuppi': 12762, 'brew': 1583, 'bewitch': 1277, 'onboard': 8075, 'superhero': 11068, 'pent': 8454, 'airlin': 445, 'soylent': 10616, 'thorn': 11446, '2022': 142, 'unsavori': 12048, 'agricultur': 424, 'connor': 2503, 'brock': 1622, 'robinson': 9593, 'sooooo': 10575, 'writen': 12672, 'wajda': 12352, 'animos': 632, 'danton': 2889, 'robespierr': 9591, 'quasi': 9077, 'nonchal': 7885, 'woijech': 12611, 'pzsoniak': 9061, 'andrzej': 617, 'seweryn': 10095, 'bogoslaw': 1428, 'linda': 6700, 'bourdon': 1508, 'undynam': 11946, 'walesa': 12355, 'mindset': 7371, 'riiight': 9543, 'francais': 4453, 'juici': 6202, 'tid': 11494, 'klau': 6378, 'maria': 7062, 'brandauer': 1542, 'rational': 9190, 'rearrang': 9227, 'confer': 2478, 'cowpok': 2669, 'settlement': 10087, 'dru': 3496, 'untim': 12067, '57': 197, 'arcand': 745, 'theologian': 11413, 'sanctuari': 9787, 'montreal': 7523, 'celibaci': 1978, 'abhorr': 268, 'visibl': 12284, 'throne': 11470, 'braugher': 1548, 'dzunzda': 3585, 'lastli': 6519, 'gugino': 5037, 'caryn': 1916, 'krooth': 6432, 'uber': 11839, '16mm': 33, 'yano': 12711, 'dalmar': 2859, 'horseback': 5519, 'ivanna': 6038, 'erna': 3863, 'schuer': 9901, 'char': 2041, 'broil': 1625, 'retromedia': 9469, 'scratchier': 9930, 'truffaut': 11756, 'deneuv': 3049, 'intercontinent': 5919, 'theft': 11404, 'dissatisfi': 3297, 'shorter': 10218, 'reem': 9283, 'interplanetari': 5931, 'hunnicut': 5605, 'raccoon': 9108, 'predominantli': 8819, 'moonlight': 7529, 'pond': 8709, 'unrespons': 12044, 'recept': 9238, 'freeli': 4484, 'keeper': 6290, 'hike': 5377, 'octob': 8017, 'wgn': 12476, 'hearten': 5262, 'capitalist': 1847, 'indec': 5784, 'droll': 3488, 'bossi': 1491, 'sycophant': 11174, 'ackroyd': 327, 'tamerlan': 11247, 'ankl': 636, 'ars': 807, 'bulgarian': 1687, 'lyubomir': 6908, 'neikov': 7779, 'uninstal': 11991, 'rugbi': 9694, 'springbok': 10720, 'mcdonough': 7178, 'thereof': 11423, 'refere': 9290, 'unpunish': 12031, 'scrum': 9948, 'fray': 4472, 'hustl': 5620, 'polem': 8695, 'omnipres': 8074, 'spectr': 10652, 'ambros': 566, 'bierc': 1289, 'grist': 4992, 'melani': 7241, 'withdrawn': 12593, 'grint': 4988, 'linney': 6711, 'calendar': 1787, 'unarm': 11871, 'blackhawk': 1343, 'stripe': 10932, 'undisclos': 11941, 'shrunk': 10241, 'cheaper': 2073, 'ukrainian': 11851, 'alison': 497, 'lohman': 6769, 'mononok': 7508, 'fluid': 4334, 'tolmekian': 11558, 'ambl': 565, 'hisaichi': 5401, 'overdr': 8205, 'sledgehamm': 10395, 'arbor': 741, 'abromowitz': 282, 'niec': 7835, 'affluent': 393, 'companion': 2419, 'reiner': 9328, 'moreno': 7542, 'astray': 878, 'viet': 12241, 'oklahoma': 8050, 'dribbl': 3475, 'draft': 3443, 'grandest': 4926, 'instant': 5890, 'lap': 6505, 'sherpa': 10183, 'angrili': 626, 'retort': 9464, 'appendag': 712, 'toe': 11549, 'learnt': 6576, 'iren': 5991, 'nudg': 7952, 'wink': 12568, 'checker': 2079, 'consequenti': 2516, 'comprehens': 2445, 'sprung': 10725, 'feckless': 4153, 'banjo': 1060, 'mardi': 7056, 'gra': 4903, 'llama': 6741, 'testicl': 11381, 'gooseberri': 4877, 'rudimentari': 9692, 'facil': 4055, '15000': 28, 'ft': 4531, 'iou': 5982, 'tin': 11518, 'spam': 10624, 'crotchless': 2752, 'knicker': 6387, 'noos': 7899, 'cock': 2327, 'hen': 5312, 'ailment': 437, 'spit': 10681, 'yr': 12754, 'glenfiditch': 4804, 'scotsman': 9921, 'diaphragm': 3167, 'vindic': 12265, 'gangren': 4623, 'elast': 3684, 'augur': 924, 'lucil': 6857, 'celoron': 1983, 'jamestown': 6071, 'factual': 4060, 'inimit': 5854, 'luci': 6856, 'arnaz': 794, 'exodu': 3992, 'heh': 5286, 'harder': 5176, 'licens': 6667, 'truncat': 11761, 'turbul': 11785, 'judi': 6197, 'perfectionist': 8466, 'vivian': 12298, 'rehears': 9321, 'thinner': 11436, 'zima': 12792, 'frawley': 4471, 'austrailia': 935, 'zeland': 12781, 'oppenheim': 8103, '1951': 79, 'asher': 835, 'budgetari': 1673, '1953': 80, 'condens': 2470, 'restructur': 9452, 'rko': 9572, '1957': 84, 'riski': 9562, 'loaf': 6748, 'shorten': 10217, 'grape': 4936, 'stomp': 10876, 'vitametavegamin': 12292, 'skim': 10358, 'lestat': 6640, 'teeni': 11320, 'begun': 1196, 'neil': 7780, 'sedaka': 9988, 'peluso': 8440, 'solo': 10552, 'gibb': 4749, 'tomboyish': 11562, 'gutsier': 5069, 'fletcher': 4306, 'agn': 417, 'goodby': 4862, 'anorexia': 654, 'hotlin': 5534, 'serb': 10062, 'draza': 3460, 'milhalovitch': 7347, 'chetnik': 2104, 'flier': 4312, 'yugoslavia': 12755, 'smear': 10448, 'soro': 10591, 'icg': 5645, 'kosovo': 6418, 'serbia': 10063, 'nato': 7728, 'albanian': 467, 'branch': 1540, 'unwilling': 12074, 'clinton': 2277, 'iran': 5987, 'sarajevo': 9809, 'parkin': 8336, 'birney': 1321, 'helmet': 5306, 'qb': 9063, 'sportscent': 10709, 'iggi': 5669, 'joshua': 6179, 'probe': 8896, 'haa': 5084, 'propiti': 8960, 'pressburg': 8848, 'rift': 9535, 'overpaid': 8218, 'bellini': 1217, 'interperson': 5930, 'placid': 8622, 'carson': 1907, 'mcculler': 7174, 'cutesi': 2825, 'twinkl': 11812, 'fuzzi': 4580, 'stockard': 10869, 'herein': 5330, 'subway': 11009, 'pursuer': 9048, 'einon': 3673, 'thewli': 11427, 'draco': 3440, 'postlethwait': 8767, 'glockenspur': 4813, 'isaac': 6010, 'aislinn': 449, 'gielgud': 4753, 'dragoon': 3448, 'soni': 10569, 'fmv': 4338, 'stat': 10801, 'shana': 10134, 'wimp': 12557, 'meru': 7286, 'armor': 789, 'unentertain': 11952, 'retread': 9465, 'wuhl': 12684, '1956': 83, 'charelston': 2048, 'weaker': 12424, 'loon': 6791, 'vinni': 12267, 'jackass': 6047, 'courtroom': 2658, 'expend': 3997, 'saxon': 9845, '1949': 77, 'collier': 2364, 'lang': 6496, 'groupi': 5013, 'floppi': 4323, 'brim': 1604, 'cigar': 2188, 'disguis': 3266, 'gallant': 4608, 'halsey': 5127, 'cagney': 1778, 'sesam': 10083, 'slept': 10402, 'gibberish': 4750, 'arteri': 811, 'bleed': 1371, 'hobbit': 5421, 'amazon': 557, 'clarenc': 2223, 'argenziano': 767, 'quittner': 9100, 'kleinhal': 6380, 'armst': 791, 'kent': 6306, 'foreman': 4387, 'trista': 11729, 'occast': 8010, 'fro': 4516, 'hobbi': 5420, 'youngster': 12751, 'fifth': 4221, 'bachelor': 999, 'hideous': 5363, 'underwat': 11933, 'chilli': 2127, 'arctic': 755, 'jafar': 6059, 'jurass': 6224, 'dino': 3218, 'leoni': 6630, 'nivola': 7867, 'wb': 12420, 'tini': 11522, 'murki': 7635, 'giss': 4784, 'introspect': 5957, 'dunno': 3548, 'nightingal': 7842, 'implant': 5719, 'extern': 4027, 'nunez': 7964, 'ule': 11853, 'chanteus': 2031, 'pavlovian': 8397, 'unbidden': 11880, 'indel': 5787, 'empower': 3767, 'tonic': 11573, 'sooth': 10578, 'figgi': 4223, 'kristin': 6427, 'perki': 8476, 'meatbal': 7211, 'wonderland': 12618, 'prettiest': 8860, 'bona': 1447, 'fide': 4212, 'underpin': 11922, 'reincarn': 9327, 'baloney': 1041, 'quantum': 9071, 'ramtha': 9158, 'tipto': 11527, 'howl': 5556, '3am': 174, 'nuff': 7957, 'transylvania': 11673, 'transylvanian': 11674, 'chronicl': 2165, 'incubu': 5780, 'nosferatu': 7916, 'kinski': 6365, 'curious': 2806, 'gorilla': 4885, 'focal': 4341, 'zoetrop': 12800, 'lint': 6712, 'menageri': 7259, 'earnest': 3597, 'sparkl': 10631, 'distinctli': 3307, 'thunderstorm': 11485, 'furnitur': 4563, 'flabbergast': 4273, 'gooder': 4863, 'carolin': 1892, 'unstartl': 12057, 'unexplor': 11958, 'hitchcockian': 5412, 'vaughn': 12173, 'frail': 4448, 'propens': 8954, 'disrespect': 3293, 'lodeston': 6762, 'turpin': 11795, 'unemploy': 11949, 'holler': 5445, 'amusingli': 591, 'buttock': 1746, 'typist': 11831, 'ayr': 987, 'mineau': 7373, 'kuszko': 6446, 'eezma': 3651, 'squirrel': 10744, 'diagnosi': 3158, 'lunchtim': 6882, 'mannix': 7035, 'rickman': 9521, 'orlean': 8134, 'holbrook': 5436, 'mannag': 7033, 'brewski': 1584, 'speakman': 10639, 'kempo': 6301, 'koreatown': 6415, 'watchin': 12402, 'multitud': 7622, 'soso': 10599, 'plotwis': 8664, 'godzilla': 4843, 'continuoi': 2551, 'acoupl': 329, 'mil': 7338, 'zwick': 12813, 'sender': 10035, 'artistri': 822, 'etebari': 3906, 'kasadya': 6263, 'dreamless': 3465, 'staci': 10754, 'peralta': 8461, 'dogtown': 3354, 'zepher': 12785, 'ragtag': 9133, 'vert': 12215, 'converg': 2566, 'haphazard': 5160, 'entic': 3820, 'ringu': 9547, 'grudg': 5018, 'cctv': 1967, 'remors': 9372, 'deduc': 2972, 'changel': 2028, 'mccarti': 7168, 'uncredit': 11902, 'workabl': 12638, 'mcconnel': 7170, 'novelist': 7936, 'goddess': 4837, 'scarlet': 9870, 'johans': 6153, 'shene': 10178, 'devinn': 3137, 'unbeknownst': 11878, 'backfir': 1003, 'christin': 2160, 'backstab': 1005, 'moan': 7452, 'tapeworthi': 11260, 'skinemax': 10361, 'ooh': 8090, 'famer': 4087, 'corey': 2601, 'haim': 5104, 'eggert': 3660, 'rodman': 9612, 'grumpi': 5022, 'aback': 259, 'overnight': 8217, 'gullibl': 5049, 'fdo': 4141, 'transpos': 11670, 'quatermass': 9079, '1967': 91, '666': 206, 'decreas': 2969, 'shaun': 10152, 'zachari': 12767, 'flane': 4282, 'howel': 5555, 'chatroom': 2066, 'goodwil': 4869, 'thrift': 11465, 'dam': 2863, 'sharkey': 10144, 'handedli': 5142, 'demot': 3047, 'bungl': 1704, 'abduct': 264, 'vittorio': 12295, 'gassman': 4652, 'vaughan': 12172, 'chet': 2103, 'crawford': 2701, 'stride': 10925, 'sidewalk': 10265, 'revis': 9484, 'joie': 6161, 'vivr': 12302, 'drill': 3478, 'fertil': 4190, 'temperatur': 11335, 'monitor': 7500, 'humanli': 5581, 'pyun': 9060, 'joergen': 6150, 'geronimo': 4727, 'gassi': 4651, 'donut': 3378, 'palermo': 8280, 'mckinney': 7193, 'anyhoo': 684, 'briefcas': 1592, 'lovitz': 6838, 'halt': 5128, 'louis': 6826, 'highpoint': 5373, 'carniv': 1888, 'napoleon': 7701, 'lowpoint': 6845, 'hanger': 5154, 'ick': 5648, 'slo': 10418, 'alarm': 464, 'comfi': 2397, 'sleek': 10396, 'bootleg': 1472, 'amc': 568, 'crumbl': 2768, 'suffoc': 11025, 'malden': 6990, 'robust': 9596, 'duster': 3559, 'nickel': 7829, 'bureau': 1710, 'sworn': 11172, 'seraph': 10061, 'taut': 11282, 'disintegr': 3273, 'buf': 1675, 'boundless': 1506, 'jam': 6068, 'wildli': 12546, 'frighteningli': 4512, 'darkest': 2898, 'glaringli': 4798, 'rahman': 9135, 'ratnam': 9191, 'vuyir': 12332, 'chakkarvarthi': 2012, 'nandhitada': 7693, 'yasmin': 12717, 'bleeth': 1372, 'swimsuit': 11160, 'waterg': 12406, 'venom': 12193, 'evildo': 3943, 'robeson': 9590, 'kaufman': 6275, 'batter': 1133, 'philanthropist': 8538, 'bleach': 1368, 'bulletproof': 1691, 'damagingli': 2865, 'aryan': 828, 'ubermensch': 11840, 'invulner': 5978, 'kryptonit': 6436, 'overplay': 8219, 'exud': 4037, 'geographi': 4713, 'robyn': 9597, 'marilyn': 7065, 'moll': 7486, 'drawback': 3457, 'dogfight': 3352, 'biplan': 1318, 'matiné': 7132, 'rumour': 9702, 'colgat': 2355, 'caption': 1856, 'dust': 3558, 'gung': 5056, 'sousa': 10609, 'underl': 11918, 'relentlessli': 9342, 'skyscrap': 10369, 'yacht': 12704, 'snake': 10474, 'mould': 7579, 'koenekamp': 6402, 'sprang': 10715, 'loin': 6771, 'zeu': 12789, 'arch': 746, 'burgess': 1713, 'meredith': 7274, 'porsch': 8740, 'gasolin': 4648, 'sludg': 10428, 'makepeac': 6975, 'wiz': 12603, 'mcgyver': 7188, 'frequenc': 4493, 'altman': 540, 'dooley': 3385, 'stint': 10862, 'nt': 7945, 'moist': 7480, 'duschload': 3557, 'grimmer': 4985, 'melancholi': 7240, 'bancroft': 1051, 'estel': 3898, 'greta': 4973, 'garbo': 4634, 'upfront': 12082, 'thinli': 11435, 'fisher': 4261, 'hick': 5357, 'trampl': 11653, 'duck': 3512, 'deer': 2981, 'crueler': 2764, 'necklac': 7761, 'deniselacey2000': 3055, 'yahoo': 12705, 'bathroom': 1128, 'jacquelin': 6055, 'bisset': 1327, 'diabol': 3155, 'sociopath': 10519, 'kaldwel': 6241, 'gleeful': 4802, 'tyrann': 11833, 'spotlight': 10712, 'kraus': 6424, 'temperament': 11334, 'dahlia': 2851, 'moxham': 7592, 'chih': 2117, 'leong': 6629, 'sepia': 10054, 'zarkorr': 12771, 'hologram': 5455, 'rattan': 9192, 'horridli': 5513, 'hord': 5500, 'lumberjack': 6874, 'pall': 8283, 'aloud': 529, 'nonprofession': 7891, 'prehistor': 8824, 'hijack': 5375, 'doofus': 3384, 'eaten': 3614, 'oss': 8149, '117': 18, 'jeu': 6124, 'mot': 7568, 'brice': 1587, 'dujardin': 3526, 'judgment': 6196, 'agon': 420, 'nope': 7900, 'toma': 11560, 'headsman': 5250, 'addi': 350, 'gisburn': 4783, 'greec': 4955, 'konstantinopel': 6407, 'barbarian': 1070, 'monthi': 7521, 'sherwood': 10185, 'catweazl': 1956, 'webr': 12437, 'pra': 8790, 'adeventur': 355, 'jule': 6204, 'vern': 12209, 'niveau': 7866, 'prejudici': 8827, 'elsdon': 3724, 'lionheart': 6715, 'normandi': 7905, 'wholi': 12521, 'hunger': 5601, 'poverti': 8785, 'saracen': 9807, 'ransom': 9171, '11th': 19, 'approx': 729, 'cite': 2207, 'mantl': 7043, 'unsoci': 12051, 'kostner': 6419, '91': 240, 'thiev': 11432, 'treacher': 11690, 'humorist': 5592, 'harbing': 5170, 'schreiber': 9897, 'safran': 9751, 'foer': 4345, 'preconceiv': 8811, 'grandpar': 4932, 'amber': 558, 'ornament': 8137, 'happier': 5165, 'snapshot': 10478, 'ukrain': 11850, 'heritag': 5332, 'trochenbrod': 11737, 'grandson': 4933, 'sammi': 9778, 'sunflow': 11053, 'elijah': 3704, 'felicit': 4161, 'hutz': 5623, 'ukranian': 11852, 'arcan': 744, 'leskin': 6634, 'laryssa': 6515, 'lauret': 6544, 'libatiqu': 6660, 'splendor': 10688, 'czech': 2841, 'republ': 9415, 'cantelon': 1837, 'scotti': 9923, 'cramer': 2685, 'klown': 6381, 'lingo': 6708, 'freakiest': 4476, 'hissi': 5404, 'deepen': 2977, 'proverbi': 8985, 'bachlor': 1000, 'comcast': 2389, 'moviepass': 7590, 'pestimist': 8512, 'uneasi': 11948, 'reduct': 9277, '180': 37, 'aldrich': 476, 'belt': 1222, 'interf': 5922, 'antagon': 657, 'derisori': 3085, 'avatar': 955, 'hungari': 5599, 'precursor': 8812, 'tycoon': 11822, 'interlock': 5925, '15th': 29, 'druid': 3499, 'loch': 6756, 'unsung': 12060, 'hobo': 5422, 'savannah': 9837, 'assess': 859, 'trajectori': 11651, 'sensuous': 10047, 'venal': 12187, 'victorian': 12233, 'masterwork': 7118, 'anthem': 661, 'baba': 994, 'reili': 9325, 'rocker': 9602, 'daltrey': 2862, 'entwistl': 3830, 'ongo': 8078, 'saddl': 9744, 'townsend': 11619, '2am': 157, 'remnant': 9369, 'abkani': 270, 'paranorm': 8325, '713': 214, 'lionel': 6714, 'hudgen': 5562, 'artifact': 818, 'alin': 496, 'cedrac': 1973, 'cmdr': 2311, 'burk': 1718, 'videogam': 12235, 'bestsel': 1264, 'despertar': 3110, 'mal': 6980, 'cereal': 1996, 'mildew': 7342, 'nappi': 7702, 'saxophon': 9846, 'signatur': 10277, 'balanchin': 1032, 'tchaikovski': 11292, 'grossvatertanz': 5007, 'violin': 12274, 'elimin': 3705, 'interpol': 5933, 'melod': 7245, 'thereaft': 11419, 'plum': 8670, 'cavali': 1961, 'desecr': 3098, 'washinton': 12395, 'elit': 3711, 'baggi': 1021, 'cyril': 2838, 'porki': 8733, 'porker': 8732, 'gil': 4762, 'gerard': 4719, 'crusti': 2774, 'goodman': 4867, 'cord': 2599, 'regurgit': 9317, 'encrypt': 3779, 'purport': 9044, 'portabl': 8742, 'aircraft': 443, 'nari': 7705, 'flinch': 4315, 'uzi': 12127, 'mp': 7593, '5s': 199, 'socomm': 10522, 'fn': 4339, '92f': 241, 'tec': 11305, 'breathabl': 1567, 'flap': 4283, 'touchdown': 11601, 'elud': 3727, 'rosco': 9650, 'sr': 10746, 'mothbal': 7571, 'stealth': 10815, 'camper': 1818, 'husen': 5619, 'siren': 10329, 'unintellig': 11992, 'disturbingli': 3317, 'flicker': 4311, 'boarder': 1412, 'darkhunt': 2899, 'implor': 5724, 'wittili': 12601, 'afilm': 396, 'canon': 1835, 'nugget': 7958, 'snobberi': 10492, 'synonym': 11195, 'visionari': 12286, 'generalis': 4692, 'forum': 4429, 'baywatch': 1143, 'simper': 10298, 'jokingli': 6168, 'sh': 10108, 'horticulturalist': 5521, 'lorenz': 6808, 'outlandish': 8176, 'dementia': 3034, 'gland': 4796, 'vow': 12322, 'taint': 11228, 'bounti': 1507, 'luana': 6850, 'panorama': 8298, 'videographi': 12236, 'clincher': 2274, 'standbi': 10781, 'graff': 4914, 'delug': 3026, 'coastal': 2320, 'chamberlain': 2017, 'aborigin': 277, 'athol': 886, 'compton': 2449, 'coron': 2610, 'assail': 854, 'gulpili': 5050, 'shaman': 10130, 'nandjiwarna': 7694, 'amagula': 549, 'gigant': 4759, 'folklor': 4352, 'tribal': 11709, 'austrailan': 934, 'rev': 9475, 'parslow': 8344, 'tidal': 11495, 'bred': 1572, 'conni': 2500, 'backwood': 1007, 'benson': 1238, 'lieberman': 6672, 'squirm': 10743, 'clunki': 2306, 'daft': 2849, 'prophet': 8959, 'splinter': 10691, 'unrest': 12045, 'commercialis': 2408, 'bench': 1228, 'nelligan': 7783, 'follett': 4353, 'codenam': 2336, 'homemad': 5463, 'wanda': 12368, 'nevada': 7803, 'pubesc': 9014, 'constitut': 2529, 'simplifi': 10306, 'diction': 3182, 'pedophilia': 8427, 'travelogu': 11683, 'canyon': 1840, 'reflex': 9294, 'pictori': 8570, 'peruvian': 8503, 'pared': 8329, 'iberian': 5640, 'peninsular': 8450, 'garcíadiego': 4637, 'maestro': 6944, 'garcía': 4636, 'márquez': 7671, 'arturo': 825, 'ripstein': 9558, 'refin': 9292, 'touchingli': 11603, 'coronel': 2611, 'luján': 6868, 'pension': 8453, 'ramshackl': 9157, 'timber': 11509, 'colombian': 2368, 'colombia': 2367, '88': 232, '1937': 64, 'heartthrob': 5266, 'halliday': 5122, 'astair': 870, 'heiress': 5293, 'marshmorton': 7083, 'fontain': 4361, 'kegg': 6291, 'gardin': 4640, 'reggi': 9309, 'wodehous': 12607, 'annoyingli': 649, 'clueless': 2301, 'ditzi': 3322, 'footman': 4370, 'novic': 7940, 'hoofer': 5485, 'madrig': 6940, 'englishmen': 3797, 'gershwin': 4728, 'vaudevillian': 12171, 'smoooooookin': 10464, 'prequel': 8836, 'downey': 3424, 'irrat': 5997, 'criteria': 2737, 'magrud': 6957, 'mallori': 7002, 'doss': 3407, 'embeth': 3737, 'davidtz': 2916, 'rainstorm': 9145, 'badger': 1013, 'poorer': 8719, 'driveway': 3486, 'ampl': 586, 'begrudg': 1194, 'dwight': 3574, 'technician': 11308, 'meter': 7298, 'cyr': 2836, 'restaur': 9446, 'germaphob': 4725, 'alexi': 486, 'erni': 3866, 'heslov': 5346, 'huerta': 5565, 'gwen': 5074, 'westcourt': 12471, 'annel': 642, 'arabella': 736, 'atheist': 882, 'dorkin': 3402, 'recurr': 9261, 'graviti': 4948, '00000000000': 3, '99999999999999999': 246, 'trillion': 11719, 'hypocrit': 5634, 'interviewe': 5941, 'unfriendli': 11972, 'stray': 10909, 'richardson': 9516, 'ghouli': 4741, 'iz': 6042, 'spray': 10716, 'mace': 6919, '24h': 151, 'jog': 6152, 'horizont': 5503, 'kerr': 6313, 'robard': 9584, 'baro': 1092, 'hungarian': 5600, 'impass': 5709, 'presag': 8839, 'naturalist': 7730, 'wolv': 12615, 'patrician': 8382, 'backstreet': 1006, 'withstand': 12596, 'masterson': 7117, 'chalk': 2013, 'formid': 4416, 'westchest': 12470, 'shadi': 10115, 'splendidli': 10687, 'terrifyingli': 11373, 'recoil': 9252, 'ditsi': 3319, 'showi': 10229, 'serpico': 10075, 'pawnbrok': 8399, 'himesh': 5389, 'bobi': 1419, 'mazagin': 7157, 'bankrupt': 1063, 'roam': 9580, 'generos': 4693, 'moe': 7474, 'lamotta': 6482, 'fetishismand': 4198, 'aaliyah': 254, 'marguerit': 7060, 'moreau': 7539, 'akasha': 455, 'electrifi': 3691, 'lena': 6613, 'olin': 8058, 'ungrat': 11976, 'unjustifi': 12004, '46': 187, 'punt': 9035, 'feign': 4159, 'patti': 8390, 'almagz': 518, 'rooprect': 9643, 'glowingli': 4825, 'charad': 2047, 'appoint': 722, 'guantanamo': 5029, 'veronica': 12211, 'tarnish': 11267, 'hasbeen': 5211, 'peer': 8432, 'reliabl': 9345, 'grinter': 4989, 'nudist': 7954, 'dope': 3393, 'hepitita': 5324, 'electron': 3693, 'raver': 9197, 'glorious': 4819, 'sketchier': 10354, 'disassoci': 3241, 'kerrigan': 6315, 'jip': 6137, 'koop': 6409, 'moff': 7476, 'lulu': 6872, 'groov': 5002, 'geeson': 4677, 'clandestin': 2219, 'steiger': 10823, 'irrepress': 6001, 'hiker': 5378, 'slumber': 10432, 'goldeney': 4852, 'naughti': 7731, 'fireplac': 4250, 'promptli': 8945, 'slit': 10417, 'unresolv': 12043, 'dyan': 3576, 'deathtrap': 2943, 'sleuth': 10403, 'pear': 8414, 'nitpick': 7863, 'undo': 11942, 'quintet': 9095, 'icicl': 5647, 'feck': 4152, 'waddl': 12340, 'weebl': 12442, 'woken': 12613, 'meagr': 7199, 'grill': 4981, 'noisi': 7880, 'gape': 4627, 'draughti': 3455, 'unheat': 11980, 'sofa': 10528, 'duvet': 3566, 'midwint': 7326, 'fishbourn': 4259, 'warehous': 12378, 'hackett': 5089, 'proven': 8984, 'schepisi': 9883, 'partisan': 8353, 'lindi': 6702, 'dingo': 3216, 'transfix': 11659, 'inquest': 5867, 'pom': 8706, 'readership': 9214, 'jarom': 6085, 'password': 8366, 'battlestar': 1136, 'gallactica': 4606, 'caprica': 1853, 'outdoor': 8170, 'towel': 11616, 'esai': 3879, 'bsg': 1662, 'sharpen': 10147, 'oc': 8006, 'booz': 1474, 'blakewel': 1352, 'penniless': 8452, 'bootlegg': 1473, 'luva': 6896, 'mgm': 7309, 'cozi': 2672, 'jimini': 6135, 'precod': 8810, 'cemeteri': 1985, 'sweat': 11144, 'mang': 7021, 'bled': 1370, 'howler': 5557, 'schtick': 9900, 'doodl': 3381, 'bluth': 1408, 'diora': 3221, 'baird': 1024, 'sane': 9796, 'sherman': 10182, 'glen': 4803, 'stoog': 10882, 'smoothi': 10466, 'yale': 12708, 'jonah': 6173, 'explanatori': 4007, 'kiki': 6339, 'mauric': 7146, 'aficionado': 395, 'sacr': 9738, 'barbar': 1068, 'ullmann': 11855, 'gazook': 4667, 'outgrow': 8174, '09': 8, '2009': 139, 'hoo': 5481, 'guacamol': 5028, 'honda': 5471, 'civic': 2210, 'tray': 11689, 'grossman': 5006, 'opu': 8115, 'taiwan': 11229, 'knockoff': 6395, 'punchlin': 9029, 'bulk': 1688, 'arquett': 799, 'kari': 6257, 'wuhrer': 12685, 'rippi': 9556, 'johansson': 6154, 'sluizer': 10430, 'culprit': 2791, 'earliest': 3594, 'clockwork': 2284, 'tootsi': 11580, 'latka': 6529, 'grava': 4945, 'dalek': 2856, 'elocut': 3722, 'dok': 3359, 'tah': 11222, 'vill': 12253, 'looney': 6792, 'hamster': 5138, 'nutter': 7973, 'trainwreck': 11648, 'shockingli': 10204, 'kathryn': 6272, 'incomplet': 5769, 'calibr': 1789, '22nd': 148, 'przemysl': 8995, 'poland': 8691, 'fusia': 4571, 'podgorska': 8679, 'rescuer': 9426, 'oculto': 8019, 'medo': 7228, 'asterix': 871, 'indomit': 5804, 'gaul': 4659, 'caesar': 1773, 'supermen': 11079, 'clavier': 2241, 'coloss': 2376, 'obelix': 7988, 'cleopatr': 2256, 'harv': 5206, 'mistook': 7433, 'contr': 2552, 'unalt': 11865, 'anachron': 592, 'medusa': 7229, 'cyrano': 2837, 'bergerac': 1245, 'slog': 10420, 'regrad': 9313, 'unhealthi': 11978, 'pallor': 8284, 'soccer': 10512, '45m': 186, 'chronic': 2164, 'overspend': 8227, 'clumsili': 2303, 'bowdleris': 1514, 'legion': 6599, 'jackboot': 6048, 'kelley': 6297, 'gyllenhal': 5078, 'arkin': 779, 'elah': 3681, 'democraci': 3040, 'boycott': 1521, 'shabbili': 10111, 'inferno': 5829, 'rolf': 9619, 'bayer': 1141, 'marvin': 7092, 'gala': 4601, 'lantern': 6504, 'pumpkin': 9025, 'buildup': 1684, 'dung': 3544, '10th': 16, 'anniversari': 646, 'abunch': 294, 'wong': 12622, 'gimp': 4771, 'fart': 4112, 'tum': 11777, 'unninja': 12021, 'ostrac': 8153, 'inquiri': 5869, 'copernicu': 2590, 'galileo': 4604, 'scorn': 9917, 'incontrovert': 5774, 'istead': 6028, 'avenu': 958, 'mithi': 7443, 'mithali': 7442, 'konkona': 6406, 'prof': 8912, 'anu': 679, 'shabhana': 10112, 'azmi': 989, 'schizophren': 9887, 'imaginari': 5691, 'blabber': 1340, 'droop': 3491, 'rahul': 9136, 'bose': 1487, 'sanjiv': 9801, 'kanwaljit': 6248, 'singh': 10319, 'potboil': 8773, 'aparna': 691, 'sen': 10031, 'giacomo': 4744, 'hare': 5182, 'lloyd': 6742, 'partway': 8357, 'sisto': 10332, 'gina': 4773, 'mckee': 7191, 'euphem': 3914, 'artless': 823, 'gratif': 4942, 'audrey': 921, 'hepburn': 5323, 'certif': 2001, 'selznick': 10024, 'cv': 2829, 'volunt': 12313, 'caporetto': 1848, 'neutral': 7802, 'martiniqu': 7089, 'morocco': 7550, '1943': 71, 'postcard': 8765, '10a': 13, '1917': 51, 'kerenski': 6311, 'armistic': 788, 'decemb': 2957, 'treati': 11695, 'brest': 1581, 'litovsk': 6731, '1918': 52, 'pap': 8305, 'intric': 5951, 'narcolepsi': 7704, 'rewir': 9494, 'stewi': 10850, 'guiy': 5047, 'mcfarlan': 7181, 'derr': 3088, 'monogram': 7504, 'eleven': 3700, '1947': 75, 'kindli': 6354, 'shanghai': 10136, 'cobra': 2324, 'radium': 9123, 'vault': 12174, 'mantan': 7041, 'mooreland': 7533, 'moreland': 7541, 'demean': 3031, 'gft': 4736, 'darren': 2904, 'mcgavin': 7182, 'oakland': 7985, 'kolchack': 6403, 'circuit': 2203, 'amidst': 577, 'vincenzo': 12263, 'riiiight': 9544, 'birthday': 1323, 'pothol': 8777, 'zelda': 12782, 'erykah': 3877, 'badu': 1017, 'bicycl': 1287, 'dishonest': 3270, 'intercept': 5915, 'plowman': 8665, 'jefferi': 6101, 'gorkum': 4886, 'clunker': 2305, 'malcom': 6989, 'ugh': 11845, 'carrington': 1904, 'landlord': 6491, 'precept': 8805, 'unearth': 11947, 'miik': 7329, 'pranc': 8793, 'glacier': 4789, 'seep': 10000, 'programm': 8927, 'frustratingli': 4530, 'yearli': 12724, 'output': 8183, 'shemp': 10176, 'columbia': 2380, 'bernd': 1253, '1946': 74, 'curli': 2808, 'schill': 9886, 'goodrich': 4868, 'goon': 4874, 'mcintyr': 7190, 'eeeb': 3647, 'nikko': 7848, 'kink': 6359, 'unend': 11950, 'asgard': 832, 'unceremoni': 11884, 'stargat': 10794, 'sg': 10106, 'keanu': 6282, 'stoner': 10878, 'hamag': 5131, 'sade': 9745, 'hog': 5429, 'coprolog': 2595, 'coprophagi': 2596, 'acr': 332, 'brace': 1527, 'alsat': 533, 'warden': 12376, 'tran': 11654, 'sodomis': 10527, 'ajita': 451, 'moustach': 7585, 'surgic': 11101, 'needi': 7764, 'eyesor': 4043, 'taxpay': 11289, 'rake': 9147, 'beatnik': 1162, 'painter': 8268, 'hypnot': 5631, 'livestock': 6736, 'til': 11505, 'fondli': 4359, 'buster': 1741, 'cameraman': 1809, 'durant': 3554, 'gab': 4588, 'abras': 280, 'incompat': 5767, 'passer': 8363, 'belli': 1216, '750': 218, 'server': 10079, 'dandi': 2877, 'huntley': 5608, 'vagina': 12134, 'gynocolog': 5080, 'gadget': 4593, 'schultz': 9902, 'bozo': 1525, 'brion': 1608, 'kove': 6421, 'hypnotist': 5632, 'bizarro': 1338, 'strobe': 10936, 'dimwit': 3212, 'avna': 964, 'nasa': 7712, 'prometheu': 8937, 'microwav': 7320, 'fallout': 4082, 'yuri': 12763, 'spiel': 10669, 'veadov': 12177, 'dudikoff': 3515, 'derek': 3082, 'hooten': 5493, 'nuttier': 7974, 'antiqu': 671, 'mayor': 7154, 'lothario': 6817, 'naivet': 7685, 'nri': 7943, 'p3': 8249, 'nfa': 7820, 'konkana': 6405, 'leopard': 6631, 'unfulfil': 11973, 'lauranc': 6540, 'brut': 1653, 'columbu': 2382, 'drove': 3494, 'ventimiglia': 12194, 'petrelli': 8521, 'bryce': 1659, 'lili': 6691, 'ruptur': 9709, 'greenlit': 4963, 'panther': 8302, 'chequ': 2096, 'sixpenc': 10339, 'daisi': 2853, 'boater': 1416, 'hopelessli': 5496, 'porridg': 8739, 'befuddl': 1188, 'mistim': 7432, 'deaden': 2930, 'poppin': 8726, 'dolli': 3365, 'frilli': 4513, 'bing': 1309, 'faint': 4069, 'fester': 4193, 'seer': 10001, '70mm': 212, '1million': 124, '5m': 198, 'salò': 9774, 'tart': 11270, 'roughag': 9667, 'celeri': 1976, 'palat': 8276, 'dunc': 3542, 'toothsom': 11579, 'dominiqu': 3369, 'swain': 11132, 'lolita': 6776, 'savvier': 9842, 'lyon': 6906, 'shtrafbat': 10242, 'augment': 923, 'perish': 8475, 'scriptur': 9942, 'unaccept': 11863, 'incessantli': 5754, 'ach': 321, 'volatil': 12308, 'subsid': 10993, 'persist': 8492, 'diver': 3325, 'cuba': 2783, 'splendid': 10686, 'boyz': 1524, 'maguir': 6958, 'brows': 1646, '8mm': 234, 'shirley': 10196, 'raci': 9112, 'natascha': 7720, 'mcelhon': 7180, 'desire': 3105, 'nosbusch': 7914, 'subpar': 10990, 'bennet': 1235, 'fitzwilliam': 4267, 'darci': 2892, 'regenc': 9307, 'therebi': 11420, 'gentri': 4709, 'bingley': 1310, 'bonnet': 1455, 'forego': 4383, 'nightgown': 7841, 'cravat': 2698, 'vest': 12216, 'mangl': 7023, 'juxtaposit': 6232, 'jar': 6082, 'aristocraci': 774, 'macfadeyn': 6920, 'keira': 6293, 'knightli': 6391, 'forthright': 4426, 'chatsworth': 2067, 'pemberli': 8441, 'ehl': 3669, 'alyn': 548, 'parter': 8346, 'silsbi': 10290, '430': 184, 'puzzlingli': 9055, 'hurriedli': 5615, 'behest': 1201, 'snif': 10485, 'radioact': 9122, 'cavern': 1964, 'jumpsuit': 6217, 'bushi': 1735, 'drillshaft': 3479, 'mooch': 7525, 'rampant': 9155, 'xenophob': 12697, 'incit': 5761, 'ineffectu': 5812, 'shaft': 10118, 'hospitalis': 5525, 'chappi': 2039, 'aargh': 256, 'persecut': 8489, 'phylli': 8558, 'rib': 9508, 'touchi': 11602, 'wag': 12342, 'remonstr': 9371, 'telescop': 11325, 'unenjoy': 11951, 'fruitless': 4527, '1933': 60, 'prudenc': 8991, 'duvernoy': 3565, 'camil': 1813, 'pittypat': 8615, 'dynamit': 3581, 'mccrea': 7173, 'heidelberg': 5287, 'rockafellar': 9601, 'hester': 5347, 'linden': 6701, 'bathtub': 1129, 'scarc': 9861, '79': 221, '81': 226, 'weirdo': 12455, 'flesheat': 4305, 'onslaught': 8084, 'suburban': 11006, 'poseur': 8757, 'cliqu': 2280, 'almighti': 520, 'ark': 777, 'syke': 11178, 'skew': 10355, 'clout': 2296, 'moviego': 7589, 'fontana': 4362, 'zombiez': 12802, 'palo': 8287, 'alto': 541, 'fanfar': 4094, 'etch': 3905, 'muss': 7646, 'sideway': 10266, 'dumpi': 3538, 'goddard': 4836, 'concess': 2462, 'stork': 10886, 'bosco': 1486, 'basing': 1117, 'schiff': 9885, 'cinemascop': 2193, 'stamped': 10776, 'jaeckel': 6058, 'peccadillo': 8418, 'improp': 5732, 'broom': 1635, 'matarazzo': 7124, 'sheedi': 10160, 'suburb': 11005, 'slut': 10434, 'cogent': 2341, 'plaintiff': 8626, 'slimi': 10414, 'tripp': 11728, 'bosom': 1489, 'coaster': 2321, 'pago': 8263, 'alterc': 536, 'restrain': 9448, 'bravura': 1551, 'neoten': 7790, 'wist': 12586, 'temper': 11333, 'barg': 1081, 'dolc': 3361, 'vita': 12290, 'orgi': 8131, 'tawana': 11285, 'brawley': 1553, 'dirt': 3232, 'hahahaha': 5100, 'hahahahaha': 5101, 'tsunami': 11767, 'irishman': 5993, 'greg': 4968, 'kinnear': 6361, 'crass': 2696, 'derelict': 3083, 'eye2': 4039, 'defac': 2984, 'psych': 8999, 'pregnanc': 8822, 'spook': 10704, 'borgnin': 1481, 'convoy': 2574, 'ole': 8055, 'awkwardli': 979, 'secretli': 9983, 'lowdown': 6840, 'artyfartyrati': 827, 'sojourn': 10540, 'distast': 3305, 'dusti': 3560, 'sweati': 11145, 'endow': 3785, 'freshli': 4496, 'bandag': 1053, 'cad': 1768, 'rabbl': 9107, 'rejoic': 9332, 'moi': 7479, 'sensat': 10039, 'moretti': 7544, 'caro': 1890, 'diario': 3170, 'madr': 6938, 'edgeway': 3634, 'slag': 10375, 'newborn': 7807, 'penchant': 8444, 'boiler': 1432, 'conpsiraci': 2505, 'antitrust': 674, 'impostor': 5729, 'unfavor': 11963, 'mencia': 7260, 'solut': 10553, 'beaner': 1152, 'foxworthi': 4443, 'snook': 10495, 'seacrest': 9959, 'friedberg': 4504, 'diss': 3295, 'thanksgiv': 11398, 'juliett': 6211, 'torso': 11591, 'gecko': 4671, 'cheech': 2080, 'crotch': 2751, 'rodriguez': 9613, 'horni': 5507, 'stagi': 10763, 'zip': 12796, 'nuf': 7956, 'cassidi': 1930, 'kacia': 6239, 'bradi': 1529, 'dibler': 3175, 'dora': 3395, 'jill': 6132, 'payback': 8403, 'micro': 7318, 'superimposit': 11071, 'masu': 7120, 'inou': 5866, 'porter': 8746, 'huddl': 5561, 'lens': 6621, 'mop': 7534, '1920': 53, 'girlfight': 4778, 'corrobor': 2619, 'germin': 4726, 'sayl': 9847, 'apex': 695, 'wwe': 12688, 'wtf': 12682, 'yelp': 12731, 'orwel': 8143, 'aspidistra': 850, 'emphasis': 3762, 'comstock': 2453, 'sunlight': 11056, 'slum': 10431, 'lambeth': 6478, 'urchin': 12100, 'sweep': 11149, 'strewn': 10921, 'bonhomi': 1452, 'clunk': 2304, 'anodyn': 651, 'horlick': 5504, 'anaconda': 593, 'rushmor': 9712, 'zeta': 12788, 'macaulay': 6916, 'culkin': 2789}\n"
     ]
    }
   ],
   "source": [
    "# vocabulary\n",
    "print(tfidf.vocabulary_)"
   ]
  },
  {
   "cell_type": "code",
   "execution_count": 51,
   "metadata": {},
   "outputs": [
    {
     "data": {
      "text/plain": [
       "(1000, 13031)"
      ]
     },
     "execution_count": 51,
     "metadata": {},
     "output_type": "execute_result"
    }
   ],
   "source": [
    "# TF-IDF Matrix \n",
    "X_train_vector = X_train_vector.toarray()\n",
    "X_test_vector = X_test_vector.toarray()\n",
    "\n",
    "X_train_vector.shape"
   ]
  },
  {
   "attachments": {},
   "cell_type": "markdown",
   "metadata": {},
   "source": [
    "### remove more terms"
   ]
  },
  {
   "cell_type": "code",
   "execution_count": 52,
   "metadata": {},
   "outputs": [],
   "source": [
    "# vectorize to TF-IDF Matrix - remove rare terms too\n",
    "tfidf = TfidfVectorizer(strip_accents=None,\n",
    "                        lowercase=False,\n",
    "                        preprocessor=preprocessor,\n",
    "                        # Below two steps are needed, but it takes long time,\n",
    "                        # so, We'll skip this processes\n",
    "                        tokenizer = tokenizer_stemmer,\n",
    "                        stop_words = stop,\n",
    "                        max_df = 0.1,   # ignore terms occured in more than 10% of docs (stop words)\n",
    "                        min_df = 10     # ignore terms occured in less than 10 docs\n",
    "                       )\n",
    "\n",
    "X_train_vector = tfidf.fit_transform(X_train)\n",
    "X_test_vector = tfidf.transform(X_test)"
   ]
  },
  {
   "cell_type": "code",
   "execution_count": 53,
   "metadata": {},
   "outputs": [
    {
     "data": {
      "text/plain": [
       "(1000, 1670)"
      ]
     },
     "execution_count": 53,
     "metadata": {},
     "output_type": "execute_result"
    }
   ],
   "source": [
    "# TF-IDF Matrix \n",
    "X_train_vector = X_train_vector.toarray()\n",
    "X_test_vector = X_test_vector.toarray()\n",
    "\n",
    "X_train_vector.shape"
   ]
  },
  {
   "cell_type": "code",
   "execution_count": 54,
   "metadata": {},
   "outputs": [
    {
     "name": "stdout",
     "output_type": "stream",
     "text": [
      "In 1974, the teenager Martha Moxley (Maggie Grace) moves to the high-class area of Belle Haven, Greenwich, Connecticut. On the Mischief Night, eve of Halloween, she was murdered in the backyard of her house and her murder remained unsolved. Twenty-two years later, the writer Mark Fuhrman (Christopher Meloni), who is a former LA detective that has fallen in disgrace for perjury in O.J. Simpson trial and moved to Idaho, decides to investigate the case with his partner Stephen Weeks (Andrew Mitchell) with the purpose of writing a book. The locals squirm and do not welcome them, but with the support of the retired detective Steve Carroll (Robert Forster) that was in charge of the investigation in the 70's, they discover the criminal and a net of power and money to cover the murder.<br /><br />\"Murder in Greenwich\" is a good TV movie, with the true story of a murder of a fifteen years old girl that was committed by a wealthy teenager whose mother was a Kennedy. The powerful and rich family used their influence to cover the murder for more than twenty years. However, a snoopy detective and convicted perjurer in disgrace was able to disclose how the hideous crime was committed. The screenplay shows the investigation of Mark and the last days of Martha in parallel, but there is a lack of the emotion in the dramatization. My vote is seven.<br /><br />Title (Brazil): Not Available\n"
     ]
    }
   ],
   "source": [
    "# check the review 0 text\n",
    "print(X_train[0])"
   ]
  },
  {
   "cell_type": "code",
   "execution_count": 55,
   "metadata": {},
   "outputs": [
    {
     "name": "stdout",
     "output_type": "stream",
     "text": [
      "[0.   0.   0.   0.   0.   0.   0.   0.   0.   0.   0.   0.   0.   0.\n",
      " 0.   0.   0.   0.   0.   0.   0.   0.09 0.   0.   0.   0.   0.   0.\n",
      " 0.08 0.   0.   0.   0.   0.   0.   0.   0.   0.   0.   0.   0.   0.\n",
      " 0.   0.   0.   0.   0.   0.   0.   0.   0.   0.   0.   0.   0.   0.\n",
      " 0.   0.   0.   0.   0.   0.   0.   0.   0.   0.   0.   0.   0.   0.\n",
      " 0.   0.   0.   0.   0.   0.   0.   0.   0.   0.   0.   0.   0.   0.\n",
      " 0.   0.   0.   0.   0.   0.   0.   0.   0.   0.   0.   0.   0.   0.\n",
      " 0.   0.   0.   0.   0.   0.   0.   0.   0.1  0.   0.   0.   0.   0.\n",
      " 0.   0.   0.   0.   0.   0.   0.   0.   0.   0.   0.   0.   0.   0.\n",
      " 0.   0.   0.   0.1  0.   0.   0.   0.   0.   0.   0.   0.   0.   0.\n",
      " 0.   0.   0.   0.   0.   0.   0.   0.   0.   0.   0.   0.   0.   0.\n",
      " 0.   0.   0.   0.   0.   0.   0.   0.   0.   0.   0.   0.   0.   0.\n",
      " 0.   0.   0.   0.   0.   0.   0.   0.   0.   0.   0.   0.   0.   0.07\n",
      " 0.   0.   0.   0.   0.   0.   0.   0.   0.   0.   0.   0.   0.   0.\n",
      " 0.   0.   0.   0.   0.   0.   0.   0.   0.   0.   0.   0.   0.   0.\n",
      " 0.   0.   0.   0.   0.   0.   0.   0.   0.   0.   0.   0.   0.   0.\n",
      " 0.   0.   0.   0.   0.   0.   0.   0.07 0.   0.   0.   0.   0.   0.\n",
      " 0.   0.   0.   0.   0.   0.   0.   0.   0.   0.   0.1  0.   0.   0.\n",
      " 0.   0.   0.   0.   0.   0.   0.   0.   0.   0.   0.   0.   0.   0.\n",
      " 0.   0.   0.1  0.   0.   0.   0.   0.   0.   0.09 0.   0.   0.   0.\n",
      " 0.   0.   0.   0.   0.   0.   0.   0.   0.   0.   0.   0.   0.   0.\n",
      " 0.   0.   0.   0.   0.   0.19 0.   0.   0.   0.   0.   0.   0.   0.\n",
      " 0.   0.   0.   0.   0.   0.   0.   0.   0.   0.   0.   0.   0.   0.\n",
      " 0.   0.   0.   0.   0.   0.   0.   0.   0.   0.   0.   0.   0.   0.11\n",
      " 0.   0.   0.   0.   0.   0.   0.   0.   0.   0.   0.   0.   0.   0.18\n",
      " 0.   0.   0.   0.   0.   0.   0.   0.   0.   0.   0.   0.   0.   0.09\n",
      " 0.09 0.   0.   0.   0.   0.   0.   0.   0.   0.   0.   0.   0.   0.\n",
      " 0.   0.   0.   0.   0.   0.   0.   0.   0.   0.   0.   0.   0.   0.\n",
      " 0.   0.   0.   0.   0.   0.   0.08 0.   0.   0.   0.   0.   0.   0.\n",
      " 0.   0.   0.   0.   0.   0.   0.   0.   0.   0.   0.   0.   0.   0.\n",
      " 0.   0.   0.29 0.   0.   0.   0.   0.   0.   0.   0.   0.   0.   0.\n",
      " 0.   0.   0.   0.   0.   0.08 0.   0.   0.   0.   0.   0.   0.   0.\n",
      " 0.   0.   0.   0.   0.   0.   0.   0.   0.09 0.   0.   0.   0.   0.\n",
      " 0.   0.   0.   0.   0.   0.   0.   0.   0.   0.   0.   0.   0.   0.\n",
      " 0.   0.   0.   0.   0.   0.   0.   0.   0.   0.   0.   0.   0.   0.\n",
      " 0.   0.   0.07 0.   0.   0.   0.   0.   0.   0.   0.   0.   0.   0.\n",
      " 0.   0.   0.   0.   0.   0.   0.   0.   0.   0.   0.   0.   0.   0.\n",
      " 0.   0.   0.   0.   0.   0.   0.   0.   0.   0.   0.   0.   0.   0.\n",
      " 0.   0.   0.   0.   0.   0.   0.   0.   0.   0.   0.   0.   0.   0.\n",
      " 0.   0.   0.   0.   0.   0.   0.   0.   0.   0.   0.   0.   0.   0.\n",
      " 0.   0.07 0.   0.   0.   0.   0.   0.   0.   0.   0.   0.   0.   0.\n",
      " 0.   0.   0.   0.   0.   0.   0.   0.   0.   0.   0.   0.   0.   0.\n",
      " 0.   0.   0.   0.   0.   0.   0.   0.   0.   0.   0.   0.   0.   0.\n",
      " 0.   0.   0.   0.   0.   0.   0.   0.   0.   0.   0.   0.   0.   0.\n",
      " 0.   0.   0.   0.   0.1  0.   0.   0.   0.   0.   0.   0.   0.   0.\n",
      " 0.   0.   0.   0.   0.   0.   0.   0.   0.   0.   0.   0.   0.   0.\n",
      " 0.   0.   0.   0.   0.   0.   0.   0.   0.   0.   0.   0.   0.   0.\n",
      " 0.   0.   0.   0.   0.   0.   0.   0.   0.   0.   0.   0.   0.   0.\n",
      " 0.   0.   0.1  0.   0.   0.   0.   0.   0.   0.   0.   0.   0.   0.\n",
      " 0.   0.   0.   0.   0.   0.   0.   0.   0.   0.11 0.   0.   0.   0.\n",
      " 0.   0.   0.   0.   0.   0.   0.   0.   0.   0.   0.   0.   0.   0.\n",
      " 0.   0.   0.   0.   0.   0.   0.07 0.   0.   0.   0.   0.   0.   0.\n",
      " 0.   0.   0.   0.   0.   0.   0.   0.   0.   0.   0.   0.   0.   0.\n",
      " 0.   0.   0.08 0.   0.   0.   0.   0.   0.   0.   0.   0.   0.   0.\n",
      " 0.   0.   0.   0.   0.   0.   0.   0.   0.   0.   0.   0.   0.   0.\n",
      " 0.   0.   0.   0.   0.   0.   0.   0.   0.1  0.   0.   0.   0.   0.\n",
      " 0.   0.   0.   0.   0.   0.   0.   0.   0.   0.   0.   0.   0.   0.\n",
      " 0.   0.   0.   0.   0.   0.31 0.   0.   0.   0.   0.   0.   0.1  0.\n",
      " 0.   0.   0.   0.   0.   0.   0.   0.   0.   0.   0.   0.   0.   0.\n",
      " 0.   0.   0.   0.   0.   0.   0.   0.   0.   0.   0.   0.   0.   0.\n",
      " 0.   0.   0.   0.   0.   0.   0.   0.1  0.07 0.   0.   0.   0.   0.\n",
      " 0.   0.07 0.   0.   0.   0.   0.   0.   0.   0.   0.   0.   0.   0.\n",
      " 0.   0.   0.   0.   0.   0.   0.   0.   0.   0.   0.   0.   0.   0.\n",
      " 0.   0.   0.08 0.   0.   0.   0.   0.   0.   0.   0.   0.   0.   0.\n",
      " 0.   0.   0.   0.   0.   0.   0.   0.   0.   0.   0.   0.   0.   0.\n",
      " 0.   0.   0.   0.   0.17 0.   0.   0.   0.   0.   0.   0.   0.   0.\n",
      " 0.   0.   0.   0.   0.   0.   0.   0.   0.   0.   0.   0.   0.   0.\n",
      " 0.   0.   0.   0.   0.   0.   0.   0.   0.   0.   0.   0.   0.   0.\n",
      " 0.   0.   0.   0.   0.   0.   0.   0.   0.   0.   0.   0.   0.   0.\n",
      " 0.07 0.   0.   0.   0.   0.   0.   0.   0.08 0.   0.   0.   0.14 0.\n",
      " 0.   0.44 0.   0.   0.   0.   0.   0.   0.   0.   0.   0.   0.   0.\n",
      " 0.   0.   0.   0.   0.   0.   0.   0.   0.   0.07 0.   0.   0.   0.\n",
      " 0.   0.   0.   0.   0.   0.   0.   0.   0.   0.   0.   0.   0.   0.\n",
      " 0.   0.   0.   0.   0.   0.   0.   0.   0.   0.   0.   0.   0.   0.\n",
      " 0.   0.   0.   0.   0.   0.   0.   0.   0.   0.   0.   0.   0.   0.\n",
      " 0.   0.   0.   0.   0.   0.   0.   0.   0.   0.   0.   0.   0.   0.\n",
      " 0.   0.   0.1  0.   0.   0.   0.   0.   0.   0.   0.   0.   0.   0.\n",
      " 0.   0.   0.   0.   0.   0.   0.   0.   0.   0.   0.   0.   0.   0.\n",
      " 0.   0.   0.   0.   0.   0.   0.   0.   0.   0.   0.   0.   0.   0.\n",
      " 0.   0.   0.   0.   0.   0.   0.   0.   0.15 0.   0.   0.   0.   0.\n",
      " 0.   0.   0.   0.   0.   0.   0.   0.   0.   0.   0.   0.   0.   0.\n",
      " 0.   0.   0.   0.   0.   0.   0.   0.   0.   0.   0.   0.   0.   0.\n",
      " 0.   0.   0.   0.   0.   0.   0.   0.1  0.   0.   0.   0.   0.   0.\n",
      " 0.   0.   0.   0.   0.   0.   0.   0.   0.   0.   0.   0.   0.   0.\n",
      " 0.   0.   0.   0.   0.   0.   0.   0.   0.   0.   0.   0.   0.   0.\n",
      " 0.   0.   0.   0.   0.   0.   0.   0.   0.   0.   0.   0.   0.   0.\n",
      " 0.08 0.   0.   0.   0.   0.   0.   0.   0.   0.   0.   0.   0.   0.\n",
      " 0.   0.   0.   0.   0.   0.   0.   0.   0.   0.   0.   0.   0.   0.1\n",
      " 0.   0.   0.   0.   0.   0.   0.   0.   0.   0.08 0.   0.   0.   0.\n",
      " 0.   0.   0.   0.   0.   0.   0.   0.   0.   0.   0.   0.   0.   0.\n",
      " 0.   0.   0.   0.   0.   0.   0.   0.   0.   0.   0.   0.   0.   0.\n",
      " 0.   0.   0.   0.   0.   0.   0.1  0.   0.   0.   0.   0.   0.   0.\n",
      " 0.   0.   0.   0.   0.   0.   0.   0.   0.   0.   0.   0.   0.   0.\n",
      " 0.   0.   0.   0.   0.1  0.   0.   0.   0.   0.   0.   0.   0.   0.\n",
      " 0.   0.   0.   0.   0.   0.   0.   0.   0.   0.   0.   0.   0.   0.\n",
      " 0.   0.   0.   0.   0.   0.   0.   0.   0.   0.   0.   0.   0.   0.\n",
      " 0.   0.   0.   0.   0.   0.   0.   0.   0.   0.   0.   0.   0.   0.\n",
      " 0.   0.   0.   0.   0.   0.   0.   0.   0.   0.   0.   0.   0.   0.\n",
      " 0.   0.   0.   0.   0.   0.   0.   0.   0.   0.   0.   0.   0.   0.\n",
      " 0.   0.   0.   0.   0.   0.   0.   0.   0.   0.   0.   0.   0.   0.\n",
      " 0.   0.   0.   0.   0.   0.   0.11 0.   0.1  0.   0.   0.   0.   0.\n",
      " 0.   0.   0.   0.   0.   0.   0.   0.   0.   0.   0.   0.   0.   0.\n",
      " 0.   0.   0.   0.   0.   0.   0.   0.   0.   0.   0.   0.   0.   0.\n",
      " 0.   0.   0.   0.   0.   0.   0.   0.   0.   0.   0.   0.08 0.   0.\n",
      " 0.   0.   0.   0.   0.   0.   0.   0.   0.   0.   0.   0.   0.   0.\n",
      " 0.   0.   0.   0.   0.   0.   0.   0.   0.   0.   0.   0.   0.19 0.\n",
      " 0.   0.   0.   0.   0.   0.   0.   0.   0.   0.   0.   0.   0.   0.\n",
      " 0.   0.   0.   0.   0.   0.   0.   0.   0.   0.   0.   0.   0.   0.\n",
      " 0.   0.08 0.   0.   0.   0.   0.   0.   0.   0.   0.   0.   0.   0.\n",
      " 0.   0.   0.   0.   0.   0.   0.   0.   0.   0.   0.   0.   0.   0.\n",
      " 0.   0.   0.   0.11 0.   0.   0.   0.   0.07 0.   0.   0.   0.   0.\n",
      " 0.07 0.22 0.   0.   0.   0.   0.   0.   0.   0.   0.   0.   0.   0.\n",
      " 0.   0.   0.   0.   0.   0.   0.   0.   0.   0.   0.   0.   0.   0.\n",
      " 0.   0.   0.   0.   0.   0.   0.   0.   0.   0.   0.   0.   0.   0.\n",
      " 0.   0.   0.   0.   0.   0.   0.   0.   0.   0.1  0.   0.   0.   0.\n",
      " 0.   0.   0.   0.   0.   0.   0.   0.   0.   0.09 0.   0.1  0.   0.\n",
      " 0.   0.   0.   0.   0.   0.   0.   0.08 0.   0.   0.   0.   0.   0.\n",
      " 0.   0.   0.   0.   0.   0.   0.   0.   0.   0.   0.   0.   0.   0.\n",
      " 0.   0.   0.   0.   0.   0.07 0.07 0.   0.   0.   0.   0.   0.   0.\n",
      " 0.   0.   0.   0.  ]\n"
     ]
    }
   ],
   "source": [
    "# check the review 0 vector\n",
    "# 출력시에 데이터가 많으면 ...으로 잘리므로, 생략하지 말라고 만들어준 것\n",
    "np.set_printoptions(threshold=np.inf)\n",
    "print(X_train_vector[0])"
   ]
  },
  {
   "attachments": {},
   "cell_type": "markdown",
   "metadata": {},
   "source": [
    "### Classification using Logistic Regression"
   ]
  },
  {
   "cell_type": "code",
   "execution_count": 56,
   "metadata": {},
   "outputs": [
    {
     "data": {
      "text/plain": [
       "(1000, 1670)"
      ]
     },
     "execution_count": 56,
     "metadata": {},
     "output_type": "execute_result"
    }
   ],
   "source": [
    "from sklearn.linear_model import LogisticRegression\n",
    "\n",
    "# train using Logistic Regression. L2 regularization\n",
    "lr = LogisticRegression(penalty = \"l2\")\n",
    "lr.fit(X_train_vector, y_train)\n",
    "X_train_vector.shape"
   ]
  },
  {
   "cell_type": "code",
   "execution_count": 57,
   "metadata": {},
   "outputs": [
    {
     "name": "stdout",
     "output_type": "stream",
     "text": [
      "0.95\n",
      "0.813\n"
     ]
    }
   ],
   "source": [
    "# train and test accuracy\n",
    "print(lr.score(X_train_vector, y_train))\n",
    "print(lr.score(X_test_vector, y_test))"
   ]
  },
  {
   "cell_type": "code",
   "execution_count": 58,
   "metadata": {},
   "outputs": [
    {
     "name": "stdout",
     "output_type": "stream",
     "text": [
      "this movie is garbage --> Negative\n",
      "I loved it very much --> Positive\n",
      "what a fantastic film! --> Positive\n"
     ]
    }
   ],
   "source": [
    "# sentiment prediction example \n",
    "tweets = [\"this movie is garbage\", \n",
    "          \"I loved it very much\", \n",
    "          \"what a fantastic film!\"]\n",
    "\n",
    "# vectorize\n",
    "tweets_tfidf = tfidf.transform(tweets)\n",
    "\n",
    "# predict label\n",
    "y_pred = lr.predict(tweets_tfidf)\n",
    "\n",
    "for i in range(len(tweets)):\n",
    "    if y_pred[i] == 0:\n",
    "        print(tweets[i], \"--> Negative\")\n",
    "    else:\n",
    "        print(tweets[i], \"--> Positive\")\n"
   ]
  },
  {
   "cell_type": "code",
   "execution_count": 59,
   "metadata": {},
   "outputs": [
    {
     "name": "stdout",
     "output_type": "stream",
     "text": [
      "this movie is garbage --> Negative\n",
      "I loved it very much --> Positive\n",
      "what a fantastic film! --> Positive\n"
     ]
    }
   ],
   "source": [
    "# sentiment prediction example \n",
    "tweets = [\"this movie is garbage\", \n",
    "          \"I loved it very much\", \n",
    "          \"what a fantastic film!\"]\n",
    "\n",
    "# vectorize\n",
    "tweets_tfidf = tfidf.transform(tweets)\n",
    "\n",
    "# predict label\n",
    "y_pred = lr.predict(tweets_tfidf)\n",
    "\n",
    "for i in range(len(tweets)):\n",
    "    if y_pred[i] == 0:\n",
    "        print(tweets[i], \"--> Negative\")\n",
    "    else:\n",
    "        print(tweets[i], \"--> Positive\")\n"
   ]
  },
  {
   "attachments": {},
   "cell_type": "markdown",
   "metadata": {},
   "source": [
    "### Classification using Decision Tree"
   ]
  },
  {
   "cell_type": "code",
   "execution_count": 60,
   "metadata": {},
   "outputs": [
    {
     "data": {
      "text/plain": [
       "DecisionTreeClassifier(max_depth=20)"
      ]
     },
     "execution_count": 60,
     "metadata": {},
     "output_type": "execute_result"
    }
   ],
   "source": [
    "from sklearn.tree import DecisionTreeClassifier\n",
    "\n",
    "# train using Decision Tree. set max dept to 20\n",
    "tree = DecisionTreeClassifier(max_depth = 20)\n",
    "tree.fit(X_train_vector, y_train)"
   ]
  },
  {
   "cell_type": "code",
   "execution_count": 61,
   "metadata": {},
   "outputs": [
    {
     "name": "stdout",
     "output_type": "stream",
     "text": [
      "0.911\n",
      "0.718\n"
     ]
    }
   ],
   "source": [
    "# train and test accuracy\n",
    "print(tree.score(X_train_vector, y_train))\n",
    "print(tree.score(X_test_vector, y_test))"
   ]
  },
  {
   "cell_type": "code",
   "execution_count": 62,
   "metadata": {},
   "outputs": [
    {
     "name": "stdout",
     "output_type": "stream",
     "text": [
      " 1. ['worst']                      0.105928\n",
      " 2. ['wast']                       0.084383\n",
      " 3. ['aw']                         0.060790\n",
      " 4. ['bore']                       0.051530\n",
      " 5. ['terribl']                    0.042368\n",
      " 6. ['script']                     0.034289\n",
      " 7. ['wors']                       0.026112\n",
      " 8. ['4']                          0.025439\n",
      " 9. ['bother']                     0.023631\n",
      "10. ['instead']                    0.023456\n"
     ]
    }
   ],
   "source": [
    "# finding most important terms for sentiment analysis of movie review\n",
    "importances = tree.feature_importances_\n",
    "indices = np.argsort(importances)[::-1]\n",
    "\n",
    "for f in range(10):\n",
    "    print(\"%2d. %-30s %f\" % (f+1, \n",
    "                             [w for w, n in tfidf.vocabulary_.items() if n == indices[f]],\n",
    "                             importances[indices[f]]))"
   ]
  },
  {
   "attachments": {},
   "cell_type": "markdown",
   "metadata": {},
   "source": [
    "---"
   ]
  },
  {
   "attachments": {
    "image.png": {
     "image/png": "[encoded data removed]"
    }
   },
   "cell_type": "markdown",
   "metadata": {},
   "source": [
    "# 4. Word Embedding\n",
    "![image.png](attachment:image.png)  \n",
    "단어 자체를 벡터로 만들기"
   ]
  },
  {
   "attachments": {
    "image.png": {
     "image/png": "[encoded data removed]"
    }
   },
   "cell_type": "markdown",
   "metadata": {},
   "source": [
    "### Embedding by training Word2Vec model\n",
    "![image.png](attachment:image.png)"
   ]
  },
  {
   "cell_type": "code",
   "execution_count": 63,
   "metadata": {},
   "outputs": [
    {
     "name": "stdout",
     "output_type": "stream",
     "text": [
      "(1000,)\n",
      "In 1974, the teenager Martha Moxley (Maggie Grace) moves to the high-class area of Belle Haven, Greenwich, Connecticut. On the Mischief Night, eve of Halloween, she was murdered in the backyard of her house and her murder remained unsolved. Twenty-two years later, the writer Mark Fuhrman (Christopher Meloni), who is a former LA detective that has fallen in disgrace for perjury in O.J. Simpson trial and moved to Idaho, decides to investigate the case with his partner Stephen Weeks (Andrew Mitchell) with the purpose of writing a book. The locals squirm and do not welcome them, but with the support of the retired detective Steve Carroll (Robert Forster) that was in charge of the investigation in the 70's, they discover the criminal and a net of power and money to cover the murder.<br /><br />\"Murder in Greenwich\" is a good TV movie, with the true story of a murder of a fifteen years old girl that was committed by a wealthy teenager whose mother was a Kennedy. The powerful and rich family used their influence to cover the murder for more than twenty years. However, a snoopy detective and convicted perjurer in disgrace was able to disclose how the hideous crime was committed. The screenplay shows the investigation of Mark and the last days of Martha in parallel, but there is a lack of the emotion in the dramatization. My vote is seven.<br /><br />Title (Brazil): Not Available\n"
     ]
    }
   ],
   "source": [
    "# use the 1000 traing data from IMDb movie review\n",
    "print(X_train.shape)\n",
    "print(X_train[0])"
   ]
  },
  {
   "cell_type": "code",
   "execution_count": 64,
   "metadata": {},
   "outputs": [],
   "source": [
    "from nltk.tokenize import word_tokenize\n",
    "\n",
    "# tokenize the traing data\n",
    "# sample_text = [word_tokenize(sentence) for sentence in X_train]\n",
    "sample_text = [word_tokenize(sentence) for sentence in [preprocessor(w) for w in X_train]]"
   ]
  },
  {
   "cell_type": "code",
   "execution_count": 65,
   "metadata": {},
   "outputs": [
    {
     "data": {
      "text/plain": [
       "['in',\n",
       " '1974',\n",
       " 'the',\n",
       " 'teenager',\n",
       " 'martha',\n",
       " 'moxley',\n",
       " 'maggie',\n",
       " 'grace',\n",
       " 'moves',\n",
       " 'to',\n",
       " 'the',\n",
       " 'high',\n",
       " 'class',\n",
       " 'area',\n",
       " 'of',\n",
       " 'belle',\n",
       " 'haven',\n",
       " 'greenwich',\n",
       " 'connecticut',\n",
       " 'on',\n",
       " 'the',\n",
       " 'mischief',\n",
       " 'night',\n",
       " 'eve',\n",
       " 'of',\n",
       " 'halloween',\n",
       " 'she',\n",
       " 'was',\n",
       " 'murdered',\n",
       " 'in',\n",
       " 'the',\n",
       " 'backyard',\n",
       " 'of',\n",
       " 'her',\n",
       " 'house',\n",
       " 'and',\n",
       " 'her',\n",
       " 'murder',\n",
       " 'remained',\n",
       " 'unsolved',\n",
       " 'twenty',\n",
       " 'two',\n",
       " 'years',\n",
       " 'later',\n",
       " 'the',\n",
       " 'writer',\n",
       " 'mark',\n",
       " 'fuhrman',\n",
       " 'christopher',\n",
       " 'meloni',\n",
       " 'who',\n",
       " 'is',\n",
       " 'a',\n",
       " 'former',\n",
       " 'la',\n",
       " 'detective',\n",
       " 'that',\n",
       " 'has',\n",
       " 'fallen',\n",
       " 'in',\n",
       " 'disgrace',\n",
       " 'for',\n",
       " 'perjury',\n",
       " 'in',\n",
       " 'o',\n",
       " 'j',\n",
       " 'simpson',\n",
       " 'trial',\n",
       " 'and',\n",
       " 'moved',\n",
       " 'to',\n",
       " 'idaho',\n",
       " 'decides',\n",
       " 'to',\n",
       " 'investigate',\n",
       " 'the',\n",
       " 'case',\n",
       " 'with',\n",
       " 'his',\n",
       " 'partner',\n",
       " 'stephen',\n",
       " 'weeks',\n",
       " 'andrew',\n",
       " 'mitchell',\n",
       " 'with',\n",
       " 'the',\n",
       " 'purpose',\n",
       " 'of',\n",
       " 'writing',\n",
       " 'a',\n",
       " 'book',\n",
       " 'the',\n",
       " 'locals',\n",
       " 'squirm',\n",
       " 'and',\n",
       " 'do',\n",
       " 'not',\n",
       " 'welcome',\n",
       " 'them',\n",
       " 'but',\n",
       " 'with',\n",
       " 'the',\n",
       " 'support',\n",
       " 'of',\n",
       " 'the',\n",
       " 'retired',\n",
       " 'detective',\n",
       " 'steve',\n",
       " 'carroll',\n",
       " 'robert',\n",
       " 'forster',\n",
       " 'that',\n",
       " 'was',\n",
       " 'in',\n",
       " 'charge',\n",
       " 'of',\n",
       " 'the',\n",
       " 'investigation',\n",
       " 'in',\n",
       " 'the',\n",
       " '70',\n",
       " 's',\n",
       " 'they',\n",
       " 'discover',\n",
       " 'the',\n",
       " 'criminal',\n",
       " 'and',\n",
       " 'a',\n",
       " 'net',\n",
       " 'of',\n",
       " 'power',\n",
       " 'and',\n",
       " 'money',\n",
       " 'to',\n",
       " 'cover',\n",
       " 'the',\n",
       " 'murder',\n",
       " 'murder',\n",
       " 'in',\n",
       " 'greenwich',\n",
       " 'is',\n",
       " 'a',\n",
       " 'good',\n",
       " 'tv',\n",
       " 'movie',\n",
       " 'with',\n",
       " 'the',\n",
       " 'true',\n",
       " 'story',\n",
       " 'of',\n",
       " 'a',\n",
       " 'murder',\n",
       " 'of',\n",
       " 'a',\n",
       " 'fifteen',\n",
       " 'years',\n",
       " 'old',\n",
       " 'girl',\n",
       " 'that',\n",
       " 'was',\n",
       " 'committed',\n",
       " 'by',\n",
       " 'a',\n",
       " 'wealthy',\n",
       " 'teenager',\n",
       " 'whose',\n",
       " 'mother',\n",
       " 'was',\n",
       " 'a',\n",
       " 'kennedy',\n",
       " 'the',\n",
       " 'powerful',\n",
       " 'and',\n",
       " 'rich',\n",
       " 'family',\n",
       " 'used',\n",
       " 'their',\n",
       " 'influence',\n",
       " 'to',\n",
       " 'cover',\n",
       " 'the',\n",
       " 'murder',\n",
       " 'for',\n",
       " 'more',\n",
       " 'than',\n",
       " 'twenty',\n",
       " 'years',\n",
       " 'however',\n",
       " 'a',\n",
       " 'snoopy',\n",
       " 'detective',\n",
       " 'and',\n",
       " 'convicted',\n",
       " 'perjurer',\n",
       " 'in',\n",
       " 'disgrace',\n",
       " 'was',\n",
       " 'able',\n",
       " 'to',\n",
       " 'disclose',\n",
       " 'how',\n",
       " 'the',\n",
       " 'hideous',\n",
       " 'crime',\n",
       " 'was',\n",
       " 'committed',\n",
       " 'the',\n",
       " 'screenplay',\n",
       " 'shows',\n",
       " 'the',\n",
       " 'investigation',\n",
       " 'of',\n",
       " 'mark',\n",
       " 'and',\n",
       " 'the',\n",
       " 'last',\n",
       " 'days',\n",
       " 'of',\n",
       " 'martha',\n",
       " 'in',\n",
       " 'parallel',\n",
       " 'but',\n",
       " 'there',\n",
       " 'is',\n",
       " 'a',\n",
       " 'lack',\n",
       " 'of',\n",
       " 'the',\n",
       " 'emotion',\n",
       " 'in',\n",
       " 'the',\n",
       " 'dramatization',\n",
       " 'my',\n",
       " 'vote',\n",
       " 'is',\n",
       " 'seven',\n",
       " 'title',\n",
       " 'brazil',\n",
       " 'not',\n",
       " 'available']"
      ]
     },
     "execution_count": 65,
     "metadata": {},
     "output_type": "execute_result"
    }
   ],
   "source": [
    "sample_text[0]"
   ]
  },
  {
   "cell_type": "code",
   "execution_count": 66,
   "metadata": {},
   "outputs": [],
   "source": [
    "from gensim.models import Word2Vec\n",
    "\n",
    "# train the Word2Vec model with the sample text. set vector_size 10, window 5, min_count 10\n",
    "model = Word2Vec(sentences = sample_text, \n",
    "                 vector_size = 10, \n",
    "                 window = 5, \n",
    "                 min_count = 10)"
   ]
  },
  {
   "cell_type": "code",
   "execution_count": 67,
   "metadata": {},
   "outputs": [
    {
     "data": {
      "text/plain": [
       "array([ 0.15,  0.07,  1.96,  0.09, -0.04, -0.13,  0.89,  0.73, -1.93,\n",
       "       -0.13], dtype=float32)"
      ]
     },
     "execution_count": 67,
     "metadata": {},
     "output_type": "execute_result"
    }
   ],
   "source": [
    "# embedded vector of word 'man'\n",
    "model.wv[\"man\"]"
   ]
  },
  {
   "cell_type": "code",
   "execution_count": 68,
   "metadata": {},
   "outputs": [
    {
     "data": {
      "text/plain": [
       "[('wife', 0.9861035943031311),\n",
       " ('life', 0.9748288989067078),\n",
       " ('young', 0.9710810780525208),\n",
       " ('father', 0.9700731039047241),\n",
       " ('law', 0.963341474533081),\n",
       " ('family', 0.956261932849884),\n",
       " ('woman', 0.9557235240936279),\n",
       " ('son', 0.9544103145599365),\n",
       " ('students', 0.9515435099601746),\n",
       " ('finds', 0.9511572122573853)]"
      ]
     },
     "execution_count": 68,
     "metadata": {},
     "output_type": "execute_result"
    }
   ],
   "source": [
    "# most similar vector of 'man'\n",
    "model.wv.most_similar(\"man\")"
   ]
  },
  {
   "attachments": {},
   "cell_type": "markdown",
   "metadata": {},
   "source": [
    "### Pretrained model - GloVe"
   ]
  },
  {
   "cell_type": "code",
   "execution_count": 69,
   "metadata": {},
   "outputs": [],
   "source": [
    "import gensim.downloader as dw\n",
    "\n",
    "# load the pretrained model 'glove-wiki-gigaword-100'\n",
    "model = dw.load('glove-wiki-gigaword-100')"
   ]
  },
  {
   "cell_type": "code",
   "execution_count": 70,
   "metadata": {},
   "outputs": [
    {
     "data": {
      "text/plain": [
       "array([-0.17, -0.54,  0.31, -0.53,  0.27, -0.14,  0.37,  0.68,  0.78,\n",
       "        0.68,  0.69,  0.21,  0.09,  0.25, -0.16,  0.46, -0.15,  0.26,\n",
       "       -0.12,  0.59,  1.04, -0.21,  0.3 , -0.34,  0.63, -0.32, -1.  ,\n",
       "       -0.34,  0.25,  0.1 ,  0.02,  0.55, -0.33,  0.3 ,  0.41,  0.42,\n",
       "        0.26,  0.13,  0.8 ,  0.62,  0.54, -0.59,  0.88, -0.06, -0.29,\n",
       "        0.62,  0.33,  0.14, -0.04, -1.18, -0.46,  0.16, -0.51,  1.24,\n",
       "        0.31, -1.96, -1.19,  1.2 ,  2.11,  0.08,  0.54,  0.79,  0.35,\n",
       "        0.88,  0.54, -0.1 ,  0.08, -0.46, -0.27,  0.12, -0.49, -0.61,\n",
       "        0.07, -0.58,  0.21,  0.62,  1.44, -0.34, -0.9 , -0.7 ,  0.74,\n",
       "        0.52, -0.19, -0.2 , -0.22, -0.37, -0.35, -0.86, -0.89, -0.44,\n",
       "        0.19,  0.17,  0.44, -0.11, -0.51,  0.34, -0.1 ,  0.4 ,  1.73,\n",
       "       -0.71], dtype=float32)"
      ]
     },
     "execution_count": 70,
     "metadata": {},
     "output_type": "execute_result"
    }
   ],
   "source": [
    "# embedded vector of word 'car'\n",
    "model['car']"
   ]
  },
  {
   "cell_type": "code",
   "execution_count": 71,
   "metadata": {},
   "outputs": [
    {
     "data": {
      "text/plain": [
       "[('vehicle', 0.8630837798118591),\n",
       " ('truck', 0.8597878813743591),\n",
       " ('cars', 0.837166965007782),\n",
       " ('driver', 0.8185911178588867),\n",
       " ('driving', 0.781263530254364),\n",
       " ('motorcycle', 0.7553158402442932),\n",
       " ('vehicles', 0.7462256550788879),\n",
       " ('parked', 0.74594646692276),\n",
       " ('bus', 0.7372707724571228),\n",
       " ('taxi', 0.7155268788337708)]"
      ]
     },
     "execution_count": 71,
     "metadata": {},
     "output_type": "execute_result"
    }
   ],
   "source": [
    "# most similar vector of 'car\n",
    "model.most_similar('car')"
   ]
  },
  {
   "cell_type": "code",
   "execution_count": 72,
   "metadata": {},
   "outputs": [
    {
     "data": {
      "text/plain": [
       "[('cat', 0.8798075318336487),\n",
       " ('dogs', 0.8344309329986572),\n",
       " ('pet', 0.7449564337730408),\n",
       " ('puppy', 0.723637580871582),\n",
       " ('horse', 0.7109652757644653),\n",
       " ('animal', 0.6817063093185425),\n",
       " ('pig', 0.655417263507843),\n",
       " ('boy', 0.6545307636260986),\n",
       " ('cats', 0.6471932530403137),\n",
       " ('rabbit', 0.6468630433082581)]"
      ]
     },
     "execution_count": 72,
     "metadata": {},
     "output_type": "execute_result"
    }
   ],
   "source": [
    "# most similar vector of 'dog'\n",
    "model.most_similar('dog')"
   ]
  },
  {
   "cell_type": "code",
   "execution_count": 73,
   "metadata": {},
   "outputs": [
    {
     "data": {
      "image/png": "[encoded data removed]",
      "text/plain": [
       "<Figure size 2000x1000 with 1 Axes>"
      ]
     },
     "metadata": {},
     "output_type": "display_data"
    }
   ],
   "source": [
    "import matplotlib.pyplot as plt\n",
    "from sklearn.decomposition import PCA\n",
    "\n",
    "word = \"car\"\n",
    "# similar words - X\n",
    "similar_words1 = [word] + [t[0] for t in model.most_similar(word, topn=5)]\n",
    "X = model[similar_words1]\n",
    "\n",
    "word = \"dog\"\n",
    "# similar words - Y\n",
    "similar_words2 = [word] + [t[0] for t in model.most_similar(word, topn=5)]\n",
    "Y = model[similar_words2]\n",
    "\n",
    "# pca to reduce dimensionality from 300 to 3\n",
    "pca = PCA(n_components = 3)\n",
    "pca.fit(np.vstack((X,Y)))\n",
    "X = pca.transform(X)\n",
    "Y = pca.transform(Y)\n",
    "\n",
    "# plot 3d\n",
    "from mpl_toolkits.mplot3d import Axes3D\n",
    "\n",
    "fig=plt.figure(figsize=(20,10))\n",
    "ax = fig.add_subplot(111, projection='3d')\n",
    "\n",
    "ax.scatter(X[0,0], X[0,1], X[0,2], c=\"red\")\n",
    "ax.scatter(X[1:,0], X[1:,1], X[1:,2], c=\"black\")\n",
    "ax.scatter(Y[0,0], Y[0,1], Y[0,2], c=\"red\")\n",
    "ax.scatter(Y[1:,0], Y[1:,1], Y[1:,2], c=\"black\")\n",
    "\n",
    "for row in range(len(X)):\n",
    "    x, y, z = X[row]\n",
    "    ax.text(x, y, z, s=similar_words1[row])\n",
    "    x, y, z = Y[row]\n",
    "    ax.text(x, y, z, s=similar_words2[row])\n"
   ]
  },
  {
   "attachments": {},
   "cell_type": "markdown",
   "metadata": {},
   "source": [
    "---"
   ]
  },
  {
   "attachments": {},
   "cell_type": "markdown",
   "metadata": {},
   "source": [
    "# Quiz 1 : Naver movie review classification(Korean)\n",
    "- Use movie review dataset \"kor_movie.csv\"\n",
    "- class : 0, 1 (neg, pos)\n",
    "- data size : 200,000 - use first 1,000 texts\n",
    "- use 70% as training set\n",
    "1. Preprocess, tokenize and stemming text using Okt\n",
    "2. Make TF-IDF vectors - ignore terms occured in more than 10% of texts\n",
    "3. Build model using Logistic Regression and Decision Tree. Check the accuracies\n",
    "4. Find most important 20 terms using Decision Tree\n",
    "5. Predict sentiment of a test text"
   ]
  },
  {
   "attachments": {},
   "cell_type": "markdown",
   "metadata": {},
   "source": [
    "### Read dataset. Use first 1000 texts only"
   ]
  },
  {
   "cell_type": "code",
   "execution_count": 74,
   "metadata": {},
   "outputs": [
    {
     "data": {
      "text/html": [
       "<div>\n",
       "<style scoped>\n",
       "    .dataframe tbody tr th:only-of-type {\n",
       "        vertical-align: middle;\n",
       "    }\n",
       "\n",
       "    .dataframe tbody tr th {\n",
       "        vertical-align: top;\n",
       "    }\n",
       "\n",
       "    .dataframe thead th {\n",
       "        text-align: right;\n",
       "    }\n",
       "</style>\n",
       "<table border=\"1\" class=\"dataframe\">\n",
       "  <thead>\n",
       "    <tr style=\"text-align: right;\">\n",
       "      <th></th>\n",
       "      <th>review</th>\n",
       "      <th>sentiment</th>\n",
       "    </tr>\n",
       "  </thead>\n",
       "  <tbody>\n",
       "    <tr>\n",
       "      <th>0</th>\n",
       "      <td>아 더빙.. 진짜 짜증나네요 목소리</td>\n",
       "      <td>0</td>\n",
       "    </tr>\n",
       "    <tr>\n",
       "      <th>1</th>\n",
       "      <td>흠...포스터보고 초딩영화줄....오버연기조차 가볍지 않구나</td>\n",
       "      <td>1</td>\n",
       "    </tr>\n",
       "    <tr>\n",
       "      <th>2</th>\n",
       "      <td>너무재밓었다그래서보는것을추천한다</td>\n",
       "      <td>0</td>\n",
       "    </tr>\n",
       "    <tr>\n",
       "      <th>3</th>\n",
       "      <td>교도소 이야기구먼 ..솔직히 재미는 없다..평점 조정</td>\n",
       "      <td>0</td>\n",
       "    </tr>\n",
       "    <tr>\n",
       "      <th>4</th>\n",
       "      <td>사이몬페그의 익살스런 연기가 돋보였던 영화!스파이더맨에서 늙어보이기만 했던 커스틴 ...</td>\n",
       "      <td>1</td>\n",
       "    </tr>\n",
       "    <tr>\n",
       "      <th>...</th>\n",
       "      <td>...</td>\n",
       "      <td>...</td>\n",
       "    </tr>\n",
       "    <tr>\n",
       "      <th>199995</th>\n",
       "      <td>오랜만에 평점 로긴했네ㅋㅋ 킹왕짱 쌈뽕한 영화를 만났습니다 강렬하게 육쾌함</td>\n",
       "      <td>1</td>\n",
       "    </tr>\n",
       "    <tr>\n",
       "      <th>199996</th>\n",
       "      <td>의지 박약들이나 하는거다 탈영은 일단 주인공 김대희 닮았고 이등병 찐따 OOOO</td>\n",
       "      <td>0</td>\n",
       "    </tr>\n",
       "    <tr>\n",
       "      <th>199997</th>\n",
       "      <td>그림도 좋고 완성도도 높았지만... 보는 내내 불안하게 만든다</td>\n",
       "      <td>0</td>\n",
       "    </tr>\n",
       "    <tr>\n",
       "      <th>199998</th>\n",
       "      <td>절대 봐서는 안 될 영화.. 재미도 없고 기분만 잡치고.. 한 세트장에서 다 해먹네</td>\n",
       "      <td>0</td>\n",
       "    </tr>\n",
       "    <tr>\n",
       "      <th>199999</th>\n",
       "      <td>마무리는 또 왜이래</td>\n",
       "      <td>0</td>\n",
       "    </tr>\n",
       "  </tbody>\n",
       "</table>\n",
       "<p>200000 rows × 2 columns</p>\n",
       "</div>"
      ],
      "text/plain": [
       "                                                   review  sentiment\n",
       "0                                     아 더빙.. 진짜 짜증나네요 목소리          0\n",
       "1                       흠...포스터보고 초딩영화줄....오버연기조차 가볍지 않구나          1\n",
       "2                                       너무재밓었다그래서보는것을추천한다          0\n",
       "3                           교도소 이야기구먼 ..솔직히 재미는 없다..평점 조정          0\n",
       "4       사이몬페그의 익살스런 연기가 돋보였던 영화!스파이더맨에서 늙어보이기만 했던 커스틴 ...          1\n",
       "...                                                   ...        ...\n",
       "199995          오랜만에 평점 로긴했네ㅋㅋ 킹왕짱 쌈뽕한 영화를 만났습니다 강렬하게 육쾌함          1\n",
       "199996       의지 박약들이나 하는거다 탈영은 일단 주인공 김대희 닮았고 이등병 찐따 OOOO          0\n",
       "199997                 그림도 좋고 완성도도 높았지만... 보는 내내 불안하게 만든다          0\n",
       "199998     절대 봐서는 안 될 영화.. 재미도 없고 기분만 잡치고.. 한 세트장에서 다 해먹네          0\n",
       "199999                                         마무리는 또 왜이래          0\n",
       "\n",
       "[200000 rows x 2 columns]"
      ]
     },
     "execution_count": 74,
     "metadata": {},
     "output_type": "execute_result"
    }
   ],
   "source": [
    "import pandas as pd\n",
    "import numpy as np\n",
    "\n",
    "# read dataset \"kor_movie.csv\"\n",
    "df_kor = pd.read_csv(\"kor_movie.csv\", encoding='utf-8')\n",
    "\n",
    "df_kor"
   ]
  },
  {
   "cell_type": "code",
   "execution_count": 75,
   "metadata": {},
   "outputs": [
    {
     "name": "stdout",
     "output_type": "stream",
     "text": [
      "[5021 4979]\n",
      "0                                     아 더빙.. 진짜 짜증나네요 목소리\n",
      "1                       흠...포스터보고 초딩영화줄....오버연기조차 가볍지 않구나\n",
      "2                                       너무재밓었다그래서보는것을추천한다\n",
      "3                           교도소 이야기구먼 ..솔직히 재미는 없다..평점 조정\n",
      "4       사이몬페그의 익살스런 연기가 돋보였던 영화!스파이더맨에서 늙어보이기만 했던 커스틴 ...\n",
      "                              ...                        \n",
      "9995    곰티비로 무료로 봤기때문에 5점주려고했는데 1 한국 공포영화의 특징인 깜놀시키려 하...\n",
      "9996    이딴걸드라마라고썼냐 수습할수없으면걍친자녀아니면되고 간단하네 얼굴을바꿨으면 결말이라도...\n",
      "9997                                왠지 김연아 크면 에리카처럼 될것같음.\n",
      "9998            솔직히 굿 ㅋㅋㅋㅋ 넘버11씨는 살아남길 바랬는데 2번째극장판 어서 나오길\n",
      "9999                                        그냥보다나옴 노답 핵노잼\n",
      "Name: review, Length: 10000, dtype: object\n"
     ]
    }
   ],
   "source": [
    "# use first 10000 reviews \n",
    "df_sample = df_kor.iloc[:10000]\n",
    "\n",
    "# check the number of class 0 and 1\n",
    "print(np.bincount(df_sample.sentiment))\n",
    "print(df_sample['review'])"
   ]
  },
  {
   "attachments": {},
   "cell_type": "markdown",
   "metadata": {},
   "source": [
    "### Get X and y"
   ]
  },
  {
   "cell_type": "code",
   "execution_count": 76,
   "metadata": {},
   "outputs": [
    {
     "data": {
      "text/plain": [
       "(10000,)"
      ]
     },
     "execution_count": 76,
     "metadata": {},
     "output_type": "execute_result"
    }
   ],
   "source": [
    "# get X and y\n",
    "X = np.array(df_sample['review'])\n",
    "y = np.array(df_sample.sentiment)\n",
    "\n",
    "# check the shape of data\n",
    "X.shape"
   ]
  },
  {
   "attachments": {},
   "cell_type": "markdown",
   "metadata": {},
   "source": [
    "### Get training and test set"
   ]
  },
  {
   "cell_type": "code",
   "execution_count": 77,
   "metadata": {},
   "outputs": [
    {
     "data": {
      "text/plain": [
       "(7000,)"
      ]
     },
     "execution_count": 77,
     "metadata": {},
     "output_type": "execute_result"
    }
   ],
   "source": [
    "from sklearn.model_selection import train_test_split\n",
    "\n",
    "# Split Dataset into 70% train and 30% test\n",
    "X_train, X_test, y_train, y_test = train_test_split(X, y, test_size = 0.3, stratify = y)\n",
    "\n",
    "X_train.shape"
   ]
  },
  {
   "attachments": {},
   "cell_type": "markdown",
   "metadata": {},
   "source": [
    "### Vectorize using Okt"
   ]
  },
  {
   "cell_type": "code",
   "execution_count": 1,
   "metadata": {},
   "outputs": [],
   "source": [
    "# function for tokenizing + stemming using Okt\n",
    "from konlpy.tag import Okt\n",
    "\n",
    "okt = Okt()\n",
    "\n",
    "# tokenizer_kor function perform tokenizing + stemming using Okt\n",
    "def tokenizer_kor(text):\n",
    "    return okt.morphs(text, stem = True, norm = True) "
   ]
  },
  {
   "cell_type": "code",
   "execution_count": 79,
   "metadata": {},
   "outputs": [],
   "source": [
    "from sklearn.feature_extraction.text import TfidfVectorizer\n",
    "\n",
    "# vectorize X_train - TF-IDF Matrix (with preprocessing, tokenizing, max_df = 0.1)\n",
    "tfidf = TfidfVectorizer(preprocessor = preprocessor,\n",
    "                        tokenizer = tokenizer_kor,\n",
    "                        max_df = 0.1)\n",
    "\n",
    "X_train_vector = tfidf.fit_transform(X_train)\n",
    "X_test_vector = tfidf.transform(X_test)"
   ]
  },
  {
   "cell_type": "code",
   "execution_count": 80,
   "metadata": {},
   "outputs": [
    {
     "data": {
      "text/plain": [
       "(7000, 10530)"
      ]
     },
     "execution_count": 80,
     "metadata": {},
     "output_type": "execute_result"
    }
   ],
   "source": [
    "# TF-IDF Matrix \n",
    "X_train_vector = X_train_vector.toarray()\n",
    "X_test_vector = X_test_vector.toarray()\n",
    "X_train_vector.shape"
   ]
  },
  {
   "cell_type": "code",
   "execution_count": 81,
   "metadata": {},
   "outputs": [
    {
     "name": "stdout",
     "output_type": "stream",
     "text": [
      "진지하고 무거운 소재를 경쾌하고 재미있게 만들었다\n"
     ]
    }
   ],
   "source": [
    "# check the review 0 text\n",
    "print(X_train[0])"
   ]
  },
  {
   "cell_type": "code",
   "execution_count": 82,
   "metadata": {},
   "outputs": [
    {
     "name": "stdout",
     "output_type": "stream",
     "text": [
      "[0.   0.   0.   0.   0.   0.   0.   0.   0.   0.   0.   0.   0.   0.\n",
      " 0.   0.   0.   0.   0.   0.   0.   0.   0.   0.   0.   0.   0.   0.\n",
      " 0.   0.   0.   0.   0.   0.   0.   0.   0.   0.   0.   0.   0.   0.\n",
      " 0.   0.   0.   0.   0.   0.   0.   0.   0.   0.   0.   0.   0.   0.\n",
      " 0.   0.   0.   0.   0.   0.   0.   0.   0.   0.   0.   0.   0.   0.\n",
      " 0.   0.   0.   0.   0.   0.   0.   0.   0.   0.   0.   0.   0.   0.\n",
      " 0.   0.   0.   0.   0.   0.   0.   0.   0.   0.   0.   0.   0.   0.\n",
      " 0.   0.   0.   0.   0.   0.   0.   0.   0.   0.   0.   0.   0.   0.\n",
      " 0.   0.   0.   0.   0.   0.   0.   0.   0.   0.   0.   0.   0.   0.\n",
      " 0.   0.   0.   0.   0.   0.   0.   0.   0.   0.   0.   0.   0.   0.\n",
      " 0.   0.   0.   0.   0.   0.   0.   0.   0.   0.   0.   0.   0.   0.\n",
      " 0.   0.   0.   0.   0.   0.   0.   0.   0.   0.   0.   0.   0.   0.\n",
      " 0.   0.   0.   0.   0.   0.   0.   0.   0.   0.   0.   0.   0.   0.\n",
      " 0.   0.   0.   0.   0.   0.   0.   0.   0.   0.   0.   0.   0.   0.\n",
      " 0.   0.   0.   0.   0.   0.   0.   0.   0.   0.   0.   0.   0.   0.\n",
      " 0.   0.   0.   0.   0.   0.   0.   0.   0.   0.   0.   0.   0.   0.\n",
      " 0.   0.   0.   0.   0.   0.   0.   0.   0.   0.   0.   0.   0.   0.\n",
      " 0.   0.   0.   0.   0.   0.   0.   0.   0.   0.   0.   0.   0.   0.\n",
      " 0.   0.   0.   0.   0.   0.   0.   0.   0.   0.   0.   0.   0.   0.\n",
      " 0.   0.   0.   0.   0.   0.   0.   0.   0.   0.   0.   0.   0.   0.\n",
      " 0.   0.   0.   0.   0.   0.   0.   0.   0.   0.   0.   0.   0.   0.\n",
      " 0.   0.   0.   0.   0.   0.   0.   0.   0.   0.   0.   0.   0.   0.\n",
      " 0.   0.   0.   0.   0.   0.   0.   0.   0.   0.   0.   0.   0.   0.\n",
      " 0.   0.   0.   0.   0.   0.   0.   0.   0.   0.   0.   0.   0.   0.\n",
      " 0.   0.   0.   0.   0.   0.   0.   0.   0.   0.   0.   0.   0.   0.\n",
      " 0.   0.   0.   0.   0.   0.   0.   0.   0.   0.   0.   0.   0.   0.\n",
      " 0.   0.   0.   0.   0.   0.   0.   0.   0.   0.   0.   0.   0.   0.\n",
      " 0.   0.   0.   0.   0.   0.   0.   0.   0.   0.   0.   0.   0.   0.\n",
      " 0.   0.   0.   0.   0.   0.   0.   0.   0.   0.   0.   0.   0.   0.\n",
      " 0.   0.   0.   0.   0.   0.   0.   0.   0.   0.   0.   0.   0.   0.\n",
      " 0.   0.   0.   0.   0.   0.   0.   0.   0.   0.   0.   0.   0.   0.\n",
      " 0.   0.   0.   0.   0.   0.   0.   0.   0.   0.   0.   0.   0.   0.\n",
      " 0.   0.   0.   0.   0.   0.   0.   0.   0.   0.   0.   0.   0.   0.\n",
      " 0.   0.   0.   0.   0.   0.   0.   0.   0.   0.   0.   0.   0.   0.\n",
      " 0.   0.   0.   0.   0.   0.   0.   0.   0.   0.   0.   0.   0.   0.\n",
      " 0.   0.   0.   0.   0.   0.   0.   0.   0.   0.   0.   0.   0.   0.\n",
      " 0.   0.   0.   0.   0.   0.   0.   0.   0.   0.   0.   0.   0.   0.\n",
      " 0.   0.   0.   0.   0.   0.   0.   0.   0.   0.   0.   0.   0.   0.\n",
      " 0.   0.   0.   0.   0.   0.   0.   0.   0.   0.   0.   0.   0.   0.\n",
      " 0.   0.   0.   0.   0.   0.   0.   0.   0.   0.   0.   0.   0.   0.\n",
      " 0.   0.   0.   0.   0.   0.   0.   0.   0.   0.   0.   0.   0.   0.\n",
      " 0.   0.   0.   0.   0.   0.   0.   0.   0.   0.   0.   0.   0.   0.\n",
      " 0.   0.   0.   0.   0.   0.   0.   0.   0.   0.   0.   0.   0.   0.\n",
      " 0.   0.   0.   0.   0.   0.   0.   0.   0.   0.   0.   0.   0.   0.\n",
      " 0.   0.   0.   0.   0.   0.   0.   0.   0.   0.   0.   0.   0.   0.\n",
      " 0.   0.   0.   0.   0.   0.   0.   0.   0.   0.   0.   0.   0.   0.\n",
      " 0.   0.   0.   0.   0.   0.   0.   0.   0.   0.   0.   0.   0.   0.\n",
      " 0.   0.   0.   0.   0.   0.   0.   0.   0.   0.   0.   0.   0.   0.\n",
      " 0.   0.   0.   0.   0.   0.   0.   0.   0.   0.   0.   0.   0.   0.\n",
      " 0.   0.   0.   0.   0.   0.   0.   0.   0.   0.   0.   0.   0.   0.\n",
      " 0.   0.   0.   0.   0.   0.   0.   0.   0.   0.   0.   0.   0.   0.\n",
      " 0.   0.   0.   0.   0.   0.   0.   0.   0.   0.   0.   0.   0.   0.\n",
      " 0.   0.   0.   0.   0.   0.   0.   0.   0.   0.   0.   0.   0.   0.\n",
      " 0.   0.   0.   0.   0.   0.   0.   0.   0.   0.   0.   0.   0.   0.\n",
      " 0.   0.   0.   0.   0.   0.   0.   0.   0.   0.   0.   0.   0.   0.\n",
      " 0.   0.   0.   0.   0.   0.   0.   0.   0.   0.   0.   0.   0.   0.\n",
      " 0.   0.   0.   0.   0.   0.   0.   0.   0.   0.   0.   0.   0.   0.\n",
      " 0.   0.   0.   0.   0.   0.   0.   0.   0.   0.   0.   0.   0.   0.\n",
      " 0.   0.   0.   0.   0.   0.   0.   0.   0.   0.   0.   0.   0.   0.\n",
      " 0.   0.   0.   0.   0.   0.   0.   0.   0.   0.   0.   0.   0.   0.\n",
      " 0.   0.   0.   0.   0.   0.   0.   0.   0.   0.   0.   0.   0.   0.\n",
      " 0.   0.   0.   0.   0.   0.   0.   0.   0.   0.   0.   0.   0.   0.\n",
      " 0.   0.   0.   0.   0.   0.   0.   0.   0.   0.   0.   0.   0.   0.\n",
      " 0.   0.   0.   0.   0.   0.   0.   0.   0.   0.   0.   0.   0.   0.\n",
      " 0.   0.   0.   0.   0.   0.   0.   0.   0.   0.   0.   0.   0.   0.\n",
      " 0.   0.   0.   0.   0.   0.   0.   0.   0.   0.   0.   0.   0.   0.\n",
      " 0.   0.   0.   0.   0.   0.   0.   0.   0.   0.   0.   0.   0.   0.\n",
      " 0.   0.   0.   0.   0.   0.   0.   0.   0.   0.   0.   0.   0.   0.\n",
      " 0.   0.   0.   0.   0.   0.   0.   0.   0.   0.   0.   0.   0.   0.\n",
      " 0.   0.   0.   0.   0.   0.   0.   0.   0.   0.   0.   0.   0.   0.\n",
      " 0.   0.   0.   0.   0.   0.   0.   0.   0.   0.   0.   0.   0.   0.\n",
      " 0.   0.   0.   0.   0.   0.   0.   0.   0.   0.   0.   0.   0.   0.\n",
      " 0.   0.   0.   0.   0.   0.   0.   0.   0.   0.   0.52 0.   0.   0.\n",
      " 0.   0.   0.   0.   0.   0.   0.   0.   0.   0.   0.   0.   0.   0.\n",
      " 0.   0.   0.   0.   0.   0.   0.   0.   0.   0.   0.   0.   0.   0.\n",
      " 0.   0.   0.   0.   0.   0.   0.   0.   0.   0.   0.   0.   0.   0.\n",
      " 0.   0.   0.   0.   0.   0.   0.   0.   0.   0.   0.   0.   0.   0.\n",
      " 0.   0.   0.   0.   0.   0.   0.   0.   0.   0.   0.   0.   0.   0.\n",
      " 0.   0.   0.   0.   0.   0.   0.   0.   0.   0.   0.   0.   0.   0.\n",
      " 0.   0.   0.   0.   0.   0.   0.   0.   0.   0.   0.   0.   0.   0.\n",
      " 0.   0.   0.   0.   0.   0.   0.   0.   0.   0.   0.   0.   0.   0.\n",
      " 0.   0.   0.   0.   0.   0.   0.   0.   0.   0.   0.   0.   0.   0.\n",
      " 0.   0.   0.   0.   0.   0.   0.   0.   0.   0.   0.   0.   0.   0.\n",
      " 0.   0.   0.   0.   0.   0.   0.   0.   0.   0.   0.   0.   0.   0.\n",
      " 0.   0.   0.   0.   0.   0.   0.   0.   0.   0.   0.   0.   0.   0.\n",
      " 0.   0.   0.   0.   0.   0.   0.   0.   0.   0.   0.   0.   0.   0.\n",
      " 0.   0.   0.   0.   0.   0.   0.   0.   0.   0.   0.   0.   0.   0.\n",
      " 0.   0.   0.   0.   0.   0.   0.   0.   0.   0.   0.   0.   0.   0.\n",
      " 0.   0.   0.   0.   0.   0.   0.   0.   0.   0.   0.   0.   0.   0.\n",
      " 0.   0.   0.   0.   0.   0.   0.   0.   0.   0.   0.   0.   0.   0.\n",
      " 0.   0.   0.   0.   0.   0.   0.   0.   0.   0.   0.   0.   0.   0.\n",
      " 0.   0.   0.   0.   0.   0.   0.   0.   0.   0.   0.   0.   0.   0.\n",
      " 0.   0.   0.   0.   0.   0.   0.   0.   0.   0.   0.   0.   0.   0.\n",
      " 0.   0.   0.   0.   0.   0.   0.   0.   0.   0.   0.   0.   0.   0.\n",
      " 0.   0.   0.   0.   0.   0.   0.   0.   0.   0.   0.   0.   0.   0.\n",
      " 0.   0.   0.   0.   0.   0.   0.   0.   0.   0.   0.   0.   0.   0.\n",
      " 0.   0.   0.   0.   0.   0.   0.   0.   0.   0.   0.   0.   0.   0.\n",
      " 0.   0.   0.   0.   0.   0.   0.   0.   0.   0.   0.   0.   0.   0.\n",
      " 0.   0.   0.   0.   0.   0.   0.   0.   0.   0.   0.   0.   0.   0.\n",
      " 0.   0.   0.   0.   0.   0.   0.   0.   0.   0.   0.   0.   0.   0.\n",
      " 0.   0.   0.   0.   0.   0.   0.   0.   0.   0.   0.   0.   0.   0.\n",
      " 0.   0.   0.   0.   0.   0.   0.   0.   0.   0.   0.   0.   0.   0.\n",
      " 0.   0.   0.   0.   0.   0.   0.   0.   0.   0.   0.   0.   0.   0.\n",
      " 0.   0.   0.   0.   0.   0.   0.   0.   0.   0.   0.   0.   0.   0.\n",
      " 0.   0.   0.   0.   0.   0.   0.   0.   0.   0.   0.   0.   0.   0.\n",
      " 0.   0.   0.   0.   0.   0.   0.   0.   0.   0.   0.   0.   0.   0.\n",
      " 0.   0.   0.   0.   0.   0.   0.   0.   0.   0.   0.   0.   0.   0.\n",
      " 0.   0.   0.   0.   0.   0.   0.   0.   0.   0.   0.   0.   0.   0.\n",
      " 0.   0.   0.   0.   0.   0.   0.   0.   0.   0.   0.   0.   0.   0.\n",
      " 0.   0.   0.   0.   0.   0.   0.   0.   0.   0.   0.   0.   0.   0.\n",
      " 0.   0.   0.   0.   0.   0.   0.   0.   0.   0.   0.   0.   0.   0.\n",
      " 0.   0.   0.   0.   0.   0.   0.   0.   0.   0.   0.   0.   0.   0.\n",
      " 0.   0.   0.   0.   0.   0.   0.   0.   0.   0.   0.   0.   0.   0.\n",
      " 0.   0.   0.   0.   0.   0.   0.   0.   0.   0.   0.   0.   0.   0.\n",
      " 0.   0.   0.   0.   0.   0.   0.   0.   0.   0.   0.   0.   0.   0.\n",
      " 0.   0.   0.   0.   0.   0.   0.   0.   0.   0.   0.   0.   0.   0.\n",
      " 0.   0.   0.   0.   0.   0.   0.   0.   0.   0.   0.   0.   0.   0.\n",
      " 0.   0.   0.   0.   0.   0.   0.   0.   0.   0.   0.   0.   0.   0.\n",
      " 0.   0.   0.   0.   0.   0.   0.   0.   0.   0.   0.   0.   0.   0.\n",
      " 0.   0.   0.   0.   0.   0.   0.   0.   0.   0.   0.   0.   0.   0.\n",
      " 0.   0.   0.   0.   0.   0.   0.   0.   0.   0.   0.   0.   0.   0.\n",
      " 0.   0.   0.   0.   0.   0.   0.   0.   0.   0.   0.   0.   0.   0.\n",
      " 0.   0.   0.   0.   0.   0.   0.   0.   0.   0.   0.   0.   0.   0.\n",
      " 0.   0.   0.   0.   0.   0.   0.   0.   0.   0.   0.   0.   0.   0.\n",
      " 0.   0.   0.   0.   0.   0.   0.   0.   0.   0.   0.   0.   0.   0.\n",
      " 0.   0.   0.   0.   0.   0.   0.   0.   0.   0.   0.   0.   0.   0.\n",
      " 0.   0.   0.   0.   0.   0.   0.   0.   0.   0.   0.   0.   0.   0.\n",
      " 0.   0.   0.   0.   0.   0.   0.   0.   0.   0.   0.   0.   0.   0.\n",
      " 0.   0.   0.   0.   0.   0.   0.   0.   0.   0.   0.   0.   0.   0.\n",
      " 0.   0.   0.   0.   0.   0.   0.   0.   0.   0.   0.   0.   0.   0.\n",
      " 0.   0.   0.   0.   0.   0.   0.   0.   0.   0.   0.   0.   0.   0.\n",
      " 0.   0.   0.   0.   0.   0.   0.   0.   0.   0.   0.   0.   0.   0.\n",
      " 0.   0.   0.   0.   0.   0.   0.   0.   0.   0.   0.   0.   0.   0.\n",
      " 0.   0.   0.   0.   0.   0.   0.   0.   0.   0.   0.   0.   0.   0.\n",
      " 0.   0.   0.   0.   0.   0.   0.   0.   0.   0.   0.   0.   0.   0.\n",
      " 0.   0.   0.   0.   0.   0.   0.   0.   0.   0.   0.   0.   0.   0.\n",
      " 0.   0.   0.   0.   0.   0.   0.   0.   0.   0.   0.   0.   0.   0.\n",
      " 0.   0.   0.   0.   0.   0.   0.   0.   0.   0.   0.   0.   0.   0.\n",
      " 0.   0.   0.   0.   0.   0.   0.   0.   0.   0.   0.   0.   0.   0.\n",
      " 0.   0.   0.   0.   0.   0.   0.   0.   0.   0.   0.   0.   0.   0.\n",
      " 0.   0.   0.   0.   0.   0.   0.   0.   0.   0.   0.   0.   0.   0.\n",
      " 0.   0.   0.   0.   0.   0.   0.   0.   0.   0.   0.   0.   0.   0.\n",
      " 0.   0.   0.   0.   0.   0.   0.   0.   0.   0.   0.   0.   0.   0.\n",
      " 0.   0.   0.   0.   0.   0.   0.   0.   0.   0.   0.   0.   0.   0.\n",
      " 0.   0.   0.   0.   0.   0.   0.   0.   0.   0.   0.   0.   0.   0.\n",
      " 0.   0.   0.   0.   0.   0.   0.   0.   0.   0.   0.   0.   0.   0.\n",
      " 0.   0.   0.   0.   0.   0.   0.   0.   0.   0.   0.   0.   0.   0.\n",
      " 0.   0.   0.   0.   0.   0.   0.   0.   0.   0.   0.   0.   0.   0.\n",
      " 0.   0.   0.   0.   0.   0.   0.   0.   0.   0.   0.   0.   0.   0.\n",
      " 0.   0.   0.   0.   0.   0.   0.   0.   0.   0.   0.   0.   0.   0.\n",
      " 0.   0.   0.   0.   0.   0.   0.   0.   0.   0.   0.   0.   0.   0.\n",
      " 0.   0.   0.   0.   0.   0.   0.   0.   0.   0.   0.   0.   0.   0.\n",
      " 0.   0.   0.   0.   0.   0.   0.   0.   0.   0.   0.   0.   0.   0.\n",
      " 0.   0.   0.   0.   0.   0.   0.   0.   0.   0.   0.   0.   0.   0.\n",
      " 0.   0.   0.   0.   0.   0.   0.   0.   0.   0.   0.   0.   0.   0.\n",
      " 0.   0.   0.   0.   0.   0.   0.   0.   0.   0.   0.   0.   0.   0.\n",
      " 0.   0.   0.   0.   0.   0.   0.   0.   0.   0.   0.   0.   0.   0.\n",
      " 0.   0.   0.   0.   0.   0.   0.   0.   0.   0.   0.   0.   0.   0.\n",
      " 0.   0.   0.   0.   0.   0.   0.   0.   0.   0.   0.   0.   0.   0.\n",
      " 0.   0.   0.   0.   0.   0.   0.   0.   0.   0.   0.   0.   0.   0.\n",
      " 0.   0.   0.   0.   0.   0.   0.   0.   0.   0.   0.   0.   0.   0.\n",
      " 0.   0.   0.   0.   0.   0.   0.   0.   0.   0.   0.   0.   0.   0.\n",
      " 0.   0.   0.   0.   0.   0.   0.   0.   0.   0.   0.   0.   0.   0.\n",
      " 0.   0.   0.   0.   0.   0.   0.   0.   0.   0.   0.   0.   0.   0.\n",
      " 0.   0.   0.   0.   0.   0.   0.   0.   0.   0.   0.   0.   0.   0.\n",
      " 0.   0.   0.   0.   0.   0.   0.   0.   0.   0.   0.   0.   0.   0.\n",
      " 0.   0.   0.   0.   0.   0.   0.   0.   0.   0.   0.   0.   0.   0.\n",
      " 0.   0.   0.   0.   0.   0.   0.   0.   0.   0.   0.   0.   0.   0.\n",
      " 0.   0.   0.   0.   0.   0.   0.   0.   0.   0.   0.   0.   0.   0.\n",
      " 0.   0.   0.   0.   0.   0.   0.   0.   0.   0.   0.   0.   0.   0.\n",
      " 0.   0.   0.   0.   0.   0.   0.   0.   0.   0.   0.   0.   0.   0.\n",
      " 0.   0.   0.   0.   0.   0.   0.   0.   0.   0.   0.   0.   0.   0.\n",
      " 0.   0.   0.   0.   0.   0.   0.   0.   0.   0.   0.   0.   0.   0.\n",
      " 0.   0.   0.   0.   0.   0.   0.   0.   0.   0.   0.   0.   0.   0.\n",
      " 0.   0.   0.   0.   0.   0.   0.   0.   0.   0.   0.   0.   0.   0.\n",
      " 0.   0.   0.   0.   0.   0.   0.   0.   0.   0.   0.   0.   0.   0.\n",
      " 0.   0.   0.   0.   0.   0.   0.   0.   0.   0.   0.   0.   0.   0.\n",
      " 0.   0.   0.   0.   0.   0.   0.   0.   0.   0.   0.   0.   0.   0.\n",
      " 0.   0.   0.   0.   0.   0.   0.   0.   0.   0.   0.   0.   0.   0.\n",
      " 0.   0.   0.   0.   0.   0.   0.   0.   0.   0.   0.   0.   0.   0.\n",
      " 0.   0.   0.   0.   0.   0.   0.   0.   0.   0.   0.   0.   0.   0.\n",
      " 0.   0.   0.   0.   0.   0.   0.   0.   0.   0.   0.   0.   0.   0.\n",
      " 0.   0.   0.   0.   0.   0.   0.   0.   0.   0.   0.   0.   0.   0.\n",
      " 0.   0.   0.   0.   0.   0.   0.   0.   0.   0.   0.   0.   0.   0.\n",
      " 0.   0.   0.   0.   0.   0.   0.   0.   0.   0.   0.   0.   0.   0.\n",
      " 0.   0.   0.   0.   0.   0.   0.   0.   0.   0.   0.   0.   0.   0.\n",
      " 0.   0.   0.   0.   0.   0.   0.   0.   0.   0.   0.   0.   0.   0.\n",
      " 0.   0.   0.   0.   0.   0.   0.   0.   0.   0.   0.   0.   0.   0.\n",
      " 0.   0.   0.   0.   0.   0.   0.   0.   0.   0.   0.   0.   0.   0.\n",
      " 0.   0.   0.   0.   0.   0.   0.   0.   0.   0.   0.   0.   0.   0.\n",
      " 0.   0.   0.   0.   0.   0.   0.   0.   0.   0.   0.   0.   0.   0.\n",
      " 0.   0.   0.   0.   0.   0.   0.   0.   0.   0.   0.   0.   0.   0.\n",
      " 0.   0.   0.   0.   0.   0.   0.   0.   0.   0.   0.   0.   0.   0.\n",
      " 0.   0.   0.   0.   0.   0.   0.   0.   0.   0.   0.   0.   0.   0.\n",
      " 0.   0.   0.   0.   0.   0.   0.   0.   0.   0.   0.   0.   0.   0.\n",
      " 0.   0.   0.   0.   0.   0.   0.   0.   0.   0.   0.   0.   0.   0.\n",
      " 0.   0.   0.   0.   0.   0.   0.   0.   0.   0.   0.   0.   0.   0.\n",
      " 0.   0.   0.   0.   0.   0.   0.   0.   0.   0.   0.   0.   0.   0.\n",
      " 0.   0.   0.   0.   0.   0.   0.   0.   0.   0.   0.   0.   0.   0.\n",
      " 0.   0.   0.   0.   0.   0.   0.   0.   0.   0.   0.   0.   0.   0.\n",
      " 0.   0.   0.   0.   0.   0.   0.   0.   0.   0.   0.   0.   0.   0.\n",
      " 0.   0.   0.   0.   0.   0.   0.   0.   0.   0.   0.   0.   0.   0.\n",
      " 0.   0.   0.   0.   0.   0.   0.   0.   0.   0.   0.   0.   0.   0.\n",
      " 0.   0.   0.   0.   0.   0.   0.   0.   0.   0.   0.   0.   0.   0.\n",
      " 0.   0.   0.   0.   0.   0.   0.   0.   0.   0.   0.   0.   0.   0.\n",
      " 0.   0.   0.   0.   0.   0.   0.   0.   0.   0.   0.   0.   0.   0.\n",
      " 0.   0.   0.   0.   0.   0.   0.   0.   0.   0.   0.   0.   0.   0.\n",
      " 0.   0.   0.   0.   0.   0.   0.   0.   0.   0.   0.   0.   0.   0.\n",
      " 0.   0.   0.   0.   0.   0.   0.   0.   0.   0.   0.   0.   0.   0.\n",
      " 0.   0.   0.   0.   0.   0.   0.   0.   0.   0.   0.   0.   0.   0.\n",
      " 0.   0.   0.   0.   0.   0.   0.   0.   0.   0.   0.   0.   0.   0.\n",
      " 0.   0.   0.   0.   0.   0.   0.   0.   0.   0.   0.   0.   0.   0.\n",
      " 0.   0.   0.   0.   0.   0.   0.   0.   0.   0.   0.   0.   0.   0.\n",
      " 0.   0.   0.   0.   0.   0.   0.   0.   0.   0.   0.   0.   0.   0.\n",
      " 0.   0.   0.   0.   0.   0.   0.   0.   0.   0.   0.   0.   0.   0.\n",
      " 0.   0.   0.   0.   0.   0.   0.   0.   0.   0.   0.   0.   0.   0.\n",
      " 0.   0.   0.   0.   0.   0.   0.   0.   0.   0.   0.   0.   0.   0.\n",
      " 0.   0.   0.   0.   0.   0.   0.   0.   0.   0.   0.   0.   0.   0.\n",
      " 0.   0.   0.   0.   0.   0.   0.   0.   0.   0.   0.   0.   0.   0.\n",
      " 0.   0.   0.   0.   0.   0.   0.   0.   0.   0.   0.   0.   0.   0.\n",
      " 0.   0.   0.   0.   0.   0.   0.   0.   0.   0.   0.   0.   0.   0.\n",
      " 0.   0.   0.   0.   0.   0.   0.   0.   0.   0.   0.   0.   0.   0.\n",
      " 0.   0.   0.   0.   0.   0.   0.   0.   0.   0.   0.   0.   0.   0.\n",
      " 0.   0.   0.   0.   0.   0.   0.   0.   0.   0.   0.   0.   0.   0.\n",
      " 0.   0.   0.   0.   0.   0.   0.   0.2  0.   0.   0.   0.   0.   0.\n",
      " 0.   0.   0.   0.   0.   0.   0.   0.   0.   0.   0.   0.   0.   0.\n",
      " 0.   0.   0.   0.   0.   0.   0.   0.   0.   0.   0.   0.   0.   0.\n",
      " 0.   0.   0.   0.   0.   0.   0.   0.   0.   0.   0.   0.   0.   0.\n",
      " 0.   0.   0.   0.   0.   0.   0.   0.   0.   0.   0.   0.   0.   0.\n",
      " 0.   0.   0.   0.   0.   0.   0.   0.   0.   0.   0.   0.   0.   0.\n",
      " 0.   0.   0.   0.   0.   0.   0.   0.   0.   0.   0.   0.   0.   0.\n",
      " 0.   0.   0.   0.   0.   0.   0.   0.   0.   0.   0.   0.   0.   0.\n",
      " 0.   0.   0.   0.   0.   0.   0.   0.   0.   0.   0.   0.   0.   0.\n",
      " 0.   0.   0.   0.   0.   0.   0.   0.   0.   0.   0.   0.   0.   0.\n",
      " 0.   0.   0.   0.   0.   0.   0.   0.   0.   0.   0.   0.   0.   0.\n",
      " 0.   0.   0.   0.   0.   0.   0.   0.   0.   0.   0.   0.   0.   0.\n",
      " 0.   0.26 0.   0.   0.   0.   0.   0.   0.   0.   0.   0.   0.   0.\n",
      " 0.   0.   0.   0.   0.   0.   0.   0.   0.   0.   0.   0.   0.   0.\n",
      " 0.   0.   0.   0.   0.   0.   0.   0.   0.   0.   0.   0.   0.   0.\n",
      " 0.   0.   0.   0.   0.   0.   0.   0.   0.   0.   0.   0.   0.   0.\n",
      " 0.   0.   0.   0.   0.   0.   0.   0.   0.   0.   0.   0.   0.   0.\n",
      " 0.   0.   0.   0.   0.   0.   0.   0.   0.   0.   0.   0.   0.   0.\n",
      " 0.   0.   0.   0.   0.   0.   0.   0.   0.   0.   0.   0.   0.   0.\n",
      " 0.   0.   0.   0.   0.   0.   0.   0.   0.   0.   0.   0.   0.   0.\n",
      " 0.   0.   0.   0.   0.   0.   0.   0.   0.   0.   0.   0.   0.   0.\n",
      " 0.   0.   0.   0.   0.   0.   0.   0.   0.   0.   0.   0.   0.   0.\n",
      " 0.   0.   0.   0.   0.   0.   0.   0.   0.   0.   0.   0.   0.   0.\n",
      " 0.   0.   0.   0.   0.   0.   0.   0.   0.   0.   0.   0.   0.   0.\n",
      " 0.   0.   0.   0.   0.   0.   0.   0.   0.   0.   0.   0.   0.   0.\n",
      " 0.   0.   0.   0.   0.   0.   0.   0.   0.   0.   0.   0.   0.   0.\n",
      " 0.   0.   0.   0.   0.   0.   0.   0.   0.   0.   0.   0.   0.   0.\n",
      " 0.   0.   0.   0.   0.   0.   0.   0.   0.   0.   0.   0.   0.   0.\n",
      " 0.   0.   0.   0.   0.   0.   0.   0.   0.   0.   0.   0.   0.   0.\n",
      " 0.   0.   0.   0.   0.   0.   0.   0.   0.   0.   0.   0.   0.   0.\n",
      " 0.   0.   0.   0.   0.   0.   0.   0.   0.   0.   0.   0.   0.   0.\n",
      " 0.   0.   0.   0.   0.   0.   0.   0.   0.   0.   0.   0.   0.   0.\n",
      " 0.   0.   0.   0.   0.   0.   0.   0.   0.   0.   0.   0.   0.   0.\n",
      " 0.   0.   0.   0.   0.   0.   0.   0.   0.   0.   0.   0.   0.   0.\n",
      " 0.   0.   0.   0.   0.   0.   0.   0.   0.   0.   0.   0.   0.   0.\n",
      " 0.   0.   0.   0.   0.   0.   0.   0.   0.   0.   0.   0.   0.   0.\n",
      " 0.   0.   0.   0.   0.   0.   0.   0.   0.   0.   0.   0.   0.   0.\n",
      " 0.   0.   0.   0.   0.   0.   0.   0.   0.46 0.   0.   0.   0.   0.\n",
      " 0.   0.   0.   0.   0.   0.   0.   0.   0.   0.   0.   0.   0.   0.\n",
      " 0.   0.   0.   0.   0.   0.   0.   0.   0.   0.   0.   0.   0.   0.\n",
      " 0.   0.   0.   0.   0.   0.   0.   0.   0.   0.   0.   0.   0.   0.\n",
      " 0.   0.   0.   0.   0.   0.   0.   0.   0.   0.   0.   0.   0.   0.\n",
      " 0.   0.   0.   0.   0.   0.   0.   0.   0.   0.   0.   0.   0.   0.\n",
      " 0.   0.   0.   0.   0.   0.   0.   0.   0.   0.   0.   0.   0.   0.\n",
      " 0.   0.   0.   0.   0.   0.   0.   0.   0.   0.   0.   0.   0.   0.\n",
      " 0.   0.   0.   0.   0.   0.   0.   0.   0.   0.   0.   0.   0.   0.\n",
      " 0.   0.   0.   0.   0.   0.   0.   0.   0.   0.   0.   0.   0.   0.\n",
      " 0.   0.   0.   0.   0.   0.   0.   0.   0.   0.   0.   0.   0.   0.\n",
      " 0.   0.   0.   0.   0.   0.   0.   0.   0.   0.   0.   0.   0.   0.\n",
      " 0.   0.   0.   0.   0.   0.   0.   0.   0.   0.   0.   0.   0.   0.\n",
      " 0.   0.   0.   0.   0.   0.   0.   0.   0.   0.   0.   0.   0.   0.\n",
      " 0.   0.   0.   0.   0.   0.   0.   0.   0.   0.   0.   0.   0.   0.\n",
      " 0.   0.   0.   0.   0.   0.   0.   0.   0.   0.   0.   0.   0.   0.\n",
      " 0.   0.   0.   0.   0.   0.   0.   0.   0.   0.   0.   0.   0.   0.\n",
      " 0.   0.   0.   0.   0.   0.   0.   0.   0.   0.   0.   0.   0.   0.\n",
      " 0.   0.   0.   0.   0.   0.   0.   0.   0.   0.   0.   0.   0.   0.\n",
      " 0.   0.   0.   0.   0.   0.   0.   0.   0.   0.   0.   0.   0.   0.\n",
      " 0.   0.   0.   0.   0.   0.   0.   0.   0.   0.   0.   0.   0.   0.\n",
      " 0.   0.   0.   0.   0.   0.   0.   0.   0.   0.   0.   0.   0.   0.\n",
      " 0.   0.   0.   0.   0.   0.   0.   0.   0.   0.   0.   0.   0.   0.\n",
      " 0.   0.   0.   0.   0.   0.   0.   0.   0.   0.   0.   0.   0.   0.\n",
      " 0.   0.   0.   0.   0.   0.   0.   0.   0.   0.   0.   0.   0.   0.\n",
      " 0.   0.   0.   0.   0.   0.   0.   0.   0.   0.   0.   0.   0.   0.\n",
      " 0.   0.   0.   0.   0.   0.   0.   0.   0.   0.   0.   0.   0.   0.\n",
      " 0.   0.   0.   0.   0.   0.   0.   0.   0.   0.   0.   0.   0.   0.\n",
      " 0.   0.   0.   0.   0.   0.   0.   0.   0.   0.   0.   0.   0.   0.\n",
      " 0.   0.   0.   0.   0.   0.   0.   0.   0.   0.   0.   0.   0.   0.\n",
      " 0.   0.   0.   0.   0.   0.   0.   0.   0.   0.   0.   0.   0.   0.\n",
      " 0.   0.   0.   0.   0.   0.   0.   0.   0.   0.   0.   0.   0.   0.\n",
      " 0.   0.   0.   0.   0.   0.   0.   0.   0.   0.   0.   0.   0.   0.\n",
      " 0.   0.   0.   0.   0.   0.   0.   0.   0.   0.   0.   0.   0.   0.\n",
      " 0.   0.   0.   0.   0.   0.   0.   0.   0.   0.   0.   0.   0.   0.\n",
      " 0.   0.   0.   0.   0.   0.   0.   0.   0.   0.   0.   0.   0.   0.\n",
      " 0.   0.   0.   0.   0.   0.   0.   0.   0.   0.   0.   0.   0.   0.\n",
      " 0.   0.   0.   0.   0.   0.   0.   0.   0.   0.   0.   0.   0.   0.\n",
      " 0.   0.   0.   0.   0.   0.   0.   0.   0.   0.   0.   0.   0.   0.\n",
      " 0.   0.   0.   0.   0.   0.   0.   0.   0.   0.   0.   0.   0.   0.\n",
      " 0.   0.   0.   0.   0.   0.   0.   0.   0.   0.   0.   0.   0.   0.\n",
      " 0.   0.   0.   0.   0.   0.   0.   0.   0.   0.   0.   0.   0.   0.\n",
      " 0.   0.   0.   0.   0.   0.   0.   0.   0.   0.   0.   0.   0.   0.\n",
      " 0.   0.   0.   0.   0.   0.   0.   0.   0.   0.   0.   0.   0.   0.\n",
      " 0.   0.   0.   0.   0.   0.   0.   0.   0.   0.   0.   0.   0.   0.\n",
      " 0.   0.   0.   0.   0.   0.   0.   0.   0.   0.   0.   0.   0.   0.\n",
      " 0.   0.   0.   0.   0.   0.   0.   0.   0.   0.   0.   0.   0.   0.\n",
      " 0.   0.   0.   0.   0.   0.   0.   0.   0.   0.   0.   0.   0.   0.\n",
      " 0.   0.   0.   0.   0.   0.   0.   0.   0.   0.   0.   0.   0.   0.\n",
      " 0.   0.   0.   0.   0.   0.   0.   0.   0.   0.   0.   0.   0.   0.\n",
      " 0.   0.   0.   0.   0.   0.   0.   0.   0.   0.   0.   0.   0.   0.\n",
      " 0.   0.   0.   0.   0.   0.   0.   0.   0.   0.   0.   0.   0.   0.\n",
      " 0.   0.   0.   0.   0.   0.   0.   0.   0.   0.   0.   0.   0.   0.\n",
      " 0.   0.   0.   0.   0.   0.   0.   0.   0.   0.   0.   0.   0.   0.\n",
      " 0.   0.   0.   0.   0.   0.   0.   0.   0.   0.   0.   0.   0.   0.\n",
      " 0.   0.   0.   0.   0.   0.   0.   0.   0.   0.   0.   0.   0.   0.\n",
      " 0.   0.   0.   0.   0.   0.   0.   0.   0.   0.   0.   0.   0.   0.\n",
      " 0.   0.   0.   0.   0.   0.   0.   0.   0.   0.   0.   0.   0.   0.\n",
      " 0.   0.   0.   0.   0.   0.   0.   0.   0.   0.   0.   0.   0.   0.\n",
      " 0.   0.   0.   0.   0.   0.   0.   0.   0.   0.   0.   0.   0.   0.\n",
      " 0.   0.   0.   0.   0.   0.   0.   0.   0.   0.   0.   0.   0.   0.\n",
      " 0.   0.   0.   0.   0.   0.   0.   0.   0.   0.   0.   0.   0.   0.\n",
      " 0.   0.   0.   0.   0.   0.   0.   0.   0.   0.   0.   0.   0.   0.\n",
      " 0.   0.   0.   0.   0.   0.   0.   0.   0.   0.   0.   0.   0.   0.\n",
      " 0.   0.   0.   0.   0.   0.   0.   0.   0.   0.   0.   0.   0.   0.\n",
      " 0.   0.   0.   0.   0.   0.   0.   0.   0.   0.   0.   0.   0.   0.\n",
      " 0.   0.   0.   0.   0.   0.   0.   0.   0.   0.   0.   0.   0.   0.\n",
      " 0.   0.   0.   0.   0.   0.   0.   0.   0.   0.   0.   0.   0.   0.\n",
      " 0.   0.   0.   0.   0.   0.   0.   0.   0.   0.   0.   0.   0.   0.\n",
      " 0.   0.   0.   0.   0.   0.   0.   0.   0.   0.   0.   0.   0.   0.\n",
      " 0.   0.   0.   0.   0.   0.   0.   0.   0.   0.   0.   0.   0.   0.\n",
      " 0.   0.   0.   0.   0.   0.   0.   0.   0.   0.   0.   0.   0.   0.\n",
      " 0.   0.   0.   0.   0.   0.   0.   0.   0.   0.   0.   0.   0.   0.\n",
      " 0.   0.   0.   0.   0.   0.   0.   0.   0.   0.   0.   0.   0.   0.\n",
      " 0.   0.   0.   0.   0.   0.   0.   0.   0.   0.   0.   0.   0.   0.\n",
      " 0.   0.   0.   0.   0.   0.   0.   0.   0.   0.   0.   0.   0.   0.\n",
      " 0.   0.   0.   0.   0.   0.   0.   0.   0.   0.   0.   0.   0.   0.\n",
      " 0.   0.   0.   0.   0.   0.   0.   0.   0.   0.   0.   0.   0.   0.\n",
      " 0.   0.   0.   0.   0.   0.   0.   0.   0.   0.   0.   0.   0.   0.\n",
      " 0.   0.   0.   0.   0.   0.   0.   0.   0.   0.   0.   0.   0.   0.\n",
      " 0.   0.   0.   0.   0.   0.   0.   0.   0.   0.   0.   0.   0.   0.\n",
      " 0.   0.   0.   0.   0.   0.   0.   0.   0.   0.   0.   0.   0.   0.\n",
      " 0.   0.   0.   0.   0.   0.   0.   0.   0.   0.   0.   0.   0.   0.\n",
      " 0.   0.   0.   0.   0.   0.   0.   0.   0.   0.   0.   0.   0.   0.\n",
      " 0.   0.   0.   0.   0.   0.   0.   0.   0.   0.   0.   0.   0.   0.\n",
      " 0.   0.   0.   0.   0.   0.   0.   0.   0.   0.   0.   0.   0.   0.\n",
      " 0.   0.   0.   0.   0.   0.   0.   0.   0.   0.   0.   0.   0.   0.\n",
      " 0.   0.   0.   0.   0.   0.   0.   0.   0.   0.   0.   0.   0.   0.\n",
      " 0.   0.   0.   0.   0.   0.   0.   0.   0.   0.   0.   0.   0.   0.\n",
      " 0.   0.   0.   0.   0.   0.   0.   0.   0.   0.   0.   0.   0.   0.\n",
      " 0.   0.   0.   0.   0.   0.   0.   0.   0.   0.   0.   0.   0.   0.\n",
      " 0.   0.   0.   0.   0.   0.   0.   0.   0.   0.   0.   0.   0.   0.\n",
      " 0.   0.   0.   0.   0.   0.   0.   0.   0.   0.   0.   0.   0.   0.\n",
      " 0.   0.   0.   0.   0.   0.   0.   0.   0.   0.   0.   0.   0.   0.\n",
      " 0.   0.   0.   0.   0.   0.   0.   0.   0.   0.   0.   0.   0.   0.\n",
      " 0.   0.   0.   0.   0.   0.   0.   0.   0.   0.   0.   0.   0.   0.\n",
      " 0.   0.   0.   0.   0.   0.   0.   0.   0.   0.   0.   0.   0.   0.\n",
      " 0.   0.   0.   0.   0.   0.   0.   0.   0.   0.   0.   0.   0.   0.\n",
      " 0.   0.   0.   0.   0.   0.   0.   0.   0.   0.   0.   0.   0.   0.\n",
      " 0.   0.   0.   0.   0.   0.   0.   0.   0.   0.   0.   0.   0.   0.\n",
      " 0.   0.   0.   0.   0.   0.   0.   0.   0.   0.   0.   0.   0.   0.\n",
      " 0.   0.   0.   0.   0.   0.   0.   0.   0.   0.   0.   0.   0.   0.\n",
      " 0.   0.   0.   0.   0.   0.   0.   0.   0.   0.   0.   0.   0.   0.\n",
      " 0.   0.   0.   0.   0.   0.   0.   0.   0.   0.   0.   0.   0.   0.\n",
      " 0.   0.   0.   0.   0.   0.   0.   0.   0.   0.   0.   0.   0.   0.\n",
      " 0.   0.   0.   0.   0.   0.   0.   0.   0.   0.   0.   0.   0.   0.\n",
      " 0.   0.   0.   0.   0.   0.   0.   0.   0.   0.   0.   0.   0.   0.\n",
      " 0.   0.   0.   0.   0.   0.   0.   0.   0.   0.   0.   0.   0.   0.\n",
      " 0.   0.   0.   0.   0.   0.   0.   0.   0.   0.   0.   0.   0.   0.\n",
      " 0.   0.   0.   0.   0.   0.   0.   0.   0.   0.   0.   0.   0.   0.\n",
      " 0.   0.   0.   0.   0.   0.   0.   0.   0.   0.   0.   0.   0.   0.\n",
      " 0.   0.   0.   0.   0.   0.   0.   0.   0.   0.   0.   0.   0.   0.\n",
      " 0.   0.   0.   0.   0.   0.   0.   0.   0.   0.   0.   0.   0.   0.34\n",
      " 0.   0.   0.   0.   0.   0.   0.   0.   0.   0.   0.   0.   0.   0.\n",
      " 0.   0.   0.   0.   0.   0.   0.   0.   0.   0.   0.   0.   0.   0.\n",
      " 0.   0.   0.   0.   0.   0.   0.   0.   0.   0.   0.   0.   0.   0.\n",
      " 0.   0.   0.   0.   0.   0.   0.   0.   0.   0.   0.   0.   0.   0.\n",
      " 0.   0.   0.   0.   0.   0.   0.   0.   0.   0.   0.   0.   0.   0.\n",
      " 0.   0.   0.   0.   0.   0.   0.   0.   0.   0.   0.   0.   0.   0.\n",
      " 0.   0.   0.   0.   0.   0.   0.   0.   0.   0.   0.   0.   0.   0.\n",
      " 0.   0.   0.   0.   0.   0.   0.   0.   0.   0.   0.   0.   0.   0.\n",
      " 0.   0.   0.   0.   0.   0.   0.   0.   0.   0.   0.   0.   0.   0.\n",
      " 0.   0.   0.   0.   0.   0.   0.   0.   0.   0.   0.   0.   0.   0.\n",
      " 0.   0.   0.   0.   0.   0.   0.   0.   0.   0.   0.   0.   0.   0.\n",
      " 0.   0.   0.   0.   0.   0.   0.   0.   0.   0.   0.   0.   0.   0.\n",
      " 0.   0.   0.   0.   0.   0.   0.   0.   0.   0.   0.   0.   0.   0.\n",
      " 0.   0.   0.   0.   0.   0.   0.   0.   0.   0.   0.   0.   0.   0.\n",
      " 0.   0.   0.   0.   0.   0.   0.   0.   0.   0.   0.   0.   0.   0.\n",
      " 0.   0.   0.   0.   0.   0.   0.   0.   0.   0.   0.   0.   0.   0.\n",
      " 0.   0.   0.   0.   0.   0.   0.   0.   0.   0.   0.   0.   0.   0.\n",
      " 0.   0.   0.   0.   0.   0.   0.   0.   0.   0.   0.   0.   0.   0.\n",
      " 0.   0.   0.   0.   0.   0.   0.   0.   0.   0.   0.   0.   0.   0.\n",
      " 0.   0.   0.   0.   0.   0.   0.   0.   0.   0.   0.   0.   0.   0.\n",
      " 0.   0.   0.   0.   0.   0.   0.   0.   0.   0.   0.   0.   0.   0.\n",
      " 0.   0.   0.   0.   0.   0.   0.   0.   0.   0.   0.   0.   0.   0.\n",
      " 0.   0.   0.   0.   0.   0.   0.   0.   0.   0.   0.   0.   0.   0.\n",
      " 0.   0.   0.   0.   0.   0.   0.   0.   0.   0.   0.   0.   0.   0.\n",
      " 0.   0.   0.   0.   0.   0.   0.   0.   0.   0.   0.   0.   0.   0.\n",
      " 0.   0.   0.   0.   0.   0.   0.   0.   0.   0.   0.   0.   0.   0.\n",
      " 0.   0.   0.   0.   0.   0.   0.   0.   0.   0.   0.   0.   0.   0.\n",
      " 0.   0.   0.   0.   0.   0.   0.   0.   0.   0.   0.   0.   0.   0.\n",
      " 0.   0.   0.   0.   0.   0.   0.   0.   0.   0.   0.   0.   0.   0.\n",
      " 0.   0.   0.   0.   0.   0.   0.   0.   0.   0.   0.   0.   0.   0.\n",
      " 0.   0.   0.   0.   0.   0.   0.   0.   0.   0.   0.   0.   0.   0.\n",
      " 0.   0.   0.   0.   0.   0.   0.   0.   0.   0.   0.   0.   0.   0.\n",
      " 0.   0.   0.   0.   0.   0.   0.   0.   0.   0.   0.   0.   0.   0.\n",
      " 0.   0.   0.   0.   0.   0.   0.   0.   0.   0.   0.   0.   0.   0.\n",
      " 0.   0.   0.   0.   0.   0.   0.   0.   0.   0.   0.   0.   0.   0.\n",
      " 0.   0.   0.   0.   0.   0.   0.   0.   0.   0.   0.   0.   0.   0.\n",
      " 0.   0.   0.   0.   0.   0.   0.   0.   0.   0.   0.   0.   0.   0.\n",
      " 0.   0.   0.   0.   0.   0.   0.   0.   0.   0.   0.   0.   0.   0.\n",
      " 0.   0.   0.   0.   0.   0.   0.   0.   0.   0.   0.   0.   0.   0.\n",
      " 0.   0.   0.   0.   0.   0.   0.   0.   0.   0.   0.   0.   0.   0.\n",
      " 0.   0.   0.   0.   0.   0.   0.   0.   0.   0.   0.   0.   0.   0.\n",
      " 0.   0.   0.   0.   0.   0.   0.   0.   0.   0.   0.   0.   0.   0.\n",
      " 0.   0.   0.   0.   0.   0.   0.   0.   0.   0.   0.   0.   0.   0.\n",
      " 0.   0.   0.   0.   0.   0.   0.   0.   0.   0.   0.   0.   0.   0.\n",
      " 0.   0.   0.   0.   0.   0.   0.   0.   0.   0.   0.   0.   0.   0.\n",
      " 0.   0.   0.   0.   0.   0.   0.   0.   0.   0.   0.   0.   0.   0.\n",
      " 0.   0.   0.   0.   0.   0.   0.   0.   0.   0.   0.   0.   0.   0.\n",
      " 0.   0.   0.   0.   0.   0.   0.   0.   0.   0.   0.   0.   0.   0.\n",
      " 0.   0.   0.   0.   0.   0.   0.   0.   0.   0.   0.   0.   0.   0.\n",
      " 0.   0.   0.   0.   0.   0.   0.   0.   0.   0.   0.   0.   0.   0.\n",
      " 0.   0.   0.   0.   0.   0.   0.   0.   0.   0.   0.   0.   0.   0.\n",
      " 0.   0.   0.   0.   0.   0.   0.   0.   0.   0.   0.   0.   0.   0.\n",
      " 0.   0.   0.   0.   0.   0.   0.   0.   0.   0.   0.   0.   0.   0.\n",
      " 0.   0.   0.   0.   0.   0.   0.   0.   0.   0.   0.   0.   0.   0.\n",
      " 0.   0.   0.   0.   0.   0.   0.   0.   0.   0.   0.   0.   0.   0.\n",
      " 0.   0.   0.   0.   0.   0.   0.   0.   0.   0.   0.   0.   0.   0.\n",
      " 0.   0.   0.   0.   0.   0.   0.   0.   0.   0.   0.   0.   0.   0.\n",
      " 0.   0.   0.   0.   0.   0.   0.   0.   0.   0.   0.   0.   0.   0.\n",
      " 0.   0.   0.   0.   0.   0.   0.   0.   0.   0.   0.   0.   0.   0.\n",
      " 0.   0.   0.   0.   0.   0.   0.   0.   0.   0.   0.   0.   0.   0.\n",
      " 0.   0.   0.   0.   0.   0.   0.   0.   0.   0.   0.   0.   0.   0.\n",
      " 0.   0.   0.   0.   0.   0.   0.   0.   0.   0.   0.   0.   0.   0.\n",
      " 0.   0.   0.   0.   0.   0.   0.   0.   0.   0.   0.   0.   0.   0.\n",
      " 0.   0.   0.   0.   0.   0.   0.   0.   0.   0.   0.   0.   0.   0.\n",
      " 0.   0.   0.   0.   0.   0.   0.   0.   0.   0.   0.   0.   0.   0.\n",
      " 0.   0.   0.   0.   0.   0.   0.   0.   0.   0.   0.   0.   0.   0.\n",
      " 0.   0.   0.   0.   0.   0.   0.   0.   0.   0.   0.   0.   0.   0.\n",
      " 0.   0.   0.   0.   0.   0.   0.   0.   0.   0.   0.   0.   0.   0.\n",
      " 0.   0.   0.   0.   0.   0.   0.   0.   0.   0.   0.   0.   0.   0.\n",
      " 0.   0.   0.   0.   0.   0.   0.   0.   0.   0.   0.   0.   0.   0.\n",
      " 0.   0.   0.   0.   0.   0.   0.   0.   0.   0.   0.   0.   0.   0.\n",
      " 0.   0.   0.   0.   0.   0.   0.   0.   0.   0.   0.   0.   0.   0.\n",
      " 0.   0.   0.   0.   0.   0.   0.   0.   0.   0.   0.   0.   0.   0.\n",
      " 0.   0.   0.   0.   0.   0.   0.   0.   0.   0.   0.   0.   0.   0.\n",
      " 0.   0.   0.   0.   0.   0.   0.   0.   0.   0.   0.   0.   0.   0.\n",
      " 0.   0.   0.   0.   0.   0.   0.   0.   0.   0.   0.   0.   0.   0.\n",
      " 0.   0.   0.   0.   0.   0.   0.   0.   0.   0.   0.   0.   0.   0.\n",
      " 0.   0.   0.   0.   0.   0.   0.   0.   0.   0.   0.   0.   0.   0.\n",
      " 0.   0.   0.   0.   0.   0.   0.   0.   0.   0.   0.   0.   0.   0.\n",
      " 0.   0.   0.   0.   0.   0.   0.   0.   0.   0.   0.   0.   0.   0.\n",
      " 0.   0.   0.   0.   0.   0.   0.   0.   0.   0.   0.   0.   0.   0.\n",
      " 0.   0.   0.   0.   0.   0.   0.   0.   0.   0.   0.   0.   0.   0.\n",
      " 0.   0.   0.   0.   0.   0.   0.   0.   0.   0.   0.   0.   0.   0.\n",
      " 0.   0.   0.   0.   0.   0.   0.   0.   0.   0.   0.   0.   0.   0.\n",
      " 0.   0.   0.   0.   0.   0.   0.   0.   0.   0.   0.   0.   0.   0.\n",
      " 0.   0.   0.   0.   0.   0.   0.   0.   0.   0.   0.   0.   0.   0.\n",
      " 0.   0.   0.   0.   0.   0.   0.   0.   0.   0.   0.   0.   0.   0.\n",
      " 0.   0.   0.   0.   0.   0.   0.   0.   0.   0.   0.   0.   0.   0.\n",
      " 0.   0.   0.   0.   0.   0.   0.   0.   0.   0.   0.   0.   0.   0.\n",
      " 0.   0.   0.   0.   0.   0.   0.   0.   0.   0.   0.   0.   0.   0.\n",
      " 0.   0.   0.   0.   0.   0.   0.   0.   0.   0.   0.   0.   0.   0.\n",
      " 0.   0.   0.   0.   0.   0.   0.   0.   0.   0.   0.   0.   0.   0.\n",
      " 0.   0.   0.   0.   0.   0.   0.   0.   0.   0.   0.   0.   0.   0.\n",
      " 0.   0.   0.   0.   0.   0.   0.   0.   0.   0.   0.   0.   0.   0.\n",
      " 0.   0.   0.   0.   0.   0.   0.   0.   0.   0.   0.   0.   0.   0.\n",
      " 0.   0.   0.   0.   0.   0.   0.   0.   0.   0.   0.   0.   0.   0.\n",
      " 0.   0.   0.   0.   0.   0.   0.   0.   0.   0.   0.   0.   0.   0.\n",
      " 0.   0.   0.   0.   0.   0.   0.   0.   0.   0.   0.   0.   0.   0.\n",
      " 0.   0.   0.   0.   0.   0.   0.   0.   0.   0.   0.   0.   0.   0.\n",
      " 0.   0.   0.   0.   0.   0.   0.   0.   0.   0.   0.   0.   0.   0.\n",
      " 0.   0.   0.   0.   0.   0.   0.   0.   0.   0.   0.   0.   0.   0.\n",
      " 0.   0.   0.   0.   0.   0.   0.   0.   0.   0.   0.   0.   0.   0.\n",
      " 0.   0.   0.   0.   0.   0.   0.   0.   0.   0.   0.   0.   0.   0.\n",
      " 0.   0.   0.   0.   0.   0.   0.   0.   0.   0.   0.   0.   0.   0.\n",
      " 0.   0.   0.   0.   0.   0.   0.   0.   0.   0.   0.   0.   0.   0.\n",
      " 0.   0.   0.   0.   0.   0.   0.   0.   0.   0.   0.   0.   0.   0.\n",
      " 0.   0.   0.   0.   0.   0.   0.   0.   0.   0.   0.   0.   0.   0.\n",
      " 0.   0.   0.   0.   0.   0.   0.   0.   0.   0.   0.   0.   0.   0.\n",
      " 0.   0.   0.   0.   0.   0.   0.   0.   0.   0.   0.   0.   0.   0.\n",
      " 0.   0.   0.   0.   0.   0.   0.   0.   0.   0.   0.   0.   0.   0.\n",
      " 0.   0.   0.   0.   0.   0.   0.   0.   0.   0.   0.   0.   0.   0.\n",
      " 0.   0.   0.   0.   0.   0.   0.   0.   0.   0.   0.   0.   0.   0.\n",
      " 0.   0.   0.   0.   0.   0.   0.   0.   0.   0.   0.   0.   0.   0.\n",
      " 0.   0.   0.   0.   0.   0.   0.   0.   0.   0.   0.   0.   0.   0.\n",
      " 0.   0.   0.   0.   0.   0.   0.   0.   0.   0.   0.   0.   0.   0.\n",
      " 0.   0.   0.   0.   0.   0.   0.   0.   0.   0.   0.   0.   0.   0.\n",
      " 0.   0.   0.   0.   0.   0.   0.   0.   0.   0.   0.   0.   0.   0.\n",
      " 0.   0.   0.   0.   0.   0.   0.   0.   0.   0.   0.   0.   0.   0.\n",
      " 0.   0.   0.   0.   0.   0.   0.   0.   0.   0.   0.   0.   0.   0.\n",
      " 0.   0.   0.   0.   0.   0.   0.   0.   0.   0.   0.   0.   0.   0.\n",
      " 0.   0.   0.   0.   0.   0.   0.   0.   0.   0.   0.   0.   0.   0.\n",
      " 0.   0.   0.   0.   0.   0.   0.   0.   0.   0.   0.   0.   0.   0.\n",
      " 0.   0.   0.   0.   0.   0.   0.   0.   0.   0.   0.   0.   0.   0.\n",
      " 0.   0.   0.   0.   0.   0.   0.   0.   0.   0.   0.   0.   0.   0.\n",
      " 0.   0.   0.   0.   0.   0.   0.   0.   0.   0.   0.   0.   0.   0.\n",
      " 0.   0.   0.   0.   0.   0.   0.   0.   0.   0.   0.   0.   0.   0.\n",
      " 0.   0.   0.   0.   0.   0.   0.   0.   0.   0.   0.   0.   0.   0.\n",
      " 0.   0.   0.   0.   0.   0.   0.   0.   0.   0.   0.   0.   0.   0.\n",
      " 0.   0.   0.   0.   0.   0.   0.   0.   0.   0.   0.   0.   0.   0.\n",
      " 0.   0.   0.   0.   0.   0.   0.   0.   0.   0.   0.   0.   0.   0.\n",
      " 0.   0.   0.   0.   0.   0.   0.   0.   0.   0.   0.   0.   0.   0.\n",
      " 0.   0.   0.   0.   0.   0.   0.   0.   0.   0.   0.   0.   0.   0.\n",
      " 0.   0.   0.   0.   0.   0.   0.   0.   0.   0.   0.   0.   0.   0.\n",
      " 0.   0.   0.   0.   0.   0.   0.   0.   0.   0.   0.   0.   0.   0.\n",
      " 0.   0.   0.   0.   0.   0.   0.   0.   0.   0.   0.   0.   0.   0.\n",
      " 0.   0.   0.   0.   0.   0.   0.   0.   0.   0.   0.   0.   0.   0.\n",
      " 0.   0.   0.   0.   0.   0.   0.   0.   0.   0.   0.   0.   0.   0.\n",
      " 0.   0.   0.   0.   0.   0.   0.   0.   0.   0.   0.   0.   0.   0.\n",
      " 0.   0.   0.   0.   0.   0.   0.   0.   0.   0.   0.   0.   0.   0.\n",
      " 0.   0.   0.   0.   0.   0.   0.   0.   0.   0.   0.   0.   0.   0.\n",
      " 0.   0.   0.   0.   0.   0.   0.   0.   0.   0.   0.   0.   0.   0.\n",
      " 0.   0.   0.   0.   0.   0.   0.   0.   0.   0.   0.   0.   0.   0.\n",
      " 0.   0.   0.   0.   0.   0.   0.   0.   0.   0.   0.   0.   0.   0.\n",
      " 0.   0.   0.   0.   0.   0.   0.   0.   0.   0.   0.   0.   0.   0.\n",
      " 0.   0.   0.   0.   0.   0.   0.   0.   0.   0.   0.   0.   0.   0.\n",
      " 0.   0.   0.   0.   0.   0.   0.   0.   0.   0.   0.   0.   0.   0.\n",
      " 0.   0.   0.   0.   0.   0.   0.   0.   0.   0.   0.   0.   0.   0.\n",
      " 0.   0.   0.   0.   0.   0.   0.   0.   0.   0.   0.   0.   0.   0.\n",
      " 0.   0.   0.   0.   0.   0.   0.   0.   0.   0.   0.   0.   0.   0.\n",
      " 0.   0.   0.   0.   0.   0.   0.   0.   0.   0.   0.   0.   0.   0.\n",
      " 0.   0.   0.   0.   0.   0.   0.   0.   0.   0.   0.   0.   0.   0.\n",
      " 0.   0.   0.   0.   0.   0.   0.   0.   0.   0.   0.   0.   0.   0.\n",
      " 0.   0.   0.   0.   0.   0.   0.   0.   0.   0.   0.   0.   0.   0.\n",
      " 0.   0.   0.   0.   0.   0.   0.   0.   0.   0.   0.   0.   0.   0.\n",
      " 0.   0.   0.   0.   0.   0.   0.   0.   0.   0.   0.   0.   0.   0.\n",
      " 0.   0.   0.   0.   0.   0.   0.   0.   0.   0.   0.   0.   0.   0.\n",
      " 0.   0.   0.   0.   0.   0.   0.   0.   0.   0.   0.   0.   0.   0.\n",
      " 0.   0.   0.   0.   0.   0.   0.   0.   0.   0.   0.   0.   0.   0.\n",
      " 0.   0.   0.   0.   0.   0.   0.   0.   0.   0.   0.   0.   0.   0.\n",
      " 0.   0.   0.   0.   0.   0.   0.   0.   0.   0.   0.   0.   0.   0.\n",
      " 0.   0.   0.   0.   0.   0.   0.   0.   0.   0.   0.   0.   0.   0.\n",
      " 0.   0.   0.   0.   0.   0.   0.   0.   0.   0.   0.   0.   0.   0.\n",
      " 0.   0.   0.   0.   0.   0.   0.   0.   0.   0.   0.   0.   0.   0.\n",
      " 0.   0.   0.   0.   0.   0.   0.   0.   0.   0.   0.   0.   0.   0.\n",
      " 0.   0.   0.   0.   0.   0.   0.   0.   0.   0.   0.   0.   0.   0.\n",
      " 0.   0.   0.   0.   0.   0.   0.   0.   0.   0.   0.   0.   0.   0.\n",
      " 0.   0.   0.   0.   0.   0.   0.   0.   0.   0.   0.   0.   0.   0.\n",
      " 0.   0.   0.   0.   0.   0.   0.   0.   0.   0.   0.   0.   0.   0.\n",
      " 0.   0.   0.   0.   0.   0.   0.   0.   0.   0.   0.   0.   0.   0.\n",
      " 0.   0.   0.   0.   0.   0.   0.   0.   0.   0.   0.   0.   0.   0.\n",
      " 0.   0.   0.   0.   0.   0.   0.   0.   0.   0.   0.   0.   0.   0.\n",
      " 0.   0.   0.   0.   0.   0.   0.   0.   0.   0.   0.   0.   0.   0.\n",
      " 0.   0.   0.   0.   0.   0.   0.   0.   0.   0.   0.   0.   0.   0.\n",
      " 0.   0.   0.   0.   0.   0.   0.   0.   0.   0.   0.   0.   0.   0.\n",
      " 0.   0.   0.   0.   0.   0.   0.   0.   0.   0.   0.   0.   0.   0.\n",
      " 0.   0.   0.   0.   0.   0.   0.   0.   0.   0.   0.   0.   0.   0.\n",
      " 0.   0.   0.   0.   0.   0.   0.   0.   0.   0.   0.   0.   0.   0.\n",
      " 0.   0.   0.   0.   0.   0.   0.   0.   0.   0.   0.   0.   0.   0.\n",
      " 0.   0.   0.   0.   0.   0.   0.   0.   0.   0.   0.   0.   0.   0.\n",
      " 0.   0.   0.   0.   0.   0.   0.   0.   0.   0.   0.   0.   0.   0.\n",
      " 0.   0.   0.   0.   0.   0.   0.   0.   0.   0.   0.   0.   0.   0.\n",
      " 0.   0.   0.   0.   0.   0.   0.   0.   0.   0.   0.   0.   0.   0.\n",
      " 0.   0.   0.   0.   0.   0.   0.   0.   0.   0.   0.   0.   0.   0.\n",
      " 0.   0.   0.   0.   0.   0.   0.   0.   0.   0.   0.   0.   0.   0.\n",
      " 0.   0.   0.   0.   0.   0.   0.   0.   0.   0.   0.   0.   0.   0.\n",
      " 0.   0.   0.   0.   0.   0.   0.   0.   0.   0.   0.   0.   0.   0.\n",
      " 0.   0.   0.   0.   0.   0.   0.   0.   0.   0.   0.   0.   0.   0.\n",
      " 0.   0.   0.   0.   0.29 0.   0.   0.   0.   0.   0.   0.   0.   0.\n",
      " 0.   0.   0.   0.   0.   0.   0.   0.   0.   0.   0.   0.   0.   0.\n",
      " 0.   0.   0.   0.   0.   0.   0.   0.   0.   0.   0.   0.   0.   0.\n",
      " 0.   0.   0.   0.   0.   0.   0.   0.   0.   0.   0.   0.   0.   0.\n",
      " 0.   0.   0.   0.   0.   0.   0.   0.   0.   0.   0.   0.   0.   0.\n",
      " 0.   0.   0.   0.   0.   0.   0.   0.   0.   0.   0.   0.   0.   0.\n",
      " 0.   0.   0.   0.   0.   0.   0.   0.   0.   0.   0.   0.   0.   0.\n",
      " 0.   0.   0.   0.   0.   0.   0.   0.   0.   0.   0.   0.   0.   0.\n",
      " 0.   0.   0.   0.   0.   0.   0.   0.   0.   0.   0.   0.   0.   0.\n",
      " 0.   0.   0.   0.   0.   0.   0.   0.   0.   0.   0.   0.   0.   0.\n",
      " 0.   0.   0.   0.   0.   0.   0.   0.   0.   0.   0.   0.   0.   0.\n",
      " 0.   0.   0.   0.   0.   0.   0.   0.   0.   0.   0.   0.   0.   0.\n",
      " 0.   0.   0.   0.   0.   0.   0.   0.   0.   0.   0.   0.   0.   0.\n",
      " 0.   0.   0.   0.   0.   0.   0.   0.   0.   0.   0.   0.   0.   0.\n",
      " 0.   0.   0.   0.   0.   0.   0.   0.   0.   0.   0.   0.   0.   0.\n",
      " 0.   0.   0.   0.   0.   0.   0.   0.   0.   0.   0.   0.   0.   0.\n",
      " 0.   0.   0.   0.   0.   0.   0.   0.   0.   0.   0.   0.   0.   0.\n",
      " 0.   0.   0.   0.   0.   0.   0.   0.   0.   0.   0.   0.   0.   0.\n",
      " 0.   0.   0.   0.   0.   0.   0.   0.   0.   0.   0.   0.   0.   0.\n",
      " 0.   0.   0.   0.   0.   0.   0.   0.   0.   0.   0.   0.   0.   0.\n",
      " 0.   0.   0.   0.   0.   0.   0.   0.   0.   0.   0.   0.   0.   0.\n",
      " 0.   0.   0.   0.   0.   0.   0.   0.   0.   0.   0.   0.   0.   0.\n",
      " 0.   0.   0.   0.   0.   0.   0.   0.   0.   0.   0.   0.   0.   0.\n",
      " 0.   0.   0.   0.   0.   0.   0.   0.   0.   0.   0.   0.   0.   0.\n",
      " 0.   0.   0.   0.   0.   0.   0.   0.   0.   0.   0.   0.   0.   0.\n",
      " 0.   0.   0.   0.   0.   0.   0.   0.   0.   0.   0.   0.   0.   0.\n",
      " 0.   0.   0.   0.   0.   0.   0.   0.   0.   0.   0.   0.   0.   0.\n",
      " 0.   0.   0.   0.   0.   0.   0.   0.   0.   0.   0.   0.   0.   0.\n",
      " 0.   0.   0.   0.   0.   0.   0.   0.   0.   0.   0.   0.   0.   0.\n",
      " 0.   0.   0.   0.   0.   0.   0.   0.   0.   0.   0.   0.   0.   0.\n",
      " 0.   0.   0.   0.   0.   0.   0.   0.   0.   0.   0.   0.   0.   0.\n",
      " 0.   0.   0.   0.   0.   0.   0.   0.   0.   0.   0.   0.   0.   0.\n",
      " 0.   0.   0.   0.   0.   0.   0.   0.   0.   0.   0.   0.   0.   0.\n",
      " 0.   0.   0.   0.   0.   0.   0.   0.   0.   0.   0.   0.   0.   0.\n",
      " 0.   0.   0.   0.   0.   0.   0.   0.   0.   0.   0.   0.   0.   0.\n",
      " 0.   0.   0.   0.   0.   0.   0.   0.   0.   0.   0.   0.   0.   0.\n",
      " 0.   0.   0.   0.   0.   0.   0.   0.   0.   0.   0.   0.   0.   0.\n",
      " 0.   0.   0.   0.   0.   0.   0.   0.   0.   0.   0.   0.   0.   0.\n",
      " 0.   0.   0.   0.   0.   0.   0.   0.   0.   0.   0.   0.   0.   0.\n",
      " 0.   0.   0.   0.   0.   0.   0.   0.   0.   0.   0.   0.   0.   0.\n",
      " 0.   0.   0.   0.   0.   0.   0.   0.   0.   0.   0.   0.   0.   0.\n",
      " 0.   0.   0.   0.   0.   0.   0.   0.   0.   0.   0.   0.   0.   0.\n",
      " 0.   0.   0.   0.   0.   0.   0.   0.   0.   0.   0.   0.   0.   0.\n",
      " 0.   0.   0.   0.   0.   0.   0.   0.   0.   0.   0.   0.   0.   0.\n",
      " 0.   0.   0.   0.   0.   0.   0.   0.   0.   0.   0.   0.   0.   0.\n",
      " 0.   0.   0.   0.   0.   0.   0.   0.   0.   0.   0.   0.   0.   0.\n",
      " 0.   0.   0.   0.   0.   0.   0.   0.   0.   0.   0.   0.   0.   0.\n",
      " 0.   0.   0.   0.   0.   0.   0.   0.   0.   0.   0.   0.   0.   0.\n",
      " 0.   0.   0.   0.   0.   0.   0.   0.   0.   0.   0.   0.   0.   0.\n",
      " 0.   0.   0.   0.   0.   0.   0.   0.   0.   0.   0.   0.   0.   0.\n",
      " 0.   0.   0.   0.   0.   0.   0.   0.   0.   0.   0.   0.   0.   0.\n",
      " 0.   0.   0.   0.   0.   0.   0.   0.   0.   0.   0.   0.   0.   0.\n",
      " 0.   0.   0.   0.   0.   0.   0.   0.   0.   0.   0.   0.   0.   0.\n",
      " 0.   0.   0.   0.   0.   0.   0.   0.   0.   0.   0.   0.   0.   0.\n",
      " 0.46 0.   0.   0.   0.   0.   0.   0.   0.   0.   0.   0.   0.   0.\n",
      " 0.   0.   0.   0.   0.   0.   0.   0.   0.   0.   0.   0.   0.   0.\n",
      " 0.   0.   0.   0.   0.   0.   0.   0.   0.   0.   0.   0.   0.   0.\n",
      " 0.   0.   0.   0.   0.   0.   0.   0.   0.   0.   0.   0.   0.   0.\n",
      " 0.   0.   0.   0.   0.   0.   0.   0.   0.   0.   0.   0.   0.   0.\n",
      " 0.   0.   0.   0.   0.   0.   0.   0.   0.   0.   0.   0.   0.   0.\n",
      " 0.   0.   0.   0.   0.   0.   0.   0.   0.   0.   0.   0.   0.   0.\n",
      " 0.   0.   0.   0.   0.   0.   0.   0.   0.   0.   0.   0.   0.   0.\n",
      " 0.   0.   0.   0.   0.   0.   0.   0.   0.   0.   0.   0.   0.   0.\n",
      " 0.   0.   0.   0.   0.   0.   0.   0.   0.   0.   0.   0.   0.   0.\n",
      " 0.   0.   0.   0.   0.   0.   0.   0.   0.   0.   0.   0.   0.   0.\n",
      " 0.   0.   0.   0.   0.   0.   0.   0.   0.   0.   0.   0.   0.   0.\n",
      " 0.   0.   0.   0.   0.   0.   0.   0.   0.   0.   0.   0.   0.   0.\n",
      " 0.   0.   0.   0.   0.   0.   0.   0.   0.   0.   0.   0.   0.   0.\n",
      " 0.   0.   0.   0.   0.   0.   0.   0.   0.   0.   0.   0.   0.   0.\n",
      " 0.   0.   0.   0.   0.   0.   0.   0.   0.   0.   0.   0.   0.   0.\n",
      " 0.   0.   0.   0.   0.   0.   0.   0.   0.   0.   0.   0.   0.   0.\n",
      " 0.   0.   0.   0.   0.   0.   0.   0.   0.   0.   0.   0.   0.   0.\n",
      " 0.   0.   0.   0.   0.   0.   0.   0.   0.   0.   0.   0.   0.   0.\n",
      " 0.   0.   0.   0.   0.   0.   0.   0.   0.   0.   0.   0.   0.   0.\n",
      " 0.   0.   0.   0.   0.   0.   0.   0.   0.   0.   0.   0.   0.   0.\n",
      " 0.   0.   0.   0.   0.   0.   0.   0.   0.   0.   0.   0.   0.   0.\n",
      " 0.   0.   0.   0.   0.   0.   0.   0.   0.   0.   0.   0.   0.   0.\n",
      " 0.   0.   0.   0.   0.   0.   0.   0.   0.   0.   0.   0.   0.   0.\n",
      " 0.   0.   0.   0.   0.   0.   0.   0.   0.   0.   0.   0.   0.   0.\n",
      " 0.   0.   0.   0.   0.   0.   0.   0.   0.   0.   0.   0.   0.   0.\n",
      " 0.   0.   0.   0.   0.   0.   0.   0.   0.   0.   0.   0.   0.   0.\n",
      " 0.   0.   0.   0.   0.   0.   0.   0.   0.   0.   0.   0.   0.   0.\n",
      " 0.   0.   0.   0.   0.   0.   0.   0.   0.   0.   0.   0.   0.   0.\n",
      " 0.   0.   0.   0.   0.   0.   0.   0.   0.   0.   0.   0.   0.   0.\n",
      " 0.   0.   0.   0.   0.   0.   0.   0.   0.   0.   0.   0.   0.   0.\n",
      " 0.   0.   0.   0.   0.   0.   0.   0.   0.   0.   0.   0.   0.   0.\n",
      " 0.   0.   0.   0.   0.   0.   0.   0.   0.   0.   0.   0.   0.   0.\n",
      " 0.   0.   0.   0.   0.   0.   0.   0.   0.   0.   0.   0.   0.   0.\n",
      " 0.   0.   0.   0.   0.   0.   0.   0.   0.   0.   0.   0.   0.   0.\n",
      " 0.   0.   0.   0.   0.   0.   0.   0.   0.   0.   0.   0.   0.   0.\n",
      " 0.   0.   0.   0.   0.   0.   0.   0.   0.   0.   0.   0.   0.   0.\n",
      " 0.   0.   0.   0.   0.   0.   0.   0.   0.   0.   0.   0.   0.   0.\n",
      " 0.   0.   0.   0.   0.   0.   0.   0.   0.   0.   0.   0.   0.   0.\n",
      " 0.   0.   0.   0.   0.   0.   0.   0.   0.   0.   0.   0.   0.   0.\n",
      " 0.   0.   0.   0.   0.   0.   0.   0.   0.   0.   0.   0.   0.   0.\n",
      " 0.   0.   0.   0.   0.   0.   0.   0.   0.   0.   0.   0.   0.   0.\n",
      " 0.   0.   0.   0.   0.   0.   0.   0.   0.   0.   0.   0.   0.   0.\n",
      " 0.   0.   0.   0.   0.   0.   0.   0.   0.   0.   0.   0.   0.   0.\n",
      " 0.   0.   0.   0.   0.   0.   0.   0.   0.   0.   0.   0.   0.   0.\n",
      " 0.   0.   0.   0.   0.   0.   0.   0.   0.   0.   0.   0.   0.   0.\n",
      " 0.   0.   0.   0.   0.   0.   0.   0.   0.   0.   0.   0.   0.   0.\n",
      " 0.   0.   0.   0.   0.   0.   0.   0.   0.   0.   0.   0.   0.   0.\n",
      " 0.   0.   0.   0.   0.   0.   0.   0.   0.   0.   0.   0.   0.   0.\n",
      " 0.   0.   0.   0.   0.   0.   0.   0.   0.   0.   0.   0.   0.   0.\n",
      " 0.   0.   0.   0.   0.   0.   0.   0.   0.   0.   0.   0.   0.   0.\n",
      " 0.   0.   0.   0.   0.   0.   0.   0.   0.   0.   0.   0.   0.   0.\n",
      " 0.   0.   0.   0.   0.   0.   0.   0.   0.   0.   0.   0.   0.   0.\n",
      " 0.   0.   0.   0.   0.   0.   0.   0.   0.   0.   0.   0.   0.   0.\n",
      " 0.   0.   0.   0.   0.   0.   0.   0.   0.   0.   0.   0.   0.   0.\n",
      " 0.   0.   0.   0.   0.   0.   0.   0.   0.   0.   0.   0.   0.   0.\n",
      " 0.   0.   0.   0.   0.   0.   0.   0.   0.   0.   0.   0.   0.   0.\n",
      " 0.   0.   0.   0.   0.   0.   0.   0.   0.   0.   0.   0.   0.   0.\n",
      " 0.   0.   0.   0.   0.   0.   0.   0.   0.   0.   0.   0.   0.   0.\n",
      " 0.   0.   0.   0.   0.   0.   0.   0.   0.   0.   0.   0.   0.   0.\n",
      " 0.   0.   0.   0.   0.   0.   0.   0.   0.   0.   0.   0.   0.   0.\n",
      " 0.   0.   0.   0.   0.   0.   0.   0.   0.   0.   0.   0.   0.   0.\n",
      " 0.   0.   0.   0.   0.   0.   0.   0.   0.   0.   0.   0.   0.   0.\n",
      " 0.   0.   0.   0.   0.   0.   0.   0.   0.   0.   0.   0.   0.   0.\n",
      " 0.   0.   0.   0.   0.   0.   0.   0.   0.   0.   0.   0.   0.   0.\n",
      " 0.   0.   0.   0.   0.   0.   0.   0.   0.   0.   0.   0.   0.   0.\n",
      " 0.   0.   0.   0.   0.   0.   0.   0.   0.   0.   0.   0.   0.   0.\n",
      " 0.   0.   0.   0.   0.   0.   0.   0.   0.   0.   0.   0.   0.   0.\n",
      " 0.   0.   0.   0.   0.   0.   0.   0.   0.   0.   0.   0.   0.   0.\n",
      " 0.   0.   0.   0.   0.   0.   0.   0.   0.   0.   0.   0.   0.   0.\n",
      " 0.   0.   0.   0.   0.   0.   0.   0.   0.   0.   0.   0.   0.   0.\n",
      " 0.   0.   0.   0.   0.   0.   0.   0.   0.   0.   0.   0.   0.   0.\n",
      " 0.   0.   0.   0.   0.   0.   0.   0.   0.   0.   0.   0.   0.   0.\n",
      " 0.   0.   0.   0.   0.   0.   0.   0.   0.   0.   0.   0.   0.   0.\n",
      " 0.   0.   0.   0.   0.   0.   0.   0.   0.   0.   0.   0.   0.   0.\n",
      " 0.   0.   0.   0.   0.   0.   0.   0.   0.   0.   0.   0.   0.   0.\n",
      " 0.   0.   0.   0.   0.   0.   0.   0.   0.   0.   0.   0.   0.   0.\n",
      " 0.   0.   0.   0.   0.   0.   0.   0.   0.   0.   0.   0.   0.   0.\n",
      " 0.   0.   0.   0.   0.   0.   0.   0.   0.   0.   0.   0.   0.   0.\n",
      " 0.   0.   0.   0.   0.   0.   0.   0.   0.   0.   0.   0.   0.   0.\n",
      " 0.   0.   0.   0.   0.   0.   0.   0.   0.   0.   0.   0.   0.   0.\n",
      " 0.   0.   0.   0.   0.   0.   0.   0.   0.   0.   0.   0.   0.   0.\n",
      " 0.   0.   0.   0.   0.   0.   0.   0.   0.   0.   0.   0.   0.   0.\n",
      " 0.   0.   0.   0.   0.   0.   0.   0.   0.   0.   0.   0.   0.   0.\n",
      " 0.   0.   0.   0.   0.   0.   0.   0.   0.   0.   0.   0.   0.   0.\n",
      " 0.   0.   0.   0.   0.   0.   0.   0.   0.   0.   0.   0.   0.   0.\n",
      " 0.   0.   0.   0.   0.   0.   0.   0.   0.   0.   0.   0.   0.   0.\n",
      " 0.   0.   0.   0.   0.   0.   0.   0.   0.   0.   0.   0.   0.   0.\n",
      " 0.   0.   0.   0.   0.   0.   0.   0.   0.   0.   0.   0.   0.   0.\n",
      " 0.   0.   0.   0.   0.   0.   0.   0.   0.   0.   0.   0.   0.   0.\n",
      " 0.   0.   0.   0.   0.   0.   0.   0.   0.   0.   0.   0.   0.   0.\n",
      " 0.   0.   0.   0.   0.   0.   0.   0.   0.   0.   0.   0.   0.   0.\n",
      " 0.   0.   0.   0.   0.   0.   0.   0.   0.   0.   0.   0.   0.   0.\n",
      " 0.   0.   0.   0.   0.   0.   0.   0.   0.   0.   0.   0.   0.   0.\n",
      " 0.   0.   0.   0.   0.   0.   0.   0.   0.   0.   0.   0.   0.   0.\n",
      " 0.   0.   0.   0.   0.   0.   0.   0.   0.   0.   0.   0.   0.   0.\n",
      " 0.   0.   0.   0.   0.   0.   0.   0.   0.   0.   0.   0.   0.   0.\n",
      " 0.   0.   0.   0.   0.   0.   0.   0.   0.   0.   0.   0.   0.   0.\n",
      " 0.   0.   0.   0.   0.   0.   0.   0.   0.   0.   0.   0.   0.   0.\n",
      " 0.   0.   0.   0.   0.   0.   0.   0.   0.   0.   0.   0.   0.   0.\n",
      " 0.   0.   0.   0.   0.   0.   0.   0.   0.   0.   0.   0.   0.   0.\n",
      " 0.   0.   0.   0.   0.   0.   0.   0.   0.   0.   0.   0.   0.   0.\n",
      " 0.   0.   0.   0.   0.   0.   0.   0.   0.   0.   0.   0.   0.   0.\n",
      " 0.   0.   0.   0.   0.   0.   0.   0.   0.   0.   0.   0.   0.   0.\n",
      " 0.   0.   0.   0.   0.   0.   0.   0.   0.   0.   0.   0.   0.   0.\n",
      " 0.   0.   0.   0.   0.   0.   0.   0.   0.   0.   0.   0.   0.   0.\n",
      " 0.   0.   0.   0.   0.   0.   0.   0.   0.   0.   0.   0.   0.   0.\n",
      " 0.   0.   0.   0.   0.   0.   0.   0.   0.   0.   0.   0.   0.   0.\n",
      " 0.   0.   0.   0.   0.   0.   0.   0.   0.   0.   0.   0.   0.   0.\n",
      " 0.   0.   0.   0.   0.   0.   0.   0.   0.   0.   0.   0.   0.   0.\n",
      " 0.   0.   0.   0.   0.   0.   0.   0.   0.   0.   0.   0.   0.   0.\n",
      " 0.   0.   0.   0.   0.   0.   0.   0.   0.   0.   0.   0.   0.   0.\n",
      " 0.   0.   0.   0.   0.   0.   0.   0.   0.   0.   0.   0.   0.   0.\n",
      " 0.   0.   0.   0.   0.   0.   0.   0.   0.   0.   0.   0.   0.   0.\n",
      " 0.   0.   0.   0.   0.   0.   0.   0.   0.   0.   0.   0.   0.   0.\n",
      " 0.   0.   0.   0.   0.   0.   0.   0.   0.   0.   0.   0.   0.   0.\n",
      " 0.   0.   0.   0.   0.   0.   0.   0.   0.   0.   0.   0.   0.   0.\n",
      " 0.   0.   0.   0.   0.   0.   0.   0.   0.   0.   0.   0.   0.   0.\n",
      " 0.   0.   0.   0.   0.   0.   0.   0.   0.   0.   0.   0.   0.   0.\n",
      " 0.   0.   0.   0.   0.   0.   0.   0.   0.   0.   0.   0.   0.   0.\n",
      " 0.   0.   0.   0.   0.   0.   0.   0.   0.   0.   0.   0.   0.   0.\n",
      " 0.   0.   0.   0.   0.   0.   0.   0.   0.   0.   0.   0.   0.   0.\n",
      " 0.   0.   0.   0.   0.   0.   0.   0.   0.   0.   0.   0.   0.   0.\n",
      " 0.   0.   0.   0.   0.   0.   0.   0.   0.   0.   0.   0.   0.   0.\n",
      " 0.   0.   0.   0.   0.   0.   0.   0.   0.   0.   0.   0.   0.   0.\n",
      " 0.   0.   0.   0.   0.   0.   0.   0.   0.   0.   0.   0.   0.   0.\n",
      " 0.   0.   0.   0.   0.   0.   0.   0.   0.   0.   0.   0.   0.   0.\n",
      " 0.   0.   0.   0.   0.   0.   0.   0.   0.   0.   0.   0.   0.   0.\n",
      " 0.   0.   0.   0.   0.   0.   0.   0.   0.   0.   0.   0.   0.   0.\n",
      " 0.   0.   0.   0.   0.   0.   0.   0.   0.   0.   0.   0.   0.   0.\n",
      " 0.   0.   0.   0.   0.   0.   0.   0.   0.   0.   0.   0.   0.   0.\n",
      " 0.   0.   0.   0.   0.   0.   0.   0.   0.   0.   0.   0.   0.   0.\n",
      " 0.   0.   0.   0.   0.   0.   0.   0.   0.   0.   0.   0.   0.   0.\n",
      " 0.   0.   0.   0.   0.   0.   0.   0.   0.   0.   0.   0.   0.   0.\n",
      " 0.   0.   0.   0.   0.   0.   0.   0.   0.   0.   0.   0.   0.   0.\n",
      " 0.   0.   0.   0.   0.   0.   0.   0.   0.   0.   0.   0.   0.   0.\n",
      " 0.   0.   0.   0.   0.   0.   0.   0.   0.   0.   0.   0.   0.   0.\n",
      " 0.   0.  ]\n"
     ]
    }
   ],
   "source": [
    "# check the review 0 vector\n",
    "np.set_printoptions(threshold=np.inf)\n",
    "print(X_train_vector[0])"
   ]
  },
  {
   "attachments": {},
   "cell_type": "markdown",
   "metadata": {},
   "source": [
    "### Logistic Regression"
   ]
  },
  {
   "cell_type": "code",
   "execution_count": 83,
   "metadata": {},
   "outputs": [
    {
     "data": {
      "text/plain": [
       "LogisticRegression()"
      ]
     },
     "execution_count": 83,
     "metadata": {},
     "output_type": "execute_result"
    }
   ],
   "source": [
    "from sklearn.linear_model import LogisticRegression\n",
    "\n",
    "# LogisticRegression(penalty=\"l2\")\n",
    "lr = LogisticRegression(penalty = 'l2')\n",
    "lr.fit(X_train_vector, y_train)"
   ]
  },
  {
   "cell_type": "code",
   "execution_count": 84,
   "metadata": {},
   "outputs": [
    {
     "name": "stdout",
     "output_type": "stream",
     "text": [
      "Training Accuracy : 0.91\n",
      "Training Accuracy : 0.82\n"
     ]
    }
   ],
   "source": [
    "# train and test accuracy of the model. use .score(X, y)\n",
    "print(f\"Training Accuracy : {lr.score(X_train_vector, y_train):.2f}\")\n",
    "print(f\"Training Accuracy : {lr.score(X_test_vector, y_test):.2f}\")"
   ]
  },
  {
   "attachments": {},
   "cell_type": "markdown",
   "metadata": {},
   "source": [
    "### Decision Tree"
   ]
  },
  {
   "cell_type": "code",
   "execution_count": 85,
   "metadata": {},
   "outputs": [
    {
     "data": {
      "text/plain": [
       "DecisionTreeClassifier(max_depth=30)"
      ]
     },
     "execution_count": 85,
     "metadata": {},
     "output_type": "execute_result"
    }
   ],
   "source": [
    "from sklearn.tree import DecisionTreeClassifier\n",
    "\n",
    "# train using Decision Tree. max depth 30\n",
    "tree = DecisionTreeClassifier(max_depth = 30)\n",
    "tree.fit(X_train_vector, y_train)"
   ]
  },
  {
   "cell_type": "code",
   "execution_count": 86,
   "metadata": {},
   "outputs": [
    {
     "name": "stdout",
     "output_type": "stream",
     "text": [
      "Training Accuracy : 0.77\n",
      "Training Accuracy : 0.69\n"
     ]
    }
   ],
   "source": [
    "# train and test accuracy of the model\n",
    "print(f\"Training Accuracy : {tree.score(X_train_vector, y_train):.2f}\")\n",
    "print(f\"Training Accuracy : {tree.score(X_test_vector, y_test):.2f}\")"
   ]
  },
  {
   "cell_type": "code",
   "execution_count": 87,
   "metadata": {},
   "outputs": [
    {
     "name": "stdout",
     "output_type": "stream",
     "text": [
      " 1. ['재밌다']                        0.092182\n",
      " 2. ['최고']                         0.066997\n",
      " 3. ['아깝다']                        0.047025\n",
      " 4. ['재미없다']                       0.038786\n",
      " 5. ['재미있다']                       0.037302\n",
      " 6. ['없다']                         0.033990\n",
      " 7. ['좋다']                         0.033944\n",
      " 8. ['감동']                         0.030603\n",
      " 9. ['쓰레기']                        0.022893\n",
      "10. ['다시']                         0.018314\n",
      "11. ['최악']                         0.017594\n",
      "12. ['가슴']                         0.016516\n",
      "13. ['아름답다']                       0.013264\n",
      "14. ['지루하다']                       0.013261\n",
      "15. ['명작']                         0.013180\n",
      "16. ['짱']                          0.013175\n",
      "17. ['꼭']                          0.012587\n",
      "18. ['멋지다']                        0.012346\n",
      "19. ['괜찮다']                        0.011770\n",
      "20. ['뭐']                          0.010610\n"
     ]
    }
   ],
   "source": [
    "# finding 20 most important terms\n",
    "importances = tree.feature_importances_\n",
    "indices = np.argsort(importances)[::-1]\n",
    "\n",
    "for f in range(20):\n",
    "    print(\"%2d. %-30s %f\" % (f+1, \n",
    "                             [w for w, n in tfidf.vocabulary_.items() if n == indices[f]],\n",
    "                             importances[indices[f]]))"
   ]
  },
  {
   "attachments": {},
   "cell_type": "markdown",
   "metadata": {},
   "source": [
    "### Test of Logistic Regression model"
   ]
  },
  {
   "cell_type": "code",
   "execution_count": 88,
   "metadata": {},
   "outputs": [],
   "source": [
    "test = [\"정말 재미있는 영화! 올해 본 영화 중 제일 추천할만함\"]"
   ]
  },
  {
   "cell_type": "code",
   "execution_count": 89,
   "metadata": {},
   "outputs": [
    {
     "name": "stdout",
     "output_type": "stream",
     "text": [
      "Text : 정말 재미있는 영화! 올해 본 영화 중 제일 추천할만함\n",
      "Prediction : Positive review\n",
      "Probability : 0.95\n"
     ]
    }
   ],
   "source": [
    "# transform the test text to TF-IDF\n",
    "test_tfidf = tfidf.transform(test)\n",
    "\n",
    "# get the prediction and probability\n",
    "y_pred = lr.predict(test_tfidf)\n",
    "y_prob = lr.predict_proba(test_tfidf)\n",
    "\n",
    "print('Text :', test[0])\n",
    "if y_pred == 0:\n",
    "    print('Prediction : Negative review')\n",
    "    print('Probability : %.2f' % y_prob[0, 0])\n",
    "if y_pred[0] == 1:\n",
    "    print('Prediction : Positive review')\n",
    "    print('Probability : %.2f' % y_prob[0, 1])"
   ]
  },
  {
   "attachments": {},
   "cell_type": "markdown",
   "metadata": {},
   "source": [
    "---"
   ]
  },
  {
   "attachments": {},
   "cell_type": "markdown",
   "metadata": {},
   "source": [
    "# Quiz 2 : Finding Similar Texts using Cosine Similarity\n",
    "- Use movie metadata dataset \"movies_metadata.csv\"\n",
    "- data size : 45,466\n",
    "- use 'title' and 'overview'\n",
    "\n",
    "1. Make TF-IDF vectors of 'overview' texts\n",
    "2. Make cosine similarity matrix\n",
    "3. Write 'find_similar_movies' function\n",
    "   - input : (title, cosine similarity matrix)\n",
    "   - output : 10 movie titles with most similar overview text\n",
    "4. Find out 10 most similar movies to 'The Godfather', and 'The Dark Knight Rises'"
   ]
  },
  {
   "cell_type": "code",
   "execution_count": 90,
   "metadata": {},
   "outputs": [
    {
     "data": {
      "text/html": [
       "<div>\n",
       "<style scoped>\n",
       "    .dataframe tbody tr th:only-of-type {\n",
       "        vertical-align: middle;\n",
       "    }\n",
       "\n",
       "    .dataframe tbody tr th {\n",
       "        vertical-align: top;\n",
       "    }\n",
       "\n",
       "    .dataframe thead th {\n",
       "        text-align: right;\n",
       "    }\n",
       "</style>\n",
       "<table border=\"1\" class=\"dataframe\">\n",
       "  <thead>\n",
       "    <tr style=\"text-align: right;\">\n",
       "      <th></th>\n",
       "      <th>adult</th>\n",
       "      <th>belongs_to_collection</th>\n",
       "      <th>budget</th>\n",
       "      <th>genres</th>\n",
       "      <th>homepage</th>\n",
       "      <th>id</th>\n",
       "      <th>imdb_id</th>\n",
       "      <th>original_language</th>\n",
       "      <th>original_title</th>\n",
       "      <th>overview</th>\n",
       "      <th>...</th>\n",
       "      <th>release_date</th>\n",
       "      <th>revenue</th>\n",
       "      <th>runtime</th>\n",
       "      <th>spoken_languages</th>\n",
       "      <th>status</th>\n",
       "      <th>tagline</th>\n",
       "      <th>title</th>\n",
       "      <th>video</th>\n",
       "      <th>vote_average</th>\n",
       "      <th>vote_count</th>\n",
       "    </tr>\n",
       "  </thead>\n",
       "  <tbody>\n",
       "    <tr>\n",
       "      <th>0</th>\n",
       "      <td>False</td>\n",
       "      <td>{'id': 10194, 'name': 'Toy Story Collection', ...</td>\n",
       "      <td>30000000</td>\n",
       "      <td>[{'id': 16, 'name': 'Animation'}, {'id': 35, '...</td>\n",
       "      <td>http://toystory.disney.com/toy-story</td>\n",
       "      <td>862</td>\n",
       "      <td>tt0114709</td>\n",
       "      <td>en</td>\n",
       "      <td>Toy Story</td>\n",
       "      <td>Led by Woody, Andy's toys live happily in his ...</td>\n",
       "      <td>...</td>\n",
       "      <td>1995-10-30</td>\n",
       "      <td>373554033.0</td>\n",
       "      <td>81.0</td>\n",
       "      <td>[{'iso_639_1': 'en', 'name': 'English'}]</td>\n",
       "      <td>Released</td>\n",
       "      <td>NaN</td>\n",
       "      <td>Toy Story</td>\n",
       "      <td>False</td>\n",
       "      <td>7.7</td>\n",
       "      <td>5415.0</td>\n",
       "    </tr>\n",
       "    <tr>\n",
       "      <th>1</th>\n",
       "      <td>False</td>\n",
       "      <td>NaN</td>\n",
       "      <td>65000000</td>\n",
       "      <td>[{'id': 12, 'name': 'Adventure'}, {'id': 14, '...</td>\n",
       "      <td>NaN</td>\n",
       "      <td>8844</td>\n",
       "      <td>tt0113497</td>\n",
       "      <td>en</td>\n",
       "      <td>Jumanji</td>\n",
       "      <td>When siblings Judy and Peter discover an encha...</td>\n",
       "      <td>...</td>\n",
       "      <td>1995-12-15</td>\n",
       "      <td>262797249.0</td>\n",
       "      <td>104.0</td>\n",
       "      <td>[{'iso_639_1': 'en', 'name': 'English'}, {'iso...</td>\n",
       "      <td>Released</td>\n",
       "      <td>Roll the dice and unleash the excitement!</td>\n",
       "      <td>Jumanji</td>\n",
       "      <td>False</td>\n",
       "      <td>6.9</td>\n",
       "      <td>2413.0</td>\n",
       "    </tr>\n",
       "    <tr>\n",
       "      <th>2</th>\n",
       "      <td>False</td>\n",
       "      <td>{'id': 119050, 'name': 'Grumpy Old Men Collect...</td>\n",
       "      <td>0</td>\n",
       "      <td>[{'id': 10749, 'name': 'Romance'}, {'id': 35, ...</td>\n",
       "      <td>NaN</td>\n",
       "      <td>15602</td>\n",
       "      <td>tt0113228</td>\n",
       "      <td>en</td>\n",
       "      <td>Grumpier Old Men</td>\n",
       "      <td>A family wedding reignites the ancient feud be...</td>\n",
       "      <td>...</td>\n",
       "      <td>1995-12-22</td>\n",
       "      <td>0.0</td>\n",
       "      <td>101.0</td>\n",
       "      <td>[{'iso_639_1': 'en', 'name': 'English'}]</td>\n",
       "      <td>Released</td>\n",
       "      <td>Still Yelling. Still Fighting. Still Ready for...</td>\n",
       "      <td>Grumpier Old Men</td>\n",
       "      <td>False</td>\n",
       "      <td>6.5</td>\n",
       "      <td>92.0</td>\n",
       "    </tr>\n",
       "  </tbody>\n",
       "</table>\n",
       "<p>3 rows × 24 columns</p>\n",
       "</div>"
      ],
      "text/plain": [
       "   adult                              belongs_to_collection    budget  \\\n",
       "0  False  {'id': 10194, 'name': 'Toy Story Collection', ...  30000000   \n",
       "1  False                                                NaN  65000000   \n",
       "2  False  {'id': 119050, 'name': 'Grumpy Old Men Collect...         0   \n",
       "\n",
       "                                              genres  \\\n",
       "0  [{'id': 16, 'name': 'Animation'}, {'id': 35, '...   \n",
       "1  [{'id': 12, 'name': 'Adventure'}, {'id': 14, '...   \n",
       "2  [{'id': 10749, 'name': 'Romance'}, {'id': 35, ...   \n",
       "\n",
       "                               homepage     id    imdb_id original_language  \\\n",
       "0  http://toystory.disney.com/toy-story    862  tt0114709                en   \n",
       "1                                   NaN   8844  tt0113497                en   \n",
       "2                                   NaN  15602  tt0113228                en   \n",
       "\n",
       "     original_title                                           overview  ...  \\\n",
       "0         Toy Story  Led by Woody, Andy's toys live happily in his ...  ...   \n",
       "1           Jumanji  When siblings Judy and Peter discover an encha...  ...   \n",
       "2  Grumpier Old Men  A family wedding reignites the ancient feud be...  ...   \n",
       "\n",
       "  release_date      revenue runtime  \\\n",
       "0   1995-10-30  373554033.0    81.0   \n",
       "1   1995-12-15  262797249.0   104.0   \n",
       "2   1995-12-22          0.0   101.0   \n",
       "\n",
       "                                    spoken_languages    status  \\\n",
       "0           [{'iso_639_1': 'en', 'name': 'English'}]  Released   \n",
       "1  [{'iso_639_1': 'en', 'name': 'English'}, {'iso...  Released   \n",
       "2           [{'iso_639_1': 'en', 'name': 'English'}]  Released   \n",
       "\n",
       "                                             tagline             title  video  \\\n",
       "0                                                NaN         Toy Story  False   \n",
       "1          Roll the dice and unleash the excitement!           Jumanji  False   \n",
       "2  Still Yelling. Still Fighting. Still Ready for...  Grumpier Old Men  False   \n",
       "\n",
       "  vote_average vote_count  \n",
       "0          7.7     5415.0  \n",
       "1          6.9     2413.0  \n",
       "2          6.5       92.0  \n",
       "\n",
       "[3 rows x 24 columns]"
      ]
     },
     "execution_count": 90,
     "metadata": {},
     "output_type": "execute_result"
    }
   ],
   "source": [
    "import pandas as pd\n",
    "from sklearn.feature_extraction.text import TfidfVectorizer\n",
    "\n",
    "# read dataset 'movies_metadata.csv'\n",
    "data = pd.read_csv('movies_metadata.csv', low_memory=False)\n",
    "data.head(3)"
   ]
  },
  {
   "cell_type": "code",
   "execution_count": 91,
   "metadata": {},
   "outputs": [
    {
     "data": {
      "text/plain": [
       "(45466, 24)"
      ]
     },
     "execution_count": 91,
     "metadata": {},
     "output_type": "execute_result"
    }
   ],
   "source": [
    "# check the data shape\n",
    "data.shape"
   ]
  },
  {
   "cell_type": "code",
   "execution_count": 92,
   "metadata": {},
   "outputs": [
    {
     "name": "stdout",
     "output_type": "stream",
     "text": [
      "Toy Story\n",
      "Led by Woody, Andy's toys live happily in his room until Andy's birthday brings Buzz Lightyear onto the scene. Afraid of losing his place in Andy's heart, Woody plots against Buzz. But when circumstances separate Buzz and Woody from their owner, the duo eventually learns to put aside their differences.\n"
     ]
    }
   ],
   "source": [
    "# check the title and overview of movie 0\n",
    "print(data.loc[0, 'title'])\n",
    "print(data.loc[0, 'overview'])"
   ]
  },
  {
   "cell_type": "code",
   "execution_count": 93,
   "metadata": {},
   "outputs": [],
   "source": [
    "# remove NaN in overview\n",
    "data['overview'] = data['overview'].fillna('')"
   ]
  },
  {
   "cell_type": "code",
   "execution_count": 94,
   "metadata": {},
   "outputs": [
    {
     "name": "stderr",
     "output_type": "stream",
     "text": [
      "[nltk_data] Downloading package stopwords to\n",
      "[nltk_data]     /Users/hsjack/nltk_data...\n",
      "[nltk_data]   Package stopwords is already up-to-date!\n"
     ]
    },
    {
     "data": {
      "text/plain": [
       "True"
      ]
     },
     "execution_count": 94,
     "metadata": {},
     "output_type": "execute_result"
    }
   ],
   "source": [
    "from nltk.corpus import stopwords\n",
    "nltk.download('stopwords')"
   ]
  },
  {
   "cell_type": "code",
   "execution_count": 95,
   "metadata": {},
   "outputs": [
    {
     "data": {
      "text/plain": [
       "(45466, 75990)"
      ]
     },
     "execution_count": 95,
     "metadata": {},
     "output_type": "execute_result"
    }
   ],
   "source": [
    "from sklearn.feature_extraction.text import TfidfVectorizer\n",
    "# vectorize to TF-IDF Matrix - remove stop words in 'english'\n",
    "stops = stopwords.words('english')\n",
    "tfidf = TfidfVectorizer(stop_words = stops)\n",
    "\n",
    "overview_vector = tfidf.fit_transform(data['overview'])\n",
    "overview_vector.shape"
   ]
  },
  {
   "cell_type": "code",
   "execution_count": 96,
   "metadata": {},
   "outputs": [
    {
     "data": {
      "text/plain": [
       "(45466, 45466)"
      ]
     },
     "execution_count": 96,
     "metadata": {},
     "output_type": "execute_result"
    }
   ],
   "source": [
    "from sklearn.metrics.pairwise import cosine_similarity\n",
    "\n",
    "# compute cosine similarity matrix\n",
    "cosine_sim = cosine_similarity(overview_vector, overview_vector)\n",
    "cosine_sim.shape"
   ]
  },
  {
   "cell_type": "code",
   "execution_count": 97,
   "metadata": {},
   "outputs": [
    {
     "name": "stdout",
     "output_type": "stream",
     "text": [
      "[[1.   0.01 0.   0.   0.   0.   0.   0.   0.   0.  ]\n",
      " [0.01 1.   0.05 0.01 0.   0.05 0.   0.   0.1  0.  ]\n",
      " [0.   0.05 1.   0.02 0.02 0.   0.   0.01 0.   0.  ]\n",
      " [0.   0.01 0.02 1.   0.   0.01 0.   0.01 0.   0.  ]\n",
      " [0.   0.   0.02 0.   1.   0.   0.03 0.   0.03 0.  ]\n",
      " [0.   0.05 0.   0.01 0.   1.   0.   0.   0.04 0.  ]\n",
      " [0.   0.   0.   0.   0.03 0.   1.   0.   0.   0.  ]\n",
      " [0.   0.   0.01 0.01 0.   0.   0.   1.   0.   0.  ]\n",
      " [0.   0.1  0.   0.   0.03 0.04 0.   0.   1.   0.  ]\n",
      " [0.   0.   0.   0.   0.   0.   0.   0.   0.   1.  ]]\n"
     ]
    }
   ],
   "source": [
    "#check the values of cosine similarity matrix for first 10 rows and 10 columns\n",
    "print(cosine_sim[0:10, 0:10])"
   ]
  },
  {
   "cell_type": "code",
   "execution_count": 98,
   "metadata": {},
   "outputs": [
    {
     "data": {
      "text/plain": [
       "834"
      ]
     },
     "execution_count": 98,
     "metadata": {},
     "output_type": "execute_result"
    }
   ],
   "source": [
    "# prepare title_to_index matrix\n",
    "title_to_index = dict(zip(data['title'], data.index))\n",
    "idx = title_to_index['The Godfather']\n",
    "idx"
   ]
  },
  {
   "cell_type": "code",
   "execution_count": 104,
   "metadata": {},
   "outputs": [],
   "source": [
    "import numpy as np\n",
    "'''\n",
    "find_similar_movies function\n",
    "   - input : (title, cosine similarity matrix)\n",
    "   - output : 10 movie titles with most similar overview text\n",
    "'''\n",
    "def find_similar_movies(title, cosine_sim=cosine_sim):\n",
    "\n",
    "   idx = title_to_index[title]\n",
    "   \n",
    "#  get the similarity between the given movie and all other movies\n",
    "#  sim_scores = [[x, y] for x, y in zip(data['title'], cosine_sim[idx])]\n",
    "   sim_scores = [[index, value] for index, value in enumerate(cosine_sim)]\n",
    "\n",
    "\n",
    "   # Sort the result and select 10 movies with highest similarity\n",
    "   sim_scores = sorted(sim_scores, key=lambda x : -x[1])\n",
    "   print(sim_scores)\n",
    "   movie_indices = data[sim_scores[0, 1:11], 'title']\n",
    "\n",
    "   # return the titles\n",
    "   return movie_indices"
   ]
  },
  {
   "cell_type": "code",
   "execution_count": 105,
   "metadata": {},
   "outputs": [
    {
     "name": "stdout",
     "output_type": "stream",
     "text": [
      "hello\n"
     ]
    },
    {
     "ename": "KeyboardInterrupt",
     "evalue": "",
     "output_type": "error",
     "traceback": [
      "\u001b[0;31m---------------------------------------------------------------------------\u001b[0m",
      "\u001b[0;31mKeyboardInterrupt\u001b[0m                         Traceback (most recent call last)",
      "\u001b[0;32m/var/folders/qv/bw4zfsnn16g13svz9lrb11340000gn/T/ipykernel_18698/842791154.py\u001b[0m in \u001b[0;36m<module>\u001b[0;34m\u001b[0m\n\u001b[1;32m      1\u001b[0m \u001b[0;31m# find out 10 most similar movies\u001b[0m\u001b[0;34m\u001b[0m\u001b[0;34m\u001b[0m\u001b[0m\n\u001b[0;32m----> 2\u001b[0;31m \u001b[0mfind_similar_movies\u001b[0m\u001b[0;34m(\u001b[0m\u001b[0;34m'The Godfather'\u001b[0m\u001b[0;34m)\u001b[0m\u001b[0;34m\u001b[0m\u001b[0m\n\u001b[0m",
      "\u001b[0;32m/var/folders/qv/bw4zfsnn16g13svz9lrb11340000gn/T/ipykernel_18698/2655582814.py\u001b[0m in \u001b[0;36mfind_similar_movies\u001b[0;34m(title, cosine_sim)\u001b[0m\n\u001b[1;32m     13\u001b[0m \u001b[0;31m#  sim_scores = [[x, y] for x, y in zip(data['title'], cosine_sim[idx])]\u001b[0m\u001b[0;34m\u001b[0m\u001b[0;34m\u001b[0m\u001b[0m\n\u001b[1;32m     14\u001b[0m    \u001b[0msim_scores\u001b[0m \u001b[0;34m=\u001b[0m \u001b[0;34m[\u001b[0m\u001b[0;34m[\u001b[0m\u001b[0mindex\u001b[0m\u001b[0;34m,\u001b[0m \u001b[0mvalue\u001b[0m\u001b[0;34m]\u001b[0m \u001b[0;32mfor\u001b[0m \u001b[0mindex\u001b[0m\u001b[0;34m,\u001b[0m \u001b[0mvalue\u001b[0m \u001b[0;32min\u001b[0m \u001b[0menumerate\u001b[0m\u001b[0;34m(\u001b[0m\u001b[0mcosine_sim\u001b[0m\u001b[0;34m)\u001b[0m\u001b[0;34m]\u001b[0m\u001b[0;34m\u001b[0m\u001b[0m\n\u001b[0;32m---> 15\u001b[0;31m    \u001b[0mprint\u001b[0m\u001b[0;34m(\u001b[0m\u001b[0msim_scores\u001b[0m\u001b[0;34m)\u001b[0m\u001b[0;34m\u001b[0m\u001b[0m\n\u001b[0m\u001b[1;32m     16\u001b[0m \u001b[0;34m\u001b[0m\u001b[0m\n\u001b[1;32m     17\u001b[0m \u001b[0;34m\u001b[0m\u001b[0m\n",
      "\u001b[0;32m/opt/homebrew/anaconda3/envs/ML/lib/python3.7/site-packages/numpy/core/arrayprint.py\u001b[0m in \u001b[0;36m_array_repr_implementation\u001b[0;34m(arr, max_line_width, precision, suppress_small, array2string)\u001b[0m\n\u001b[1;32m   1446\u001b[0m     \u001b[0;32melif\u001b[0m \u001b[0marr\u001b[0m\u001b[0;34m.\u001b[0m\u001b[0msize\u001b[0m \u001b[0;34m>\u001b[0m \u001b[0;36m0\u001b[0m \u001b[0;32mor\u001b[0m \u001b[0marr\u001b[0m\u001b[0;34m.\u001b[0m\u001b[0mshape\u001b[0m \u001b[0;34m==\u001b[0m \u001b[0;34m(\u001b[0m\u001b[0;36m0\u001b[0m\u001b[0;34m,\u001b[0m\u001b[0;34m)\u001b[0m\u001b[0;34m:\u001b[0m\u001b[0;34m\u001b[0m\u001b[0m\n\u001b[1;32m   1447\u001b[0m         lst = array2string(arr, max_line_width, precision, suppress_small,\n\u001b[0;32m-> 1448\u001b[0;31m                            ', ', prefix, suffix=suffix)\n\u001b[0m\u001b[1;32m   1449\u001b[0m     \u001b[0;32melse\u001b[0m\u001b[0;34m:\u001b[0m  \u001b[0;31m# show zero-length shape unless it is (0,)\u001b[0m\u001b[0;34m\u001b[0m\u001b[0m\n\u001b[1;32m   1450\u001b[0m         \u001b[0mlst\u001b[0m \u001b[0;34m=\u001b[0m \u001b[0;34m\"[], shape=%s\"\u001b[0m \u001b[0;34m%\u001b[0m \u001b[0;34m(\u001b[0m\u001b[0mrepr\u001b[0m\u001b[0;34m(\u001b[0m\u001b[0marr\u001b[0m\u001b[0;34m.\u001b[0m\u001b[0mshape\u001b[0m\u001b[0;34m)\u001b[0m\u001b[0;34m,\u001b[0m\u001b[0;34m)\u001b[0m\u001b[0;34m\u001b[0m\u001b[0m\n",
      "\u001b[0;32m/opt/homebrew/anaconda3/envs/ML/lib/python3.7/site-packages/numpy/core/arrayprint.py\u001b[0m in \u001b[0;36marray2string\u001b[0;34m(a, max_line_width, precision, suppress_small, separator, prefix, style, formatter, threshold, edgeitems, sign, floatmode, suffix, legacy)\u001b[0m\n\u001b[1;32m    696\u001b[0m         \u001b[0;32mreturn\u001b[0m \u001b[0;34m\"[]\"\u001b[0m\u001b[0;34m\u001b[0m\u001b[0m\n\u001b[1;32m    697\u001b[0m \u001b[0;34m\u001b[0m\u001b[0m\n\u001b[0;32m--> 698\u001b[0;31m     \u001b[0;32mreturn\u001b[0m \u001b[0m_array2string\u001b[0m\u001b[0;34m(\u001b[0m\u001b[0ma\u001b[0m\u001b[0;34m,\u001b[0m \u001b[0moptions\u001b[0m\u001b[0;34m,\u001b[0m \u001b[0mseparator\u001b[0m\u001b[0;34m,\u001b[0m \u001b[0mprefix\u001b[0m\u001b[0;34m)\u001b[0m\u001b[0;34m\u001b[0m\u001b[0m\n\u001b[0m\u001b[1;32m    699\u001b[0m \u001b[0;34m\u001b[0m\u001b[0m\n\u001b[1;32m    700\u001b[0m \u001b[0;34m\u001b[0m\u001b[0m\n",
      "\u001b[0;32m/opt/homebrew/anaconda3/envs/ML/lib/python3.7/site-packages/numpy/core/arrayprint.py\u001b[0m in \u001b[0;36mwrapper\u001b[0;34m(self, *args, **kwargs)\u001b[0m\n\u001b[1;32m    473\u001b[0m             \u001b[0mrepr_running\u001b[0m\u001b[0;34m.\u001b[0m\u001b[0madd\u001b[0m\u001b[0;34m(\u001b[0m\u001b[0mkey\u001b[0m\u001b[0;34m)\u001b[0m\u001b[0;34m\u001b[0m\u001b[0m\n\u001b[1;32m    474\u001b[0m             \u001b[0;32mtry\u001b[0m\u001b[0;34m:\u001b[0m\u001b[0;34m\u001b[0m\u001b[0m\n\u001b[0;32m--> 475\u001b[0;31m                 \u001b[0;32mreturn\u001b[0m \u001b[0mf\u001b[0m\u001b[0;34m(\u001b[0m\u001b[0mself\u001b[0m\u001b[0;34m,\u001b[0m \u001b[0;34m*\u001b[0m\u001b[0margs\u001b[0m\u001b[0;34m,\u001b[0m \u001b[0;34m**\u001b[0m\u001b[0mkwargs\u001b[0m\u001b[0;34m)\u001b[0m\u001b[0;34m\u001b[0m\u001b[0m\n\u001b[0m\u001b[1;32m    476\u001b[0m             \u001b[0;32mfinally\u001b[0m\u001b[0;34m:\u001b[0m\u001b[0;34m\u001b[0m\u001b[0m\n\u001b[1;32m    477\u001b[0m                 \u001b[0mrepr_running\u001b[0m\u001b[0;34m.\u001b[0m\u001b[0mdiscard\u001b[0m\u001b[0;34m(\u001b[0m\u001b[0mkey\u001b[0m\u001b[0;34m)\u001b[0m\u001b[0;34m\u001b[0m\u001b[0m\n",
      "\u001b[0;32m/opt/homebrew/anaconda3/envs/ML/lib/python3.7/site-packages/numpy/core/arrayprint.py\u001b[0m in \u001b[0;36m_array2string\u001b[0;34m(a, options, separator, prefix)\u001b[0m\n\u001b[1;32m    499\u001b[0m \u001b[0;34m\u001b[0m\u001b[0m\n\u001b[1;32m    500\u001b[0m     \u001b[0;31m# find the right formatting function for the array\u001b[0m\u001b[0;34m\u001b[0m\u001b[0;34m\u001b[0m\u001b[0m\n\u001b[0;32m--> 501\u001b[0;31m     \u001b[0mformat_function\u001b[0m \u001b[0;34m=\u001b[0m \u001b[0m_get_format_function\u001b[0m\u001b[0;34m(\u001b[0m\u001b[0mdata\u001b[0m\u001b[0;34m,\u001b[0m \u001b[0;34m**\u001b[0m\u001b[0moptions\u001b[0m\u001b[0;34m)\u001b[0m\u001b[0;34m\u001b[0m\u001b[0m\n\u001b[0m\u001b[1;32m    502\u001b[0m \u001b[0;34m\u001b[0m\u001b[0m\n\u001b[1;32m    503\u001b[0m     \u001b[0;31m# skip over \"[\"\u001b[0m\u001b[0;34m\u001b[0m\u001b[0;34m\u001b[0m\u001b[0m\n",
      "\u001b[0;32m/opt/homebrew/anaconda3/envs/ML/lib/python3.7/site-packages/numpy/core/arrayprint.py\u001b[0m in \u001b[0;36m_get_format_function\u001b[0;34m(data, **options)\u001b[0m\n\u001b[1;32m    432\u001b[0m             \u001b[0;32mreturn\u001b[0m \u001b[0mformatdict\u001b[0m\u001b[0;34m[\u001b[0m\u001b[0;34m'longfloat'\u001b[0m\u001b[0;34m]\u001b[0m\u001b[0;34m(\u001b[0m\u001b[0;34m)\u001b[0m\u001b[0;34m\u001b[0m\u001b[0m\n\u001b[1;32m    433\u001b[0m         \u001b[0;32melse\u001b[0m\u001b[0;34m:\u001b[0m\u001b[0;34m\u001b[0m\u001b[0m\n\u001b[0;32m--> 434\u001b[0;31m             \u001b[0;32mreturn\u001b[0m \u001b[0mformatdict\u001b[0m\u001b[0;34m[\u001b[0m\u001b[0;34m'float'\u001b[0m\u001b[0;34m]\u001b[0m\u001b[0;34m(\u001b[0m\u001b[0;34m)\u001b[0m\u001b[0;34m\u001b[0m\u001b[0m\n\u001b[0m\u001b[1;32m    435\u001b[0m     \u001b[0;32melif\u001b[0m \u001b[0missubclass\u001b[0m\u001b[0;34m(\u001b[0m\u001b[0mdtypeobj\u001b[0m\u001b[0;34m,\u001b[0m \u001b[0m_nt\u001b[0m\u001b[0;34m.\u001b[0m\u001b[0mcomplexfloating\u001b[0m\u001b[0;34m)\u001b[0m\u001b[0;34m:\u001b[0m\u001b[0;34m\u001b[0m\u001b[0m\n\u001b[1;32m    436\u001b[0m         \u001b[0;32mif\u001b[0m \u001b[0missubclass\u001b[0m\u001b[0;34m(\u001b[0m\u001b[0mdtypeobj\u001b[0m\u001b[0;34m,\u001b[0m \u001b[0m_nt\u001b[0m\u001b[0;34m.\u001b[0m\u001b[0mclongfloat\u001b[0m\u001b[0;34m)\u001b[0m\u001b[0;34m:\u001b[0m\u001b[0;34m\u001b[0m\u001b[0m\n",
      "\u001b[0;32m/opt/homebrew/anaconda3/envs/ML/lib/python3.7/site-packages/numpy/core/arrayprint.py\u001b[0m in \u001b[0;36m<lambda>\u001b[0;34m()\u001b[0m\n\u001b[1;32m    374\u001b[0m         \u001b[0;34m'int'\u001b[0m\u001b[0;34m:\u001b[0m \u001b[0;32mlambda\u001b[0m\u001b[0;34m:\u001b[0m \u001b[0mIntegerFormat\u001b[0m\u001b[0;34m(\u001b[0m\u001b[0mdata\u001b[0m\u001b[0;34m)\u001b[0m\u001b[0;34m,\u001b[0m\u001b[0;34m\u001b[0m\u001b[0m\n\u001b[1;32m    375\u001b[0m         'float': lambda: FloatingFormat(\n\u001b[0;32m--> 376\u001b[0;31m             data, precision, floatmode, suppress, sign, legacy=legacy),\n\u001b[0m\u001b[1;32m    377\u001b[0m         'longfloat': lambda: FloatingFormat(\n\u001b[1;32m    378\u001b[0m             data, precision, floatmode, suppress, sign, legacy=legacy),\n",
      "\u001b[0;32m/opt/homebrew/anaconda3/envs/ML/lib/python3.7/site-packages/numpy/core/arrayprint.py\u001b[0m in \u001b[0;36m__init__\u001b[0;34m(self, data, precision, floatmode, suppress_small, sign, legacy)\u001b[0m\n\u001b[1;32m    892\u001b[0m         \u001b[0mself\u001b[0m\u001b[0;34m.\u001b[0m\u001b[0mlarge_exponent\u001b[0m \u001b[0;34m=\u001b[0m \u001b[0;32mFalse\u001b[0m\u001b[0;34m\u001b[0m\u001b[0m\n\u001b[1;32m    893\u001b[0m \u001b[0;34m\u001b[0m\u001b[0m\n\u001b[0;32m--> 894\u001b[0;31m         \u001b[0mself\u001b[0m\u001b[0;34m.\u001b[0m\u001b[0mfillFormat\u001b[0m\u001b[0;34m(\u001b[0m\u001b[0mdata\u001b[0m\u001b[0;34m)\u001b[0m\u001b[0;34m\u001b[0m\u001b[0m\n\u001b[0m\u001b[1;32m    895\u001b[0m \u001b[0;34m\u001b[0m\u001b[0m\n\u001b[1;32m    896\u001b[0m     \u001b[0;32mdef\u001b[0m \u001b[0mfillFormat\u001b[0m\u001b[0;34m(\u001b[0m\u001b[0mself\u001b[0m\u001b[0;34m,\u001b[0m \u001b[0mdata\u001b[0m\u001b[0;34m)\u001b[0m\u001b[0;34m:\u001b[0m\u001b[0;34m\u001b[0m\u001b[0m\n",
      "\u001b[0;32m/opt/homebrew/anaconda3/envs/ML/lib/python3.7/site-packages/numpy/core/arrayprint.py\u001b[0m in \u001b[0;36mfillFormat\u001b[0;34m(self, data)\u001b[0m\n\u001b[1;32m    949\u001b[0m                                        sign=self.sign == '+')\n\u001b[1;32m    950\u001b[0m                     for x in finite_vals)\n\u001b[0;32m--> 951\u001b[0;31m             \u001b[0mint_part\u001b[0m\u001b[0;34m,\u001b[0m \u001b[0mfrac_part\u001b[0m \u001b[0;34m=\u001b[0m \u001b[0mzip\u001b[0m\u001b[0;34m(\u001b[0m\u001b[0;34m*\u001b[0m\u001b[0;34m(\u001b[0m\u001b[0ms\u001b[0m\u001b[0;34m.\u001b[0m\u001b[0msplit\u001b[0m\u001b[0;34m(\u001b[0m\u001b[0;34m'.'\u001b[0m\u001b[0;34m)\u001b[0m \u001b[0;32mfor\u001b[0m \u001b[0ms\u001b[0m \u001b[0;32min\u001b[0m \u001b[0mstrs\u001b[0m\u001b[0;34m)\u001b[0m\u001b[0;34m)\u001b[0m\u001b[0;34m\u001b[0m\u001b[0m\n\u001b[0m\u001b[1;32m    952\u001b[0m             \u001b[0;32mif\u001b[0m \u001b[0mself\u001b[0m\u001b[0;34m.\u001b[0m\u001b[0m_legacy\u001b[0m \u001b[0;34m==\u001b[0m \u001b[0;34m'1.13'\u001b[0m\u001b[0;34m:\u001b[0m\u001b[0;34m\u001b[0m\u001b[0m\n\u001b[1;32m    953\u001b[0m                 \u001b[0mself\u001b[0m\u001b[0;34m.\u001b[0m\u001b[0mpad_left\u001b[0m \u001b[0;34m=\u001b[0m \u001b[0;36m1\u001b[0m \u001b[0;34m+\u001b[0m \u001b[0mmax\u001b[0m\u001b[0;34m(\u001b[0m\u001b[0mlen\u001b[0m\u001b[0;34m(\u001b[0m\u001b[0ms\u001b[0m\u001b[0;34m.\u001b[0m\u001b[0mlstrip\u001b[0m\u001b[0;34m(\u001b[0m\u001b[0;34m'-+'\u001b[0m\u001b[0;34m)\u001b[0m\u001b[0;34m)\u001b[0m \u001b[0;32mfor\u001b[0m \u001b[0ms\u001b[0m \u001b[0;32min\u001b[0m \u001b[0mint_part\u001b[0m\u001b[0;34m)\u001b[0m\u001b[0;34m\u001b[0m\u001b[0m\n",
      "\u001b[0;32m/opt/homebrew/anaconda3/envs/ML/lib/python3.7/site-packages/numpy/core/arrayprint.py\u001b[0m in \u001b[0;36m<genexpr>\u001b[0;34m(.0)\u001b[0m\n\u001b[1;32m    949\u001b[0m                                        sign=self.sign == '+')\n\u001b[1;32m    950\u001b[0m                     for x in finite_vals)\n\u001b[0;32m--> 951\u001b[0;31m             \u001b[0mint_part\u001b[0m\u001b[0;34m,\u001b[0m \u001b[0mfrac_part\u001b[0m \u001b[0;34m=\u001b[0m \u001b[0mzip\u001b[0m\u001b[0;34m(\u001b[0m\u001b[0;34m*\u001b[0m\u001b[0;34m(\u001b[0m\u001b[0ms\u001b[0m\u001b[0;34m.\u001b[0m\u001b[0msplit\u001b[0m\u001b[0;34m(\u001b[0m\u001b[0;34m'.'\u001b[0m\u001b[0;34m)\u001b[0m \u001b[0;32mfor\u001b[0m \u001b[0ms\u001b[0m \u001b[0;32min\u001b[0m \u001b[0mstrs\u001b[0m\u001b[0;34m)\u001b[0m\u001b[0;34m)\u001b[0m\u001b[0;34m\u001b[0m\u001b[0m\n\u001b[0m\u001b[1;32m    952\u001b[0m             \u001b[0;32mif\u001b[0m \u001b[0mself\u001b[0m\u001b[0;34m.\u001b[0m\u001b[0m_legacy\u001b[0m \u001b[0;34m==\u001b[0m \u001b[0;34m'1.13'\u001b[0m\u001b[0;34m:\u001b[0m\u001b[0;34m\u001b[0m\u001b[0m\n\u001b[1;32m    953\u001b[0m                 \u001b[0mself\u001b[0m\u001b[0;34m.\u001b[0m\u001b[0mpad_left\u001b[0m \u001b[0;34m=\u001b[0m \u001b[0;36m1\u001b[0m \u001b[0;34m+\u001b[0m \u001b[0mmax\u001b[0m\u001b[0;34m(\u001b[0m\u001b[0mlen\u001b[0m\u001b[0;34m(\u001b[0m\u001b[0ms\u001b[0m\u001b[0;34m.\u001b[0m\u001b[0mlstrip\u001b[0m\u001b[0;34m(\u001b[0m\u001b[0;34m'-+'\u001b[0m\u001b[0;34m)\u001b[0m\u001b[0;34m)\u001b[0m \u001b[0;32mfor\u001b[0m \u001b[0ms\u001b[0m \u001b[0;32min\u001b[0m \u001b[0mint_part\u001b[0m\u001b[0;34m)\u001b[0m\u001b[0;34m\u001b[0m\u001b[0m\n",
      "\u001b[0;31mKeyboardInterrupt\u001b[0m: "
     ]
    }
   ],
   "source": [
    "# find out 10 most similar movies \n",
    "find_similar_movies('The Godfather')"
   ]
  },
  {
   "cell_type": "code",
   "execution_count": null,
   "metadata": {},
   "outputs": [],
   "source": [
    "# find out 10 most similar movies \n",
    "find_similar_movies('The Dark Knight Rises')"
   ]
  },
  {
   "cell_type": "code",
   "execution_count": null,
   "metadata": {},
   "outputs": [],
   "source": [
    "# check the overview text\n",
    "data.loc[834, 'overview']"
   ]
  },
  {
   "cell_type": "code",
   "execution_count": null,
   "metadata": {},
   "outputs": [],
   "source": [
    "# check the overview text\n",
    "data.loc[1178, 'overview']"
   ]
  },
  {
   "cell_type": "code",
   "execution_count": null,
   "metadata": {},
   "outputs": [],
   "source": []
  }
 ],
 "metadata": {
  "anaconda-cloud": {},
  "kernelspec": {
   "display_name": "Python 3 (ipykernel)",
   "language": "python",
   "name": "python3"
  },
  "language_info": {
   "codemirror_mode": {
    "name": "ipython",
    "version": 3
   },
   "file_extension": ".py",
   "mimetype": "text/x-python",
   "name": "python",
   "nbconvert_exporter": "python",
   "pygments_lexer": "ipython3",
   "version": "3.7.0"
  },
  "toc": {
   "nav_menu": {},
   "number_sections": true,
   "sideBar": true,
   "skip_h1_title": false,
   "title_cell": "Table of Contents",
   "title_sidebar": "Contents",
   "toc_cell": false,
   "toc_position": {},
   "toc_section_display": true,
   "toc_window_display": false
  }
 },
 "nbformat": 4,
 "nbformat_minor": 4
}
