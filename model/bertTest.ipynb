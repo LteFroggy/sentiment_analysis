{
 "cells": [
  {
   "cell_type": "code",
   "execution_count": 30,
   "metadata": {},
   "outputs": [],
   "source": [
    "import re\n",
    "import pickle\n",
    "import pandas as pd\n",
    "import numpy as np\n",
    "import gluonnlp as nlp\n",
    "from tqdm import tqdm, tqdm_notebook\n",
    "\n",
    "from sklearn.model_selection import train_test_split\n",
    "\n",
    "# Pytorch import\n",
    "import torch\n",
    "import torch.optim as optim\n",
    "import torch.nn.functional as F\n",
    "from torch import nn\n",
    "from torch.utils.data import Dataset, DataLoader\n",
    "\n",
    "# Kobert import\n",
    "from kobert.utils import get_tokenizer\n",
    "from kobert.pytorch_kobert import get_pytorch_kobert_model\n",
    "\n",
    "# Transformers import\n",
    "from transformers import AdamW\n",
    "from transformers.optimization import get_cosine_schedule_with_warmup"
   ]
  },
  {
   "cell_type": "code",
   "execution_count": 8,
   "metadata": {},
   "outputs": [
    {
     "name": "stdout",
     "output_type": "stream",
     "text": [
      "using cached model. /Users/hsjack/Documents/GitHub/sentiment_analysis/model/.cache/kobert_v1.zip\n",
      "using cached model. /Users/hsjack/Documents/GitHub/sentiment_analysis/model/.cache/kobert_news_wiki_ko_cased-1087f8699e.spiece\n"
     ]
    }
   ],
   "source": [
    "# Bert, Vocabulary 불러오기\n",
    "bertModel, vocab = get_pytorch_kobert_model()"
   ]
  },
  {
   "cell_type": "code",
   "execution_count": 9,
   "metadata": {},
   "outputs": [],
   "source": [
    "# 알아서 데이터셋으로 만들어준다고 함.\n",
    "class BERTDataset(Dataset):\n",
    "    def __init__(self, dataset, sent_idx, label_idx, bert_tokenizer, max_len,\n",
    "                 pad, pair):\n",
    "        transform = nlp.data.BERTSentenceTransform(\n",
    "            bert_tokenizer, max_seq_length=max_len, pad=pad, pair=pair)\n",
    "\n",
    "        self.sentences = [transform([i[sent_idx]]) for i in dataset]\n",
    "        self.labels = [np.int32(i[label_idx]) for i in dataset]\n",
    "\n",
    "    def __getitem__(self, i):\n",
    "        return (self.sentences[i] + (self.labels[i], ))\n",
    "\n",
    "    def __len__(self):\n",
    "        return (len(self.labels))"
   ]
  },
  {
   "cell_type": "code",
   "execution_count": 10,
   "metadata": {},
   "outputs": [],
   "source": [
    "# Setting Parameter\n",
    "max_len = 64\n",
    "batch_size = 64\n",
    "warmup_ratio = 0.1\n",
    "num_epochs = 10\n",
    "max_grad_norm = 1\n",
    "log_interval = 100\n",
    "learning_rate = 5e-5"
   ]
  },
  {
   "cell_type": "code",
   "execution_count": 11,
   "metadata": {},
   "outputs": [
    {
     "data": {
      "text/plain": [
       "array([['송중기 시대극은 믿고본다. 첫회 신선하고 좋았다.', False, 'none', 'none'],\n",
       "       ['지현우 나쁜놈', False, 'none', 'offensive'],\n",
       "       ['알바쓰고많이만들면되지 돈욕심없으면골목식당왜나온겨 기댕기게나하고 산에가서팔어라', False, 'none',\n",
       "        'hate'],\n",
       "       ...,\n",
       "       ['힘내세용 ^^ 항상 응원합니닷 ^^ !', False, 'none', 'none'],\n",
       "       ['힘내소...연기로 답해요.나도 53살 인데 이런일 저런일 다 있더라구요.인격을 믿습니다..홨팅', False,\n",
       "        'none', 'none'],\n",
       "       ['힘들면 관뒀어야지 그게 현명한거다', False, 'none', 'none']], dtype=object)"
      ]
     },
     "execution_count": 11,
     "metadata": {},
     "output_type": "execute_result"
    }
   ],
   "source": [
    "# 일단 dev.tsv와 train.tsv파일 불러오기\n",
    "comments1 = pd.read_csv(\"./dev.tsv\", delimiter = \"\\t\", encoding = 'utf-8').to_numpy()\n",
    "comments2 = pd.read_csv(\"./train.tsv\", delimiter = \"\\t\", encoding = 'utf-8').to_numpy()\n",
    "\n",
    "comments_all = np.concatenate((comments1, comments2), axis = 0)\n",
    "\n",
    "comments_all\n"
   ]
  },
  {
   "cell_type": "code",
   "execution_count": 12,
   "metadata": {},
   "outputs": [
    {
     "name": "stdout",
     "output_type": "stream",
     "text": [
      "[['송중기 시대극은 믿고본다. 첫회 신선하고 좋았다.' 1]\n",
      " ['지현우 나쁜놈' 0]\n",
      " ['알바쓰고많이만들면되지 돈욕심없으면골목식당왜나온겨 기댕기게나하고 산에가서팔어라' 0]\n",
      " ...\n",
      " ['힘내세용 ^^ 항상 응원합니닷 ^^ !' 1]\n",
      " ['힘내소...연기로 답해요.나도 53살 인데 이런일 저런일 다 있더라구요.인격을 믿습니다..홨팅' 1]\n",
      " ['힘들면 관뒀어야지 그게 현명한거다' 1]]\n"
     ]
    }
   ],
   "source": [
    "# 파일 불러왔으면 쓸데없는 라벨 없애기, 일단 성차별적인 발언은 다 빼버리는게 좋을 듯?\n",
    "comments_all = np.array([comment for comment in comments_all if not(comment[1])])\n",
    "comments_filtered = np.concatenate((comments_all[:, [0]], comments_all[:, [3]]), axis = 1)\n",
    "\n",
    "content1 = comments_filtered[:, [0]]\n",
    "label1 = np.where(comments_filtered[:, [1]] == \"none\", 1, 0)\n",
    "\n",
    "data1 = np.concatenate((content1, label1), axis = 1)\n",
    "\n",
    "print(data1)"
   ]
  },
  {
   "cell_type": "code",
   "execution_count": 13,
   "metadata": {},
   "outputs": [
    {
     "data": {
      "text/plain": [
       "array([['일안하는 시간은 쉬고싶어서 그런게 아닐까', 0, 0, ..., 0, 1, 0],\n",
       "       ['아동성범죄와 페도버는 기록바 끊어져 영원히 고통 받는다. 무슬림 50퍼 근친이다. 10 16까지 IQ 떨어지고 출산 위험은 400% 다.',\n",
       "        0, 0, ..., 0, 0, 0],\n",
       "       ['루나 솔로앨범 나왔을 때부터 머모 기운 있었음 ㅇㅇ Keep o  doin 진짜 띵곡임 꼭 들어보셈\"', 0, 0,\n",
       "        ..., 0, 1, 0],\n",
       "       ...,\n",
       "       ['막노동을 해도 한국에살고말지 미쳤다고 남미를가냐?차라리 자살을하겠다.', 0, 0, ..., 0, 0, 0],\n",
       "       ['‘사형을 구형하였으나 여성인 점을 감안해 25년 선고’ ???내가 뭐 잘못본건가?개시발 보지민국 보빨새끼들', 1,\n",
       "        0, ..., 0, 0, 0],\n",
       "       ['참군남이노 남자의 용도는 고기방패다 ㅋㅋㅋ', 0, 1, ..., 0, 0, 0]], dtype=object)"
      ]
     },
     "execution_count": 13,
     "metadata": {},
     "output_type": "execute_result"
    }
   ],
   "source": [
    "# 같은 방법으로 unsmile친구들 데려오기\n",
    "# 근데 얘들은 빼버려도 될 듯??? 주제에 벗어난 발언이 많음\n",
    "comments1 = pd.read_csv(\"unsmile_train_v1.0.tsv\", delimiter = \"\\t\", encoding = 'utf-8').to_numpy()\n",
    "comments2 = pd.read_csv(\"unsmile_valid_v1.0.tsv\", delimiter = \"\\t\", encoding = 'utf-8').to_numpy()\n",
    "\n",
    "comments_all = np.concatenate((comments1, comments2), axis = 0)\n",
    "comments_all"
   ]
  },
  {
   "cell_type": "code",
   "execution_count": 14,
   "metadata": {},
   "outputs": [
    {
     "name": "stdout",
     "output_type": "stream",
     "text": [
      "[['일안하는 시간은 쉬고싶어서 그런게 아닐까' 1]\n",
      " ['아동성범죄와 페도버는 기록바 끊어져 영원히 고통 받는다. 무슬림 50퍼 근친이다. 10 16까지 IQ 떨어지고 출산 위험은 400% 다.'\n",
      "  0]\n",
      " ['루나 솔로앨범 나왔을 때부터 머모 기운 있었음 ㅇㅇ Keep o  doin 진짜 띵곡임 꼭 들어보셈\"' 1]\n",
      " ...\n",
      " ['막노동을 해도 한국에살고말지 미쳤다고 남미를가냐?차라리 자살을하겠다.' 0]\n",
      " ['‘사형을 구형하였으나 여성인 점을 감안해 25년 선고’ ???내가 뭐 잘못본건가?개시발 보지민국 보빨새끼들' 0]\n",
      " ['참군남이노 남자의 용도는 고기방패다 ㅋㅋㅋ' 0]]\n"
     ]
    }
   ],
   "source": [
    "# 여기도 clean과 clean이외의 댓글로 나누기\n",
    "content2 = comments_all[:, [0]]\n",
    "label2 = comments_all[:, [10]]\n",
    "\n",
    "data2 = np.concatenate((content2, label2), axis = 1)\n",
    "\n",
    "print(data2)"
   ]
  },
  {
   "cell_type": "code",
   "execution_count": 25,
   "metadata": {},
   "outputs": [
    {
     "name": "stdout",
     "output_type": "stream",
     "text": [
      "[['송중기 시대극은 믿고본다. 첫회 신선하고 좋았다.' 1]\n",
      " ['지현우 나쁜놈' 0]\n",
      " ['알바쓰고많이만들면되지 돈욕심없으면골목식당왜나온겨 기댕기게나하고 산에가서팔어라' 0]\n",
      " ['이미자씨 송혜교씨 돈이 그리 많으면 탈세말고 그돈으로 평소에 불우이웃에게 기부도 좀 하고사시죠.' 0]\n",
      " ['일베충들 ㅂㄷ거리는것봐라 ㅉㅉ' 0]]\n"
     ]
    }
   ],
   "source": [
    "datas = np.concatenate((data1, data2))\n",
    "# datas = data1\n",
    "print(datas[:5])\n",
    "\n",
    "X = datas[:, [0]].squeeze()\n",
    "y = datas[:, [1]].squeeze().astype(\"int\")\n",
    "\n",
    "train_dataset, test_dataset = train_test_split(datas, test_size = 0.1, stratify = y)"
   ]
  },
  {
   "cell_type": "code",
   "execution_count": 27,
   "metadata": {},
   "outputs": [
    {
     "name": "stdout",
     "output_type": "stream",
     "text": [
      "using cached model. /Users/hsjack/Documents/GitHub/sentiment_analysis/model/.cache/kobert_news_wiki_ko_cased-1087f8699e.spiece\n"
     ]
    }
   ],
   "source": [
    "# 토큰화\n",
    "tokenizer = get_tokenizer()\n",
    "tok = nlp.data.BERTSPTokenizer(tokenizer, vocab, lower = False)\n",
    "\n",
    "data_train = BERTDataset(train_dataset, 0, 1, tok, max_len, True, False)\n",
    "data_test = BERTDataset(test_dataset, 0, 1, tok, max_len, True, False)\n",
    "\n",
    "train_dataloader = DataLoader(data_train, batch_size = batch_size)\n",
    "test_dataloader = DataLoader(data_test, batch_size = batch_size)"
   ]
  },
  {
   "cell_type": "code",
   "execution_count": 28,
   "metadata": {},
   "outputs": [],
   "source": [
    "# 학습하는 클래스 생성\n",
    "class BERTClassifier(nn.Module): ## 클래스를 상속\n",
    "    def __init__(self,\n",
    "                 bert,\n",
    "                 hidden_size = 768,\n",
    "                 num_classes=2,   ##클래스 수 조정##\n",
    "                 dr_rate=None,\n",
    "                 params=None):\n",
    "        super(BERTClassifier, self).__init__()\n",
    "        self.bert = bert\n",
    "        self.dr_rate = dr_rate\n",
    "                 \n",
    "        self.classifier = nn.Linear(hidden_size , num_classes)\n",
    "        if dr_rate:\n",
    "            self.dropout = nn.Dropout(p=dr_rate)\n",
    "    \n",
    "    def gen_attention_mask(self, token_ids, valid_length):\n",
    "        attention_mask = torch.zeros_like(token_ids)\n",
    "        for i, v in enumerate(valid_length):\n",
    "            attention_mask[i][:v] = 1\n",
    "        return attention_mask.float()\n",
    "\n",
    "    def forward(self, token_ids, valid_length, segment_ids):\n",
    "        attention_mask = self.gen_attention_mask(token_ids, valid_length)\n",
    "        \n",
    "        _, pooler = self.bert(input_ids = token_ids, token_type_ids = segment_ids.long(), attention_mask = attention_mask.float().to(token_ids.device))\n",
    "        if self.dr_rate:\n",
    "            out = self.dropout(pooler)\n",
    "        return self.classifier(out)\n"
   ]
  },
  {
   "cell_type": "code",
   "execution_count": 31,
   "metadata": {},
   "outputs": [
    {
     "name": "stderr",
     "output_type": "stream",
     "text": [
      "/opt/homebrew/anaconda3/envs/ML/lib/python3.7/site-packages/ipykernel_launcher.py:31: TqdmDeprecationWarning: This function will be removed in tqdm==5.0.0\n",
      "Please use `tqdm.notebook.tqdm` instead of `tqdm.tqdm_notebook`\n"
     ]
    },
    {
     "data": {
      "application/vnd.jupyter.widget-view+json": {
       "model_id": "7d1418071dbf452bb5b872385d7b0b82",
       "version_major": 2,
       "version_minor": 0
      },
      "text/plain": [
       "  0%|          | 0/363 [00:00<?, ?it/s]"
      ]
     },
     "metadata": {},
     "output_type": "display_data"
    },
    {
     "name": "stdout",
     "output_type": "stream",
     "text": [
      "epoch 1 batch id 1 loss 0.7694269418716431 train acc 0.4375\n",
      "epoch 1 batch id 101 loss 0.5616625547409058 train acc 0.6186571782178217\n"
     ]
    }
   ],
   "source": [
    "#BERT 모델 불러오기\n",
    "model = BERTClassifier(bertModel, dr_rate=0.5)\n",
    "\n",
    "#optimizer와 schedule 설정\n",
    "no_decay = ['bias', 'LayerNorm.weight']\n",
    "optimizer_grouped_parameters = [\n",
    "    {'params': [p for n, p in model.named_parameters() if not any(nd in n for nd in no_decay)], 'weight_decay': 0.01},\n",
    "    {'params': [p for n, p in model.named_parameters() if any(nd in n for nd in no_decay)], 'weight_decay': 0.0}\n",
    "]\n",
    "\n",
    "optimizer = AdamW(optimizer_grouped_parameters, lr=learning_rate)\n",
    "loss_fn = nn.CrossEntropyLoss()\n",
    "\n",
    "t_total = len(train_dataloader) * num_epochs\n",
    "warmup_step = int(t_total * warmup_ratio)\n",
    "\n",
    "scheduler = get_cosine_schedule_with_warmup(optimizer, num_warmup_steps=warmup_step, num_training_steps=t_total)\n",
    "\n",
    "#정확도 측정을 위한 함수 정의\n",
    "def calc_accuracy(X,Y):\n",
    "    max_vals, max_indices = torch.max(X, 1)\n",
    "    train_acc = (max_indices == Y).sum().data.cpu().numpy()/max_indices.size()[0]\n",
    "    return train_acc\n",
    "    \n",
    "train_dataloader\n",
    "\n",
    "for e in range(num_epochs):\n",
    "    train_acc = 0.0\n",
    "    test_acc = 0.0\n",
    "    model.train()\n",
    "    for batch_id, (token_ids, valid_length, segment_ids, label) in enumerate(tqdm_notebook(train_dataloader)):\n",
    "        optimizer.zero_grad()\n",
    "        token_ids = token_ids.long()\n",
    "        segment_ids = segment_ids.long()\n",
    "        valid_length= valid_length\n",
    "        label = label.long()\n",
    "        out = model(token_ids, valid_length, segment_ids)\n",
    "        loss = loss_fn(out, label)\n",
    "        loss.backward()\n",
    "        torch.nn.utils.clip_grad_norm_(model.parameters(), max_grad_norm)\n",
    "        optimizer.step()\n",
    "        scheduler.step()  # Update learning rate schedule\n",
    "        train_acc += calc_accuracy(out, label)\n",
    "        if batch_id % log_interval == 0:\n",
    "            print(\"epoch {} batch id {} loss {} train acc {}\".format(e+1, batch_id+1, loss.data.cpu().numpy(), train_acc / (batch_id+1)))\n",
    "    print(\"epoch {} train acc {}\".format(e+1, train_acc / (batch_id+1)))\n",
    "    \n",
    "    model.eval()\n",
    "    for batch_id, (token_ids, valid_length, segment_ids, label) in enumerate(tqdm_notebook(test_dataloader)):\n",
    "        token_ids = token_ids.long()\n",
    "        segment_ids = segment_ids.long()\n",
    "        valid_length= valid_length\n",
    "        label = label.long()\n",
    "        out = model(token_ids, valid_length, segment_ids)\n",
    "        test_acc += calc_accuracy(out, label)\n",
    "    print(\"epoch {} test acc {}\".format(e+1, test_acc / (batch_id+1)))"
   ]
  },
  {
   "cell_type": "code",
   "execution_count": null,
   "metadata": {},
   "outputs": [],
   "source": [
    "## 학습 모델 저장\n",
    "PATH = 'drive/MyDrive/colab/StoryFlower/bert' # google 드라이브 연동 해야함. 관련코드는 뺐음\n",
    "torch.save(model, PATH + 'KoBERT_담화.pt')  # 전체 모델 저장\n",
    "torch.save(model.state_dict(), PATH + 'model_state_dict.pt')  # 모델 객체의 state_dict 저장\n",
    "torch.save({\n",
    "    'model': model.state_dict(),\n",
    "    'optimizer': optimizer.state_dict()\n",
    "}, PATH + 'all.tar')  # 여러 가지 값 저장, 학습 중 진행 상황 저장을 위해 epoch, loss 값 등 일반 scalar값 저장 가능"
   ]
  }
 ],
 "metadata": {
  "kernelspec": {
   "display_name": "ML",
   "language": "python",
   "name": "python3"
  },
  "language_info": {
   "codemirror_mode": {
    "name": "ipython",
    "version": 3
   },
   "file_extension": ".py",
   "mimetype": "text/x-python",
   "name": "python",
   "nbconvert_exporter": "python",
   "pygments_lexer": "ipython3",
   "version": "3.7.0"
  },
  "orig_nbformat": 4
 },
 "nbformat": 4,
 "nbformat_minor": 2
}
