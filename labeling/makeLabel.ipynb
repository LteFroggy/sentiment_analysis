{
 "cells": [
  {
   "cell_type": "code",
   "execution_count": 11,
   "metadata": {},
   "outputs": [],
   "source": [
    "import re\n",
    "import os\n",
    "import sys\n",
    "import time\n",
    "import requests\n",
    "import numpy as np\n",
    "import pandas as pd\n",
    "from bs4 import BeautifulSoup\n",
    "from datetime import datetime\n",
    "# from selenium import webdriver\n",
    "# from selenium.common.exceptions import WebDriverException\n",
    "# from selenium.webdriver.common.keys import Keys"
   ]
  },
  {
   "cell_type": "code",
   "execution_count": 12,
   "metadata": {},
   "outputs": [],
   "source": [
    "# label에는 새로 라벨링하려 하는 값 넣기\n",
    "label = \"가평계곡\"\n",
    "\n",
    "rootPath = os.getcwd()\n",
    "resultPath = os.path.join(rootPath, \"result\")\n",
    "nArray = pd.read_csv(os.path.join(resultPath, label + \".csv\"), encoding = 'utf-8').to_numpy()\n",
    "lst = nArray.tolist()"
   ]
  },
  {
   "cell_type": "code",
   "execution_count": 13,
   "metadata": {},
   "outputs": [
    {
     "name": "stdout",
     "output_type": "stream",
     "text": [
      "Error : [Errno 2] No such file or directory: './가평계곡_새라벨.csv'\n",
      "0번째 완료로 인한 중간 저장 완료\n",
      "0번째 댓글입니다\n",
      "유죄 판결은 아주 당연합니다. 영원히 바깥 세상으로 못 나오게 해 주세요.\n",
      "부정적인 댓글입니다\n",
      "잘못 입력하셨습니다. 다시 시도해주세요\n",
      "\n",
      "1번째 댓글입니다\n",
      "저런 악마를 그냥 무기징역? 적당히 10-20년 감방에 살다가 풀어주려고?? 이런 개같은 법이 어딨나? 그냥 당장 사형에 처하라..\n",
      "부정적인 댓글입니다\n",
      "잘못 입력하셨습니다. 다시 시도해주세요\n",
      "\n",
      "2번째 댓글입니다\n",
      "무기징역 확정되길 정말 기대합니다. 다행히 두사람이 똑똑하질 못해서 변명도 참 앞뒤가 안맞게 잘하네요. 제발 계속 저렇게 말도안되는 변명 계속하길 바랍니다 그래야 감형안되겠지 스스로 무덤파서 잘 들어가 사세요\n",
      "부정적이지 않은 댓글입니다\n",
      "잘못 입력하셨습니다. 다시 시도해주세요\n",
      "\n",
      "3번째 댓글입니다\n",
      "사형 집행 안 하더라도 선고 돼야 절대 못나올텐데.. 무기징역은 좀 아쉽네.. 판사가 잘 해야겠네 ㅠㅠ\n",
      "부정적이지 않은 댓글입니다\n",
      "잘못 입력하셨습니다. 다시 시도해주세요\n",
      "\n",
      "4번째 댓글입니다\n",
      "모든 증거가 가리키고 있는데 아니긴 뭐가 아냐? 진짜 억울하면 십원한푼까지 유가족들에게 다 주고 머리깍고 산으로 들어가 보시던가 지금 안잡혔으면 해외도피 했거나 계속 피해자가 나왔겠지 법원이 느낌으로 판결을 했겠냐? 범죄의 증거가 입증되었으니까 처벌을 받는거다 아니라는 증거라도 보여줘야 억울하겠구나라고 하지 아몰랑 억울해 하면 잘도 속아주겠다\n",
      "부정적인 댓글입니다\n",
      "잘못 입력하셨습니다. 다시 시도해주세요\n",
      "\n",
      "5번째 댓글입니다\n",
      "악질적인 인간들에게 맞는 판결 입니다..\n",
      "부정적인 댓글입니다\n",
      "잘못 입력하셨습니다. 다시 시도해주세요\n",
      "\n",
      "6번째 댓글입니다\n",
      "유가족 말대로 라면 하나 겨우 사먹으며 견뎠는데 무기징역이 아니라 사형을 내려야함 무기징역이면 공짜로 끼니 때우게되기때문에 평생을 공짜로 누리게 되는 꼴임\n",
      "부정적인 댓글입니다\n"
     ]
    }
   ],
   "source": [
    "# 기존에 분류하던 게 있으면 그대로 두고, 아니면 이동하기\n",
    "try :\n",
    "    old = pd.read_csv(\"./가평계곡_새라벨.csv\").to_numpy()\n",
    "    startPoint = old.shape(0)\n",
    "    labeled = old.tolist()\n",
    "except Exception as E:\n",
    "    print(\"Error :\", E)\n",
    "    startPoint = 0\n",
    "    labeled = []\n",
    "    \n",
    "savePath = os.path.join(rootPath, label + \"_newLabel.csv\")\n",
    "\n",
    "for i in range(startPoint, nArray.shape[0]) :\n",
    "    if (i % 10 == 0) :\n",
    "        df = pd.DataFrame(labeled, columns = [\"내용\", \"라벨\", \"추천수\"])\n",
    "        df.to_csv(savePath, index = False)\n",
    "        print(f\"{i}번째 완료로 인한 중간 저장 완료\")\n",
    "\n",
    "    print(f\"{i}번째 댓글입니다\")\n",
    "    temp = nArray[i]\n",
    "    print(temp[0])\n",
    "    if temp[1] == 1 :\n",
    "        print(\"부정적이지 않은 댓글입니다\")\n",
    "    else :\n",
    "        print(\"부정적인 댓글입니다\")\n",
    "\n",
    "    result = input(\"맞으면 1, 아니면 2를 입력해주세요 : \")\n",
    "\n",
    "    if (result == 1) :\n",
    "        labeled.append(temp)\n",
    "        print(\"그대로 저장하였습니다.\", end = \"\\n\\n\")\n",
    "    elif (result == 2) :\n",
    "        temp[1] = 0 if temp[1] == 0 else 1\n",
    "        labeled.append(temp)\n",
    "        print(\"라벨을 바꾸어 저장하였습니다.\", end = \"\\n\\n\")\n",
    "    else :\n",
    "        print(\"잘못 입력하셨습니다. 다시 시도해주세요\", end = \"\\n\\n\")\n",
    "        i -= 1"
   ]
  },
  {
   "cell_type": "code",
   "execution_count": null,
   "metadata": {},
   "outputs": [],
   "source": []
  }
 ],
 "metadata": {
  "kernelspec": {
   "display_name": "developing",
   "language": "python",
   "name": "python3"
  },
  "language_info": {
   "codemirror_mode": {
    "name": "ipython",
    "version": 3
   },
   "file_extension": ".py",
   "mimetype": "text/x-python",
   "name": "python",
   "nbconvert_exporter": "python",
   "pygments_lexer": "ipython3",
   "version": "3.7.0"
  },
  "orig_nbformat": 4
 },
 "nbformat": 4,
 "nbformat_minor": 2
}
