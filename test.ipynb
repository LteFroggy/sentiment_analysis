{
 "cells": [
  {
   "cell_type": "code",
   "execution_count": 30,
   "metadata": {},
   "outputs": [],
   "source": [
    "import re\n",
    "from matplotlib import pyplot as plt"
   ]
  },
  {
   "cell_type": "code",
   "execution_count": 31,
   "metadata": {},
   "outputs": [
    {
     "name": "stdout",
     "output_type": "stream",
     "text": [
      "50\n"
     ]
    }
   ],
   "source": [
    "text = \"계획적인가 아닌가에 따라 다른건가 50년 누군 20년이고 누군 무기징역이네;;\"\n",
    "result = re.findall(\"[\\d]+년\", text)\n",
    "max = 0\n",
    "for years in result :\n",
    "    if int(years[:-1]) > max :\n",
    "        max = int(years[:-1])\n",
    "print(max)"
   ]
  },
  {
   "cell_type": "code",
   "execution_count": 32,
   "metadata": {},
   "outputs": [
    {
     "data": {
      "text/plain": [
       "[]"
      ]
     },
     "execution_count": 32,
     "metadata": {},
     "output_type": "execute_result"
    }
   ],
   "source": [
    "text = \"계획적인가 아닌가에 따라 다른건가 50년 누군 20년이고 누군 무기징역이네;;\"\n",
    "result = re.findall(\"사형\", text)\n",
    "result"
   ]
  },
  {
   "cell_type": "code",
   "execution_count": 33,
   "metadata": {},
   "outputs": [
    {
     "data": {
      "text/plain": [
       "'무기징역'"
      ]
     },
     "execution_count": 33,
     "metadata": {},
     "output_type": "execute_result"
    }
   ],
   "source": [
    "text = \"계획적인가 아닌가에 따라 다른건가 50년 누군 20년이고 누군 무기징역이네;;\"\n",
    "find = re.search(\"무기징역|종신형\", text)\n",
    "find.group()"
   ]
  },
  {
   "cell_type": "code",
   "execution_count": 46,
   "metadata": {},
   "outputs": [
    {
     "name": "stdout",
     "output_type": "stream",
     "text": [
      "dict_keys(['안녕', '반가워'])\n",
      "dict_values([3, 4])\n",
      "없\n",
      "dict_keys(['안녕', '반가워', '하이루'])\n",
      "dict_values([3, 4, 1])\n"
     ]
    },
    {
     "data": {
      "image/png": "[encoded data removed]",
      "text/plain": [
       "<Figure size 640x480 with 1 Axes>"
      ]
     },
     "metadata": {},
     "output_type": "display_data"
    }
   ],
   "source": [
    "import matplotlib\n",
    "import platform\n",
    "\n",
    "# 그래프에 한글 출력이 가능하도록 만들기\n",
    "# Window\n",
    "if platform.system() == 'Windows':\n",
    "    matplotlib.rc('font', family='Malgun Gothic')\n",
    "# Mac\n",
    "elif platform.system() == 'Darwin': \n",
    "    matplotlib.rc('font', family='AppleGothic')\n",
    "\n",
    "a = {\n",
    "    \"안녕\" : 3,\n",
    "    \"반가워\" : 4\n",
    "}\n",
    "\n",
    "print(a.keys())\n",
    "print(a.values())\n",
    "\n",
    "b = [\"ㅁㅇㄴㄹ\", \"하이루\"]\n",
    "if b[1] in a.keys() :\n",
    "    print(\"있\")\n",
    "else :\n",
    "    print(\"없\")\n",
    "    a[b[1]] = 0\n",
    "    \n",
    "a[b[1]] += 1\n",
    "\n",
    "print(a.keys())\n",
    "print(a.values())\n",
    "\n",
    "plt.pie(a.values(), labels = a.keys())\n",
    "plt.show()"
   ]
  },
  {
   "cell_type": "code",
   "execution_count": null,
   "metadata": {},
   "outputs": [],
   "source": []
  }
 ],
 "metadata": {
  "kernelspec": {
   "display_name": "ML",
   "language": "python",
   "name": "python3"
  },
  "language_info": {
   "codemirror_mode": {
    "name": "ipython",
    "version": 3
   },
   "file_extension": ".py",
   "mimetype": "text/x-python",
   "name": "python",
   "nbconvert_exporter": "python",
   "pygments_lexer": "ipython3",
   "version": "3.7.0"
  },
  "orig_nbformat": 4
 },
 "nbformat": 4,
 "nbformat_minor": 2
}
